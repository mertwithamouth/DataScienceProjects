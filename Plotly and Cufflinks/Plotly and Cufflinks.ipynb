{
 "cells": [
  {
   "cell_type": "code",
   "execution_count": 2,
   "metadata": {},
   "outputs": [],
   "source": [
    "import pandas as pd\n",
    "import numpy as np\n",
    "import chart_studio.plotly as py\n",
    "%matplotlib inline"
   ]
  },
  {
   "cell_type": "code",
   "execution_count": 3,
   "metadata": {},
   "outputs": [],
   "source": [
    "from plotly import __version__"
   ]
  },
  {
   "cell_type": "code",
   "execution_count": 4,
   "metadata": {},
   "outputs": [
    {
     "name": "stdout",
     "output_type": "stream",
     "text": [
      "4.14.3\n"
     ]
    }
   ],
   "source": [
    "print(__version__)"
   ]
  },
  {
   "cell_type": "code",
   "execution_count": 5,
   "metadata": {},
   "outputs": [],
   "source": [
    "import cufflinks as cf"
   ]
  },
  {
   "cell_type": "code",
   "execution_count": 6,
   "metadata": {},
   "outputs": [],
   "source": [
    "from plotly.offline import download_plotlyjs,init_notebook_mode,plot,iplot"
   ]
  },
  {
   "cell_type": "code",
   "execution_count": 7,
   "metadata": {},
   "outputs": [
    {
     "data": {
      "text/html": [
       "        <script type=\"text/javascript\">\n",
       "        window.PlotlyConfig = {MathJaxConfig: 'local'};\n",
       "        if (window.MathJax) {MathJax.Hub.Config({SVG: {font: \"STIX-Web\"}});}\n",
       "        if (typeof require !== 'undefined') {\n",
       "        require.undef(\"plotly\");\n",
       "        requirejs.config({\n",
       "            paths: {\n",
       "                'plotly': ['https://cdn.plot.ly/plotly-latest.min']\n",
       "            }\n",
       "        });\n",
       "        require(['plotly'], function(Plotly) {\n",
       "            window._Plotly = Plotly;\n",
       "        });\n",
       "        }\n",
       "        </script>\n",
       "        "
      ]
     },
     "metadata": {},
     "output_type": "display_data"
    }
   ],
   "source": [
    "init_notebook_mode(connected=True)"
   ]
  },
  {
   "cell_type": "code",
   "execution_count": 8,
   "metadata": {},
   "outputs": [
    {
     "data": {
      "text/html": [
       "        <script type=\"text/javascript\">\n",
       "        window.PlotlyConfig = {MathJaxConfig: 'local'};\n",
       "        if (window.MathJax) {MathJax.Hub.Config({SVG: {font: \"STIX-Web\"}});}\n",
       "        if (typeof require !== 'undefined') {\n",
       "        require.undef(\"plotly\");\n",
       "        requirejs.config({\n",
       "            paths: {\n",
       "                'plotly': ['https://cdn.plot.ly/plotly-latest.min']\n",
       "            }\n",
       "        });\n",
       "        require(['plotly'], function(Plotly) {\n",
       "            window._Plotly = Plotly;\n",
       "        });\n",
       "        }\n",
       "        </script>\n",
       "        "
      ]
     },
     "metadata": {},
     "output_type": "display_data"
    }
   ],
   "source": [
    "cf.go_offline()"
   ]
  },
  {
   "cell_type": "code",
   "execution_count": 9,
   "metadata": {},
   "outputs": [],
   "source": [
    "df1=pd.DataFrame(np.random.rand(100,4),columns=\"A B C D\".split())"
   ]
  },
  {
   "cell_type": "code",
   "execution_count": 10,
   "metadata": {},
   "outputs": [
    {
     "data": {
      "text/html": [
       "<div>\n",
       "<style scoped>\n",
       "    .dataframe tbody tr th:only-of-type {\n",
       "        vertical-align: middle;\n",
       "    }\n",
       "\n",
       "    .dataframe tbody tr th {\n",
       "        vertical-align: top;\n",
       "    }\n",
       "\n",
       "    .dataframe thead th {\n",
       "        text-align: right;\n",
       "    }\n",
       "</style>\n",
       "<table border=\"1\" class=\"dataframe\">\n",
       "  <thead>\n",
       "    <tr style=\"text-align: right;\">\n",
       "      <th></th>\n",
       "      <th>A</th>\n",
       "      <th>B</th>\n",
       "      <th>C</th>\n",
       "      <th>D</th>\n",
       "    </tr>\n",
       "  </thead>\n",
       "  <tbody>\n",
       "    <tr>\n",
       "      <td>0</td>\n",
       "      <td>0.975385</td>\n",
       "      <td>0.608534</td>\n",
       "      <td>0.735940</td>\n",
       "      <td>0.205702</td>\n",
       "    </tr>\n",
       "    <tr>\n",
       "      <td>1</td>\n",
       "      <td>0.668553</td>\n",
       "      <td>0.984901</td>\n",
       "      <td>0.296281</td>\n",
       "      <td>0.191413</td>\n",
       "    </tr>\n",
       "    <tr>\n",
       "      <td>2</td>\n",
       "      <td>0.717764</td>\n",
       "      <td>0.174818</td>\n",
       "      <td>0.439769</td>\n",
       "      <td>0.223121</td>\n",
       "    </tr>\n",
       "    <tr>\n",
       "      <td>3</td>\n",
       "      <td>0.641643</td>\n",
       "      <td>0.743829</td>\n",
       "      <td>0.793745</td>\n",
       "      <td>0.405998</td>\n",
       "    </tr>\n",
       "    <tr>\n",
       "      <td>4</td>\n",
       "      <td>0.461016</td>\n",
       "      <td>0.454934</td>\n",
       "      <td>0.094437</td>\n",
       "      <td>0.036600</td>\n",
       "    </tr>\n",
       "  </tbody>\n",
       "</table>\n",
       "</div>"
      ],
      "text/plain": [
       "          A         B         C         D\n",
       "0  0.975385  0.608534  0.735940  0.205702\n",
       "1  0.668553  0.984901  0.296281  0.191413\n",
       "2  0.717764  0.174818  0.439769  0.223121\n",
       "3  0.641643  0.743829  0.793745  0.405998\n",
       "4  0.461016  0.454934  0.094437  0.036600"
      ]
     },
     "execution_count": 10,
     "metadata": {},
     "output_type": "execute_result"
    }
   ],
   "source": [
    "df1.head()"
   ]
  },
  {
   "cell_type": "code",
   "execution_count": 11,
   "metadata": {},
   "outputs": [],
   "source": [
    "df2=pd.DataFrame({\"Category\":[\"A\",\"B\",\"C\"],\"Values\":[32, 45, 67]})"
   ]
  },
  {
   "cell_type": "code",
   "execution_count": 12,
   "metadata": {},
   "outputs": [
    {
     "data": {
      "text/html": [
       "<div>\n",
       "<style scoped>\n",
       "    .dataframe tbody tr th:only-of-type {\n",
       "        vertical-align: middle;\n",
       "    }\n",
       "\n",
       "    .dataframe tbody tr th {\n",
       "        vertical-align: top;\n",
       "    }\n",
       "\n",
       "    .dataframe thead th {\n",
       "        text-align: right;\n",
       "    }\n",
       "</style>\n",
       "<table border=\"1\" class=\"dataframe\">\n",
       "  <thead>\n",
       "    <tr style=\"text-align: right;\">\n",
       "      <th></th>\n",
       "      <th>Category</th>\n",
       "      <th>Values</th>\n",
       "    </tr>\n",
       "  </thead>\n",
       "  <tbody>\n",
       "    <tr>\n",
       "      <td>0</td>\n",
       "      <td>A</td>\n",
       "      <td>32</td>\n",
       "    </tr>\n",
       "    <tr>\n",
       "      <td>1</td>\n",
       "      <td>B</td>\n",
       "      <td>45</td>\n",
       "    </tr>\n",
       "    <tr>\n",
       "      <td>2</td>\n",
       "      <td>C</td>\n",
       "      <td>67</td>\n",
       "    </tr>\n",
       "  </tbody>\n",
       "</table>\n",
       "</div>"
      ],
      "text/plain": [
       "  Category  Values\n",
       "0        A      32\n",
       "1        B      45\n",
       "2        C      67"
      ]
     },
     "execution_count": 12,
     "metadata": {},
     "output_type": "execute_result"
    }
   ],
   "source": [
    "df2.head()"
   ]
  },
  {
   "cell_type": "code",
   "execution_count": 13,
   "metadata": {},
   "outputs": [
    {
     "data": {
      "text/plain": [
       "<matplotlib.axes._subplots.AxesSubplot at 0x7fb0a85ab550>"
      ]
     },
     "execution_count": 13,
     "metadata": {},
     "output_type": "execute_result"
    },
    {
     "data": {
      "image/png": "[encoded data removed]",
      "text/plain": [
       "<Figure size 432x288 with 1 Axes>"
      ]
     },
     "metadata": {
      "needs_background": "light"
     },
     "output_type": "display_data"
    }
   ],
   "source": [
    "df1.plot()"
   ]
  },
  {
   "cell_type": "code",
   "execution_count": 14,
   "metadata": {},
   "outputs": [
    {
     "data": {
      "application/vnd.plotly.v1+json": {
       "config": {
        "linkText": "Export to plot.ly",
        "plotlyServerURL": "https://plot.ly",
        "showLink": true
       },
       "data": [
        {
         "line": {
          "color": "rgba(255, 153, 51, 1.0)",
          "dash": "solid",
          "shape": "linear",
          "width": 1.3
         },
         "mode": "lines",
         "name": "A",
         "text": "",
         "type": "scatter",
         "x": [
          0,
          1,
          2,
          3,
          4,
          5,
          6,
          7,
          8,
          9,
          10,
          11,
          12,
          13,
          14,
          15,
          16,
          17,
          18,
          19,
          20,
          21,
          22,
          23,
          24,
          25,
          26,
          27,
          28,
          29,
          30,
          31,
          32,
          33,
          34,
          35,
          36,
          37,
          38,
          39,
          40,
          41,
          42,
          43,
          44,
          45,
          46,
          47,
          48,
          49,
          50,
          51,
          52,
          53,
          54,
          55,
          56,
          57,
          58,
          59,
          60,
          61,
          62,
          63,
          64,
          65,
          66,
          67,
          68,
          69,
          70,
          71,
          72,
          73,
          74,
          75,
          76,
          77,
          78,
          79,
          80,
          81,
          82,
          83,
          84,
          85,
          86,
          87,
          88,
          89,
          90,
          91,
          92,
          93,
          94,
          95,
          96,
          97,
          98,
          99
         ],
         "y": [
          0.9753847257840704,
          0.6685526475099604,
          0.717763849159026,
          0.641643253612684,
          0.46101551589424816,
          0.12078225002024179,
          0.9226200153186841,
          0.784485205431393,
          0.31455777210757063,
          0.4478685176457967,
          0.2131143465929174,
          0.3011696160343452,
          0.7562652954539073,
          0.17665548838834555,
          0.32638506717339455,
          0.8459614429343494,
          0.34192570436767833,
          0.06391837019195534,
          0.8999138623566848,
          0.8715981055099761,
          0.987890531023444,
          0.8961498915681549,
          0.36306575530877194,
          0.8276162545533562,
          0.20525195193240775,
          0.06391191637803195,
          0.16937409328541397,
          0.7761067551067942,
          0.5575771139288783,
          0.1499040533333127,
          0.22334376981884096,
          0.6918361085471536,
          0.8790879143840141,
          0.7077384811608556,
          0.22422787181288484,
          0.32161718246572824,
          0.48154104728183533,
          0.7705942872538493,
          0.19988219988236622,
          0.6655430545295901,
          0.6723359791162588,
          0.8151105808405508,
          0.8846810836216884,
          0.007244518678291789,
          0.4068924253415789,
          0.8625167848986993,
          0.6429397136763052,
          0.7763525954064734,
          0.8241324136446101,
          0.7186392585997665,
          0.21683477878002877,
          0.3494180296260595,
          0.1741282459062653,
          0.02397911006743103,
          0.39487584701144085,
          0.24380211962090148,
          0.22344572067428936,
          0.6537321204248879,
          0.8564298673735783,
          0.5123248575458799,
          0.605553516435922,
          0.6517629384667678,
          0.23452063385360233,
          0.9494658315171941,
          0.6304378167182005,
          0.26303963632237737,
          0.2863032859042599,
          0.47929891357035415,
          0.42596189386818706,
          0.3848568917235682,
          0.4212480599686016,
          0.7736704973405448,
          0.44845284655712414,
          0.9807428289008219,
          0.4363301972778,
          0.21318133575569864,
          0.1585547262957432,
          0.8595620058635431,
          0.35844401575162044,
          0.45229977212554207,
          0.7119012892048794,
          0.40441056780230067,
          0.9773408983820342,
          0.3174071110165755,
          0.881073025102367,
          0.40153608916097194,
          0.5741411373468234,
          0.8109111415755789,
          0.45664260834838166,
          0.33826152683825383,
          0.7954321426895994,
          0.5551184704941502,
          0.9184421526805117,
          0.6602273721590636,
          0.37907286862184275,
          0.8782538779062986,
          0.8016769924092302,
          0.8014854199555197,
          0.9644159545124961,
          0.20259993162699697
         ]
        },
        {
         "line": {
          "color": "rgba(55, 128, 191, 1.0)",
          "dash": "solid",
          "shape": "linear",
          "width": 1.3
         },
         "mode": "lines",
         "name": "B",
         "text": "",
         "type": "scatter",
         "x": [
          0,
          1,
          2,
          3,
          4,
          5,
          6,
          7,
          8,
          9,
          10,
          11,
          12,
          13,
          14,
          15,
          16,
          17,
          18,
          19,
          20,
          21,
          22,
          23,
          24,
          25,
          26,
          27,
          28,
          29,
          30,
          31,
          32,
          33,
          34,
          35,
          36,
          37,
          38,
          39,
          40,
          41,
          42,
          43,
          44,
          45,
          46,
          47,
          48,
          49,
          50,
          51,
          52,
          53,
          54,
          55,
          56,
          57,
          58,
          59,
          60,
          61,
          62,
          63,
          64,
          65,
          66,
          67,
          68,
          69,
          70,
          71,
          72,
          73,
          74,
          75,
          76,
          77,
          78,
          79,
          80,
          81,
          82,
          83,
          84,
          85,
          86,
          87,
          88,
          89,
          90,
          91,
          92,
          93,
          94,
          95,
          96,
          97,
          98,
          99
         ],
         "y": [
          0.6085337361817945,
          0.9849008662659429,
          0.17481835927449163,
          0.7438288626332903,
          0.4549341248769252,
          0.5692305411024162,
          0.6866864917646315,
          0.15091996389122575,
          0.598572333058514,
          0.5311366876335679,
          0.9647509681138527,
          0.42970076544550373,
          0.9197065912505893,
          0.7512658459378196,
          0.6172748994670416,
          0.8869450145926792,
          0.8984286133614072,
          0.5110235635378919,
          0.20037484313679033,
          0.40285965977201077,
          0.6251604159867912,
          0.7636289035224022,
          0.9591931988677984,
          0.89411526565189,
          0.612783769491025,
          0.21082458066343868,
          0.8210691098866622,
          0.28741205960236926,
          0.40875401399822564,
          0.6572032947569375,
          0.8717539125541596,
          0.4933401273428939,
          0.3401422688102115,
          0.4721561988060825,
          0.36214608305039664,
          0.4991284004318195,
          0.6222161033737548,
          0.6675732316436533,
          0.4434734639664153,
          0.6650579368330961,
          0.7740363141641551,
          0.47506597669456774,
          0.7045778679738115,
          0.5511023311060128,
          0.5250828615861299,
          0.09862598494375197,
          0.4897136545952473,
          0.3236530242756478,
          0.4240146481999545,
          0.11764868551348973,
          0.9815372793772702,
          0.9232006895886629,
          0.647357911651621,
          0.5510160241780454,
          0.4894197386121423,
          0.10052339054740922,
          0.25282609452770033,
          0.7600787941990619,
          0.23123523257991174,
          0.6664292991581325,
          0.4374166355841971,
          0.7662383104126994,
          0.4263403310506284,
          0.20321454392170335,
          0.03864288709883246,
          0.880656277259328,
          0.7610979538639527,
          0.3426033199000921,
          0.06924669753559487,
          0.9488897619679045,
          0.27989153511860954,
          0.10045223618897847,
          0.9954880550235646,
          0.015224490864340523,
          0.5421397400902137,
          0.687599485200822,
          0.6352382875512128,
          0.3952487236954483,
          0.5221446773937745,
          0.5462842796507908,
          0.6285907982844269,
          0.7916249160524705,
          0.9563225781284411,
          0.8547698325588563,
          0.18707107322032013,
          0.2497255885986579,
          0.3080902134021354,
          0.22282597342980115,
          0.8564392586445342,
          0.49700783760020384,
          0.24623954678299986,
          0.05866062421915241,
          0.615126023015918,
          0.38884070501730983,
          0.9152233410521818,
          0.016008476630690605,
          0.4798720815160471,
          0.5171996847932875,
          0.6874258034388792,
          0.9235294420687038
         ]
        },
        {
         "line": {
          "color": "rgba(50, 171, 96, 1.0)",
          "dash": "solid",
          "shape": "linear",
          "width": 1.3
         },
         "mode": "lines",
         "name": "C",
         "text": "",
         "type": "scatter",
         "x": [
          0,
          1,
          2,
          3,
          4,
          5,
          6,
          7,
          8,
          9,
          10,
          11,
          12,
          13,
          14,
          15,
          16,
          17,
          18,
          19,
          20,
          21,
          22,
          23,
          24,
          25,
          26,
          27,
          28,
          29,
          30,
          31,
          32,
          33,
          34,
          35,
          36,
          37,
          38,
          39,
          40,
          41,
          42,
          43,
          44,
          45,
          46,
          47,
          48,
          49,
          50,
          51,
          52,
          53,
          54,
          55,
          56,
          57,
          58,
          59,
          60,
          61,
          62,
          63,
          64,
          65,
          66,
          67,
          68,
          69,
          70,
          71,
          72,
          73,
          74,
          75,
          76,
          77,
          78,
          79,
          80,
          81,
          82,
          83,
          84,
          85,
          86,
          87,
          88,
          89,
          90,
          91,
          92,
          93,
          94,
          95,
          96,
          97,
          98,
          99
         ],
         "y": [
          0.7359403834582817,
          0.2962807826126467,
          0.43976942304810407,
          0.7937450524855361,
          0.09443712133933746,
          0.03474909996185416,
          0.07309564606439356,
          0.9067802752953078,
          0.24380549084491965,
          0.37025869632843833,
          0.8063544885933182,
          0.5002577054900178,
          0.1583374605194211,
          0.728782766500474,
          0.7108646489513578,
          0.8483947271120664,
          0.2731579239674953,
          0.47105784896012726,
          0.4135874884888162,
          0.8297318106225205,
          0.47296197309595067,
          0.6286807254082438,
          0.198757150393986,
          0.01297191820849497,
          0.964942534552751,
          0.010775015613716743,
          0.1001137083925755,
          0.9335981487536341,
          0.6485176199871848,
          0.6328928966510233,
          0.7379655290618602,
          0.35678449989911865,
          0.5019123637488716,
          0.02415231740897228,
          0.7150581456985274,
          0.9090044707851561,
          0.9756761313030332,
          0.6763602019481604,
          0.258679938398379,
          0.12983186360725418,
          0.6195762281614965,
          0.07260471401766211,
          0.001422711640976626,
          0.18591431683172366,
          0.2376514178194138,
          0.06067780391596045,
          0.3684124161351292,
          0.9255456259817524,
          0.6515236342569365,
          0.1991820484808846,
          0.47674040438404197,
          0.596388953525444,
          0.06918194991674498,
          0.3999162666954349,
          0.19801009972089068,
          0.8853293937919091,
          0.046737539830976615,
          0.5891955506805309,
          0.8273789005828616,
          0.8644161676421752,
          0.39628703873913196,
          0.1267997222540943,
          0.4990888001861852,
          0.2920684461925288,
          0.3833487176389119,
          0.040373795098733734,
          0.9218806616114522,
          0.5084676325227109,
          0.4616396328393083,
          0.9346381987526001,
          0.08373268587487681,
          0.012586931470285445,
          0.9068898222445224,
          0.16552047481898824,
          0.20733534737918058,
          0.8635544081918058,
          0.9196370739581718,
          0.7016144896972498,
          0.1921310110559702,
          0.03894271972166963,
          0.24463730345251955,
          0.9923830478936386,
          0.600633805396669,
          0.5101755192186549,
          0.4554477236344452,
          0.19150046164508594,
          0.5012708186129198,
          0.8620682624983109,
          0.16186527450197552,
          0.24676411226204087,
          0.736617345334539,
          0.37806392283106094,
          0.8974852934731081,
          0.12301845181892268,
          0.5599567262439044,
          0.10466501986662513,
          0.9402807320278893,
          0.6293291186628359,
          0.2259202865022497,
          0.7914319780595636
         ]
        },
        {
         "line": {
          "color": "rgba(128, 0, 128, 1.0)",
          "dash": "solid",
          "shape": "linear",
          "width": 1.3
         },
         "mode": "lines",
         "name": "D",
         "text": "",
         "type": "scatter",
         "x": [
          0,
          1,
          2,
          3,
          4,
          5,
          6,
          7,
          8,
          9,
          10,
          11,
          12,
          13,
          14,
          15,
          16,
          17,
          18,
          19,
          20,
          21,
          22,
          23,
          24,
          25,
          26,
          27,
          28,
          29,
          30,
          31,
          32,
          33,
          34,
          35,
          36,
          37,
          38,
          39,
          40,
          41,
          42,
          43,
          44,
          45,
          46,
          47,
          48,
          49,
          50,
          51,
          52,
          53,
          54,
          55,
          56,
          57,
          58,
          59,
          60,
          61,
          62,
          63,
          64,
          65,
          66,
          67,
          68,
          69,
          70,
          71,
          72,
          73,
          74,
          75,
          76,
          77,
          78,
          79,
          80,
          81,
          82,
          83,
          84,
          85,
          86,
          87,
          88,
          89,
          90,
          91,
          92,
          93,
          94,
          95,
          96,
          97,
          98,
          99
         ],
         "y": [
          0.2057015273444034,
          0.1914132709914066,
          0.22312063975614038,
          0.4059983118661227,
          0.036599682605702344,
          0.21200108891217206,
          0.2390644164019854,
          0.27203552301518863,
          0.4362299365907276,
          0.07661621115664974,
          0.7940338946838988,
          0.07569093566572749,
          0.4361956577573247,
          0.6718271716663993,
          0.02910447015982154,
          0.8672629877901341,
          0.6068739286426558,
          0.5439484349095529,
          0.8195488537220345,
          0.6239798081501989,
          0.7775339381007728,
          0.3237015105914849,
          0.8122490667199603,
          0.05207197566335642,
          0.7351716190299754,
          0.34046420787878906,
          0.8520169736075666,
          0.7572103231769765,
          0.04380964012791244,
          0.5072322532685605,
          0.4571540482673545,
          0.31776795046208983,
          0.9215922417725891,
          0.32259146254403437,
          0.7973202438275461,
          0.5744390761122865,
          0.8091332949068598,
          0.18678202437697566,
          0.12931186396214167,
          0.617934854206754,
          0.56254853874098,
          0.5254422203020802,
          0.8730865743943738,
          0.8824352391015691,
          0.7857017098217839,
          0.8028967133042543,
          0.04058681749541193,
          0.6192463781341927,
          0.8941685371843957,
          0.9682296421783442,
          0.17325127800531148,
          0.2928116603816737,
          0.21395689938676798,
          0.8138077405273001,
          0.541306592737299,
          0.17882934900917058,
          0.9230765454895742,
          0.38683480087909505,
          0.5320015555781986,
          0.7244731312673186,
          0.6217539543704846,
          0.16086979279018498,
          0.16266620322548175,
          0.5026523819407788,
          0.42874884022232473,
          0.43405426164146965,
          0.6363584030734126,
          0.7436910605367291,
          0.7250656491587817,
          0.04213986601348041,
          0.19651867842089654,
          0.10348625163751235,
          0.7506078244538572,
          0.6847662311766312,
          0.06666120439596657,
          0.7305465707210608,
          0.41529962739826,
          0.03445966090660535,
          0.5865332198800062,
          0.8898719458306117,
          0.7950187484279215,
          0.3582601692217031,
          0.6984324615752024,
          0.16395842105279446,
          0.48122686711357177,
          0.4575542442064081,
          0.6632550349572617,
          0.9339626071527983,
          0.3919089398415616,
          0.7039977629323808,
          0.195883106331726,
          0.8936551326742009,
          0.1755257202363748,
          0.16864919913987564,
          0.5792907820010644,
          0.7344395882698364,
          0.09081700155782202,
          0.7356894730850086,
          0.007357682052856251,
          0.9034275369057923
         ]
        }
       ],
       "layout": {
        "legend": {
         "bgcolor": "#F5F6F9",
         "font": {
          "color": "#4D5663"
         }
        },
        "paper_bgcolor": "#F5F6F9",
        "plot_bgcolor": "#F5F6F9",
        "template": {
         "data": {
          "bar": [
           {
            "error_x": {
             "color": "#2a3f5f"
            },
            "error_y": {
             "color": "#2a3f5f"
            },
            "marker": {
             "line": {
              "color": "#E5ECF6",
              "width": 0.5
             }
            },
            "type": "bar"
           }
          ],
          "barpolar": [
           {
            "marker": {
             "line": {
              "color": "#E5ECF6",
              "width": 0.5
             }
            },
            "type": "barpolar"
           }
          ],
          "carpet": [
           {
            "aaxis": {
             "endlinecolor": "#2a3f5f",
             "gridcolor": "white",
             "linecolor": "white",
             "minorgridcolor": "white",
             "startlinecolor": "#2a3f5f"
            },
            "baxis": {
             "endlinecolor": "#2a3f5f",
             "gridcolor": "white",
             "linecolor": "white",
             "minorgridcolor": "white",
             "startlinecolor": "#2a3f5f"
            },
            "type": "carpet"
           }
          ],
          "choropleth": [
           {
            "colorbar": {
             "outlinewidth": 0,
             "ticks": ""
            },
            "type": "choropleth"
           }
          ],
          "contour": [
           {
            "colorbar": {
             "outlinewidth": 0,
             "ticks": ""
            },
            "colorscale": [
             [
              0,
              "#0d0887"
             ],
             [
              0.1111111111111111,
              "#46039f"
             ],
             [
              0.2222222222222222,
              "#7201a8"
             ],
             [
              0.3333333333333333,
              "#9c179e"
             ],
             [
              0.4444444444444444,
              "#bd3786"
             ],
             [
              0.5555555555555556,
              "#d8576b"
             ],
             [
              0.6666666666666666,
              "#ed7953"
             ],
             [
              0.7777777777777778,
              "#fb9f3a"
             ],
             [
              0.8888888888888888,
              "#fdca26"
             ],
             [
              1,
              "#f0f921"
             ]
            ],
            "type": "contour"
           }
          ],
          "contourcarpet": [
           {
            "colorbar": {
             "outlinewidth": 0,
             "ticks": ""
            },
            "type": "contourcarpet"
           }
          ],
          "heatmap": [
           {
            "colorbar": {
             "outlinewidth": 0,
             "ticks": ""
            },
            "colorscale": [
             [
              0,
              "#0d0887"
             ],
             [
              0.1111111111111111,
              "#46039f"
             ],
             [
              0.2222222222222222,
              "#7201a8"
             ],
             [
              0.3333333333333333,
              "#9c179e"
             ],
             [
              0.4444444444444444,
              "#bd3786"
             ],
             [
              0.5555555555555556,
              "#d8576b"
             ],
             [
              0.6666666666666666,
              "#ed7953"
             ],
             [
              0.7777777777777778,
              "#fb9f3a"
             ],
             [
              0.8888888888888888,
              "#fdca26"
             ],
             [
              1,
              "#f0f921"
             ]
            ],
            "type": "heatmap"
           }
          ],
          "heatmapgl": [
           {
            "colorbar": {
             "outlinewidth": 0,
             "ticks": ""
            },
            "colorscale": [
             [
              0,
              "#0d0887"
             ],
             [
              0.1111111111111111,
              "#46039f"
             ],
             [
              0.2222222222222222,
              "#7201a8"
             ],
             [
              0.3333333333333333,
              "#9c179e"
             ],
             [
              0.4444444444444444,
              "#bd3786"
             ],
             [
              0.5555555555555556,
              "#d8576b"
             ],
             [
              0.6666666666666666,
              "#ed7953"
             ],
             [
              0.7777777777777778,
              "#fb9f3a"
             ],
             [
              0.8888888888888888,
              "#fdca26"
             ],
             [
              1,
              "#f0f921"
             ]
            ],
            "type": "heatmapgl"
           }
          ],
          "histogram": [
           {
            "marker": {
             "colorbar": {
              "outlinewidth": 0,
              "ticks": ""
             }
            },
            "type": "histogram"
           }
          ],
          "histogram2d": [
           {
            "colorbar": {
             "outlinewidth": 0,
             "ticks": ""
            },
            "colorscale": [
             [
              0,
              "#0d0887"
             ],
             [
              0.1111111111111111,
              "#46039f"
             ],
             [
              0.2222222222222222,
              "#7201a8"
             ],
             [
              0.3333333333333333,
              "#9c179e"
             ],
             [
              0.4444444444444444,
              "#bd3786"
             ],
             [
              0.5555555555555556,
              "#d8576b"
             ],
             [
              0.6666666666666666,
              "#ed7953"
             ],
             [
              0.7777777777777778,
              "#fb9f3a"
             ],
             [
              0.8888888888888888,
              "#fdca26"
             ],
             [
              1,
              "#f0f921"
             ]
            ],
            "type": "histogram2d"
           }
          ],
          "histogram2dcontour": [
           {
            "colorbar": {
             "outlinewidth": 0,
             "ticks": ""
            },
            "colorscale": [
             [
              0,
              "#0d0887"
             ],
             [
              0.1111111111111111,
              "#46039f"
             ],
             [
              0.2222222222222222,
              "#7201a8"
             ],
             [
              0.3333333333333333,
              "#9c179e"
             ],
             [
              0.4444444444444444,
              "#bd3786"
             ],
             [
              0.5555555555555556,
              "#d8576b"
             ],
             [
              0.6666666666666666,
              "#ed7953"
             ],
             [
              0.7777777777777778,
              "#fb9f3a"
             ],
             [
              0.8888888888888888,
              "#fdca26"
             ],
             [
              1,
              "#f0f921"
             ]
            ],
            "type": "histogram2dcontour"
           }
          ],
          "mesh3d": [
           {
            "colorbar": {
             "outlinewidth": 0,
             "ticks": ""
            },
            "type": "mesh3d"
           }
          ],
          "parcoords": [
           {
            "line": {
             "colorbar": {
              "outlinewidth": 0,
              "ticks": ""
             }
            },
            "type": "parcoords"
           }
          ],
          "pie": [
           {
            "automargin": true,
            "type": "pie"
           }
          ],
          "scatter": [
           {
            "marker": {
             "colorbar": {
              "outlinewidth": 0,
              "ticks": ""
             }
            },
            "type": "scatter"
           }
          ],
          "scatter3d": [
           {
            "line": {
             "colorbar": {
              "outlinewidth": 0,
              "ticks": ""
             }
            },
            "marker": {
             "colorbar": {
              "outlinewidth": 0,
              "ticks": ""
             }
            },
            "type": "scatter3d"
           }
          ],
          "scattercarpet": [
           {
            "marker": {
             "colorbar": {
              "outlinewidth": 0,
              "ticks": ""
             }
            },
            "type": "scattercarpet"
           }
          ],
          "scattergeo": [
           {
            "marker": {
             "colorbar": {
              "outlinewidth": 0,
              "ticks": ""
             }
            },
            "type": "scattergeo"
           }
          ],
          "scattergl": [
           {
            "marker": {
             "colorbar": {
              "outlinewidth": 0,
              "ticks": ""
             }
            },
            "type": "scattergl"
           }
          ],
          "scattermapbox": [
           {
            "marker": {
             "colorbar": {
              "outlinewidth": 0,
              "ticks": ""
             }
            },
            "type": "scattermapbox"
           }
          ],
          "scatterpolar": [
           {
            "marker": {
             "colorbar": {
              "outlinewidth": 0,
              "ticks": ""
             }
            },
            "type": "scatterpolar"
           }
          ],
          "scatterpolargl": [
           {
            "marker": {
             "colorbar": {
              "outlinewidth": 0,
              "ticks": ""
             }
            },
            "type": "scatterpolargl"
           }
          ],
          "scatterternary": [
           {
            "marker": {
             "colorbar": {
              "outlinewidth": 0,
              "ticks": ""
             }
            },
            "type": "scatterternary"
           }
          ],
          "surface": [
           {
            "colorbar": {
             "outlinewidth": 0,
             "ticks": ""
            },
            "colorscale": [
             [
              0,
              "#0d0887"
             ],
             [
              0.1111111111111111,
              "#46039f"
             ],
             [
              0.2222222222222222,
              "#7201a8"
             ],
             [
              0.3333333333333333,
              "#9c179e"
             ],
             [
              0.4444444444444444,
              "#bd3786"
             ],
             [
              0.5555555555555556,
              "#d8576b"
             ],
             [
              0.6666666666666666,
              "#ed7953"
             ],
             [
              0.7777777777777778,
              "#fb9f3a"
             ],
             [
              0.8888888888888888,
              "#fdca26"
             ],
             [
              1,
              "#f0f921"
             ]
            ],
            "type": "surface"
           }
          ],
          "table": [
           {
            "cells": {
             "fill": {
              "color": "#EBF0F8"
             },
             "line": {
              "color": "white"
             }
            },
            "header": {
             "fill": {
              "color": "#C8D4E3"
             },
             "line": {
              "color": "white"
             }
            },
            "type": "table"
           }
          ]
         },
         "layout": {
          "annotationdefaults": {
           "arrowcolor": "#2a3f5f",
           "arrowhead": 0,
           "arrowwidth": 1
          },
          "autotypenumbers": "strict",
          "coloraxis": {
           "colorbar": {
            "outlinewidth": 0,
            "ticks": ""
           }
          },
          "colorscale": {
           "diverging": [
            [
             0,
             "#8e0152"
            ],
            [
             0.1,
             "#c51b7d"
            ],
            [
             0.2,
             "#de77ae"
            ],
            [
             0.3,
             "#f1b6da"
            ],
            [
             0.4,
             "#fde0ef"
            ],
            [
             0.5,
             "#f7f7f7"
            ],
            [
             0.6,
             "#e6f5d0"
            ],
            [
             0.7,
             "#b8e186"
            ],
            [
             0.8,
             "#7fbc41"
            ],
            [
             0.9,
             "#4d9221"
            ],
            [
             1,
             "#276419"
            ]
           ],
           "sequential": [
            [
             0,
             "#0d0887"
            ],
            [
             0.1111111111111111,
             "#46039f"
            ],
            [
             0.2222222222222222,
             "#7201a8"
            ],
            [
             0.3333333333333333,
             "#9c179e"
            ],
            [
             0.4444444444444444,
             "#bd3786"
            ],
            [
             0.5555555555555556,
             "#d8576b"
            ],
            [
             0.6666666666666666,
             "#ed7953"
            ],
            [
             0.7777777777777778,
             "#fb9f3a"
            ],
            [
             0.8888888888888888,
             "#fdca26"
            ],
            [
             1,
             "#f0f921"
            ]
           ],
           "sequentialminus": [
            [
             0,
             "#0d0887"
            ],
            [
             0.1111111111111111,
             "#46039f"
            ],
            [
             0.2222222222222222,
             "#7201a8"
            ],
            [
             0.3333333333333333,
             "#9c179e"
            ],
            [
             0.4444444444444444,
             "#bd3786"
            ],
            [
             0.5555555555555556,
             "#d8576b"
            ],
            [
             0.6666666666666666,
             "#ed7953"
            ],
            [
             0.7777777777777778,
             "#fb9f3a"
            ],
            [
             0.8888888888888888,
             "#fdca26"
            ],
            [
             1,
             "#f0f921"
            ]
           ]
          },
          "colorway": [
           "#636efa",
           "#EF553B",
           "#00cc96",
           "#ab63fa",
           "#FFA15A",
           "#19d3f3",
           "#FF6692",
           "#B6E880",
           "#FF97FF",
           "#FECB52"
          ],
          "font": {
           "color": "#2a3f5f"
          },
          "geo": {
           "bgcolor": "white",
           "lakecolor": "white",
           "landcolor": "#E5ECF6",
           "showlakes": true,
           "showland": true,
           "subunitcolor": "white"
          },
          "hoverlabel": {
           "align": "left"
          },
          "hovermode": "closest",
          "mapbox": {
           "style": "light"
          },
          "paper_bgcolor": "white",
          "plot_bgcolor": "#E5ECF6",
          "polar": {
           "angularaxis": {
            "gridcolor": "white",
            "linecolor": "white",
            "ticks": ""
           },
           "bgcolor": "#E5ECF6",
           "radialaxis": {
            "gridcolor": "white",
            "linecolor": "white",
            "ticks": ""
           }
          },
          "scene": {
           "xaxis": {
            "backgroundcolor": "#E5ECF6",
            "gridcolor": "white",
            "gridwidth": 2,
            "linecolor": "white",
            "showbackground": true,
            "ticks": "",
            "zerolinecolor": "white"
           },
           "yaxis": {
            "backgroundcolor": "#E5ECF6",
            "gridcolor": "white",
            "gridwidth": 2,
            "linecolor": "white",
            "showbackground": true,
            "ticks": "",
            "zerolinecolor": "white"
           },
           "zaxis": {
            "backgroundcolor": "#E5ECF6",
            "gridcolor": "white",
            "gridwidth": 2,
            "linecolor": "white",
            "showbackground": true,
            "ticks": "",
            "zerolinecolor": "white"
           }
          },
          "shapedefaults": {
           "line": {
            "color": "#2a3f5f"
           }
          },
          "ternary": {
           "aaxis": {
            "gridcolor": "white",
            "linecolor": "white",
            "ticks": ""
           },
           "baxis": {
            "gridcolor": "white",
            "linecolor": "white",
            "ticks": ""
           },
           "bgcolor": "#E5ECF6",
           "caxis": {
            "gridcolor": "white",
            "linecolor": "white",
            "ticks": ""
           }
          },
          "title": {
           "x": 0.05
          },
          "xaxis": {
           "automargin": true,
           "gridcolor": "white",
           "linecolor": "white",
           "ticks": "",
           "title": {
            "standoff": 15
           },
           "zerolinecolor": "white",
           "zerolinewidth": 2
          },
          "yaxis": {
           "automargin": true,
           "gridcolor": "white",
           "linecolor": "white",
           "ticks": "",
           "title": {
            "standoff": 15
           },
           "zerolinecolor": "white",
           "zerolinewidth": 2
          }
         }
        },
        "title": {
         "font": {
          "color": "#4D5663"
         }
        },
        "xaxis": {
         "gridcolor": "#E1E5ED",
         "showgrid": true,
         "tickfont": {
          "color": "#4D5663"
         },
         "title": {
          "font": {
           "color": "#4D5663"
          },
          "text": ""
         },
         "zerolinecolor": "#E1E5ED"
        },
        "yaxis": {
         "gridcolor": "#E1E5ED",
         "showgrid": true,
         "tickfont": {
          "color": "#4D5663"
         },
         "title": {
          "font": {
           "color": "#4D5663"
          },
          "text": ""
         },
         "zerolinecolor": "#E1E5ED"
        }
       }
      },
      "text/html": [
       "<div>                            <div id=\"d7a2f960-70a2-46be-af04-dabfb417a75d\" class=\"plotly-graph-div\" style=\"height:525px; width:100%;\"></div>            <script type=\"text/javascript\">                require([\"plotly\"], function(Plotly) {                    window.PLOTLYENV=window.PLOTLYENV || {};\n",
       "                    window.PLOTLYENV.BASE_URL='https://plot.ly';                                    if (document.getElementById(\"d7a2f960-70a2-46be-af04-dabfb417a75d\")) {                    Plotly.newPlot(                        \"d7a2f960-70a2-46be-af04-dabfb417a75d\",                        [{\"line\": {\"color\": \"rgba(255, 153, 51, 1.0)\", \"dash\": \"solid\", \"shape\": \"linear\", \"width\": 1.3}, \"mode\": \"lines\", \"name\": \"A\", \"text\": \"\", \"type\": \"scatter\", \"x\": [0, 1, 2, 3, 4, 5, 6, 7, 8, 9, 10, 11, 12, 13, 14, 15, 16, 17, 18, 19, 20, 21, 22, 23, 24, 25, 26, 27, 28, 29, 30, 31, 32, 33, 34, 35, 36, 37, 38, 39, 40, 41, 42, 43, 44, 45, 46, 47, 48, 49, 50, 51, 52, 53, 54, 55, 56, 57, 58, 59, 60, 61, 62, 63, 64, 65, 66, 67, 68, 69, 70, 71, 72, 73, 74, 75, 76, 77, 78, 79, 80, 81, 82, 83, 84, 85, 86, 87, 88, 89, 90, 91, 92, 93, 94, 95, 96, 97, 98, 99], \"y\": [0.9753847257840704, 0.6685526475099604, 0.717763849159026, 0.641643253612684, 0.46101551589424816, 0.12078225002024179, 0.9226200153186841, 0.784485205431393, 0.31455777210757063, 0.4478685176457967, 0.2131143465929174, 0.3011696160343452, 0.7562652954539073, 0.17665548838834555, 0.32638506717339455, 0.8459614429343494, 0.34192570436767833, 0.06391837019195534, 0.8999138623566848, 0.8715981055099761, 0.987890531023444, 0.8961498915681549, 0.36306575530877194, 0.8276162545533562, 0.20525195193240775, 0.06391191637803195, 0.16937409328541397, 0.7761067551067942, 0.5575771139288783, 0.1499040533333127, 0.22334376981884096, 0.6918361085471536, 0.8790879143840141, 0.7077384811608556, 0.22422787181288484, 0.32161718246572824, 0.48154104728183533, 0.7705942872538493, 0.19988219988236622, 0.6655430545295901, 0.6723359791162588, 0.8151105808405508, 0.8846810836216884, 0.007244518678291789, 0.4068924253415789, 0.8625167848986993, 0.6429397136763052, 0.7763525954064734, 0.8241324136446101, 0.7186392585997665, 0.21683477878002877, 0.3494180296260595, 0.1741282459062653, 0.02397911006743103, 0.39487584701144085, 0.24380211962090148, 0.22344572067428936, 0.6537321204248879, 0.8564298673735783, 0.5123248575458799, 0.605553516435922, 0.6517629384667678, 0.23452063385360233, 0.9494658315171941, 0.6304378167182005, 0.26303963632237737, 0.2863032859042599, 0.47929891357035415, 0.42596189386818706, 0.3848568917235682, 0.4212480599686016, 0.7736704973405448, 0.44845284655712414, 0.9807428289008219, 0.4363301972778, 0.21318133575569864, 0.1585547262957432, 0.8595620058635431, 0.35844401575162044, 0.45229977212554207, 0.7119012892048794, 0.40441056780230067, 0.9773408983820342, 0.3174071110165755, 0.881073025102367, 0.40153608916097194, 0.5741411373468234, 0.8109111415755789, 0.45664260834838166, 0.33826152683825383, 0.7954321426895994, 0.5551184704941502, 0.9184421526805117, 0.6602273721590636, 0.37907286862184275, 0.8782538779062986, 0.8016769924092302, 0.8014854199555197, 0.9644159545124961, 0.20259993162699697]}, {\"line\": {\"color\": \"rgba(55, 128, 191, 1.0)\", \"dash\": \"solid\", \"shape\": \"linear\", \"width\": 1.3}, \"mode\": \"lines\", \"name\": \"B\", \"text\": \"\", \"type\": \"scatter\", \"x\": [0, 1, 2, 3, 4, 5, 6, 7, 8, 9, 10, 11, 12, 13, 14, 15, 16, 17, 18, 19, 20, 21, 22, 23, 24, 25, 26, 27, 28, 29, 30, 31, 32, 33, 34, 35, 36, 37, 38, 39, 40, 41, 42, 43, 44, 45, 46, 47, 48, 49, 50, 51, 52, 53, 54, 55, 56, 57, 58, 59, 60, 61, 62, 63, 64, 65, 66, 67, 68, 69, 70, 71, 72, 73, 74, 75, 76, 77, 78, 79, 80, 81, 82, 83, 84, 85, 86, 87, 88, 89, 90, 91, 92, 93, 94, 95, 96, 97, 98, 99], \"y\": [0.6085337361817945, 0.9849008662659429, 0.17481835927449163, 0.7438288626332903, 0.4549341248769252, 0.5692305411024162, 0.6866864917646315, 0.15091996389122575, 0.598572333058514, 0.5311366876335679, 0.9647509681138527, 0.42970076544550373, 0.9197065912505893, 0.7512658459378196, 0.6172748994670416, 0.8869450145926792, 0.8984286133614072, 0.5110235635378919, 0.20037484313679033, 0.40285965977201077, 0.6251604159867912, 0.7636289035224022, 0.9591931988677984, 0.89411526565189, 0.612783769491025, 0.21082458066343868, 0.8210691098866622, 0.28741205960236926, 0.40875401399822564, 0.6572032947569375, 0.8717539125541596, 0.4933401273428939, 0.3401422688102115, 0.4721561988060825, 0.36214608305039664, 0.4991284004318195, 0.6222161033737548, 0.6675732316436533, 0.4434734639664153, 0.6650579368330961, 0.7740363141641551, 0.47506597669456774, 0.7045778679738115, 0.5511023311060128, 0.5250828615861299, 0.09862598494375197, 0.4897136545952473, 0.3236530242756478, 0.4240146481999545, 0.11764868551348973, 0.9815372793772702, 0.9232006895886629, 0.647357911651621, 0.5510160241780454, 0.4894197386121423, 0.10052339054740922, 0.25282609452770033, 0.7600787941990619, 0.23123523257991174, 0.6664292991581325, 0.4374166355841971, 0.7662383104126994, 0.4263403310506284, 0.20321454392170335, 0.03864288709883246, 0.880656277259328, 0.7610979538639527, 0.3426033199000921, 0.06924669753559487, 0.9488897619679045, 0.27989153511860954, 0.10045223618897847, 0.9954880550235646, 0.015224490864340523, 0.5421397400902137, 0.687599485200822, 0.6352382875512128, 0.3952487236954483, 0.5221446773937745, 0.5462842796507908, 0.6285907982844269, 0.7916249160524705, 0.9563225781284411, 0.8547698325588563, 0.18707107322032013, 0.2497255885986579, 0.3080902134021354, 0.22282597342980115, 0.8564392586445342, 0.49700783760020384, 0.24623954678299986, 0.05866062421915241, 0.615126023015918, 0.38884070501730983, 0.9152233410521818, 0.016008476630690605, 0.4798720815160471, 0.5171996847932875, 0.6874258034388792, 0.9235294420687038]}, {\"line\": {\"color\": \"rgba(50, 171, 96, 1.0)\", \"dash\": \"solid\", \"shape\": \"linear\", \"width\": 1.3}, \"mode\": \"lines\", \"name\": \"C\", \"text\": \"\", \"type\": \"scatter\", \"x\": [0, 1, 2, 3, 4, 5, 6, 7, 8, 9, 10, 11, 12, 13, 14, 15, 16, 17, 18, 19, 20, 21, 22, 23, 24, 25, 26, 27, 28, 29, 30, 31, 32, 33, 34, 35, 36, 37, 38, 39, 40, 41, 42, 43, 44, 45, 46, 47, 48, 49, 50, 51, 52, 53, 54, 55, 56, 57, 58, 59, 60, 61, 62, 63, 64, 65, 66, 67, 68, 69, 70, 71, 72, 73, 74, 75, 76, 77, 78, 79, 80, 81, 82, 83, 84, 85, 86, 87, 88, 89, 90, 91, 92, 93, 94, 95, 96, 97, 98, 99], \"y\": [0.7359403834582817, 0.2962807826126467, 0.43976942304810407, 0.7937450524855361, 0.09443712133933746, 0.03474909996185416, 0.07309564606439356, 0.9067802752953078, 0.24380549084491965, 0.37025869632843833, 0.8063544885933182, 0.5002577054900178, 0.1583374605194211, 0.728782766500474, 0.7108646489513578, 0.8483947271120664, 0.2731579239674953, 0.47105784896012726, 0.4135874884888162, 0.8297318106225205, 0.47296197309595067, 0.6286807254082438, 0.198757150393986, 0.01297191820849497, 0.964942534552751, 0.010775015613716743, 0.1001137083925755, 0.9335981487536341, 0.6485176199871848, 0.6328928966510233, 0.7379655290618602, 0.35678449989911865, 0.5019123637488716, 0.02415231740897228, 0.7150581456985274, 0.9090044707851561, 0.9756761313030332, 0.6763602019481604, 0.258679938398379, 0.12983186360725418, 0.6195762281614965, 0.07260471401766211, 0.001422711640976626, 0.18591431683172366, 0.2376514178194138, 0.06067780391596045, 0.3684124161351292, 0.9255456259817524, 0.6515236342569365, 0.1991820484808846, 0.47674040438404197, 0.596388953525444, 0.06918194991674498, 0.3999162666954349, 0.19801009972089068, 0.8853293937919091, 0.046737539830976615, 0.5891955506805309, 0.8273789005828616, 0.8644161676421752, 0.39628703873913196, 0.1267997222540943, 0.4990888001861852, 0.2920684461925288, 0.3833487176389119, 0.040373795098733734, 0.9218806616114522, 0.5084676325227109, 0.4616396328393083, 0.9346381987526001, 0.08373268587487681, 0.012586931470285445, 0.9068898222445224, 0.16552047481898824, 0.20733534737918058, 0.8635544081918058, 0.9196370739581718, 0.7016144896972498, 0.1921310110559702, 0.03894271972166963, 0.24463730345251955, 0.9923830478936386, 0.600633805396669, 0.5101755192186549, 0.4554477236344452, 0.19150046164508594, 0.5012708186129198, 0.8620682624983109, 0.16186527450197552, 0.24676411226204087, 0.736617345334539, 0.37806392283106094, 0.8974852934731081, 0.12301845181892268, 0.5599567262439044, 0.10466501986662513, 0.9402807320278893, 0.6293291186628359, 0.2259202865022497, 0.7914319780595636]}, {\"line\": {\"color\": \"rgba(128, 0, 128, 1.0)\", \"dash\": \"solid\", \"shape\": \"linear\", \"width\": 1.3}, \"mode\": \"lines\", \"name\": \"D\", \"text\": \"\", \"type\": \"scatter\", \"x\": [0, 1, 2, 3, 4, 5, 6, 7, 8, 9, 10, 11, 12, 13, 14, 15, 16, 17, 18, 19, 20, 21, 22, 23, 24, 25, 26, 27, 28, 29, 30, 31, 32, 33, 34, 35, 36, 37, 38, 39, 40, 41, 42, 43, 44, 45, 46, 47, 48, 49, 50, 51, 52, 53, 54, 55, 56, 57, 58, 59, 60, 61, 62, 63, 64, 65, 66, 67, 68, 69, 70, 71, 72, 73, 74, 75, 76, 77, 78, 79, 80, 81, 82, 83, 84, 85, 86, 87, 88, 89, 90, 91, 92, 93, 94, 95, 96, 97, 98, 99], \"y\": [0.2057015273444034, 0.1914132709914066, 0.22312063975614038, 0.4059983118661227, 0.036599682605702344, 0.21200108891217206, 0.2390644164019854, 0.27203552301518863, 0.4362299365907276, 0.07661621115664974, 0.7940338946838988, 0.07569093566572749, 0.4361956577573247, 0.6718271716663993, 0.02910447015982154, 0.8672629877901341, 0.6068739286426558, 0.5439484349095529, 0.8195488537220345, 0.6239798081501989, 0.7775339381007728, 0.3237015105914849, 0.8122490667199603, 0.05207197566335642, 0.7351716190299754, 0.34046420787878906, 0.8520169736075666, 0.7572103231769765, 0.04380964012791244, 0.5072322532685605, 0.4571540482673545, 0.31776795046208983, 0.9215922417725891, 0.32259146254403437, 0.7973202438275461, 0.5744390761122865, 0.8091332949068598, 0.18678202437697566, 0.12931186396214167, 0.617934854206754, 0.56254853874098, 0.5254422203020802, 0.8730865743943738, 0.8824352391015691, 0.7857017098217839, 0.8028967133042543, 0.04058681749541193, 0.6192463781341927, 0.8941685371843957, 0.9682296421783442, 0.17325127800531148, 0.2928116603816737, 0.21395689938676798, 0.8138077405273001, 0.541306592737299, 0.17882934900917058, 0.9230765454895742, 0.38683480087909505, 0.5320015555781986, 0.7244731312673186, 0.6217539543704846, 0.16086979279018498, 0.16266620322548175, 0.5026523819407788, 0.42874884022232473, 0.43405426164146965, 0.6363584030734126, 0.7436910605367291, 0.7250656491587817, 0.04213986601348041, 0.19651867842089654, 0.10348625163751235, 0.7506078244538572, 0.6847662311766312, 0.06666120439596657, 0.7305465707210608, 0.41529962739826, 0.03445966090660535, 0.5865332198800062, 0.8898719458306117, 0.7950187484279215, 0.3582601692217031, 0.6984324615752024, 0.16395842105279446, 0.48122686711357177, 0.4575542442064081, 0.6632550349572617, 0.9339626071527983, 0.3919089398415616, 0.7039977629323808, 0.195883106331726, 0.8936551326742009, 0.1755257202363748, 0.16864919913987564, 0.5792907820010644, 0.7344395882698364, 0.09081700155782202, 0.7356894730850086, 0.007357682052856251, 0.9034275369057923]}],                        {\"legend\": {\"bgcolor\": \"#F5F6F9\", \"font\": {\"color\": \"#4D5663\"}}, \"paper_bgcolor\": \"#F5F6F9\", \"plot_bgcolor\": \"#F5F6F9\", \"template\": {\"data\": {\"bar\": [{\"error_x\": {\"color\": \"#2a3f5f\"}, \"error_y\": {\"color\": \"#2a3f5f\"}, \"marker\": {\"line\": {\"color\": \"#E5ECF6\", \"width\": 0.5}}, \"type\": \"bar\"}], \"barpolar\": [{\"marker\": {\"line\": {\"color\": \"#E5ECF6\", \"width\": 0.5}}, \"type\": \"barpolar\"}], \"carpet\": [{\"aaxis\": {\"endlinecolor\": \"#2a3f5f\", \"gridcolor\": \"white\", \"linecolor\": \"white\", \"minorgridcolor\": \"white\", \"startlinecolor\": \"#2a3f5f\"}, \"baxis\": {\"endlinecolor\": \"#2a3f5f\", \"gridcolor\": \"white\", \"linecolor\": \"white\", \"minorgridcolor\": \"white\", \"startlinecolor\": \"#2a3f5f\"}, \"type\": \"carpet\"}], \"choropleth\": [{\"colorbar\": {\"outlinewidth\": 0, \"ticks\": \"\"}, \"type\": \"choropleth\"}], \"contour\": [{\"colorbar\": {\"outlinewidth\": 0, \"ticks\": \"\"}, \"colorscale\": [[0.0, \"#0d0887\"], [0.1111111111111111, \"#46039f\"], [0.2222222222222222, \"#7201a8\"], [0.3333333333333333, \"#9c179e\"], [0.4444444444444444, \"#bd3786\"], [0.5555555555555556, \"#d8576b\"], [0.6666666666666666, \"#ed7953\"], [0.7777777777777778, \"#fb9f3a\"], [0.8888888888888888, \"#fdca26\"], [1.0, \"#f0f921\"]], \"type\": \"contour\"}], \"contourcarpet\": [{\"colorbar\": {\"outlinewidth\": 0, \"ticks\": \"\"}, \"type\": \"contourcarpet\"}], \"heatmap\": [{\"colorbar\": {\"outlinewidth\": 0, \"ticks\": \"\"}, \"colorscale\": [[0.0, \"#0d0887\"], [0.1111111111111111, \"#46039f\"], [0.2222222222222222, \"#7201a8\"], [0.3333333333333333, \"#9c179e\"], [0.4444444444444444, \"#bd3786\"], [0.5555555555555556, \"#d8576b\"], [0.6666666666666666, \"#ed7953\"], [0.7777777777777778, \"#fb9f3a\"], [0.8888888888888888, \"#fdca26\"], [1.0, \"#f0f921\"]], \"type\": \"heatmap\"}], \"heatmapgl\": [{\"colorbar\": {\"outlinewidth\": 0, \"ticks\": \"\"}, \"colorscale\": [[0.0, \"#0d0887\"], [0.1111111111111111, \"#46039f\"], [0.2222222222222222, \"#7201a8\"], [0.3333333333333333, \"#9c179e\"], [0.4444444444444444, \"#bd3786\"], [0.5555555555555556, \"#d8576b\"], [0.6666666666666666, \"#ed7953\"], [0.7777777777777778, \"#fb9f3a\"], [0.8888888888888888, \"#fdca26\"], [1.0, \"#f0f921\"]], \"type\": \"heatmapgl\"}], \"histogram\": [{\"marker\": {\"colorbar\": {\"outlinewidth\": 0, \"ticks\": \"\"}}, \"type\": \"histogram\"}], \"histogram2d\": [{\"colorbar\": {\"outlinewidth\": 0, \"ticks\": \"\"}, \"colorscale\": [[0.0, \"#0d0887\"], [0.1111111111111111, \"#46039f\"], [0.2222222222222222, \"#7201a8\"], [0.3333333333333333, \"#9c179e\"], [0.4444444444444444, \"#bd3786\"], [0.5555555555555556, \"#d8576b\"], [0.6666666666666666, \"#ed7953\"], [0.7777777777777778, \"#fb9f3a\"], [0.8888888888888888, \"#fdca26\"], [1.0, \"#f0f921\"]], \"type\": \"histogram2d\"}], \"histogram2dcontour\": [{\"colorbar\": {\"outlinewidth\": 0, \"ticks\": \"\"}, \"colorscale\": [[0.0, \"#0d0887\"], [0.1111111111111111, \"#46039f\"], [0.2222222222222222, \"#7201a8\"], [0.3333333333333333, \"#9c179e\"], [0.4444444444444444, \"#bd3786\"], [0.5555555555555556, \"#d8576b\"], [0.6666666666666666, \"#ed7953\"], [0.7777777777777778, \"#fb9f3a\"], [0.8888888888888888, \"#fdca26\"], [1.0, \"#f0f921\"]], \"type\": \"histogram2dcontour\"}], \"mesh3d\": [{\"colorbar\": {\"outlinewidth\": 0, \"ticks\": \"\"}, \"type\": \"mesh3d\"}], \"parcoords\": [{\"line\": {\"colorbar\": {\"outlinewidth\": 0, \"ticks\": \"\"}}, \"type\": \"parcoords\"}], \"pie\": [{\"automargin\": true, \"type\": \"pie\"}], \"scatter\": [{\"marker\": {\"colorbar\": {\"outlinewidth\": 0, \"ticks\": \"\"}}, \"type\": \"scatter\"}], \"scatter3d\": [{\"line\": {\"colorbar\": {\"outlinewidth\": 0, \"ticks\": \"\"}}, \"marker\": {\"colorbar\": {\"outlinewidth\": 0, \"ticks\": \"\"}}, \"type\": \"scatter3d\"}], \"scattercarpet\": [{\"marker\": {\"colorbar\": {\"outlinewidth\": 0, \"ticks\": \"\"}}, \"type\": \"scattercarpet\"}], \"scattergeo\": [{\"marker\": {\"colorbar\": {\"outlinewidth\": 0, \"ticks\": \"\"}}, \"type\": \"scattergeo\"}], \"scattergl\": [{\"marker\": {\"colorbar\": {\"outlinewidth\": 0, \"ticks\": \"\"}}, \"type\": \"scattergl\"}], \"scattermapbox\": [{\"marker\": {\"colorbar\": {\"outlinewidth\": 0, \"ticks\": \"\"}}, \"type\": \"scattermapbox\"}], \"scatterpolar\": [{\"marker\": {\"colorbar\": {\"outlinewidth\": 0, \"ticks\": \"\"}}, \"type\": \"scatterpolar\"}], \"scatterpolargl\": [{\"marker\": {\"colorbar\": {\"outlinewidth\": 0, \"ticks\": \"\"}}, \"type\": \"scatterpolargl\"}], \"scatterternary\": [{\"marker\": {\"colorbar\": {\"outlinewidth\": 0, \"ticks\": \"\"}}, \"type\": \"scatterternary\"}], \"surface\": [{\"colorbar\": {\"outlinewidth\": 0, \"ticks\": \"\"}, \"colorscale\": [[0.0, \"#0d0887\"], [0.1111111111111111, \"#46039f\"], [0.2222222222222222, \"#7201a8\"], [0.3333333333333333, \"#9c179e\"], [0.4444444444444444, \"#bd3786\"], [0.5555555555555556, \"#d8576b\"], [0.6666666666666666, \"#ed7953\"], [0.7777777777777778, \"#fb9f3a\"], [0.8888888888888888, \"#fdca26\"], [1.0, \"#f0f921\"]], \"type\": \"surface\"}], \"table\": [{\"cells\": {\"fill\": {\"color\": \"#EBF0F8\"}, \"line\": {\"color\": \"white\"}}, \"header\": {\"fill\": {\"color\": \"#C8D4E3\"}, \"line\": {\"color\": \"white\"}}, \"type\": \"table\"}]}, \"layout\": {\"annotationdefaults\": {\"arrowcolor\": \"#2a3f5f\", \"arrowhead\": 0, \"arrowwidth\": 1}, \"autotypenumbers\": \"strict\", \"coloraxis\": {\"colorbar\": {\"outlinewidth\": 0, \"ticks\": \"\"}}, \"colorscale\": {\"diverging\": [[0, \"#8e0152\"], [0.1, \"#c51b7d\"], [0.2, \"#de77ae\"], [0.3, \"#f1b6da\"], [0.4, \"#fde0ef\"], [0.5, \"#f7f7f7\"], [0.6, \"#e6f5d0\"], [0.7, \"#b8e186\"], [0.8, \"#7fbc41\"], [0.9, \"#4d9221\"], [1, \"#276419\"]], \"sequential\": [[0.0, \"#0d0887\"], [0.1111111111111111, \"#46039f\"], [0.2222222222222222, \"#7201a8\"], [0.3333333333333333, \"#9c179e\"], [0.4444444444444444, \"#bd3786\"], [0.5555555555555556, \"#d8576b\"], [0.6666666666666666, \"#ed7953\"], [0.7777777777777778, \"#fb9f3a\"], [0.8888888888888888, \"#fdca26\"], [1.0, \"#f0f921\"]], \"sequentialminus\": [[0.0, \"#0d0887\"], [0.1111111111111111, \"#46039f\"], [0.2222222222222222, \"#7201a8\"], [0.3333333333333333, \"#9c179e\"], [0.4444444444444444, \"#bd3786\"], [0.5555555555555556, \"#d8576b\"], [0.6666666666666666, \"#ed7953\"], [0.7777777777777778, \"#fb9f3a\"], [0.8888888888888888, \"#fdca26\"], [1.0, \"#f0f921\"]]}, \"colorway\": [\"#636efa\", \"#EF553B\", \"#00cc96\", \"#ab63fa\", \"#FFA15A\", \"#19d3f3\", \"#FF6692\", \"#B6E880\", \"#FF97FF\", \"#FECB52\"], \"font\": {\"color\": \"#2a3f5f\"}, \"geo\": {\"bgcolor\": \"white\", \"lakecolor\": \"white\", \"landcolor\": \"#E5ECF6\", \"showlakes\": true, \"showland\": true, \"subunitcolor\": \"white\"}, \"hoverlabel\": {\"align\": \"left\"}, \"hovermode\": \"closest\", \"mapbox\": {\"style\": \"light\"}, \"paper_bgcolor\": \"white\", \"plot_bgcolor\": \"#E5ECF6\", \"polar\": {\"angularaxis\": {\"gridcolor\": \"white\", \"linecolor\": \"white\", \"ticks\": \"\"}, \"bgcolor\": \"#E5ECF6\", \"radialaxis\": {\"gridcolor\": \"white\", \"linecolor\": \"white\", \"ticks\": \"\"}}, \"scene\": {\"xaxis\": {\"backgroundcolor\": \"#E5ECF6\", \"gridcolor\": \"white\", \"gridwidth\": 2, \"linecolor\": \"white\", \"showbackground\": true, \"ticks\": \"\", \"zerolinecolor\": \"white\"}, \"yaxis\": {\"backgroundcolor\": \"#E5ECF6\", \"gridcolor\": \"white\", \"gridwidth\": 2, \"linecolor\": \"white\", \"showbackground\": true, \"ticks\": \"\", \"zerolinecolor\": \"white\"}, \"zaxis\": {\"backgroundcolor\": \"#E5ECF6\", \"gridcolor\": \"white\", \"gridwidth\": 2, \"linecolor\": \"white\", \"showbackground\": true, \"ticks\": \"\", \"zerolinecolor\": \"white\"}}, \"shapedefaults\": {\"line\": {\"color\": \"#2a3f5f\"}}, \"ternary\": {\"aaxis\": {\"gridcolor\": \"white\", \"linecolor\": \"white\", \"ticks\": \"\"}, \"baxis\": {\"gridcolor\": \"white\", \"linecolor\": \"white\", \"ticks\": \"\"}, \"bgcolor\": \"#E5ECF6\", \"caxis\": {\"gridcolor\": \"white\", \"linecolor\": \"white\", \"ticks\": \"\"}}, \"title\": {\"x\": 0.05}, \"xaxis\": {\"automargin\": true, \"gridcolor\": \"white\", \"linecolor\": \"white\", \"ticks\": \"\", \"title\": {\"standoff\": 15}, \"zerolinecolor\": \"white\", \"zerolinewidth\": 2}, \"yaxis\": {\"automargin\": true, \"gridcolor\": \"white\", \"linecolor\": \"white\", \"ticks\": \"\", \"title\": {\"standoff\": 15}, \"zerolinecolor\": \"white\", \"zerolinewidth\": 2}}}, \"title\": {\"font\": {\"color\": \"#4D5663\"}}, \"xaxis\": {\"gridcolor\": \"#E1E5ED\", \"showgrid\": true, \"tickfont\": {\"color\": \"#4D5663\"}, \"title\": {\"font\": {\"color\": \"#4D5663\"}, \"text\": \"\"}, \"zerolinecolor\": \"#E1E5ED\"}, \"yaxis\": {\"gridcolor\": \"#E1E5ED\", \"showgrid\": true, \"tickfont\": {\"color\": \"#4D5663\"}, \"title\": {\"font\": {\"color\": \"#4D5663\"}, \"text\": \"\"}, \"zerolinecolor\": \"#E1E5ED\"}},                        {\"showLink\": true, \"linkText\": \"Export to plot.ly\", \"plotlyServerURL\": \"https://plot.ly\", \"responsive\": true}                    ).then(function(){\n",
       "                            \n",
       "var gd = document.getElementById('d7a2f960-70a2-46be-af04-dabfb417a75d');\n",
       "var x = new MutationObserver(function (mutations, observer) {{\n",
       "        var display = window.getComputedStyle(gd).display;\n",
       "        if (!display || display === 'none') {{\n",
       "            console.log([gd, 'removed!']);\n",
       "            Plotly.purge(gd);\n",
       "            observer.disconnect();\n",
       "        }}\n",
       "}});\n",
       "\n",
       "// Listen for the removal of the full notebook cells\n",
       "var notebookContainer = gd.closest('#notebook-container');\n",
       "if (notebookContainer) {{\n",
       "    x.observe(notebookContainer, {childList: true});\n",
       "}}\n",
       "\n",
       "// Listen for the clearing of the current output cell\n",
       "var outputEl = gd.closest('.output');\n",
       "if (outputEl) {{\n",
       "    x.observe(outputEl, {childList: true});\n",
       "}}\n",
       "\n",
       "                        })                };                });            </script>        </div>"
      ]
     },
     "metadata": {},
     "output_type": "display_data"
    }
   ],
   "source": [
    "df1.iplot()"
   ]
  },
  {
   "cell_type": "code",
   "execution_count": 15,
   "metadata": {},
   "outputs": [
    {
     "data": {
      "application/vnd.plotly.v1+json": {
       "config": {
        "linkText": "Export to plot.ly",
        "plotlyServerURL": "https://plot.ly",
        "showLink": true
       },
       "data": [
        {
         "boxpoints": false,
         "line": {
          "width": 1.3
         },
         "marker": {
          "color": "rgba(255, 153, 51, 1.0)"
         },
         "name": "A",
         "orientation": "v",
         "type": "box",
         "y": [
          0.9753847257840704,
          0.6685526475099604,
          0.717763849159026,
          0.641643253612684,
          0.46101551589424816,
          0.12078225002024179,
          0.9226200153186841,
          0.784485205431393,
          0.31455777210757063,
          0.4478685176457967,
          0.2131143465929174,
          0.3011696160343452,
          0.7562652954539073,
          0.17665548838834555,
          0.32638506717339455,
          0.8459614429343494,
          0.34192570436767833,
          0.06391837019195534,
          0.8999138623566848,
          0.8715981055099761,
          0.987890531023444,
          0.8961498915681549,
          0.36306575530877194,
          0.8276162545533562,
          0.20525195193240775,
          0.06391191637803195,
          0.16937409328541397,
          0.7761067551067942,
          0.5575771139288783,
          0.1499040533333127,
          0.22334376981884096,
          0.6918361085471536,
          0.8790879143840141,
          0.7077384811608556,
          0.22422787181288484,
          0.32161718246572824,
          0.48154104728183533,
          0.7705942872538493,
          0.19988219988236622,
          0.6655430545295901,
          0.6723359791162588,
          0.8151105808405508,
          0.8846810836216884,
          0.007244518678291789,
          0.4068924253415789,
          0.8625167848986993,
          0.6429397136763052,
          0.7763525954064734,
          0.8241324136446101,
          0.7186392585997665,
          0.21683477878002877,
          0.3494180296260595,
          0.1741282459062653,
          0.02397911006743103,
          0.39487584701144085,
          0.24380211962090148,
          0.22344572067428936,
          0.6537321204248879,
          0.8564298673735783,
          0.5123248575458799,
          0.605553516435922,
          0.6517629384667678,
          0.23452063385360233,
          0.9494658315171941,
          0.6304378167182005,
          0.26303963632237737,
          0.2863032859042599,
          0.47929891357035415,
          0.42596189386818706,
          0.3848568917235682,
          0.4212480599686016,
          0.7736704973405448,
          0.44845284655712414,
          0.9807428289008219,
          0.4363301972778,
          0.21318133575569864,
          0.1585547262957432,
          0.8595620058635431,
          0.35844401575162044,
          0.45229977212554207,
          0.7119012892048794,
          0.40441056780230067,
          0.9773408983820342,
          0.3174071110165755,
          0.881073025102367,
          0.40153608916097194,
          0.5741411373468234,
          0.8109111415755789,
          0.45664260834838166,
          0.33826152683825383,
          0.7954321426895994,
          0.5551184704941502,
          0.9184421526805117,
          0.6602273721590636,
          0.37907286862184275,
          0.8782538779062986,
          0.8016769924092302,
          0.8014854199555197,
          0.9644159545124961,
          0.20259993162699697
         ]
        },
        {
         "boxpoints": false,
         "line": {
          "width": 1.3
         },
         "marker": {
          "color": "rgba(55, 128, 191, 1.0)"
         },
         "name": "B",
         "orientation": "v",
         "type": "box",
         "y": [
          0.6085337361817945,
          0.9849008662659429,
          0.17481835927449163,
          0.7438288626332903,
          0.4549341248769252,
          0.5692305411024162,
          0.6866864917646315,
          0.15091996389122575,
          0.598572333058514,
          0.5311366876335679,
          0.9647509681138527,
          0.42970076544550373,
          0.9197065912505893,
          0.7512658459378196,
          0.6172748994670416,
          0.8869450145926792,
          0.8984286133614072,
          0.5110235635378919,
          0.20037484313679033,
          0.40285965977201077,
          0.6251604159867912,
          0.7636289035224022,
          0.9591931988677984,
          0.89411526565189,
          0.612783769491025,
          0.21082458066343868,
          0.8210691098866622,
          0.28741205960236926,
          0.40875401399822564,
          0.6572032947569375,
          0.8717539125541596,
          0.4933401273428939,
          0.3401422688102115,
          0.4721561988060825,
          0.36214608305039664,
          0.4991284004318195,
          0.6222161033737548,
          0.6675732316436533,
          0.4434734639664153,
          0.6650579368330961,
          0.7740363141641551,
          0.47506597669456774,
          0.7045778679738115,
          0.5511023311060128,
          0.5250828615861299,
          0.09862598494375197,
          0.4897136545952473,
          0.3236530242756478,
          0.4240146481999545,
          0.11764868551348973,
          0.9815372793772702,
          0.9232006895886629,
          0.647357911651621,
          0.5510160241780454,
          0.4894197386121423,
          0.10052339054740922,
          0.25282609452770033,
          0.7600787941990619,
          0.23123523257991174,
          0.6664292991581325,
          0.4374166355841971,
          0.7662383104126994,
          0.4263403310506284,
          0.20321454392170335,
          0.03864288709883246,
          0.880656277259328,
          0.7610979538639527,
          0.3426033199000921,
          0.06924669753559487,
          0.9488897619679045,
          0.27989153511860954,
          0.10045223618897847,
          0.9954880550235646,
          0.015224490864340523,
          0.5421397400902137,
          0.687599485200822,
          0.6352382875512128,
          0.3952487236954483,
          0.5221446773937745,
          0.5462842796507908,
          0.6285907982844269,
          0.7916249160524705,
          0.9563225781284411,
          0.8547698325588563,
          0.18707107322032013,
          0.2497255885986579,
          0.3080902134021354,
          0.22282597342980115,
          0.8564392586445342,
          0.49700783760020384,
          0.24623954678299986,
          0.05866062421915241,
          0.615126023015918,
          0.38884070501730983,
          0.9152233410521818,
          0.016008476630690605,
          0.4798720815160471,
          0.5171996847932875,
          0.6874258034388792,
          0.9235294420687038
         ]
        },
        {
         "boxpoints": false,
         "line": {
          "width": 1.3
         },
         "marker": {
          "color": "rgba(50, 171, 96, 1.0)"
         },
         "name": "C",
         "orientation": "v",
         "type": "box",
         "y": [
          0.7359403834582817,
          0.2962807826126467,
          0.43976942304810407,
          0.7937450524855361,
          0.09443712133933746,
          0.03474909996185416,
          0.07309564606439356,
          0.9067802752953078,
          0.24380549084491965,
          0.37025869632843833,
          0.8063544885933182,
          0.5002577054900178,
          0.1583374605194211,
          0.728782766500474,
          0.7108646489513578,
          0.8483947271120664,
          0.2731579239674953,
          0.47105784896012726,
          0.4135874884888162,
          0.8297318106225205,
          0.47296197309595067,
          0.6286807254082438,
          0.198757150393986,
          0.01297191820849497,
          0.964942534552751,
          0.010775015613716743,
          0.1001137083925755,
          0.9335981487536341,
          0.6485176199871848,
          0.6328928966510233,
          0.7379655290618602,
          0.35678449989911865,
          0.5019123637488716,
          0.02415231740897228,
          0.7150581456985274,
          0.9090044707851561,
          0.9756761313030332,
          0.6763602019481604,
          0.258679938398379,
          0.12983186360725418,
          0.6195762281614965,
          0.07260471401766211,
          0.001422711640976626,
          0.18591431683172366,
          0.2376514178194138,
          0.06067780391596045,
          0.3684124161351292,
          0.9255456259817524,
          0.6515236342569365,
          0.1991820484808846,
          0.47674040438404197,
          0.596388953525444,
          0.06918194991674498,
          0.3999162666954349,
          0.19801009972089068,
          0.8853293937919091,
          0.046737539830976615,
          0.5891955506805309,
          0.8273789005828616,
          0.8644161676421752,
          0.39628703873913196,
          0.1267997222540943,
          0.4990888001861852,
          0.2920684461925288,
          0.3833487176389119,
          0.040373795098733734,
          0.9218806616114522,
          0.5084676325227109,
          0.4616396328393083,
          0.9346381987526001,
          0.08373268587487681,
          0.012586931470285445,
          0.9068898222445224,
          0.16552047481898824,
          0.20733534737918058,
          0.8635544081918058,
          0.9196370739581718,
          0.7016144896972498,
          0.1921310110559702,
          0.03894271972166963,
          0.24463730345251955,
          0.9923830478936386,
          0.600633805396669,
          0.5101755192186549,
          0.4554477236344452,
          0.19150046164508594,
          0.5012708186129198,
          0.8620682624983109,
          0.16186527450197552,
          0.24676411226204087,
          0.736617345334539,
          0.37806392283106094,
          0.8974852934731081,
          0.12301845181892268,
          0.5599567262439044,
          0.10466501986662513,
          0.9402807320278893,
          0.6293291186628359,
          0.2259202865022497,
          0.7914319780595636
         ]
        },
        {
         "boxpoints": false,
         "line": {
          "width": 1.3
         },
         "marker": {
          "color": "rgba(128, 0, 128, 1.0)"
         },
         "name": "D",
         "orientation": "v",
         "type": "box",
         "y": [
          0.2057015273444034,
          0.1914132709914066,
          0.22312063975614038,
          0.4059983118661227,
          0.036599682605702344,
          0.21200108891217206,
          0.2390644164019854,
          0.27203552301518863,
          0.4362299365907276,
          0.07661621115664974,
          0.7940338946838988,
          0.07569093566572749,
          0.4361956577573247,
          0.6718271716663993,
          0.02910447015982154,
          0.8672629877901341,
          0.6068739286426558,
          0.5439484349095529,
          0.8195488537220345,
          0.6239798081501989,
          0.7775339381007728,
          0.3237015105914849,
          0.8122490667199603,
          0.05207197566335642,
          0.7351716190299754,
          0.34046420787878906,
          0.8520169736075666,
          0.7572103231769765,
          0.04380964012791244,
          0.5072322532685605,
          0.4571540482673545,
          0.31776795046208983,
          0.9215922417725891,
          0.32259146254403437,
          0.7973202438275461,
          0.5744390761122865,
          0.8091332949068598,
          0.18678202437697566,
          0.12931186396214167,
          0.617934854206754,
          0.56254853874098,
          0.5254422203020802,
          0.8730865743943738,
          0.8824352391015691,
          0.7857017098217839,
          0.8028967133042543,
          0.04058681749541193,
          0.6192463781341927,
          0.8941685371843957,
          0.9682296421783442,
          0.17325127800531148,
          0.2928116603816737,
          0.21395689938676798,
          0.8138077405273001,
          0.541306592737299,
          0.17882934900917058,
          0.9230765454895742,
          0.38683480087909505,
          0.5320015555781986,
          0.7244731312673186,
          0.6217539543704846,
          0.16086979279018498,
          0.16266620322548175,
          0.5026523819407788,
          0.42874884022232473,
          0.43405426164146965,
          0.6363584030734126,
          0.7436910605367291,
          0.7250656491587817,
          0.04213986601348041,
          0.19651867842089654,
          0.10348625163751235,
          0.7506078244538572,
          0.6847662311766312,
          0.06666120439596657,
          0.7305465707210608,
          0.41529962739826,
          0.03445966090660535,
          0.5865332198800062,
          0.8898719458306117,
          0.7950187484279215,
          0.3582601692217031,
          0.6984324615752024,
          0.16395842105279446,
          0.48122686711357177,
          0.4575542442064081,
          0.6632550349572617,
          0.9339626071527983,
          0.3919089398415616,
          0.7039977629323808,
          0.195883106331726,
          0.8936551326742009,
          0.1755257202363748,
          0.16864919913987564,
          0.5792907820010644,
          0.7344395882698364,
          0.09081700155782202,
          0.7356894730850086,
          0.007357682052856251,
          0.9034275369057923
         ]
        }
       ],
       "layout": {
        "legend": {
         "bgcolor": "#F5F6F9",
         "font": {
          "color": "#4D5663"
         }
        },
        "paper_bgcolor": "#F5F6F9",
        "plot_bgcolor": "#F5F6F9",
        "template": {
         "data": {
          "bar": [
           {
            "error_x": {
             "color": "#2a3f5f"
            },
            "error_y": {
             "color": "#2a3f5f"
            },
            "marker": {
             "line": {
              "color": "#E5ECF6",
              "width": 0.5
             }
            },
            "type": "bar"
           }
          ],
          "barpolar": [
           {
            "marker": {
             "line": {
              "color": "#E5ECF6",
              "width": 0.5
             }
            },
            "type": "barpolar"
           }
          ],
          "carpet": [
           {
            "aaxis": {
             "endlinecolor": "#2a3f5f",
             "gridcolor": "white",
             "linecolor": "white",
             "minorgridcolor": "white",
             "startlinecolor": "#2a3f5f"
            },
            "baxis": {
             "endlinecolor": "#2a3f5f",
             "gridcolor": "white",
             "linecolor": "white",
             "minorgridcolor": "white",
             "startlinecolor": "#2a3f5f"
            },
            "type": "carpet"
           }
          ],
          "choropleth": [
           {
            "colorbar": {
             "outlinewidth": 0,
             "ticks": ""
            },
            "type": "choropleth"
           }
          ],
          "contour": [
           {
            "colorbar": {
             "outlinewidth": 0,
             "ticks": ""
            },
            "colorscale": [
             [
              0,
              "#0d0887"
             ],
             [
              0.1111111111111111,
              "#46039f"
             ],
             [
              0.2222222222222222,
              "#7201a8"
             ],
             [
              0.3333333333333333,
              "#9c179e"
             ],
             [
              0.4444444444444444,
              "#bd3786"
             ],
             [
              0.5555555555555556,
              "#d8576b"
             ],
             [
              0.6666666666666666,
              "#ed7953"
             ],
             [
              0.7777777777777778,
              "#fb9f3a"
             ],
             [
              0.8888888888888888,
              "#fdca26"
             ],
             [
              1,
              "#f0f921"
             ]
            ],
            "type": "contour"
           }
          ],
          "contourcarpet": [
           {
            "colorbar": {
             "outlinewidth": 0,
             "ticks": ""
            },
            "type": "contourcarpet"
           }
          ],
          "heatmap": [
           {
            "colorbar": {
             "outlinewidth": 0,
             "ticks": ""
            },
            "colorscale": [
             [
              0,
              "#0d0887"
             ],
             [
              0.1111111111111111,
              "#46039f"
             ],
             [
              0.2222222222222222,
              "#7201a8"
             ],
             [
              0.3333333333333333,
              "#9c179e"
             ],
             [
              0.4444444444444444,
              "#bd3786"
             ],
             [
              0.5555555555555556,
              "#d8576b"
             ],
             [
              0.6666666666666666,
              "#ed7953"
             ],
             [
              0.7777777777777778,
              "#fb9f3a"
             ],
             [
              0.8888888888888888,
              "#fdca26"
             ],
             [
              1,
              "#f0f921"
             ]
            ],
            "type": "heatmap"
           }
          ],
          "heatmapgl": [
           {
            "colorbar": {
             "outlinewidth": 0,
             "ticks": ""
            },
            "colorscale": [
             [
              0,
              "#0d0887"
             ],
             [
              0.1111111111111111,
              "#46039f"
             ],
             [
              0.2222222222222222,
              "#7201a8"
             ],
             [
              0.3333333333333333,
              "#9c179e"
             ],
             [
              0.4444444444444444,
              "#bd3786"
             ],
             [
              0.5555555555555556,
              "#d8576b"
             ],
             [
              0.6666666666666666,
              "#ed7953"
             ],
             [
              0.7777777777777778,
              "#fb9f3a"
             ],
             [
              0.8888888888888888,
              "#fdca26"
             ],
             [
              1,
              "#f0f921"
             ]
            ],
            "type": "heatmapgl"
           }
          ],
          "histogram": [
           {
            "marker": {
             "colorbar": {
              "outlinewidth": 0,
              "ticks": ""
             }
            },
            "type": "histogram"
           }
          ],
          "histogram2d": [
           {
            "colorbar": {
             "outlinewidth": 0,
             "ticks": ""
            },
            "colorscale": [
             [
              0,
              "#0d0887"
             ],
             [
              0.1111111111111111,
              "#46039f"
             ],
             [
              0.2222222222222222,
              "#7201a8"
             ],
             [
              0.3333333333333333,
              "#9c179e"
             ],
             [
              0.4444444444444444,
              "#bd3786"
             ],
             [
              0.5555555555555556,
              "#d8576b"
             ],
             [
              0.6666666666666666,
              "#ed7953"
             ],
             [
              0.7777777777777778,
              "#fb9f3a"
             ],
             [
              0.8888888888888888,
              "#fdca26"
             ],
             [
              1,
              "#f0f921"
             ]
            ],
            "type": "histogram2d"
           }
          ],
          "histogram2dcontour": [
           {
            "colorbar": {
             "outlinewidth": 0,
             "ticks": ""
            },
            "colorscale": [
             [
              0,
              "#0d0887"
             ],
             [
              0.1111111111111111,
              "#46039f"
             ],
             [
              0.2222222222222222,
              "#7201a8"
             ],
             [
              0.3333333333333333,
              "#9c179e"
             ],
             [
              0.4444444444444444,
              "#bd3786"
             ],
             [
              0.5555555555555556,
              "#d8576b"
             ],
             [
              0.6666666666666666,
              "#ed7953"
             ],
             [
              0.7777777777777778,
              "#fb9f3a"
             ],
             [
              0.8888888888888888,
              "#fdca26"
             ],
             [
              1,
              "#f0f921"
             ]
            ],
            "type": "histogram2dcontour"
           }
          ],
          "mesh3d": [
           {
            "colorbar": {
             "outlinewidth": 0,
             "ticks": ""
            },
            "type": "mesh3d"
           }
          ],
          "parcoords": [
           {
            "line": {
             "colorbar": {
              "outlinewidth": 0,
              "ticks": ""
             }
            },
            "type": "parcoords"
           }
          ],
          "pie": [
           {
            "automargin": true,
            "type": "pie"
           }
          ],
          "scatter": [
           {
            "marker": {
             "colorbar": {
              "outlinewidth": 0,
              "ticks": ""
             }
            },
            "type": "scatter"
           }
          ],
          "scatter3d": [
           {
            "line": {
             "colorbar": {
              "outlinewidth": 0,
              "ticks": ""
             }
            },
            "marker": {
             "colorbar": {
              "outlinewidth": 0,
              "ticks": ""
             }
            },
            "type": "scatter3d"
           }
          ],
          "scattercarpet": [
           {
            "marker": {
             "colorbar": {
              "outlinewidth": 0,
              "ticks": ""
             }
            },
            "type": "scattercarpet"
           }
          ],
          "scattergeo": [
           {
            "marker": {
             "colorbar": {
              "outlinewidth": 0,
              "ticks": ""
             }
            },
            "type": "scattergeo"
           }
          ],
          "scattergl": [
           {
            "marker": {
             "colorbar": {
              "outlinewidth": 0,
              "ticks": ""
             }
            },
            "type": "scattergl"
           }
          ],
          "scattermapbox": [
           {
            "marker": {
             "colorbar": {
              "outlinewidth": 0,
              "ticks": ""
             }
            },
            "type": "scattermapbox"
           }
          ],
          "scatterpolar": [
           {
            "marker": {
             "colorbar": {
              "outlinewidth": 0,
              "ticks": ""
             }
            },
            "type": "scatterpolar"
           }
          ],
          "scatterpolargl": [
           {
            "marker": {
             "colorbar": {
              "outlinewidth": 0,
              "ticks": ""
             }
            },
            "type": "scatterpolargl"
           }
          ],
          "scatterternary": [
           {
            "marker": {
             "colorbar": {
              "outlinewidth": 0,
              "ticks": ""
             }
            },
            "type": "scatterternary"
           }
          ],
          "surface": [
           {
            "colorbar": {
             "outlinewidth": 0,
             "ticks": ""
            },
            "colorscale": [
             [
              0,
              "#0d0887"
             ],
             [
              0.1111111111111111,
              "#46039f"
             ],
             [
              0.2222222222222222,
              "#7201a8"
             ],
             [
              0.3333333333333333,
              "#9c179e"
             ],
             [
              0.4444444444444444,
              "#bd3786"
             ],
             [
              0.5555555555555556,
              "#d8576b"
             ],
             [
              0.6666666666666666,
              "#ed7953"
             ],
             [
              0.7777777777777778,
              "#fb9f3a"
             ],
             [
              0.8888888888888888,
              "#fdca26"
             ],
             [
              1,
              "#f0f921"
             ]
            ],
            "type": "surface"
           }
          ],
          "table": [
           {
            "cells": {
             "fill": {
              "color": "#EBF0F8"
             },
             "line": {
              "color": "white"
             }
            },
            "header": {
             "fill": {
              "color": "#C8D4E3"
             },
             "line": {
              "color": "white"
             }
            },
            "type": "table"
           }
          ]
         },
         "layout": {
          "annotationdefaults": {
           "arrowcolor": "#2a3f5f",
           "arrowhead": 0,
           "arrowwidth": 1
          },
          "autotypenumbers": "strict",
          "coloraxis": {
           "colorbar": {
            "outlinewidth": 0,
            "ticks": ""
           }
          },
          "colorscale": {
           "diverging": [
            [
             0,
             "#8e0152"
            ],
            [
             0.1,
             "#c51b7d"
            ],
            [
             0.2,
             "#de77ae"
            ],
            [
             0.3,
             "#f1b6da"
            ],
            [
             0.4,
             "#fde0ef"
            ],
            [
             0.5,
             "#f7f7f7"
            ],
            [
             0.6,
             "#e6f5d0"
            ],
            [
             0.7,
             "#b8e186"
            ],
            [
             0.8,
             "#7fbc41"
            ],
            [
             0.9,
             "#4d9221"
            ],
            [
             1,
             "#276419"
            ]
           ],
           "sequential": [
            [
             0,
             "#0d0887"
            ],
            [
             0.1111111111111111,
             "#46039f"
            ],
            [
             0.2222222222222222,
             "#7201a8"
            ],
            [
             0.3333333333333333,
             "#9c179e"
            ],
            [
             0.4444444444444444,
             "#bd3786"
            ],
            [
             0.5555555555555556,
             "#d8576b"
            ],
            [
             0.6666666666666666,
             "#ed7953"
            ],
            [
             0.7777777777777778,
             "#fb9f3a"
            ],
            [
             0.8888888888888888,
             "#fdca26"
            ],
            [
             1,
             "#f0f921"
            ]
           ],
           "sequentialminus": [
            [
             0,
             "#0d0887"
            ],
            [
             0.1111111111111111,
             "#46039f"
            ],
            [
             0.2222222222222222,
             "#7201a8"
            ],
            [
             0.3333333333333333,
             "#9c179e"
            ],
            [
             0.4444444444444444,
             "#bd3786"
            ],
            [
             0.5555555555555556,
             "#d8576b"
            ],
            [
             0.6666666666666666,
             "#ed7953"
            ],
            [
             0.7777777777777778,
             "#fb9f3a"
            ],
            [
             0.8888888888888888,
             "#fdca26"
            ],
            [
             1,
             "#f0f921"
            ]
           ]
          },
          "colorway": [
           "#636efa",
           "#EF553B",
           "#00cc96",
           "#ab63fa",
           "#FFA15A",
           "#19d3f3",
           "#FF6692",
           "#B6E880",
           "#FF97FF",
           "#FECB52"
          ],
          "font": {
           "color": "#2a3f5f"
          },
          "geo": {
           "bgcolor": "white",
           "lakecolor": "white",
           "landcolor": "#E5ECF6",
           "showlakes": true,
           "showland": true,
           "subunitcolor": "white"
          },
          "hoverlabel": {
           "align": "left"
          },
          "hovermode": "closest",
          "mapbox": {
           "style": "light"
          },
          "paper_bgcolor": "white",
          "plot_bgcolor": "#E5ECF6",
          "polar": {
           "angularaxis": {
            "gridcolor": "white",
            "linecolor": "white",
            "ticks": ""
           },
           "bgcolor": "#E5ECF6",
           "radialaxis": {
            "gridcolor": "white",
            "linecolor": "white",
            "ticks": ""
           }
          },
          "scene": {
           "xaxis": {
            "backgroundcolor": "#E5ECF6",
            "gridcolor": "white",
            "gridwidth": 2,
            "linecolor": "white",
            "showbackground": true,
            "ticks": "",
            "zerolinecolor": "white"
           },
           "yaxis": {
            "backgroundcolor": "#E5ECF6",
            "gridcolor": "white",
            "gridwidth": 2,
            "linecolor": "white",
            "showbackground": true,
            "ticks": "",
            "zerolinecolor": "white"
           },
           "zaxis": {
            "backgroundcolor": "#E5ECF6",
            "gridcolor": "white",
            "gridwidth": 2,
            "linecolor": "white",
            "showbackground": true,
            "ticks": "",
            "zerolinecolor": "white"
           }
          },
          "shapedefaults": {
           "line": {
            "color": "#2a3f5f"
           }
          },
          "ternary": {
           "aaxis": {
            "gridcolor": "white",
            "linecolor": "white",
            "ticks": ""
           },
           "baxis": {
            "gridcolor": "white",
            "linecolor": "white",
            "ticks": ""
           },
           "bgcolor": "#E5ECF6",
           "caxis": {
            "gridcolor": "white",
            "linecolor": "white",
            "ticks": ""
           }
          },
          "title": {
           "x": 0.05
          },
          "xaxis": {
           "automargin": true,
           "gridcolor": "white",
           "linecolor": "white",
           "ticks": "",
           "title": {
            "standoff": 15
           },
           "zerolinecolor": "white",
           "zerolinewidth": 2
          },
          "yaxis": {
           "automargin": true,
           "gridcolor": "white",
           "linecolor": "white",
           "ticks": "",
           "title": {
            "standoff": 15
           },
           "zerolinecolor": "white",
           "zerolinewidth": 2
          }
         }
        },
        "title": {
         "font": {
          "color": "#4D5663"
         }
        },
        "xaxis": {
         "gridcolor": "#E1E5ED",
         "showgrid": true,
         "tickfont": {
          "color": "#4D5663"
         },
         "title": {
          "font": {
           "color": "#4D5663"
          },
          "text": ""
         },
         "zerolinecolor": "#E1E5ED"
        },
        "yaxis": {
         "gridcolor": "#E1E5ED",
         "showgrid": true,
         "tickfont": {
          "color": "#4D5663"
         },
         "title": {
          "font": {
           "color": "#4D5663"
          },
          "text": ""
         },
         "zerolinecolor": "#E1E5ED"
        }
       }
      },
      "text/html": [
       "<div>                            <div id=\"b820be2b-9fe0-434c-a75e-cf9f439c02cb\" class=\"plotly-graph-div\" style=\"height:525px; width:100%;\"></div>            <script type=\"text/javascript\">                require([\"plotly\"], function(Plotly) {                    window.PLOTLYENV=window.PLOTLYENV || {};\n",
       "                    window.PLOTLYENV.BASE_URL='https://plot.ly';                                    if (document.getElementById(\"b820be2b-9fe0-434c-a75e-cf9f439c02cb\")) {                    Plotly.newPlot(                        \"b820be2b-9fe0-434c-a75e-cf9f439c02cb\",                        [{\"boxpoints\": false, \"line\": {\"width\": 1.3}, \"marker\": {\"color\": \"rgba(255, 153, 51, 1.0)\"}, \"name\": \"A\", \"orientation\": \"v\", \"type\": \"box\", \"y\": [0.9753847257840704, 0.6685526475099604, 0.717763849159026, 0.641643253612684, 0.46101551589424816, 0.12078225002024179, 0.9226200153186841, 0.784485205431393, 0.31455777210757063, 0.4478685176457967, 0.2131143465929174, 0.3011696160343452, 0.7562652954539073, 0.17665548838834555, 0.32638506717339455, 0.8459614429343494, 0.34192570436767833, 0.06391837019195534, 0.8999138623566848, 0.8715981055099761, 0.987890531023444, 0.8961498915681549, 0.36306575530877194, 0.8276162545533562, 0.20525195193240775, 0.06391191637803195, 0.16937409328541397, 0.7761067551067942, 0.5575771139288783, 0.1499040533333127, 0.22334376981884096, 0.6918361085471536, 0.8790879143840141, 0.7077384811608556, 0.22422787181288484, 0.32161718246572824, 0.48154104728183533, 0.7705942872538493, 0.19988219988236622, 0.6655430545295901, 0.6723359791162588, 0.8151105808405508, 0.8846810836216884, 0.007244518678291789, 0.4068924253415789, 0.8625167848986993, 0.6429397136763052, 0.7763525954064734, 0.8241324136446101, 0.7186392585997665, 0.21683477878002877, 0.3494180296260595, 0.1741282459062653, 0.02397911006743103, 0.39487584701144085, 0.24380211962090148, 0.22344572067428936, 0.6537321204248879, 0.8564298673735783, 0.5123248575458799, 0.605553516435922, 0.6517629384667678, 0.23452063385360233, 0.9494658315171941, 0.6304378167182005, 0.26303963632237737, 0.2863032859042599, 0.47929891357035415, 0.42596189386818706, 0.3848568917235682, 0.4212480599686016, 0.7736704973405448, 0.44845284655712414, 0.9807428289008219, 0.4363301972778, 0.21318133575569864, 0.1585547262957432, 0.8595620058635431, 0.35844401575162044, 0.45229977212554207, 0.7119012892048794, 0.40441056780230067, 0.9773408983820342, 0.3174071110165755, 0.881073025102367, 0.40153608916097194, 0.5741411373468234, 0.8109111415755789, 0.45664260834838166, 0.33826152683825383, 0.7954321426895994, 0.5551184704941502, 0.9184421526805117, 0.6602273721590636, 0.37907286862184275, 0.8782538779062986, 0.8016769924092302, 0.8014854199555197, 0.9644159545124961, 0.20259993162699697]}, {\"boxpoints\": false, \"line\": {\"width\": 1.3}, \"marker\": {\"color\": \"rgba(55, 128, 191, 1.0)\"}, \"name\": \"B\", \"orientation\": \"v\", \"type\": \"box\", \"y\": [0.6085337361817945, 0.9849008662659429, 0.17481835927449163, 0.7438288626332903, 0.4549341248769252, 0.5692305411024162, 0.6866864917646315, 0.15091996389122575, 0.598572333058514, 0.5311366876335679, 0.9647509681138527, 0.42970076544550373, 0.9197065912505893, 0.7512658459378196, 0.6172748994670416, 0.8869450145926792, 0.8984286133614072, 0.5110235635378919, 0.20037484313679033, 0.40285965977201077, 0.6251604159867912, 0.7636289035224022, 0.9591931988677984, 0.89411526565189, 0.612783769491025, 0.21082458066343868, 0.8210691098866622, 0.28741205960236926, 0.40875401399822564, 0.6572032947569375, 0.8717539125541596, 0.4933401273428939, 0.3401422688102115, 0.4721561988060825, 0.36214608305039664, 0.4991284004318195, 0.6222161033737548, 0.6675732316436533, 0.4434734639664153, 0.6650579368330961, 0.7740363141641551, 0.47506597669456774, 0.7045778679738115, 0.5511023311060128, 0.5250828615861299, 0.09862598494375197, 0.4897136545952473, 0.3236530242756478, 0.4240146481999545, 0.11764868551348973, 0.9815372793772702, 0.9232006895886629, 0.647357911651621, 0.5510160241780454, 0.4894197386121423, 0.10052339054740922, 0.25282609452770033, 0.7600787941990619, 0.23123523257991174, 0.6664292991581325, 0.4374166355841971, 0.7662383104126994, 0.4263403310506284, 0.20321454392170335, 0.03864288709883246, 0.880656277259328, 0.7610979538639527, 0.3426033199000921, 0.06924669753559487, 0.9488897619679045, 0.27989153511860954, 0.10045223618897847, 0.9954880550235646, 0.015224490864340523, 0.5421397400902137, 0.687599485200822, 0.6352382875512128, 0.3952487236954483, 0.5221446773937745, 0.5462842796507908, 0.6285907982844269, 0.7916249160524705, 0.9563225781284411, 0.8547698325588563, 0.18707107322032013, 0.2497255885986579, 0.3080902134021354, 0.22282597342980115, 0.8564392586445342, 0.49700783760020384, 0.24623954678299986, 0.05866062421915241, 0.615126023015918, 0.38884070501730983, 0.9152233410521818, 0.016008476630690605, 0.4798720815160471, 0.5171996847932875, 0.6874258034388792, 0.9235294420687038]}, {\"boxpoints\": false, \"line\": {\"width\": 1.3}, \"marker\": {\"color\": \"rgba(50, 171, 96, 1.0)\"}, \"name\": \"C\", \"orientation\": \"v\", \"type\": \"box\", \"y\": [0.7359403834582817, 0.2962807826126467, 0.43976942304810407, 0.7937450524855361, 0.09443712133933746, 0.03474909996185416, 0.07309564606439356, 0.9067802752953078, 0.24380549084491965, 0.37025869632843833, 0.8063544885933182, 0.5002577054900178, 0.1583374605194211, 0.728782766500474, 0.7108646489513578, 0.8483947271120664, 0.2731579239674953, 0.47105784896012726, 0.4135874884888162, 0.8297318106225205, 0.47296197309595067, 0.6286807254082438, 0.198757150393986, 0.01297191820849497, 0.964942534552751, 0.010775015613716743, 0.1001137083925755, 0.9335981487536341, 0.6485176199871848, 0.6328928966510233, 0.7379655290618602, 0.35678449989911865, 0.5019123637488716, 0.02415231740897228, 0.7150581456985274, 0.9090044707851561, 0.9756761313030332, 0.6763602019481604, 0.258679938398379, 0.12983186360725418, 0.6195762281614965, 0.07260471401766211, 0.001422711640976626, 0.18591431683172366, 0.2376514178194138, 0.06067780391596045, 0.3684124161351292, 0.9255456259817524, 0.6515236342569365, 0.1991820484808846, 0.47674040438404197, 0.596388953525444, 0.06918194991674498, 0.3999162666954349, 0.19801009972089068, 0.8853293937919091, 0.046737539830976615, 0.5891955506805309, 0.8273789005828616, 0.8644161676421752, 0.39628703873913196, 0.1267997222540943, 0.4990888001861852, 0.2920684461925288, 0.3833487176389119, 0.040373795098733734, 0.9218806616114522, 0.5084676325227109, 0.4616396328393083, 0.9346381987526001, 0.08373268587487681, 0.012586931470285445, 0.9068898222445224, 0.16552047481898824, 0.20733534737918058, 0.8635544081918058, 0.9196370739581718, 0.7016144896972498, 0.1921310110559702, 0.03894271972166963, 0.24463730345251955, 0.9923830478936386, 0.600633805396669, 0.5101755192186549, 0.4554477236344452, 0.19150046164508594, 0.5012708186129198, 0.8620682624983109, 0.16186527450197552, 0.24676411226204087, 0.736617345334539, 0.37806392283106094, 0.8974852934731081, 0.12301845181892268, 0.5599567262439044, 0.10466501986662513, 0.9402807320278893, 0.6293291186628359, 0.2259202865022497, 0.7914319780595636]}, {\"boxpoints\": false, \"line\": {\"width\": 1.3}, \"marker\": {\"color\": \"rgba(128, 0, 128, 1.0)\"}, \"name\": \"D\", \"orientation\": \"v\", \"type\": \"box\", \"y\": [0.2057015273444034, 0.1914132709914066, 0.22312063975614038, 0.4059983118661227, 0.036599682605702344, 0.21200108891217206, 0.2390644164019854, 0.27203552301518863, 0.4362299365907276, 0.07661621115664974, 0.7940338946838988, 0.07569093566572749, 0.4361956577573247, 0.6718271716663993, 0.02910447015982154, 0.8672629877901341, 0.6068739286426558, 0.5439484349095529, 0.8195488537220345, 0.6239798081501989, 0.7775339381007728, 0.3237015105914849, 0.8122490667199603, 0.05207197566335642, 0.7351716190299754, 0.34046420787878906, 0.8520169736075666, 0.7572103231769765, 0.04380964012791244, 0.5072322532685605, 0.4571540482673545, 0.31776795046208983, 0.9215922417725891, 0.32259146254403437, 0.7973202438275461, 0.5744390761122865, 0.8091332949068598, 0.18678202437697566, 0.12931186396214167, 0.617934854206754, 0.56254853874098, 0.5254422203020802, 0.8730865743943738, 0.8824352391015691, 0.7857017098217839, 0.8028967133042543, 0.04058681749541193, 0.6192463781341927, 0.8941685371843957, 0.9682296421783442, 0.17325127800531148, 0.2928116603816737, 0.21395689938676798, 0.8138077405273001, 0.541306592737299, 0.17882934900917058, 0.9230765454895742, 0.38683480087909505, 0.5320015555781986, 0.7244731312673186, 0.6217539543704846, 0.16086979279018498, 0.16266620322548175, 0.5026523819407788, 0.42874884022232473, 0.43405426164146965, 0.6363584030734126, 0.7436910605367291, 0.7250656491587817, 0.04213986601348041, 0.19651867842089654, 0.10348625163751235, 0.7506078244538572, 0.6847662311766312, 0.06666120439596657, 0.7305465707210608, 0.41529962739826, 0.03445966090660535, 0.5865332198800062, 0.8898719458306117, 0.7950187484279215, 0.3582601692217031, 0.6984324615752024, 0.16395842105279446, 0.48122686711357177, 0.4575542442064081, 0.6632550349572617, 0.9339626071527983, 0.3919089398415616, 0.7039977629323808, 0.195883106331726, 0.8936551326742009, 0.1755257202363748, 0.16864919913987564, 0.5792907820010644, 0.7344395882698364, 0.09081700155782202, 0.7356894730850086, 0.007357682052856251, 0.9034275369057923]}],                        {\"legend\": {\"bgcolor\": \"#F5F6F9\", \"font\": {\"color\": \"#4D5663\"}}, \"paper_bgcolor\": \"#F5F6F9\", \"plot_bgcolor\": \"#F5F6F9\", \"template\": {\"data\": {\"bar\": [{\"error_x\": {\"color\": \"#2a3f5f\"}, \"error_y\": {\"color\": \"#2a3f5f\"}, \"marker\": {\"line\": {\"color\": \"#E5ECF6\", \"width\": 0.5}}, \"type\": \"bar\"}], \"barpolar\": [{\"marker\": {\"line\": {\"color\": \"#E5ECF6\", \"width\": 0.5}}, \"type\": \"barpolar\"}], \"carpet\": [{\"aaxis\": {\"endlinecolor\": \"#2a3f5f\", \"gridcolor\": \"white\", \"linecolor\": \"white\", \"minorgridcolor\": \"white\", \"startlinecolor\": \"#2a3f5f\"}, \"baxis\": {\"endlinecolor\": \"#2a3f5f\", \"gridcolor\": \"white\", \"linecolor\": \"white\", \"minorgridcolor\": \"white\", \"startlinecolor\": \"#2a3f5f\"}, \"type\": \"carpet\"}], \"choropleth\": [{\"colorbar\": {\"outlinewidth\": 0, \"ticks\": \"\"}, \"type\": \"choropleth\"}], \"contour\": [{\"colorbar\": {\"outlinewidth\": 0, \"ticks\": \"\"}, \"colorscale\": [[0.0, \"#0d0887\"], [0.1111111111111111, \"#46039f\"], [0.2222222222222222, \"#7201a8\"], [0.3333333333333333, \"#9c179e\"], [0.4444444444444444, \"#bd3786\"], [0.5555555555555556, \"#d8576b\"], [0.6666666666666666, \"#ed7953\"], [0.7777777777777778, \"#fb9f3a\"], [0.8888888888888888, \"#fdca26\"], [1.0, \"#f0f921\"]], \"type\": \"contour\"}], \"contourcarpet\": [{\"colorbar\": {\"outlinewidth\": 0, \"ticks\": \"\"}, \"type\": \"contourcarpet\"}], \"heatmap\": [{\"colorbar\": {\"outlinewidth\": 0, \"ticks\": \"\"}, \"colorscale\": [[0.0, \"#0d0887\"], [0.1111111111111111, \"#46039f\"], [0.2222222222222222, \"#7201a8\"], [0.3333333333333333, \"#9c179e\"], [0.4444444444444444, \"#bd3786\"], [0.5555555555555556, \"#d8576b\"], [0.6666666666666666, \"#ed7953\"], [0.7777777777777778, \"#fb9f3a\"], [0.8888888888888888, \"#fdca26\"], [1.0, \"#f0f921\"]], \"type\": \"heatmap\"}], \"heatmapgl\": [{\"colorbar\": {\"outlinewidth\": 0, \"ticks\": \"\"}, \"colorscale\": [[0.0, \"#0d0887\"], [0.1111111111111111, \"#46039f\"], [0.2222222222222222, \"#7201a8\"], [0.3333333333333333, \"#9c179e\"], [0.4444444444444444, \"#bd3786\"], [0.5555555555555556, \"#d8576b\"], [0.6666666666666666, \"#ed7953\"], [0.7777777777777778, \"#fb9f3a\"], [0.8888888888888888, \"#fdca26\"], [1.0, \"#f0f921\"]], \"type\": \"heatmapgl\"}], \"histogram\": [{\"marker\": {\"colorbar\": {\"outlinewidth\": 0, \"ticks\": \"\"}}, \"type\": \"histogram\"}], \"histogram2d\": [{\"colorbar\": {\"outlinewidth\": 0, \"ticks\": \"\"}, \"colorscale\": [[0.0, \"#0d0887\"], [0.1111111111111111, \"#46039f\"], [0.2222222222222222, \"#7201a8\"], [0.3333333333333333, \"#9c179e\"], [0.4444444444444444, \"#bd3786\"], [0.5555555555555556, \"#d8576b\"], [0.6666666666666666, \"#ed7953\"], [0.7777777777777778, \"#fb9f3a\"], [0.8888888888888888, \"#fdca26\"], [1.0, \"#f0f921\"]], \"type\": \"histogram2d\"}], \"histogram2dcontour\": [{\"colorbar\": {\"outlinewidth\": 0, \"ticks\": \"\"}, \"colorscale\": [[0.0, \"#0d0887\"], [0.1111111111111111, \"#46039f\"], [0.2222222222222222, \"#7201a8\"], [0.3333333333333333, \"#9c179e\"], [0.4444444444444444, \"#bd3786\"], [0.5555555555555556, \"#d8576b\"], [0.6666666666666666, \"#ed7953\"], [0.7777777777777778, \"#fb9f3a\"], [0.8888888888888888, \"#fdca26\"], [1.0, \"#f0f921\"]], \"type\": \"histogram2dcontour\"}], \"mesh3d\": [{\"colorbar\": {\"outlinewidth\": 0, \"ticks\": \"\"}, \"type\": \"mesh3d\"}], \"parcoords\": [{\"line\": {\"colorbar\": {\"outlinewidth\": 0, \"ticks\": \"\"}}, \"type\": \"parcoords\"}], \"pie\": [{\"automargin\": true, \"type\": \"pie\"}], \"scatter\": [{\"marker\": {\"colorbar\": {\"outlinewidth\": 0, \"ticks\": \"\"}}, \"type\": \"scatter\"}], \"scatter3d\": [{\"line\": {\"colorbar\": {\"outlinewidth\": 0, \"ticks\": \"\"}}, \"marker\": {\"colorbar\": {\"outlinewidth\": 0, \"ticks\": \"\"}}, \"type\": \"scatter3d\"}], \"scattercarpet\": [{\"marker\": {\"colorbar\": {\"outlinewidth\": 0, \"ticks\": \"\"}}, \"type\": \"scattercarpet\"}], \"scattergeo\": [{\"marker\": {\"colorbar\": {\"outlinewidth\": 0, \"ticks\": \"\"}}, \"type\": \"scattergeo\"}], \"scattergl\": [{\"marker\": {\"colorbar\": {\"outlinewidth\": 0, \"ticks\": \"\"}}, \"type\": \"scattergl\"}], \"scattermapbox\": [{\"marker\": {\"colorbar\": {\"outlinewidth\": 0, \"ticks\": \"\"}}, \"type\": \"scattermapbox\"}], \"scatterpolar\": [{\"marker\": {\"colorbar\": {\"outlinewidth\": 0, \"ticks\": \"\"}}, \"type\": \"scatterpolar\"}], \"scatterpolargl\": [{\"marker\": {\"colorbar\": {\"outlinewidth\": 0, \"ticks\": \"\"}}, \"type\": \"scatterpolargl\"}], \"scatterternary\": [{\"marker\": {\"colorbar\": {\"outlinewidth\": 0, \"ticks\": \"\"}}, \"type\": \"scatterternary\"}], \"surface\": [{\"colorbar\": {\"outlinewidth\": 0, \"ticks\": \"\"}, \"colorscale\": [[0.0, \"#0d0887\"], [0.1111111111111111, \"#46039f\"], [0.2222222222222222, \"#7201a8\"], [0.3333333333333333, \"#9c179e\"], [0.4444444444444444, \"#bd3786\"], [0.5555555555555556, \"#d8576b\"], [0.6666666666666666, \"#ed7953\"], [0.7777777777777778, \"#fb9f3a\"], [0.8888888888888888, \"#fdca26\"], [1.0, \"#f0f921\"]], \"type\": \"surface\"}], \"table\": [{\"cells\": {\"fill\": {\"color\": \"#EBF0F8\"}, \"line\": {\"color\": \"white\"}}, \"header\": {\"fill\": {\"color\": \"#C8D4E3\"}, \"line\": {\"color\": \"white\"}}, \"type\": \"table\"}]}, \"layout\": {\"annotationdefaults\": {\"arrowcolor\": \"#2a3f5f\", \"arrowhead\": 0, \"arrowwidth\": 1}, \"autotypenumbers\": \"strict\", \"coloraxis\": {\"colorbar\": {\"outlinewidth\": 0, \"ticks\": \"\"}}, \"colorscale\": {\"diverging\": [[0, \"#8e0152\"], [0.1, \"#c51b7d\"], [0.2, \"#de77ae\"], [0.3, \"#f1b6da\"], [0.4, \"#fde0ef\"], [0.5, \"#f7f7f7\"], [0.6, \"#e6f5d0\"], [0.7, \"#b8e186\"], [0.8, \"#7fbc41\"], [0.9, \"#4d9221\"], [1, \"#276419\"]], \"sequential\": [[0.0, \"#0d0887\"], [0.1111111111111111, \"#46039f\"], [0.2222222222222222, \"#7201a8\"], [0.3333333333333333, \"#9c179e\"], [0.4444444444444444, \"#bd3786\"], [0.5555555555555556, \"#d8576b\"], [0.6666666666666666, \"#ed7953\"], [0.7777777777777778, \"#fb9f3a\"], [0.8888888888888888, \"#fdca26\"], [1.0, \"#f0f921\"]], \"sequentialminus\": [[0.0, \"#0d0887\"], [0.1111111111111111, \"#46039f\"], [0.2222222222222222, \"#7201a8\"], [0.3333333333333333, \"#9c179e\"], [0.4444444444444444, \"#bd3786\"], [0.5555555555555556, \"#d8576b\"], [0.6666666666666666, \"#ed7953\"], [0.7777777777777778, \"#fb9f3a\"], [0.8888888888888888, \"#fdca26\"], [1.0, \"#f0f921\"]]}, \"colorway\": [\"#636efa\", \"#EF553B\", \"#00cc96\", \"#ab63fa\", \"#FFA15A\", \"#19d3f3\", \"#FF6692\", \"#B6E880\", \"#FF97FF\", \"#FECB52\"], \"font\": {\"color\": \"#2a3f5f\"}, \"geo\": {\"bgcolor\": \"white\", \"lakecolor\": \"white\", \"landcolor\": \"#E5ECF6\", \"showlakes\": true, \"showland\": true, \"subunitcolor\": \"white\"}, \"hoverlabel\": {\"align\": \"left\"}, \"hovermode\": \"closest\", \"mapbox\": {\"style\": \"light\"}, \"paper_bgcolor\": \"white\", \"plot_bgcolor\": \"#E5ECF6\", \"polar\": {\"angularaxis\": {\"gridcolor\": \"white\", \"linecolor\": \"white\", \"ticks\": \"\"}, \"bgcolor\": \"#E5ECF6\", \"radialaxis\": {\"gridcolor\": \"white\", \"linecolor\": \"white\", \"ticks\": \"\"}}, \"scene\": {\"xaxis\": {\"backgroundcolor\": \"#E5ECF6\", \"gridcolor\": \"white\", \"gridwidth\": 2, \"linecolor\": \"white\", \"showbackground\": true, \"ticks\": \"\", \"zerolinecolor\": \"white\"}, \"yaxis\": {\"backgroundcolor\": \"#E5ECF6\", \"gridcolor\": \"white\", \"gridwidth\": 2, \"linecolor\": \"white\", \"showbackground\": true, \"ticks\": \"\", \"zerolinecolor\": \"white\"}, \"zaxis\": {\"backgroundcolor\": \"#E5ECF6\", \"gridcolor\": \"white\", \"gridwidth\": 2, \"linecolor\": \"white\", \"showbackground\": true, \"ticks\": \"\", \"zerolinecolor\": \"white\"}}, \"shapedefaults\": {\"line\": {\"color\": \"#2a3f5f\"}}, \"ternary\": {\"aaxis\": {\"gridcolor\": \"white\", \"linecolor\": \"white\", \"ticks\": \"\"}, \"baxis\": {\"gridcolor\": \"white\", \"linecolor\": \"white\", \"ticks\": \"\"}, \"bgcolor\": \"#E5ECF6\", \"caxis\": {\"gridcolor\": \"white\", \"linecolor\": \"white\", \"ticks\": \"\"}}, \"title\": {\"x\": 0.05}, \"xaxis\": {\"automargin\": true, \"gridcolor\": \"white\", \"linecolor\": \"white\", \"ticks\": \"\", \"title\": {\"standoff\": 15}, \"zerolinecolor\": \"white\", \"zerolinewidth\": 2}, \"yaxis\": {\"automargin\": true, \"gridcolor\": \"white\", \"linecolor\": \"white\", \"ticks\": \"\", \"title\": {\"standoff\": 15}, \"zerolinecolor\": \"white\", \"zerolinewidth\": 2}}}, \"title\": {\"font\": {\"color\": \"#4D5663\"}}, \"xaxis\": {\"gridcolor\": \"#E1E5ED\", \"showgrid\": true, \"tickfont\": {\"color\": \"#4D5663\"}, \"title\": {\"font\": {\"color\": \"#4D5663\"}, \"text\": \"\"}, \"zerolinecolor\": \"#E1E5ED\"}, \"yaxis\": {\"gridcolor\": \"#E1E5ED\", \"showgrid\": true, \"tickfont\": {\"color\": \"#4D5663\"}, \"title\": {\"font\": {\"color\": \"#4D5663\"}, \"text\": \"\"}, \"zerolinecolor\": \"#E1E5ED\"}},                        {\"showLink\": true, \"linkText\": \"Export to plot.ly\", \"plotlyServerURL\": \"https://plot.ly\", \"responsive\": true}                    ).then(function(){\n",
       "                            \n",
       "var gd = document.getElementById('b820be2b-9fe0-434c-a75e-cf9f439c02cb');\n",
       "var x = new MutationObserver(function (mutations, observer) {{\n",
       "        var display = window.getComputedStyle(gd).display;\n",
       "        if (!display || display === 'none') {{\n",
       "            console.log([gd, 'removed!']);\n",
       "            Plotly.purge(gd);\n",
       "            observer.disconnect();\n",
       "        }}\n",
       "}});\n",
       "\n",
       "// Listen for the removal of the full notebook cells\n",
       "var notebookContainer = gd.closest('#notebook-container');\n",
       "if (notebookContainer) {{\n",
       "    x.observe(notebookContainer, {childList: true});\n",
       "}}\n",
       "\n",
       "// Listen for the clearing of the current output cell\n",
       "var outputEl = gd.closest('.output');\n",
       "if (outputEl) {{\n",
       "    x.observe(outputEl, {childList: true});\n",
       "}}\n",
       "\n",
       "                        })                };                });            </script>        </div>"
      ]
     },
     "metadata": {},
     "output_type": "display_data"
    }
   ],
   "source": [
    "df1.iplot(kind=\"box\")"
   ]
  },
  {
   "cell_type": "code",
   "execution_count": 16,
   "metadata": {},
   "outputs": [
    {
     "data": {
      "application/vnd.plotly.v1+json": {
       "config": {
        "linkText": "Export to plot.ly",
        "plotlyServerURL": "https://plot.ly",
        "showLink": true
       },
       "data": [
        {
         "line": {
          "color": "rgba(255, 153, 51, 1.0)",
          "dash": "solid",
          "shape": "linear",
          "width": 1.3
         },
         "marker": {
          "size": 12,
          "symbol": "circle"
         },
         "mode": "markers",
         "name": "B",
         "text": "",
         "type": "scatter",
         "x": [
          0.9753847257840704,
          0.6685526475099604,
          0.717763849159026,
          0.641643253612684,
          0.46101551589424816,
          0.12078225002024179,
          0.9226200153186841,
          0.784485205431393,
          0.31455777210757063,
          0.4478685176457967,
          0.2131143465929174,
          0.3011696160343452,
          0.7562652954539073,
          0.17665548838834555,
          0.32638506717339455,
          0.8459614429343494,
          0.34192570436767833,
          0.06391837019195534,
          0.8999138623566848,
          0.8715981055099761,
          0.987890531023444,
          0.8961498915681549,
          0.36306575530877194,
          0.8276162545533562,
          0.20525195193240775,
          0.06391191637803195,
          0.16937409328541397,
          0.7761067551067942,
          0.5575771139288783,
          0.1499040533333127,
          0.22334376981884096,
          0.6918361085471536,
          0.8790879143840141,
          0.7077384811608556,
          0.22422787181288484,
          0.32161718246572824,
          0.48154104728183533,
          0.7705942872538493,
          0.19988219988236622,
          0.6655430545295901,
          0.6723359791162588,
          0.8151105808405508,
          0.8846810836216884,
          0.007244518678291789,
          0.4068924253415789,
          0.8625167848986993,
          0.6429397136763052,
          0.7763525954064734,
          0.8241324136446101,
          0.7186392585997665,
          0.21683477878002877,
          0.3494180296260595,
          0.1741282459062653,
          0.02397911006743103,
          0.39487584701144085,
          0.24380211962090148,
          0.22344572067428936,
          0.6537321204248879,
          0.8564298673735783,
          0.5123248575458799,
          0.605553516435922,
          0.6517629384667678,
          0.23452063385360233,
          0.9494658315171941,
          0.6304378167182005,
          0.26303963632237737,
          0.2863032859042599,
          0.47929891357035415,
          0.42596189386818706,
          0.3848568917235682,
          0.4212480599686016,
          0.7736704973405448,
          0.44845284655712414,
          0.9807428289008219,
          0.4363301972778,
          0.21318133575569864,
          0.1585547262957432,
          0.8595620058635431,
          0.35844401575162044,
          0.45229977212554207,
          0.7119012892048794,
          0.40441056780230067,
          0.9773408983820342,
          0.3174071110165755,
          0.881073025102367,
          0.40153608916097194,
          0.5741411373468234,
          0.8109111415755789,
          0.45664260834838166,
          0.33826152683825383,
          0.7954321426895994,
          0.5551184704941502,
          0.9184421526805117,
          0.6602273721590636,
          0.37907286862184275,
          0.8782538779062986,
          0.8016769924092302,
          0.8014854199555197,
          0.9644159545124961,
          0.20259993162699697
         ],
         "y": [
          0.6085337361817945,
          0.9849008662659429,
          0.17481835927449163,
          0.7438288626332903,
          0.4549341248769252,
          0.5692305411024162,
          0.6866864917646315,
          0.15091996389122575,
          0.598572333058514,
          0.5311366876335679,
          0.9647509681138527,
          0.42970076544550373,
          0.9197065912505893,
          0.7512658459378196,
          0.6172748994670416,
          0.8869450145926792,
          0.8984286133614072,
          0.5110235635378919,
          0.20037484313679033,
          0.40285965977201077,
          0.6251604159867912,
          0.7636289035224022,
          0.9591931988677984,
          0.89411526565189,
          0.612783769491025,
          0.21082458066343868,
          0.8210691098866622,
          0.28741205960236926,
          0.40875401399822564,
          0.6572032947569375,
          0.8717539125541596,
          0.4933401273428939,
          0.3401422688102115,
          0.4721561988060825,
          0.36214608305039664,
          0.4991284004318195,
          0.6222161033737548,
          0.6675732316436533,
          0.4434734639664153,
          0.6650579368330961,
          0.7740363141641551,
          0.47506597669456774,
          0.7045778679738115,
          0.5511023311060128,
          0.5250828615861299,
          0.09862598494375197,
          0.4897136545952473,
          0.3236530242756478,
          0.4240146481999545,
          0.11764868551348973,
          0.9815372793772702,
          0.9232006895886629,
          0.647357911651621,
          0.5510160241780454,
          0.4894197386121423,
          0.10052339054740922,
          0.25282609452770033,
          0.7600787941990619,
          0.23123523257991174,
          0.6664292991581325,
          0.4374166355841971,
          0.7662383104126994,
          0.4263403310506284,
          0.20321454392170335,
          0.03864288709883246,
          0.880656277259328,
          0.7610979538639527,
          0.3426033199000921,
          0.06924669753559487,
          0.9488897619679045,
          0.27989153511860954,
          0.10045223618897847,
          0.9954880550235646,
          0.015224490864340523,
          0.5421397400902137,
          0.687599485200822,
          0.6352382875512128,
          0.3952487236954483,
          0.5221446773937745,
          0.5462842796507908,
          0.6285907982844269,
          0.7916249160524705,
          0.9563225781284411,
          0.8547698325588563,
          0.18707107322032013,
          0.2497255885986579,
          0.3080902134021354,
          0.22282597342980115,
          0.8564392586445342,
          0.49700783760020384,
          0.24623954678299986,
          0.05866062421915241,
          0.615126023015918,
          0.38884070501730983,
          0.9152233410521818,
          0.016008476630690605,
          0.4798720815160471,
          0.5171996847932875,
          0.6874258034388792,
          0.9235294420687038
         ]
        }
       ],
       "layout": {
        "legend": {
         "bgcolor": "#F5F6F9",
         "font": {
          "color": "#4D5663"
         }
        },
        "paper_bgcolor": "#F5F6F9",
        "plot_bgcolor": "#F5F6F9",
        "template": {
         "data": {
          "bar": [
           {
            "error_x": {
             "color": "#2a3f5f"
            },
            "error_y": {
             "color": "#2a3f5f"
            },
            "marker": {
             "line": {
              "color": "#E5ECF6",
              "width": 0.5
             }
            },
            "type": "bar"
           }
          ],
          "barpolar": [
           {
            "marker": {
             "line": {
              "color": "#E5ECF6",
              "width": 0.5
             }
            },
            "type": "barpolar"
           }
          ],
          "carpet": [
           {
            "aaxis": {
             "endlinecolor": "#2a3f5f",
             "gridcolor": "white",
             "linecolor": "white",
             "minorgridcolor": "white",
             "startlinecolor": "#2a3f5f"
            },
            "baxis": {
             "endlinecolor": "#2a3f5f",
             "gridcolor": "white",
             "linecolor": "white",
             "minorgridcolor": "white",
             "startlinecolor": "#2a3f5f"
            },
            "type": "carpet"
           }
          ],
          "choropleth": [
           {
            "colorbar": {
             "outlinewidth": 0,
             "ticks": ""
            },
            "type": "choropleth"
           }
          ],
          "contour": [
           {
            "colorbar": {
             "outlinewidth": 0,
             "ticks": ""
            },
            "colorscale": [
             [
              0,
              "#0d0887"
             ],
             [
              0.1111111111111111,
              "#46039f"
             ],
             [
              0.2222222222222222,
              "#7201a8"
             ],
             [
              0.3333333333333333,
              "#9c179e"
             ],
             [
              0.4444444444444444,
              "#bd3786"
             ],
             [
              0.5555555555555556,
              "#d8576b"
             ],
             [
              0.6666666666666666,
              "#ed7953"
             ],
             [
              0.7777777777777778,
              "#fb9f3a"
             ],
             [
              0.8888888888888888,
              "#fdca26"
             ],
             [
              1,
              "#f0f921"
             ]
            ],
            "type": "contour"
           }
          ],
          "contourcarpet": [
           {
            "colorbar": {
             "outlinewidth": 0,
             "ticks": ""
            },
            "type": "contourcarpet"
           }
          ],
          "heatmap": [
           {
            "colorbar": {
             "outlinewidth": 0,
             "ticks": ""
            },
            "colorscale": [
             [
              0,
              "#0d0887"
             ],
             [
              0.1111111111111111,
              "#46039f"
             ],
             [
              0.2222222222222222,
              "#7201a8"
             ],
             [
              0.3333333333333333,
              "#9c179e"
             ],
             [
              0.4444444444444444,
              "#bd3786"
             ],
             [
              0.5555555555555556,
              "#d8576b"
             ],
             [
              0.6666666666666666,
              "#ed7953"
             ],
             [
              0.7777777777777778,
              "#fb9f3a"
             ],
             [
              0.8888888888888888,
              "#fdca26"
             ],
             [
              1,
              "#f0f921"
             ]
            ],
            "type": "heatmap"
           }
          ],
          "heatmapgl": [
           {
            "colorbar": {
             "outlinewidth": 0,
             "ticks": ""
            },
            "colorscale": [
             [
              0,
              "#0d0887"
             ],
             [
              0.1111111111111111,
              "#46039f"
             ],
             [
              0.2222222222222222,
              "#7201a8"
             ],
             [
              0.3333333333333333,
              "#9c179e"
             ],
             [
              0.4444444444444444,
              "#bd3786"
             ],
             [
              0.5555555555555556,
              "#d8576b"
             ],
             [
              0.6666666666666666,
              "#ed7953"
             ],
             [
              0.7777777777777778,
              "#fb9f3a"
             ],
             [
              0.8888888888888888,
              "#fdca26"
             ],
             [
              1,
              "#f0f921"
             ]
            ],
            "type": "heatmapgl"
           }
          ],
          "histogram": [
           {
            "marker": {
             "colorbar": {
              "outlinewidth": 0,
              "ticks": ""
             }
            },
            "type": "histogram"
           }
          ],
          "histogram2d": [
           {
            "colorbar": {
             "outlinewidth": 0,
             "ticks": ""
            },
            "colorscale": [
             [
              0,
              "#0d0887"
             ],
             [
              0.1111111111111111,
              "#46039f"
             ],
             [
              0.2222222222222222,
              "#7201a8"
             ],
             [
              0.3333333333333333,
              "#9c179e"
             ],
             [
              0.4444444444444444,
              "#bd3786"
             ],
             [
              0.5555555555555556,
              "#d8576b"
             ],
             [
              0.6666666666666666,
              "#ed7953"
             ],
             [
              0.7777777777777778,
              "#fb9f3a"
             ],
             [
              0.8888888888888888,
              "#fdca26"
             ],
             [
              1,
              "#f0f921"
             ]
            ],
            "type": "histogram2d"
           }
          ],
          "histogram2dcontour": [
           {
            "colorbar": {
             "outlinewidth": 0,
             "ticks": ""
            },
            "colorscale": [
             [
              0,
              "#0d0887"
             ],
             [
              0.1111111111111111,
              "#46039f"
             ],
             [
              0.2222222222222222,
              "#7201a8"
             ],
             [
              0.3333333333333333,
              "#9c179e"
             ],
             [
              0.4444444444444444,
              "#bd3786"
             ],
             [
              0.5555555555555556,
              "#d8576b"
             ],
             [
              0.6666666666666666,
              "#ed7953"
             ],
             [
              0.7777777777777778,
              "#fb9f3a"
             ],
             [
              0.8888888888888888,
              "#fdca26"
             ],
             [
              1,
              "#f0f921"
             ]
            ],
            "type": "histogram2dcontour"
           }
          ],
          "mesh3d": [
           {
            "colorbar": {
             "outlinewidth": 0,
             "ticks": ""
            },
            "type": "mesh3d"
           }
          ],
          "parcoords": [
           {
            "line": {
             "colorbar": {
              "outlinewidth": 0,
              "ticks": ""
             }
            },
            "type": "parcoords"
           }
          ],
          "pie": [
           {
            "automargin": true,
            "type": "pie"
           }
          ],
          "scatter": [
           {
            "marker": {
             "colorbar": {
              "outlinewidth": 0,
              "ticks": ""
             }
            },
            "type": "scatter"
           }
          ],
          "scatter3d": [
           {
            "line": {
             "colorbar": {
              "outlinewidth": 0,
              "ticks": ""
             }
            },
            "marker": {
             "colorbar": {
              "outlinewidth": 0,
              "ticks": ""
             }
            },
            "type": "scatter3d"
           }
          ],
          "scattercarpet": [
           {
            "marker": {
             "colorbar": {
              "outlinewidth": 0,
              "ticks": ""
             }
            },
            "type": "scattercarpet"
           }
          ],
          "scattergeo": [
           {
            "marker": {
             "colorbar": {
              "outlinewidth": 0,
              "ticks": ""
             }
            },
            "type": "scattergeo"
           }
          ],
          "scattergl": [
           {
            "marker": {
             "colorbar": {
              "outlinewidth": 0,
              "ticks": ""
             }
            },
            "type": "scattergl"
           }
          ],
          "scattermapbox": [
           {
            "marker": {
             "colorbar": {
              "outlinewidth": 0,
              "ticks": ""
             }
            },
            "type": "scattermapbox"
           }
          ],
          "scatterpolar": [
           {
            "marker": {
             "colorbar": {
              "outlinewidth": 0,
              "ticks": ""
             }
            },
            "type": "scatterpolar"
           }
          ],
          "scatterpolargl": [
           {
            "marker": {
             "colorbar": {
              "outlinewidth": 0,
              "ticks": ""
             }
            },
            "type": "scatterpolargl"
           }
          ],
          "scatterternary": [
           {
            "marker": {
             "colorbar": {
              "outlinewidth": 0,
              "ticks": ""
             }
            },
            "type": "scatterternary"
           }
          ],
          "surface": [
           {
            "colorbar": {
             "outlinewidth": 0,
             "ticks": ""
            },
            "colorscale": [
             [
              0,
              "#0d0887"
             ],
             [
              0.1111111111111111,
              "#46039f"
             ],
             [
              0.2222222222222222,
              "#7201a8"
             ],
             [
              0.3333333333333333,
              "#9c179e"
             ],
             [
              0.4444444444444444,
              "#bd3786"
             ],
             [
              0.5555555555555556,
              "#d8576b"
             ],
             [
              0.6666666666666666,
              "#ed7953"
             ],
             [
              0.7777777777777778,
              "#fb9f3a"
             ],
             [
              0.8888888888888888,
              "#fdca26"
             ],
             [
              1,
              "#f0f921"
             ]
            ],
            "type": "surface"
           }
          ],
          "table": [
           {
            "cells": {
             "fill": {
              "color": "#EBF0F8"
             },
             "line": {
              "color": "white"
             }
            },
            "header": {
             "fill": {
              "color": "#C8D4E3"
             },
             "line": {
              "color": "white"
             }
            },
            "type": "table"
           }
          ]
         },
         "layout": {
          "annotationdefaults": {
           "arrowcolor": "#2a3f5f",
           "arrowhead": 0,
           "arrowwidth": 1
          },
          "autotypenumbers": "strict",
          "coloraxis": {
           "colorbar": {
            "outlinewidth": 0,
            "ticks": ""
           }
          },
          "colorscale": {
           "diverging": [
            [
             0,
             "#8e0152"
            ],
            [
             0.1,
             "#c51b7d"
            ],
            [
             0.2,
             "#de77ae"
            ],
            [
             0.3,
             "#f1b6da"
            ],
            [
             0.4,
             "#fde0ef"
            ],
            [
             0.5,
             "#f7f7f7"
            ],
            [
             0.6,
             "#e6f5d0"
            ],
            [
             0.7,
             "#b8e186"
            ],
            [
             0.8,
             "#7fbc41"
            ],
            [
             0.9,
             "#4d9221"
            ],
            [
             1,
             "#276419"
            ]
           ],
           "sequential": [
            [
             0,
             "#0d0887"
            ],
            [
             0.1111111111111111,
             "#46039f"
            ],
            [
             0.2222222222222222,
             "#7201a8"
            ],
            [
             0.3333333333333333,
             "#9c179e"
            ],
            [
             0.4444444444444444,
             "#bd3786"
            ],
            [
             0.5555555555555556,
             "#d8576b"
            ],
            [
             0.6666666666666666,
             "#ed7953"
            ],
            [
             0.7777777777777778,
             "#fb9f3a"
            ],
            [
             0.8888888888888888,
             "#fdca26"
            ],
            [
             1,
             "#f0f921"
            ]
           ],
           "sequentialminus": [
            [
             0,
             "#0d0887"
            ],
            [
             0.1111111111111111,
             "#46039f"
            ],
            [
             0.2222222222222222,
             "#7201a8"
            ],
            [
             0.3333333333333333,
             "#9c179e"
            ],
            [
             0.4444444444444444,
             "#bd3786"
            ],
            [
             0.5555555555555556,
             "#d8576b"
            ],
            [
             0.6666666666666666,
             "#ed7953"
            ],
            [
             0.7777777777777778,
             "#fb9f3a"
            ],
            [
             0.8888888888888888,
             "#fdca26"
            ],
            [
             1,
             "#f0f921"
            ]
           ]
          },
          "colorway": [
           "#636efa",
           "#EF553B",
           "#00cc96",
           "#ab63fa",
           "#FFA15A",
           "#19d3f3",
           "#FF6692",
           "#B6E880",
           "#FF97FF",
           "#FECB52"
          ],
          "font": {
           "color": "#2a3f5f"
          },
          "geo": {
           "bgcolor": "white",
           "lakecolor": "white",
           "landcolor": "#E5ECF6",
           "showlakes": true,
           "showland": true,
           "subunitcolor": "white"
          },
          "hoverlabel": {
           "align": "left"
          },
          "hovermode": "closest",
          "mapbox": {
           "style": "light"
          },
          "paper_bgcolor": "white",
          "plot_bgcolor": "#E5ECF6",
          "polar": {
           "angularaxis": {
            "gridcolor": "white",
            "linecolor": "white",
            "ticks": ""
           },
           "bgcolor": "#E5ECF6",
           "radialaxis": {
            "gridcolor": "white",
            "linecolor": "white",
            "ticks": ""
           }
          },
          "scene": {
           "xaxis": {
            "backgroundcolor": "#E5ECF6",
            "gridcolor": "white",
            "gridwidth": 2,
            "linecolor": "white",
            "showbackground": true,
            "ticks": "",
            "zerolinecolor": "white"
           },
           "yaxis": {
            "backgroundcolor": "#E5ECF6",
            "gridcolor": "white",
            "gridwidth": 2,
            "linecolor": "white",
            "showbackground": true,
            "ticks": "",
            "zerolinecolor": "white"
           },
           "zaxis": {
            "backgroundcolor": "#E5ECF6",
            "gridcolor": "white",
            "gridwidth": 2,
            "linecolor": "white",
            "showbackground": true,
            "ticks": "",
            "zerolinecolor": "white"
           }
          },
          "shapedefaults": {
           "line": {
            "color": "#2a3f5f"
           }
          },
          "ternary": {
           "aaxis": {
            "gridcolor": "white",
            "linecolor": "white",
            "ticks": ""
           },
           "baxis": {
            "gridcolor": "white",
            "linecolor": "white",
            "ticks": ""
           },
           "bgcolor": "#E5ECF6",
           "caxis": {
            "gridcolor": "white",
            "linecolor": "white",
            "ticks": ""
           }
          },
          "title": {
           "x": 0.05
          },
          "xaxis": {
           "automargin": true,
           "gridcolor": "white",
           "linecolor": "white",
           "ticks": "",
           "title": {
            "standoff": 15
           },
           "zerolinecolor": "white",
           "zerolinewidth": 2
          },
          "yaxis": {
           "automargin": true,
           "gridcolor": "white",
           "linecolor": "white",
           "ticks": "",
           "title": {
            "standoff": 15
           },
           "zerolinecolor": "white",
           "zerolinewidth": 2
          }
         }
        },
        "title": {
         "font": {
          "color": "#4D5663"
         }
        },
        "xaxis": {
         "gridcolor": "#E1E5ED",
         "showgrid": true,
         "tickfont": {
          "color": "#4D5663"
         },
         "title": {
          "font": {
           "color": "#4D5663"
          },
          "text": ""
         },
         "zerolinecolor": "#E1E5ED"
        },
        "yaxis": {
         "gridcolor": "#E1E5ED",
         "showgrid": true,
         "tickfont": {
          "color": "#4D5663"
         },
         "title": {
          "font": {
           "color": "#4D5663"
          },
          "text": ""
         },
         "zerolinecolor": "#E1E5ED"
        }
       }
      },
      "text/html": [
       "<div>                            <div id=\"9fbf0c1d-e9aa-47ca-a79f-d0705c48be35\" class=\"plotly-graph-div\" style=\"height:525px; width:100%;\"></div>            <script type=\"text/javascript\">                require([\"plotly\"], function(Plotly) {                    window.PLOTLYENV=window.PLOTLYENV || {};\n",
       "                    window.PLOTLYENV.BASE_URL='https://plot.ly';                                    if (document.getElementById(\"9fbf0c1d-e9aa-47ca-a79f-d0705c48be35\")) {                    Plotly.newPlot(                        \"9fbf0c1d-e9aa-47ca-a79f-d0705c48be35\",                        [{\"line\": {\"color\": \"rgba(255, 153, 51, 1.0)\", \"dash\": \"solid\", \"shape\": \"linear\", \"width\": 1.3}, \"marker\": {\"size\": 12, \"symbol\": \"circle\"}, \"mode\": \"markers\", \"name\": \"B\", \"text\": \"\", \"type\": \"scatter\", \"x\": [0.9753847257840704, 0.6685526475099604, 0.717763849159026, 0.641643253612684, 0.46101551589424816, 0.12078225002024179, 0.9226200153186841, 0.784485205431393, 0.31455777210757063, 0.4478685176457967, 0.2131143465929174, 0.3011696160343452, 0.7562652954539073, 0.17665548838834555, 0.32638506717339455, 0.8459614429343494, 0.34192570436767833, 0.06391837019195534, 0.8999138623566848, 0.8715981055099761, 0.987890531023444, 0.8961498915681549, 0.36306575530877194, 0.8276162545533562, 0.20525195193240775, 0.06391191637803195, 0.16937409328541397, 0.7761067551067942, 0.5575771139288783, 0.1499040533333127, 0.22334376981884096, 0.6918361085471536, 0.8790879143840141, 0.7077384811608556, 0.22422787181288484, 0.32161718246572824, 0.48154104728183533, 0.7705942872538493, 0.19988219988236622, 0.6655430545295901, 0.6723359791162588, 0.8151105808405508, 0.8846810836216884, 0.007244518678291789, 0.4068924253415789, 0.8625167848986993, 0.6429397136763052, 0.7763525954064734, 0.8241324136446101, 0.7186392585997665, 0.21683477878002877, 0.3494180296260595, 0.1741282459062653, 0.02397911006743103, 0.39487584701144085, 0.24380211962090148, 0.22344572067428936, 0.6537321204248879, 0.8564298673735783, 0.5123248575458799, 0.605553516435922, 0.6517629384667678, 0.23452063385360233, 0.9494658315171941, 0.6304378167182005, 0.26303963632237737, 0.2863032859042599, 0.47929891357035415, 0.42596189386818706, 0.3848568917235682, 0.4212480599686016, 0.7736704973405448, 0.44845284655712414, 0.9807428289008219, 0.4363301972778, 0.21318133575569864, 0.1585547262957432, 0.8595620058635431, 0.35844401575162044, 0.45229977212554207, 0.7119012892048794, 0.40441056780230067, 0.9773408983820342, 0.3174071110165755, 0.881073025102367, 0.40153608916097194, 0.5741411373468234, 0.8109111415755789, 0.45664260834838166, 0.33826152683825383, 0.7954321426895994, 0.5551184704941502, 0.9184421526805117, 0.6602273721590636, 0.37907286862184275, 0.8782538779062986, 0.8016769924092302, 0.8014854199555197, 0.9644159545124961, 0.20259993162699697], \"y\": [0.6085337361817945, 0.9849008662659429, 0.17481835927449163, 0.7438288626332903, 0.4549341248769252, 0.5692305411024162, 0.6866864917646315, 0.15091996389122575, 0.598572333058514, 0.5311366876335679, 0.9647509681138527, 0.42970076544550373, 0.9197065912505893, 0.7512658459378196, 0.6172748994670416, 0.8869450145926792, 0.8984286133614072, 0.5110235635378919, 0.20037484313679033, 0.40285965977201077, 0.6251604159867912, 0.7636289035224022, 0.9591931988677984, 0.89411526565189, 0.612783769491025, 0.21082458066343868, 0.8210691098866622, 0.28741205960236926, 0.40875401399822564, 0.6572032947569375, 0.8717539125541596, 0.4933401273428939, 0.3401422688102115, 0.4721561988060825, 0.36214608305039664, 0.4991284004318195, 0.6222161033737548, 0.6675732316436533, 0.4434734639664153, 0.6650579368330961, 0.7740363141641551, 0.47506597669456774, 0.7045778679738115, 0.5511023311060128, 0.5250828615861299, 0.09862598494375197, 0.4897136545952473, 0.3236530242756478, 0.4240146481999545, 0.11764868551348973, 0.9815372793772702, 0.9232006895886629, 0.647357911651621, 0.5510160241780454, 0.4894197386121423, 0.10052339054740922, 0.25282609452770033, 0.7600787941990619, 0.23123523257991174, 0.6664292991581325, 0.4374166355841971, 0.7662383104126994, 0.4263403310506284, 0.20321454392170335, 0.03864288709883246, 0.880656277259328, 0.7610979538639527, 0.3426033199000921, 0.06924669753559487, 0.9488897619679045, 0.27989153511860954, 0.10045223618897847, 0.9954880550235646, 0.015224490864340523, 0.5421397400902137, 0.687599485200822, 0.6352382875512128, 0.3952487236954483, 0.5221446773937745, 0.5462842796507908, 0.6285907982844269, 0.7916249160524705, 0.9563225781284411, 0.8547698325588563, 0.18707107322032013, 0.2497255885986579, 0.3080902134021354, 0.22282597342980115, 0.8564392586445342, 0.49700783760020384, 0.24623954678299986, 0.05866062421915241, 0.615126023015918, 0.38884070501730983, 0.9152233410521818, 0.016008476630690605, 0.4798720815160471, 0.5171996847932875, 0.6874258034388792, 0.9235294420687038]}],                        {\"legend\": {\"bgcolor\": \"#F5F6F9\", \"font\": {\"color\": \"#4D5663\"}}, \"paper_bgcolor\": \"#F5F6F9\", \"plot_bgcolor\": \"#F5F6F9\", \"template\": {\"data\": {\"bar\": [{\"error_x\": {\"color\": \"#2a3f5f\"}, \"error_y\": {\"color\": \"#2a3f5f\"}, \"marker\": {\"line\": {\"color\": \"#E5ECF6\", \"width\": 0.5}}, \"type\": \"bar\"}], \"barpolar\": [{\"marker\": {\"line\": {\"color\": \"#E5ECF6\", \"width\": 0.5}}, \"type\": \"barpolar\"}], \"carpet\": [{\"aaxis\": {\"endlinecolor\": \"#2a3f5f\", \"gridcolor\": \"white\", \"linecolor\": \"white\", \"minorgridcolor\": \"white\", \"startlinecolor\": \"#2a3f5f\"}, \"baxis\": {\"endlinecolor\": \"#2a3f5f\", \"gridcolor\": \"white\", \"linecolor\": \"white\", \"minorgridcolor\": \"white\", \"startlinecolor\": \"#2a3f5f\"}, \"type\": \"carpet\"}], \"choropleth\": [{\"colorbar\": {\"outlinewidth\": 0, \"ticks\": \"\"}, \"type\": \"choropleth\"}], \"contour\": [{\"colorbar\": {\"outlinewidth\": 0, \"ticks\": \"\"}, \"colorscale\": [[0.0, \"#0d0887\"], [0.1111111111111111, \"#46039f\"], [0.2222222222222222, \"#7201a8\"], [0.3333333333333333, \"#9c179e\"], [0.4444444444444444, \"#bd3786\"], [0.5555555555555556, \"#d8576b\"], [0.6666666666666666, \"#ed7953\"], [0.7777777777777778, \"#fb9f3a\"], [0.8888888888888888, \"#fdca26\"], [1.0, \"#f0f921\"]], \"type\": \"contour\"}], \"contourcarpet\": [{\"colorbar\": {\"outlinewidth\": 0, \"ticks\": \"\"}, \"type\": \"contourcarpet\"}], \"heatmap\": [{\"colorbar\": {\"outlinewidth\": 0, \"ticks\": \"\"}, \"colorscale\": [[0.0, \"#0d0887\"], [0.1111111111111111, \"#46039f\"], [0.2222222222222222, \"#7201a8\"], [0.3333333333333333, \"#9c179e\"], [0.4444444444444444, \"#bd3786\"], [0.5555555555555556, \"#d8576b\"], [0.6666666666666666, \"#ed7953\"], [0.7777777777777778, \"#fb9f3a\"], [0.8888888888888888, \"#fdca26\"], [1.0, \"#f0f921\"]], \"type\": \"heatmap\"}], \"heatmapgl\": [{\"colorbar\": {\"outlinewidth\": 0, \"ticks\": \"\"}, \"colorscale\": [[0.0, \"#0d0887\"], [0.1111111111111111, \"#46039f\"], [0.2222222222222222, \"#7201a8\"], [0.3333333333333333, \"#9c179e\"], [0.4444444444444444, \"#bd3786\"], [0.5555555555555556, \"#d8576b\"], [0.6666666666666666, \"#ed7953\"], [0.7777777777777778, \"#fb9f3a\"], [0.8888888888888888, \"#fdca26\"], [1.0, \"#f0f921\"]], \"type\": \"heatmapgl\"}], \"histogram\": [{\"marker\": {\"colorbar\": {\"outlinewidth\": 0, \"ticks\": \"\"}}, \"type\": \"histogram\"}], \"histogram2d\": [{\"colorbar\": {\"outlinewidth\": 0, \"ticks\": \"\"}, \"colorscale\": [[0.0, \"#0d0887\"], [0.1111111111111111, \"#46039f\"], [0.2222222222222222, \"#7201a8\"], [0.3333333333333333, \"#9c179e\"], [0.4444444444444444, \"#bd3786\"], [0.5555555555555556, \"#d8576b\"], [0.6666666666666666, \"#ed7953\"], [0.7777777777777778, \"#fb9f3a\"], [0.8888888888888888, \"#fdca26\"], [1.0, \"#f0f921\"]], \"type\": \"histogram2d\"}], \"histogram2dcontour\": [{\"colorbar\": {\"outlinewidth\": 0, \"ticks\": \"\"}, \"colorscale\": [[0.0, \"#0d0887\"], [0.1111111111111111, \"#46039f\"], [0.2222222222222222, \"#7201a8\"], [0.3333333333333333, \"#9c179e\"], [0.4444444444444444, \"#bd3786\"], [0.5555555555555556, \"#d8576b\"], [0.6666666666666666, \"#ed7953\"], [0.7777777777777778, \"#fb9f3a\"], [0.8888888888888888, \"#fdca26\"], [1.0, \"#f0f921\"]], \"type\": \"histogram2dcontour\"}], \"mesh3d\": [{\"colorbar\": {\"outlinewidth\": 0, \"ticks\": \"\"}, \"type\": \"mesh3d\"}], \"parcoords\": [{\"line\": {\"colorbar\": {\"outlinewidth\": 0, \"ticks\": \"\"}}, \"type\": \"parcoords\"}], \"pie\": [{\"automargin\": true, \"type\": \"pie\"}], \"scatter\": [{\"marker\": {\"colorbar\": {\"outlinewidth\": 0, \"ticks\": \"\"}}, \"type\": \"scatter\"}], \"scatter3d\": [{\"line\": {\"colorbar\": {\"outlinewidth\": 0, \"ticks\": \"\"}}, \"marker\": {\"colorbar\": {\"outlinewidth\": 0, \"ticks\": \"\"}}, \"type\": \"scatter3d\"}], \"scattercarpet\": [{\"marker\": {\"colorbar\": {\"outlinewidth\": 0, \"ticks\": \"\"}}, \"type\": \"scattercarpet\"}], \"scattergeo\": [{\"marker\": {\"colorbar\": {\"outlinewidth\": 0, \"ticks\": \"\"}}, \"type\": \"scattergeo\"}], \"scattergl\": [{\"marker\": {\"colorbar\": {\"outlinewidth\": 0, \"ticks\": \"\"}}, \"type\": \"scattergl\"}], \"scattermapbox\": [{\"marker\": {\"colorbar\": {\"outlinewidth\": 0, \"ticks\": \"\"}}, \"type\": \"scattermapbox\"}], \"scatterpolar\": [{\"marker\": {\"colorbar\": {\"outlinewidth\": 0, \"ticks\": \"\"}}, \"type\": \"scatterpolar\"}], \"scatterpolargl\": [{\"marker\": {\"colorbar\": {\"outlinewidth\": 0, \"ticks\": \"\"}}, \"type\": \"scatterpolargl\"}], \"scatterternary\": [{\"marker\": {\"colorbar\": {\"outlinewidth\": 0, \"ticks\": \"\"}}, \"type\": \"scatterternary\"}], \"surface\": [{\"colorbar\": {\"outlinewidth\": 0, \"ticks\": \"\"}, \"colorscale\": [[0.0, \"#0d0887\"], [0.1111111111111111, \"#46039f\"], [0.2222222222222222, \"#7201a8\"], [0.3333333333333333, \"#9c179e\"], [0.4444444444444444, \"#bd3786\"], [0.5555555555555556, \"#d8576b\"], [0.6666666666666666, \"#ed7953\"], [0.7777777777777778, \"#fb9f3a\"], [0.8888888888888888, \"#fdca26\"], [1.0, \"#f0f921\"]], \"type\": \"surface\"}], \"table\": [{\"cells\": {\"fill\": {\"color\": \"#EBF0F8\"}, \"line\": {\"color\": \"white\"}}, \"header\": {\"fill\": {\"color\": \"#C8D4E3\"}, \"line\": {\"color\": \"white\"}}, \"type\": \"table\"}]}, \"layout\": {\"annotationdefaults\": {\"arrowcolor\": \"#2a3f5f\", \"arrowhead\": 0, \"arrowwidth\": 1}, \"autotypenumbers\": \"strict\", \"coloraxis\": {\"colorbar\": {\"outlinewidth\": 0, \"ticks\": \"\"}}, \"colorscale\": {\"diverging\": [[0, \"#8e0152\"], [0.1, \"#c51b7d\"], [0.2, \"#de77ae\"], [0.3, \"#f1b6da\"], [0.4, \"#fde0ef\"], [0.5, \"#f7f7f7\"], [0.6, \"#e6f5d0\"], [0.7, \"#b8e186\"], [0.8, \"#7fbc41\"], [0.9, \"#4d9221\"], [1, \"#276419\"]], \"sequential\": [[0.0, \"#0d0887\"], [0.1111111111111111, \"#46039f\"], [0.2222222222222222, \"#7201a8\"], [0.3333333333333333, \"#9c179e\"], [0.4444444444444444, \"#bd3786\"], [0.5555555555555556, \"#d8576b\"], [0.6666666666666666, \"#ed7953\"], [0.7777777777777778, \"#fb9f3a\"], [0.8888888888888888, \"#fdca26\"], [1.0, \"#f0f921\"]], \"sequentialminus\": [[0.0, \"#0d0887\"], [0.1111111111111111, \"#46039f\"], [0.2222222222222222, \"#7201a8\"], [0.3333333333333333, \"#9c179e\"], [0.4444444444444444, \"#bd3786\"], [0.5555555555555556, \"#d8576b\"], [0.6666666666666666, \"#ed7953\"], [0.7777777777777778, \"#fb9f3a\"], [0.8888888888888888, \"#fdca26\"], [1.0, \"#f0f921\"]]}, \"colorway\": [\"#636efa\", \"#EF553B\", \"#00cc96\", \"#ab63fa\", \"#FFA15A\", \"#19d3f3\", \"#FF6692\", \"#B6E880\", \"#FF97FF\", \"#FECB52\"], \"font\": {\"color\": \"#2a3f5f\"}, \"geo\": {\"bgcolor\": \"white\", \"lakecolor\": \"white\", \"landcolor\": \"#E5ECF6\", \"showlakes\": true, \"showland\": true, \"subunitcolor\": \"white\"}, \"hoverlabel\": {\"align\": \"left\"}, \"hovermode\": \"closest\", \"mapbox\": {\"style\": \"light\"}, \"paper_bgcolor\": \"white\", \"plot_bgcolor\": \"#E5ECF6\", \"polar\": {\"angularaxis\": {\"gridcolor\": \"white\", \"linecolor\": \"white\", \"ticks\": \"\"}, \"bgcolor\": \"#E5ECF6\", \"radialaxis\": {\"gridcolor\": \"white\", \"linecolor\": \"white\", \"ticks\": \"\"}}, \"scene\": {\"xaxis\": {\"backgroundcolor\": \"#E5ECF6\", \"gridcolor\": \"white\", \"gridwidth\": 2, \"linecolor\": \"white\", \"showbackground\": true, \"ticks\": \"\", \"zerolinecolor\": \"white\"}, \"yaxis\": {\"backgroundcolor\": \"#E5ECF6\", \"gridcolor\": \"white\", \"gridwidth\": 2, \"linecolor\": \"white\", \"showbackground\": true, \"ticks\": \"\", \"zerolinecolor\": \"white\"}, \"zaxis\": {\"backgroundcolor\": \"#E5ECF6\", \"gridcolor\": \"white\", \"gridwidth\": 2, \"linecolor\": \"white\", \"showbackground\": true, \"ticks\": \"\", \"zerolinecolor\": \"white\"}}, \"shapedefaults\": {\"line\": {\"color\": \"#2a3f5f\"}}, \"ternary\": {\"aaxis\": {\"gridcolor\": \"white\", \"linecolor\": \"white\", \"ticks\": \"\"}, \"baxis\": {\"gridcolor\": \"white\", \"linecolor\": \"white\", \"ticks\": \"\"}, \"bgcolor\": \"#E5ECF6\", \"caxis\": {\"gridcolor\": \"white\", \"linecolor\": \"white\", \"ticks\": \"\"}}, \"title\": {\"x\": 0.05}, \"xaxis\": {\"automargin\": true, \"gridcolor\": \"white\", \"linecolor\": \"white\", \"ticks\": \"\", \"title\": {\"standoff\": 15}, \"zerolinecolor\": \"white\", \"zerolinewidth\": 2}, \"yaxis\": {\"automargin\": true, \"gridcolor\": \"white\", \"linecolor\": \"white\", \"ticks\": \"\", \"title\": {\"standoff\": 15}, \"zerolinecolor\": \"white\", \"zerolinewidth\": 2}}}, \"title\": {\"font\": {\"color\": \"#4D5663\"}}, \"xaxis\": {\"gridcolor\": \"#E1E5ED\", \"showgrid\": true, \"tickfont\": {\"color\": \"#4D5663\"}, \"title\": {\"font\": {\"color\": \"#4D5663\"}, \"text\": \"\"}, \"zerolinecolor\": \"#E1E5ED\"}, \"yaxis\": {\"gridcolor\": \"#E1E5ED\", \"showgrid\": true, \"tickfont\": {\"color\": \"#4D5663\"}, \"title\": {\"font\": {\"color\": \"#4D5663\"}, \"text\": \"\"}, \"zerolinecolor\": \"#E1E5ED\"}},                        {\"showLink\": true, \"linkText\": \"Export to plot.ly\", \"plotlyServerURL\": \"https://plot.ly\", \"responsive\": true}                    ).then(function(){\n",
       "                            \n",
       "var gd = document.getElementById('9fbf0c1d-e9aa-47ca-a79f-d0705c48be35');\n",
       "var x = new MutationObserver(function (mutations, observer) {{\n",
       "        var display = window.getComputedStyle(gd).display;\n",
       "        if (!display || display === 'none') {{\n",
       "            console.log([gd, 'removed!']);\n",
       "            Plotly.purge(gd);\n",
       "            observer.disconnect();\n",
       "        }}\n",
       "}});\n",
       "\n",
       "// Listen for the removal of the full notebook cells\n",
       "var notebookContainer = gd.closest('#notebook-container');\n",
       "if (notebookContainer) {{\n",
       "    x.observe(notebookContainer, {childList: true});\n",
       "}}\n",
       "\n",
       "// Listen for the clearing of the current output cell\n",
       "var outputEl = gd.closest('.output');\n",
       "if (outputEl) {{\n",
       "    x.observe(outputEl, {childList: true});\n",
       "}}\n",
       "\n",
       "                        })                };                });            </script>        </div>"
      ]
     },
     "metadata": {},
     "output_type": "display_data"
    }
   ],
   "source": [
    "df1.iplot(kind=\"scatter\",x=\"A\",y=\"B\",mode=\"markers\")"
   ]
  },
  {
   "cell_type": "code",
   "execution_count": 17,
   "metadata": {},
   "outputs": [
    {
     "data": {
      "application/vnd.plotly.v1+json": {
       "config": {
        "linkText": "Export to plot.ly",
        "plotlyServerURL": "https://plot.ly",
        "showLink": true
       },
       "data": [
        {
         "marker": {
          "color": "rgba(255, 153, 51, 0.6)",
          "line": {
           "color": "rgba(255, 153, 51, 1.0)",
           "width": 1
          }
         },
         "name": "None",
         "orientation": "v",
         "text": "",
         "type": "bar",
         "x": [
          "A",
          "B",
          "C",
          "D"
         ],
         "y": [
          100,
          100,
          100,
          100
         ]
        }
       ],
       "layout": {
        "legend": {
         "bgcolor": "#F5F6F9",
         "font": {
          "color": "#4D5663"
         }
        },
        "paper_bgcolor": "#F5F6F9",
        "plot_bgcolor": "#F5F6F9",
        "template": {
         "data": {
          "bar": [
           {
            "error_x": {
             "color": "#2a3f5f"
            },
            "error_y": {
             "color": "#2a3f5f"
            },
            "marker": {
             "line": {
              "color": "#E5ECF6",
              "width": 0.5
             }
            },
            "type": "bar"
           }
          ],
          "barpolar": [
           {
            "marker": {
             "line": {
              "color": "#E5ECF6",
              "width": 0.5
             }
            },
            "type": "barpolar"
           }
          ],
          "carpet": [
           {
            "aaxis": {
             "endlinecolor": "#2a3f5f",
             "gridcolor": "white",
             "linecolor": "white",
             "minorgridcolor": "white",
             "startlinecolor": "#2a3f5f"
            },
            "baxis": {
             "endlinecolor": "#2a3f5f",
             "gridcolor": "white",
             "linecolor": "white",
             "minorgridcolor": "white",
             "startlinecolor": "#2a3f5f"
            },
            "type": "carpet"
           }
          ],
          "choropleth": [
           {
            "colorbar": {
             "outlinewidth": 0,
             "ticks": ""
            },
            "type": "choropleth"
           }
          ],
          "contour": [
           {
            "colorbar": {
             "outlinewidth": 0,
             "ticks": ""
            },
            "colorscale": [
             [
              0,
              "#0d0887"
             ],
             [
              0.1111111111111111,
              "#46039f"
             ],
             [
              0.2222222222222222,
              "#7201a8"
             ],
             [
              0.3333333333333333,
              "#9c179e"
             ],
             [
              0.4444444444444444,
              "#bd3786"
             ],
             [
              0.5555555555555556,
              "#d8576b"
             ],
             [
              0.6666666666666666,
              "#ed7953"
             ],
             [
              0.7777777777777778,
              "#fb9f3a"
             ],
             [
              0.8888888888888888,
              "#fdca26"
             ],
             [
              1,
              "#f0f921"
             ]
            ],
            "type": "contour"
           }
          ],
          "contourcarpet": [
           {
            "colorbar": {
             "outlinewidth": 0,
             "ticks": ""
            },
            "type": "contourcarpet"
           }
          ],
          "heatmap": [
           {
            "colorbar": {
             "outlinewidth": 0,
             "ticks": ""
            },
            "colorscale": [
             [
              0,
              "#0d0887"
             ],
             [
              0.1111111111111111,
              "#46039f"
             ],
             [
              0.2222222222222222,
              "#7201a8"
             ],
             [
              0.3333333333333333,
              "#9c179e"
             ],
             [
              0.4444444444444444,
              "#bd3786"
             ],
             [
              0.5555555555555556,
              "#d8576b"
             ],
             [
              0.6666666666666666,
              "#ed7953"
             ],
             [
              0.7777777777777778,
              "#fb9f3a"
             ],
             [
              0.8888888888888888,
              "#fdca26"
             ],
             [
              1,
              "#f0f921"
             ]
            ],
            "type": "heatmap"
           }
          ],
          "heatmapgl": [
           {
            "colorbar": {
             "outlinewidth": 0,
             "ticks": ""
            },
            "colorscale": [
             [
              0,
              "#0d0887"
             ],
             [
              0.1111111111111111,
              "#46039f"
             ],
             [
              0.2222222222222222,
              "#7201a8"
             ],
             [
              0.3333333333333333,
              "#9c179e"
             ],
             [
              0.4444444444444444,
              "#bd3786"
             ],
             [
              0.5555555555555556,
              "#d8576b"
             ],
             [
              0.6666666666666666,
              "#ed7953"
             ],
             [
              0.7777777777777778,
              "#fb9f3a"
             ],
             [
              0.8888888888888888,
              "#fdca26"
             ],
             [
              1,
              "#f0f921"
             ]
            ],
            "type": "heatmapgl"
           }
          ],
          "histogram": [
           {
            "marker": {
             "colorbar": {
              "outlinewidth": 0,
              "ticks": ""
             }
            },
            "type": "histogram"
           }
          ],
          "histogram2d": [
           {
            "colorbar": {
             "outlinewidth": 0,
             "ticks": ""
            },
            "colorscale": [
             [
              0,
              "#0d0887"
             ],
             [
              0.1111111111111111,
              "#46039f"
             ],
             [
              0.2222222222222222,
              "#7201a8"
             ],
             [
              0.3333333333333333,
              "#9c179e"
             ],
             [
              0.4444444444444444,
              "#bd3786"
             ],
             [
              0.5555555555555556,
              "#d8576b"
             ],
             [
              0.6666666666666666,
              "#ed7953"
             ],
             [
              0.7777777777777778,
              "#fb9f3a"
             ],
             [
              0.8888888888888888,
              "#fdca26"
             ],
             [
              1,
              "#f0f921"
             ]
            ],
            "type": "histogram2d"
           }
          ],
          "histogram2dcontour": [
           {
            "colorbar": {
             "outlinewidth": 0,
             "ticks": ""
            },
            "colorscale": [
             [
              0,
              "#0d0887"
             ],
             [
              0.1111111111111111,
              "#46039f"
             ],
             [
              0.2222222222222222,
              "#7201a8"
             ],
             [
              0.3333333333333333,
              "#9c179e"
             ],
             [
              0.4444444444444444,
              "#bd3786"
             ],
             [
              0.5555555555555556,
              "#d8576b"
             ],
             [
              0.6666666666666666,
              "#ed7953"
             ],
             [
              0.7777777777777778,
              "#fb9f3a"
             ],
             [
              0.8888888888888888,
              "#fdca26"
             ],
             [
              1,
              "#f0f921"
             ]
            ],
            "type": "histogram2dcontour"
           }
          ],
          "mesh3d": [
           {
            "colorbar": {
             "outlinewidth": 0,
             "ticks": ""
            },
            "type": "mesh3d"
           }
          ],
          "parcoords": [
           {
            "line": {
             "colorbar": {
              "outlinewidth": 0,
              "ticks": ""
             }
            },
            "type": "parcoords"
           }
          ],
          "pie": [
           {
            "automargin": true,
            "type": "pie"
           }
          ],
          "scatter": [
           {
            "marker": {
             "colorbar": {
              "outlinewidth": 0,
              "ticks": ""
             }
            },
            "type": "scatter"
           }
          ],
          "scatter3d": [
           {
            "line": {
             "colorbar": {
              "outlinewidth": 0,
              "ticks": ""
             }
            },
            "marker": {
             "colorbar": {
              "outlinewidth": 0,
              "ticks": ""
             }
            },
            "type": "scatter3d"
           }
          ],
          "scattercarpet": [
           {
            "marker": {
             "colorbar": {
              "outlinewidth": 0,
              "ticks": ""
             }
            },
            "type": "scattercarpet"
           }
          ],
          "scattergeo": [
           {
            "marker": {
             "colorbar": {
              "outlinewidth": 0,
              "ticks": ""
             }
            },
            "type": "scattergeo"
           }
          ],
          "scattergl": [
           {
            "marker": {
             "colorbar": {
              "outlinewidth": 0,
              "ticks": ""
             }
            },
            "type": "scattergl"
           }
          ],
          "scattermapbox": [
           {
            "marker": {
             "colorbar": {
              "outlinewidth": 0,
              "ticks": ""
             }
            },
            "type": "scattermapbox"
           }
          ],
          "scatterpolar": [
           {
            "marker": {
             "colorbar": {
              "outlinewidth": 0,
              "ticks": ""
             }
            },
            "type": "scatterpolar"
           }
          ],
          "scatterpolargl": [
           {
            "marker": {
             "colorbar": {
              "outlinewidth": 0,
              "ticks": ""
             }
            },
            "type": "scatterpolargl"
           }
          ],
          "scatterternary": [
           {
            "marker": {
             "colorbar": {
              "outlinewidth": 0,
              "ticks": ""
             }
            },
            "type": "scatterternary"
           }
          ],
          "surface": [
           {
            "colorbar": {
             "outlinewidth": 0,
             "ticks": ""
            },
            "colorscale": [
             [
              0,
              "#0d0887"
             ],
             [
              0.1111111111111111,
              "#46039f"
             ],
             [
              0.2222222222222222,
              "#7201a8"
             ],
             [
              0.3333333333333333,
              "#9c179e"
             ],
             [
              0.4444444444444444,
              "#bd3786"
             ],
             [
              0.5555555555555556,
              "#d8576b"
             ],
             [
              0.6666666666666666,
              "#ed7953"
             ],
             [
              0.7777777777777778,
              "#fb9f3a"
             ],
             [
              0.8888888888888888,
              "#fdca26"
             ],
             [
              1,
              "#f0f921"
             ]
            ],
            "type": "surface"
           }
          ],
          "table": [
           {
            "cells": {
             "fill": {
              "color": "#EBF0F8"
             },
             "line": {
              "color": "white"
             }
            },
            "header": {
             "fill": {
              "color": "#C8D4E3"
             },
             "line": {
              "color": "white"
             }
            },
            "type": "table"
           }
          ]
         },
         "layout": {
          "annotationdefaults": {
           "arrowcolor": "#2a3f5f",
           "arrowhead": 0,
           "arrowwidth": 1
          },
          "autotypenumbers": "strict",
          "coloraxis": {
           "colorbar": {
            "outlinewidth": 0,
            "ticks": ""
           }
          },
          "colorscale": {
           "diverging": [
            [
             0,
             "#8e0152"
            ],
            [
             0.1,
             "#c51b7d"
            ],
            [
             0.2,
             "#de77ae"
            ],
            [
             0.3,
             "#f1b6da"
            ],
            [
             0.4,
             "#fde0ef"
            ],
            [
             0.5,
             "#f7f7f7"
            ],
            [
             0.6,
             "#e6f5d0"
            ],
            [
             0.7,
             "#b8e186"
            ],
            [
             0.8,
             "#7fbc41"
            ],
            [
             0.9,
             "#4d9221"
            ],
            [
             1,
             "#276419"
            ]
           ],
           "sequential": [
            [
             0,
             "#0d0887"
            ],
            [
             0.1111111111111111,
             "#46039f"
            ],
            [
             0.2222222222222222,
             "#7201a8"
            ],
            [
             0.3333333333333333,
             "#9c179e"
            ],
            [
             0.4444444444444444,
             "#bd3786"
            ],
            [
             0.5555555555555556,
             "#d8576b"
            ],
            [
             0.6666666666666666,
             "#ed7953"
            ],
            [
             0.7777777777777778,
             "#fb9f3a"
            ],
            [
             0.8888888888888888,
             "#fdca26"
            ],
            [
             1,
             "#f0f921"
            ]
           ],
           "sequentialminus": [
            [
             0,
             "#0d0887"
            ],
            [
             0.1111111111111111,
             "#46039f"
            ],
            [
             0.2222222222222222,
             "#7201a8"
            ],
            [
             0.3333333333333333,
             "#9c179e"
            ],
            [
             0.4444444444444444,
             "#bd3786"
            ],
            [
             0.5555555555555556,
             "#d8576b"
            ],
            [
             0.6666666666666666,
             "#ed7953"
            ],
            [
             0.7777777777777778,
             "#fb9f3a"
            ],
            [
             0.8888888888888888,
             "#fdca26"
            ],
            [
             1,
             "#f0f921"
            ]
           ]
          },
          "colorway": [
           "#636efa",
           "#EF553B",
           "#00cc96",
           "#ab63fa",
           "#FFA15A",
           "#19d3f3",
           "#FF6692",
           "#B6E880",
           "#FF97FF",
           "#FECB52"
          ],
          "font": {
           "color": "#2a3f5f"
          },
          "geo": {
           "bgcolor": "white",
           "lakecolor": "white",
           "landcolor": "#E5ECF6",
           "showlakes": true,
           "showland": true,
           "subunitcolor": "white"
          },
          "hoverlabel": {
           "align": "left"
          },
          "hovermode": "closest",
          "mapbox": {
           "style": "light"
          },
          "paper_bgcolor": "white",
          "plot_bgcolor": "#E5ECF6",
          "polar": {
           "angularaxis": {
            "gridcolor": "white",
            "linecolor": "white",
            "ticks": ""
           },
           "bgcolor": "#E5ECF6",
           "radialaxis": {
            "gridcolor": "white",
            "linecolor": "white",
            "ticks": ""
           }
          },
          "scene": {
           "xaxis": {
            "backgroundcolor": "#E5ECF6",
            "gridcolor": "white",
            "gridwidth": 2,
            "linecolor": "white",
            "showbackground": true,
            "ticks": "",
            "zerolinecolor": "white"
           },
           "yaxis": {
            "backgroundcolor": "#E5ECF6",
            "gridcolor": "white",
            "gridwidth": 2,
            "linecolor": "white",
            "showbackground": true,
            "ticks": "",
            "zerolinecolor": "white"
           },
           "zaxis": {
            "backgroundcolor": "#E5ECF6",
            "gridcolor": "white",
            "gridwidth": 2,
            "linecolor": "white",
            "showbackground": true,
            "ticks": "",
            "zerolinecolor": "white"
           }
          },
          "shapedefaults": {
           "line": {
            "color": "#2a3f5f"
           }
          },
          "ternary": {
           "aaxis": {
            "gridcolor": "white",
            "linecolor": "white",
            "ticks": ""
           },
           "baxis": {
            "gridcolor": "white",
            "linecolor": "white",
            "ticks": ""
           },
           "bgcolor": "#E5ECF6",
           "caxis": {
            "gridcolor": "white",
            "linecolor": "white",
            "ticks": ""
           }
          },
          "title": {
           "x": 0.05
          },
          "xaxis": {
           "automargin": true,
           "gridcolor": "white",
           "linecolor": "white",
           "ticks": "",
           "title": {
            "standoff": 15
           },
           "zerolinecolor": "white",
           "zerolinewidth": 2
          },
          "yaxis": {
           "automargin": true,
           "gridcolor": "white",
           "linecolor": "white",
           "ticks": "",
           "title": {
            "standoff": 15
           },
           "zerolinecolor": "white",
           "zerolinewidth": 2
          }
         }
        },
        "title": {
         "font": {
          "color": "#4D5663"
         }
        },
        "xaxis": {
         "gridcolor": "#E1E5ED",
         "showgrid": true,
         "tickfont": {
          "color": "#4D5663"
         },
         "title": {
          "font": {
           "color": "#4D5663"
          },
          "text": ""
         },
         "zerolinecolor": "#E1E5ED"
        },
        "yaxis": {
         "gridcolor": "#E1E5ED",
         "showgrid": true,
         "tickfont": {
          "color": "#4D5663"
         },
         "title": {
          "font": {
           "color": "#4D5663"
          },
          "text": ""
         },
         "zerolinecolor": "#E1E5ED"
        }
       }
      },
      "text/html": [
       "<div>                            <div id=\"2dc9cfe3-5dc1-4768-b1e3-fc33f28938c9\" class=\"plotly-graph-div\" style=\"height:525px; width:100%;\"></div>            <script type=\"text/javascript\">                require([\"plotly\"], function(Plotly) {                    window.PLOTLYENV=window.PLOTLYENV || {};\n",
       "                    window.PLOTLYENV.BASE_URL='https://plot.ly';                                    if (document.getElementById(\"2dc9cfe3-5dc1-4768-b1e3-fc33f28938c9\")) {                    Plotly.newPlot(                        \"2dc9cfe3-5dc1-4768-b1e3-fc33f28938c9\",                        [{\"marker\": {\"color\": \"rgba(255, 153, 51, 0.6)\", \"line\": {\"color\": \"rgba(255, 153, 51, 1.0)\", \"width\": 1}}, \"name\": \"None\", \"orientation\": \"v\", \"text\": \"\", \"type\": \"bar\", \"x\": [\"A\", \"B\", \"C\", \"D\"], \"y\": [100, 100, 100, 100]}],                        {\"legend\": {\"bgcolor\": \"#F5F6F9\", \"font\": {\"color\": \"#4D5663\"}}, \"paper_bgcolor\": \"#F5F6F9\", \"plot_bgcolor\": \"#F5F6F9\", \"template\": {\"data\": {\"bar\": [{\"error_x\": {\"color\": \"#2a3f5f\"}, \"error_y\": {\"color\": \"#2a3f5f\"}, \"marker\": {\"line\": {\"color\": \"#E5ECF6\", \"width\": 0.5}}, \"type\": \"bar\"}], \"barpolar\": [{\"marker\": {\"line\": {\"color\": \"#E5ECF6\", \"width\": 0.5}}, \"type\": \"barpolar\"}], \"carpet\": [{\"aaxis\": {\"endlinecolor\": \"#2a3f5f\", \"gridcolor\": \"white\", \"linecolor\": \"white\", \"minorgridcolor\": \"white\", \"startlinecolor\": \"#2a3f5f\"}, \"baxis\": {\"endlinecolor\": \"#2a3f5f\", \"gridcolor\": \"white\", \"linecolor\": \"white\", \"minorgridcolor\": \"white\", \"startlinecolor\": \"#2a3f5f\"}, \"type\": \"carpet\"}], \"choropleth\": [{\"colorbar\": {\"outlinewidth\": 0, \"ticks\": \"\"}, \"type\": \"choropleth\"}], \"contour\": [{\"colorbar\": {\"outlinewidth\": 0, \"ticks\": \"\"}, \"colorscale\": [[0.0, \"#0d0887\"], [0.1111111111111111, \"#46039f\"], [0.2222222222222222, \"#7201a8\"], [0.3333333333333333, \"#9c179e\"], [0.4444444444444444, \"#bd3786\"], [0.5555555555555556, \"#d8576b\"], [0.6666666666666666, \"#ed7953\"], [0.7777777777777778, \"#fb9f3a\"], [0.8888888888888888, \"#fdca26\"], [1.0, \"#f0f921\"]], \"type\": \"contour\"}], \"contourcarpet\": [{\"colorbar\": {\"outlinewidth\": 0, \"ticks\": \"\"}, \"type\": \"contourcarpet\"}], \"heatmap\": [{\"colorbar\": {\"outlinewidth\": 0, \"ticks\": \"\"}, \"colorscale\": [[0.0, \"#0d0887\"], [0.1111111111111111, \"#46039f\"], [0.2222222222222222, \"#7201a8\"], [0.3333333333333333, \"#9c179e\"], [0.4444444444444444, \"#bd3786\"], [0.5555555555555556, \"#d8576b\"], [0.6666666666666666, \"#ed7953\"], [0.7777777777777778, \"#fb9f3a\"], [0.8888888888888888, \"#fdca26\"], [1.0, \"#f0f921\"]], \"type\": \"heatmap\"}], \"heatmapgl\": [{\"colorbar\": {\"outlinewidth\": 0, \"ticks\": \"\"}, \"colorscale\": [[0.0, \"#0d0887\"], [0.1111111111111111, \"#46039f\"], [0.2222222222222222, \"#7201a8\"], [0.3333333333333333, \"#9c179e\"], [0.4444444444444444, \"#bd3786\"], [0.5555555555555556, \"#d8576b\"], [0.6666666666666666, \"#ed7953\"], [0.7777777777777778, \"#fb9f3a\"], [0.8888888888888888, \"#fdca26\"], [1.0, \"#f0f921\"]], \"type\": \"heatmapgl\"}], \"histogram\": [{\"marker\": {\"colorbar\": {\"outlinewidth\": 0, \"ticks\": \"\"}}, \"type\": \"histogram\"}], \"histogram2d\": [{\"colorbar\": {\"outlinewidth\": 0, \"ticks\": \"\"}, \"colorscale\": [[0.0, \"#0d0887\"], [0.1111111111111111, \"#46039f\"], [0.2222222222222222, \"#7201a8\"], [0.3333333333333333, \"#9c179e\"], [0.4444444444444444, \"#bd3786\"], [0.5555555555555556, \"#d8576b\"], [0.6666666666666666, \"#ed7953\"], [0.7777777777777778, \"#fb9f3a\"], [0.8888888888888888, \"#fdca26\"], [1.0, \"#f0f921\"]], \"type\": \"histogram2d\"}], \"histogram2dcontour\": [{\"colorbar\": {\"outlinewidth\": 0, \"ticks\": \"\"}, \"colorscale\": [[0.0, \"#0d0887\"], [0.1111111111111111, \"#46039f\"], [0.2222222222222222, \"#7201a8\"], [0.3333333333333333, \"#9c179e\"], [0.4444444444444444, \"#bd3786\"], [0.5555555555555556, \"#d8576b\"], [0.6666666666666666, \"#ed7953\"], [0.7777777777777778, \"#fb9f3a\"], [0.8888888888888888, \"#fdca26\"], [1.0, \"#f0f921\"]], \"type\": \"histogram2dcontour\"}], \"mesh3d\": [{\"colorbar\": {\"outlinewidth\": 0, \"ticks\": \"\"}, \"type\": \"mesh3d\"}], \"parcoords\": [{\"line\": {\"colorbar\": {\"outlinewidth\": 0, \"ticks\": \"\"}}, \"type\": \"parcoords\"}], \"pie\": [{\"automargin\": true, \"type\": \"pie\"}], \"scatter\": [{\"marker\": {\"colorbar\": {\"outlinewidth\": 0, \"ticks\": \"\"}}, \"type\": \"scatter\"}], \"scatter3d\": [{\"line\": {\"colorbar\": {\"outlinewidth\": 0, \"ticks\": \"\"}}, \"marker\": {\"colorbar\": {\"outlinewidth\": 0, \"ticks\": \"\"}}, \"type\": \"scatter3d\"}], \"scattercarpet\": [{\"marker\": {\"colorbar\": {\"outlinewidth\": 0, \"ticks\": \"\"}}, \"type\": \"scattercarpet\"}], \"scattergeo\": [{\"marker\": {\"colorbar\": {\"outlinewidth\": 0, \"ticks\": \"\"}}, \"type\": \"scattergeo\"}], \"scattergl\": [{\"marker\": {\"colorbar\": {\"outlinewidth\": 0, \"ticks\": \"\"}}, \"type\": \"scattergl\"}], \"scattermapbox\": [{\"marker\": {\"colorbar\": {\"outlinewidth\": 0, \"ticks\": \"\"}}, \"type\": \"scattermapbox\"}], \"scatterpolar\": [{\"marker\": {\"colorbar\": {\"outlinewidth\": 0, \"ticks\": \"\"}}, \"type\": \"scatterpolar\"}], \"scatterpolargl\": [{\"marker\": {\"colorbar\": {\"outlinewidth\": 0, \"ticks\": \"\"}}, \"type\": \"scatterpolargl\"}], \"scatterternary\": [{\"marker\": {\"colorbar\": {\"outlinewidth\": 0, \"ticks\": \"\"}}, \"type\": \"scatterternary\"}], \"surface\": [{\"colorbar\": {\"outlinewidth\": 0, \"ticks\": \"\"}, \"colorscale\": [[0.0, \"#0d0887\"], [0.1111111111111111, \"#46039f\"], [0.2222222222222222, \"#7201a8\"], [0.3333333333333333, \"#9c179e\"], [0.4444444444444444, \"#bd3786\"], [0.5555555555555556, \"#d8576b\"], [0.6666666666666666, \"#ed7953\"], [0.7777777777777778, \"#fb9f3a\"], [0.8888888888888888, \"#fdca26\"], [1.0, \"#f0f921\"]], \"type\": \"surface\"}], \"table\": [{\"cells\": {\"fill\": {\"color\": \"#EBF0F8\"}, \"line\": {\"color\": \"white\"}}, \"header\": {\"fill\": {\"color\": \"#C8D4E3\"}, \"line\": {\"color\": \"white\"}}, \"type\": \"table\"}]}, \"layout\": {\"annotationdefaults\": {\"arrowcolor\": \"#2a3f5f\", \"arrowhead\": 0, \"arrowwidth\": 1}, \"autotypenumbers\": \"strict\", \"coloraxis\": {\"colorbar\": {\"outlinewidth\": 0, \"ticks\": \"\"}}, \"colorscale\": {\"diverging\": [[0, \"#8e0152\"], [0.1, \"#c51b7d\"], [0.2, \"#de77ae\"], [0.3, \"#f1b6da\"], [0.4, \"#fde0ef\"], [0.5, \"#f7f7f7\"], [0.6, \"#e6f5d0\"], [0.7, \"#b8e186\"], [0.8, \"#7fbc41\"], [0.9, \"#4d9221\"], [1, \"#276419\"]], \"sequential\": [[0.0, \"#0d0887\"], [0.1111111111111111, \"#46039f\"], [0.2222222222222222, \"#7201a8\"], [0.3333333333333333, \"#9c179e\"], [0.4444444444444444, \"#bd3786\"], [0.5555555555555556, \"#d8576b\"], [0.6666666666666666, \"#ed7953\"], [0.7777777777777778, \"#fb9f3a\"], [0.8888888888888888, \"#fdca26\"], [1.0, \"#f0f921\"]], \"sequentialminus\": [[0.0, \"#0d0887\"], [0.1111111111111111, \"#46039f\"], [0.2222222222222222, \"#7201a8\"], [0.3333333333333333, \"#9c179e\"], [0.4444444444444444, \"#bd3786\"], [0.5555555555555556, \"#d8576b\"], [0.6666666666666666, \"#ed7953\"], [0.7777777777777778, \"#fb9f3a\"], [0.8888888888888888, \"#fdca26\"], [1.0, \"#f0f921\"]]}, \"colorway\": [\"#636efa\", \"#EF553B\", \"#00cc96\", \"#ab63fa\", \"#FFA15A\", \"#19d3f3\", \"#FF6692\", \"#B6E880\", \"#FF97FF\", \"#FECB52\"], \"font\": {\"color\": \"#2a3f5f\"}, \"geo\": {\"bgcolor\": \"white\", \"lakecolor\": \"white\", \"landcolor\": \"#E5ECF6\", \"showlakes\": true, \"showland\": true, \"subunitcolor\": \"white\"}, \"hoverlabel\": {\"align\": \"left\"}, \"hovermode\": \"closest\", \"mapbox\": {\"style\": \"light\"}, \"paper_bgcolor\": \"white\", \"plot_bgcolor\": \"#E5ECF6\", \"polar\": {\"angularaxis\": {\"gridcolor\": \"white\", \"linecolor\": \"white\", \"ticks\": \"\"}, \"bgcolor\": \"#E5ECF6\", \"radialaxis\": {\"gridcolor\": \"white\", \"linecolor\": \"white\", \"ticks\": \"\"}}, \"scene\": {\"xaxis\": {\"backgroundcolor\": \"#E5ECF6\", \"gridcolor\": \"white\", \"gridwidth\": 2, \"linecolor\": \"white\", \"showbackground\": true, \"ticks\": \"\", \"zerolinecolor\": \"white\"}, \"yaxis\": {\"backgroundcolor\": \"#E5ECF6\", \"gridcolor\": \"white\", \"gridwidth\": 2, \"linecolor\": \"white\", \"showbackground\": true, \"ticks\": \"\", \"zerolinecolor\": \"white\"}, \"zaxis\": {\"backgroundcolor\": \"#E5ECF6\", \"gridcolor\": \"white\", \"gridwidth\": 2, \"linecolor\": \"white\", \"showbackground\": true, \"ticks\": \"\", \"zerolinecolor\": \"white\"}}, \"shapedefaults\": {\"line\": {\"color\": \"#2a3f5f\"}}, \"ternary\": {\"aaxis\": {\"gridcolor\": \"white\", \"linecolor\": \"white\", \"ticks\": \"\"}, \"baxis\": {\"gridcolor\": \"white\", \"linecolor\": \"white\", \"ticks\": \"\"}, \"bgcolor\": \"#E5ECF6\", \"caxis\": {\"gridcolor\": \"white\", \"linecolor\": \"white\", \"ticks\": \"\"}}, \"title\": {\"x\": 0.05}, \"xaxis\": {\"automargin\": true, \"gridcolor\": \"white\", \"linecolor\": \"white\", \"ticks\": \"\", \"title\": {\"standoff\": 15}, \"zerolinecolor\": \"white\", \"zerolinewidth\": 2}, \"yaxis\": {\"automargin\": true, \"gridcolor\": \"white\", \"linecolor\": \"white\", \"ticks\": \"\", \"title\": {\"standoff\": 15}, \"zerolinecolor\": \"white\", \"zerolinewidth\": 2}}}, \"title\": {\"font\": {\"color\": \"#4D5663\"}}, \"xaxis\": {\"gridcolor\": \"#E1E5ED\", \"showgrid\": true, \"tickfont\": {\"color\": \"#4D5663\"}, \"title\": {\"font\": {\"color\": \"#4D5663\"}, \"text\": \"\"}, \"zerolinecolor\": \"#E1E5ED\"}, \"yaxis\": {\"gridcolor\": \"#E1E5ED\", \"showgrid\": true, \"tickfont\": {\"color\": \"#4D5663\"}, \"title\": {\"font\": {\"color\": \"#4D5663\"}, \"text\": \"\"}, \"zerolinecolor\": \"#E1E5ED\"}},                        {\"showLink\": true, \"linkText\": \"Export to plot.ly\", \"plotlyServerURL\": \"https://plot.ly\", \"responsive\": true}                    ).then(function(){\n",
       "                            \n",
       "var gd = document.getElementById('2dc9cfe3-5dc1-4768-b1e3-fc33f28938c9');\n",
       "var x = new MutationObserver(function (mutations, observer) {{\n",
       "        var display = window.getComputedStyle(gd).display;\n",
       "        if (!display || display === 'none') {{\n",
       "            console.log([gd, 'removed!']);\n",
       "            Plotly.purge(gd);\n",
       "            observer.disconnect();\n",
       "        }}\n",
       "}});\n",
       "\n",
       "// Listen for the removal of the full notebook cells\n",
       "var notebookContainer = gd.closest('#notebook-container');\n",
       "if (notebookContainer) {{\n",
       "    x.observe(notebookContainer, {childList: true});\n",
       "}}\n",
       "\n",
       "// Listen for the clearing of the current output cell\n",
       "var outputEl = gd.closest('.output');\n",
       "if (outputEl) {{\n",
       "    x.observe(outputEl, {childList: true});\n",
       "}}\n",
       "\n",
       "                        })                };                });            </script>        </div>"
      ]
     },
     "metadata": {},
     "output_type": "display_data"
    }
   ],
   "source": [
    "df1.count().iplot(kind=\"bar\")"
   ]
  },
  {
   "cell_type": "code",
   "execution_count": 18,
   "metadata": {},
   "outputs": [
    {
     "data": {
      "application/vnd.plotly.v1+json": {
       "config": {
        "linkText": "Export to plot.ly",
        "plotlyServerURL": "https://plot.ly",
        "showLink": true
       },
       "data": [
        {
         "marker": {
          "color": "rgba(255, 153, 51, 0.6)",
          "line": {
           "color": "rgba(255, 153, 51, 1.0)",
           "width": 1
          }
         },
         "name": "None",
         "orientation": "v",
         "text": "",
         "type": "bar",
         "x": [
          "A",
          "B",
          "C",
          "D"
         ],
         "y": [
          54.11769555794924,
          53.84482290183884,
          46.70488495175962,
          48.88648935084201
         ]
        }
       ],
       "layout": {
        "legend": {
         "bgcolor": "#F5F6F9",
         "font": {
          "color": "#4D5663"
         }
        },
        "paper_bgcolor": "#F5F6F9",
        "plot_bgcolor": "#F5F6F9",
        "template": {
         "data": {
          "bar": [
           {
            "error_x": {
             "color": "#2a3f5f"
            },
            "error_y": {
             "color": "#2a3f5f"
            },
            "marker": {
             "line": {
              "color": "#E5ECF6",
              "width": 0.5
             }
            },
            "type": "bar"
           }
          ],
          "barpolar": [
           {
            "marker": {
             "line": {
              "color": "#E5ECF6",
              "width": 0.5
             }
            },
            "type": "barpolar"
           }
          ],
          "carpet": [
           {
            "aaxis": {
             "endlinecolor": "#2a3f5f",
             "gridcolor": "white",
             "linecolor": "white",
             "minorgridcolor": "white",
             "startlinecolor": "#2a3f5f"
            },
            "baxis": {
             "endlinecolor": "#2a3f5f",
             "gridcolor": "white",
             "linecolor": "white",
             "minorgridcolor": "white",
             "startlinecolor": "#2a3f5f"
            },
            "type": "carpet"
           }
          ],
          "choropleth": [
           {
            "colorbar": {
             "outlinewidth": 0,
             "ticks": ""
            },
            "type": "choropleth"
           }
          ],
          "contour": [
           {
            "colorbar": {
             "outlinewidth": 0,
             "ticks": ""
            },
            "colorscale": [
             [
              0,
              "#0d0887"
             ],
             [
              0.1111111111111111,
              "#46039f"
             ],
             [
              0.2222222222222222,
              "#7201a8"
             ],
             [
              0.3333333333333333,
              "#9c179e"
             ],
             [
              0.4444444444444444,
              "#bd3786"
             ],
             [
              0.5555555555555556,
              "#d8576b"
             ],
             [
              0.6666666666666666,
              "#ed7953"
             ],
             [
              0.7777777777777778,
              "#fb9f3a"
             ],
             [
              0.8888888888888888,
              "#fdca26"
             ],
             [
              1,
              "#f0f921"
             ]
            ],
            "type": "contour"
           }
          ],
          "contourcarpet": [
           {
            "colorbar": {
             "outlinewidth": 0,
             "ticks": ""
            },
            "type": "contourcarpet"
           }
          ],
          "heatmap": [
           {
            "colorbar": {
             "outlinewidth": 0,
             "ticks": ""
            },
            "colorscale": [
             [
              0,
              "#0d0887"
             ],
             [
              0.1111111111111111,
              "#46039f"
             ],
             [
              0.2222222222222222,
              "#7201a8"
             ],
             [
              0.3333333333333333,
              "#9c179e"
             ],
             [
              0.4444444444444444,
              "#bd3786"
             ],
             [
              0.5555555555555556,
              "#d8576b"
             ],
             [
              0.6666666666666666,
              "#ed7953"
             ],
             [
              0.7777777777777778,
              "#fb9f3a"
             ],
             [
              0.8888888888888888,
              "#fdca26"
             ],
             [
              1,
              "#f0f921"
             ]
            ],
            "type": "heatmap"
           }
          ],
          "heatmapgl": [
           {
            "colorbar": {
             "outlinewidth": 0,
             "ticks": ""
            },
            "colorscale": [
             [
              0,
              "#0d0887"
             ],
             [
              0.1111111111111111,
              "#46039f"
             ],
             [
              0.2222222222222222,
              "#7201a8"
             ],
             [
              0.3333333333333333,
              "#9c179e"
             ],
             [
              0.4444444444444444,
              "#bd3786"
             ],
             [
              0.5555555555555556,
              "#d8576b"
             ],
             [
              0.6666666666666666,
              "#ed7953"
             ],
             [
              0.7777777777777778,
              "#fb9f3a"
             ],
             [
              0.8888888888888888,
              "#fdca26"
             ],
             [
              1,
              "#f0f921"
             ]
            ],
            "type": "heatmapgl"
           }
          ],
          "histogram": [
           {
            "marker": {
             "colorbar": {
              "outlinewidth": 0,
              "ticks": ""
             }
            },
            "type": "histogram"
           }
          ],
          "histogram2d": [
           {
            "colorbar": {
             "outlinewidth": 0,
             "ticks": ""
            },
            "colorscale": [
             [
              0,
              "#0d0887"
             ],
             [
              0.1111111111111111,
              "#46039f"
             ],
             [
              0.2222222222222222,
              "#7201a8"
             ],
             [
              0.3333333333333333,
              "#9c179e"
             ],
             [
              0.4444444444444444,
              "#bd3786"
             ],
             [
              0.5555555555555556,
              "#d8576b"
             ],
             [
              0.6666666666666666,
              "#ed7953"
             ],
             [
              0.7777777777777778,
              "#fb9f3a"
             ],
             [
              0.8888888888888888,
              "#fdca26"
             ],
             [
              1,
              "#f0f921"
             ]
            ],
            "type": "histogram2d"
           }
          ],
          "histogram2dcontour": [
           {
            "colorbar": {
             "outlinewidth": 0,
             "ticks": ""
            },
            "colorscale": [
             [
              0,
              "#0d0887"
             ],
             [
              0.1111111111111111,
              "#46039f"
             ],
             [
              0.2222222222222222,
              "#7201a8"
             ],
             [
              0.3333333333333333,
              "#9c179e"
             ],
             [
              0.4444444444444444,
              "#bd3786"
             ],
             [
              0.5555555555555556,
              "#d8576b"
             ],
             [
              0.6666666666666666,
              "#ed7953"
             ],
             [
              0.7777777777777778,
              "#fb9f3a"
             ],
             [
              0.8888888888888888,
              "#fdca26"
             ],
             [
              1,
              "#f0f921"
             ]
            ],
            "type": "histogram2dcontour"
           }
          ],
          "mesh3d": [
           {
            "colorbar": {
             "outlinewidth": 0,
             "ticks": ""
            },
            "type": "mesh3d"
           }
          ],
          "parcoords": [
           {
            "line": {
             "colorbar": {
              "outlinewidth": 0,
              "ticks": ""
             }
            },
            "type": "parcoords"
           }
          ],
          "pie": [
           {
            "automargin": true,
            "type": "pie"
           }
          ],
          "scatter": [
           {
            "marker": {
             "colorbar": {
              "outlinewidth": 0,
              "ticks": ""
             }
            },
            "type": "scatter"
           }
          ],
          "scatter3d": [
           {
            "line": {
             "colorbar": {
              "outlinewidth": 0,
              "ticks": ""
             }
            },
            "marker": {
             "colorbar": {
              "outlinewidth": 0,
              "ticks": ""
             }
            },
            "type": "scatter3d"
           }
          ],
          "scattercarpet": [
           {
            "marker": {
             "colorbar": {
              "outlinewidth": 0,
              "ticks": ""
             }
            },
            "type": "scattercarpet"
           }
          ],
          "scattergeo": [
           {
            "marker": {
             "colorbar": {
              "outlinewidth": 0,
              "ticks": ""
             }
            },
            "type": "scattergeo"
           }
          ],
          "scattergl": [
           {
            "marker": {
             "colorbar": {
              "outlinewidth": 0,
              "ticks": ""
             }
            },
            "type": "scattergl"
           }
          ],
          "scattermapbox": [
           {
            "marker": {
             "colorbar": {
              "outlinewidth": 0,
              "ticks": ""
             }
            },
            "type": "scattermapbox"
           }
          ],
          "scatterpolar": [
           {
            "marker": {
             "colorbar": {
              "outlinewidth": 0,
              "ticks": ""
             }
            },
            "type": "scatterpolar"
           }
          ],
          "scatterpolargl": [
           {
            "marker": {
             "colorbar": {
              "outlinewidth": 0,
              "ticks": ""
             }
            },
            "type": "scatterpolargl"
           }
          ],
          "scatterternary": [
           {
            "marker": {
             "colorbar": {
              "outlinewidth": 0,
              "ticks": ""
             }
            },
            "type": "scatterternary"
           }
          ],
          "surface": [
           {
            "colorbar": {
             "outlinewidth": 0,
             "ticks": ""
            },
            "colorscale": [
             [
              0,
              "#0d0887"
             ],
             [
              0.1111111111111111,
              "#46039f"
             ],
             [
              0.2222222222222222,
              "#7201a8"
             ],
             [
              0.3333333333333333,
              "#9c179e"
             ],
             [
              0.4444444444444444,
              "#bd3786"
             ],
             [
              0.5555555555555556,
              "#d8576b"
             ],
             [
              0.6666666666666666,
              "#ed7953"
             ],
             [
              0.7777777777777778,
              "#fb9f3a"
             ],
             [
              0.8888888888888888,
              "#fdca26"
             ],
             [
              1,
              "#f0f921"
             ]
            ],
            "type": "surface"
           }
          ],
          "table": [
           {
            "cells": {
             "fill": {
              "color": "#EBF0F8"
             },
             "line": {
              "color": "white"
             }
            },
            "header": {
             "fill": {
              "color": "#C8D4E3"
             },
             "line": {
              "color": "white"
             }
            },
            "type": "table"
           }
          ]
         },
         "layout": {
          "annotationdefaults": {
           "arrowcolor": "#2a3f5f",
           "arrowhead": 0,
           "arrowwidth": 1
          },
          "autotypenumbers": "strict",
          "coloraxis": {
           "colorbar": {
            "outlinewidth": 0,
            "ticks": ""
           }
          },
          "colorscale": {
           "diverging": [
            [
             0,
             "#8e0152"
            ],
            [
             0.1,
             "#c51b7d"
            ],
            [
             0.2,
             "#de77ae"
            ],
            [
             0.3,
             "#f1b6da"
            ],
            [
             0.4,
             "#fde0ef"
            ],
            [
             0.5,
             "#f7f7f7"
            ],
            [
             0.6,
             "#e6f5d0"
            ],
            [
             0.7,
             "#b8e186"
            ],
            [
             0.8,
             "#7fbc41"
            ],
            [
             0.9,
             "#4d9221"
            ],
            [
             1,
             "#276419"
            ]
           ],
           "sequential": [
            [
             0,
             "#0d0887"
            ],
            [
             0.1111111111111111,
             "#46039f"
            ],
            [
             0.2222222222222222,
             "#7201a8"
            ],
            [
             0.3333333333333333,
             "#9c179e"
            ],
            [
             0.4444444444444444,
             "#bd3786"
            ],
            [
             0.5555555555555556,
             "#d8576b"
            ],
            [
             0.6666666666666666,
             "#ed7953"
            ],
            [
             0.7777777777777778,
             "#fb9f3a"
            ],
            [
             0.8888888888888888,
             "#fdca26"
            ],
            [
             1,
             "#f0f921"
            ]
           ],
           "sequentialminus": [
            [
             0,
             "#0d0887"
            ],
            [
             0.1111111111111111,
             "#46039f"
            ],
            [
             0.2222222222222222,
             "#7201a8"
            ],
            [
             0.3333333333333333,
             "#9c179e"
            ],
            [
             0.4444444444444444,
             "#bd3786"
            ],
            [
             0.5555555555555556,
             "#d8576b"
            ],
            [
             0.6666666666666666,
             "#ed7953"
            ],
            [
             0.7777777777777778,
             "#fb9f3a"
            ],
            [
             0.8888888888888888,
             "#fdca26"
            ],
            [
             1,
             "#f0f921"
            ]
           ]
          },
          "colorway": [
           "#636efa",
           "#EF553B",
           "#00cc96",
           "#ab63fa",
           "#FFA15A",
           "#19d3f3",
           "#FF6692",
           "#B6E880",
           "#FF97FF",
           "#FECB52"
          ],
          "font": {
           "color": "#2a3f5f"
          },
          "geo": {
           "bgcolor": "white",
           "lakecolor": "white",
           "landcolor": "#E5ECF6",
           "showlakes": true,
           "showland": true,
           "subunitcolor": "white"
          },
          "hoverlabel": {
           "align": "left"
          },
          "hovermode": "closest",
          "mapbox": {
           "style": "light"
          },
          "paper_bgcolor": "white",
          "plot_bgcolor": "#E5ECF6",
          "polar": {
           "angularaxis": {
            "gridcolor": "white",
            "linecolor": "white",
            "ticks": ""
           },
           "bgcolor": "#E5ECF6",
           "radialaxis": {
            "gridcolor": "white",
            "linecolor": "white",
            "ticks": ""
           }
          },
          "scene": {
           "xaxis": {
            "backgroundcolor": "#E5ECF6",
            "gridcolor": "white",
            "gridwidth": 2,
            "linecolor": "white",
            "showbackground": true,
            "ticks": "",
            "zerolinecolor": "white"
           },
           "yaxis": {
            "backgroundcolor": "#E5ECF6",
            "gridcolor": "white",
            "gridwidth": 2,
            "linecolor": "white",
            "showbackground": true,
            "ticks": "",
            "zerolinecolor": "white"
           },
           "zaxis": {
            "backgroundcolor": "#E5ECF6",
            "gridcolor": "white",
            "gridwidth": 2,
            "linecolor": "white",
            "showbackground": true,
            "ticks": "",
            "zerolinecolor": "white"
           }
          },
          "shapedefaults": {
           "line": {
            "color": "#2a3f5f"
           }
          },
          "ternary": {
           "aaxis": {
            "gridcolor": "white",
            "linecolor": "white",
            "ticks": ""
           },
           "baxis": {
            "gridcolor": "white",
            "linecolor": "white",
            "ticks": ""
           },
           "bgcolor": "#E5ECF6",
           "caxis": {
            "gridcolor": "white",
            "linecolor": "white",
            "ticks": ""
           }
          },
          "title": {
           "x": 0.05
          },
          "xaxis": {
           "automargin": true,
           "gridcolor": "white",
           "linecolor": "white",
           "ticks": "",
           "title": {
            "standoff": 15
           },
           "zerolinecolor": "white",
           "zerolinewidth": 2
          },
          "yaxis": {
           "automargin": true,
           "gridcolor": "white",
           "linecolor": "white",
           "ticks": "",
           "title": {
            "standoff": 15
           },
           "zerolinecolor": "white",
           "zerolinewidth": 2
          }
         }
        },
        "title": {
         "font": {
          "color": "#4D5663"
         }
        },
        "xaxis": {
         "gridcolor": "#E1E5ED",
         "showgrid": true,
         "tickfont": {
          "color": "#4D5663"
         },
         "title": {
          "font": {
           "color": "#4D5663"
          },
          "text": ""
         },
         "zerolinecolor": "#E1E5ED"
        },
        "yaxis": {
         "gridcolor": "#E1E5ED",
         "showgrid": true,
         "tickfont": {
          "color": "#4D5663"
         },
         "title": {
          "font": {
           "color": "#4D5663"
          },
          "text": ""
         },
         "zerolinecolor": "#E1E5ED"
        }
       }
      },
      "text/html": [
       "<div>                            <div id=\"8752b0c2-02cc-4c1e-a5e9-e7ef41b017e0\" class=\"plotly-graph-div\" style=\"height:525px; width:100%;\"></div>            <script type=\"text/javascript\">                require([\"plotly\"], function(Plotly) {                    window.PLOTLYENV=window.PLOTLYENV || {};\n",
       "                    window.PLOTLYENV.BASE_URL='https://plot.ly';                                    if (document.getElementById(\"8752b0c2-02cc-4c1e-a5e9-e7ef41b017e0\")) {                    Plotly.newPlot(                        \"8752b0c2-02cc-4c1e-a5e9-e7ef41b017e0\",                        [{\"marker\": {\"color\": \"rgba(255, 153, 51, 0.6)\", \"line\": {\"color\": \"rgba(255, 153, 51, 1.0)\", \"width\": 1}}, \"name\": \"None\", \"orientation\": \"v\", \"text\": \"\", \"type\": \"bar\", \"x\": [\"A\", \"B\", \"C\", \"D\"], \"y\": [54.11769555794924, 53.84482290183884, 46.70488495175962, 48.88648935084201]}],                        {\"legend\": {\"bgcolor\": \"#F5F6F9\", \"font\": {\"color\": \"#4D5663\"}}, \"paper_bgcolor\": \"#F5F6F9\", \"plot_bgcolor\": \"#F5F6F9\", \"template\": {\"data\": {\"bar\": [{\"error_x\": {\"color\": \"#2a3f5f\"}, \"error_y\": {\"color\": \"#2a3f5f\"}, \"marker\": {\"line\": {\"color\": \"#E5ECF6\", \"width\": 0.5}}, \"type\": \"bar\"}], \"barpolar\": [{\"marker\": {\"line\": {\"color\": \"#E5ECF6\", \"width\": 0.5}}, \"type\": \"barpolar\"}], \"carpet\": [{\"aaxis\": {\"endlinecolor\": \"#2a3f5f\", \"gridcolor\": \"white\", \"linecolor\": \"white\", \"minorgridcolor\": \"white\", \"startlinecolor\": \"#2a3f5f\"}, \"baxis\": {\"endlinecolor\": \"#2a3f5f\", \"gridcolor\": \"white\", \"linecolor\": \"white\", \"minorgridcolor\": \"white\", \"startlinecolor\": \"#2a3f5f\"}, \"type\": \"carpet\"}], \"choropleth\": [{\"colorbar\": {\"outlinewidth\": 0, \"ticks\": \"\"}, \"type\": \"choropleth\"}], \"contour\": [{\"colorbar\": {\"outlinewidth\": 0, \"ticks\": \"\"}, \"colorscale\": [[0.0, \"#0d0887\"], [0.1111111111111111, \"#46039f\"], [0.2222222222222222, \"#7201a8\"], [0.3333333333333333, \"#9c179e\"], [0.4444444444444444, \"#bd3786\"], [0.5555555555555556, \"#d8576b\"], [0.6666666666666666, \"#ed7953\"], [0.7777777777777778, \"#fb9f3a\"], [0.8888888888888888, \"#fdca26\"], [1.0, \"#f0f921\"]], \"type\": \"contour\"}], \"contourcarpet\": [{\"colorbar\": {\"outlinewidth\": 0, \"ticks\": \"\"}, \"type\": \"contourcarpet\"}], \"heatmap\": [{\"colorbar\": {\"outlinewidth\": 0, \"ticks\": \"\"}, \"colorscale\": [[0.0, \"#0d0887\"], [0.1111111111111111, \"#46039f\"], [0.2222222222222222, \"#7201a8\"], [0.3333333333333333, \"#9c179e\"], [0.4444444444444444, \"#bd3786\"], [0.5555555555555556, \"#d8576b\"], [0.6666666666666666, \"#ed7953\"], [0.7777777777777778, \"#fb9f3a\"], [0.8888888888888888, \"#fdca26\"], [1.0, \"#f0f921\"]], \"type\": \"heatmap\"}], \"heatmapgl\": [{\"colorbar\": {\"outlinewidth\": 0, \"ticks\": \"\"}, \"colorscale\": [[0.0, \"#0d0887\"], [0.1111111111111111, \"#46039f\"], [0.2222222222222222, \"#7201a8\"], [0.3333333333333333, \"#9c179e\"], [0.4444444444444444, \"#bd3786\"], [0.5555555555555556, \"#d8576b\"], [0.6666666666666666, \"#ed7953\"], [0.7777777777777778, \"#fb9f3a\"], [0.8888888888888888, \"#fdca26\"], [1.0, \"#f0f921\"]], \"type\": \"heatmapgl\"}], \"histogram\": [{\"marker\": {\"colorbar\": {\"outlinewidth\": 0, \"ticks\": \"\"}}, \"type\": \"histogram\"}], \"histogram2d\": [{\"colorbar\": {\"outlinewidth\": 0, \"ticks\": \"\"}, \"colorscale\": [[0.0, \"#0d0887\"], [0.1111111111111111, \"#46039f\"], [0.2222222222222222, \"#7201a8\"], [0.3333333333333333, \"#9c179e\"], [0.4444444444444444, \"#bd3786\"], [0.5555555555555556, \"#d8576b\"], [0.6666666666666666, \"#ed7953\"], [0.7777777777777778, \"#fb9f3a\"], [0.8888888888888888, \"#fdca26\"], [1.0, \"#f0f921\"]], \"type\": \"histogram2d\"}], \"histogram2dcontour\": [{\"colorbar\": {\"outlinewidth\": 0, \"ticks\": \"\"}, \"colorscale\": [[0.0, \"#0d0887\"], [0.1111111111111111, \"#46039f\"], [0.2222222222222222, \"#7201a8\"], [0.3333333333333333, \"#9c179e\"], [0.4444444444444444, \"#bd3786\"], [0.5555555555555556, \"#d8576b\"], [0.6666666666666666, \"#ed7953\"], [0.7777777777777778, \"#fb9f3a\"], [0.8888888888888888, \"#fdca26\"], [1.0, \"#f0f921\"]], \"type\": \"histogram2dcontour\"}], \"mesh3d\": [{\"colorbar\": {\"outlinewidth\": 0, \"ticks\": \"\"}, \"type\": \"mesh3d\"}], \"parcoords\": [{\"line\": {\"colorbar\": {\"outlinewidth\": 0, \"ticks\": \"\"}}, \"type\": \"parcoords\"}], \"pie\": [{\"automargin\": true, \"type\": \"pie\"}], \"scatter\": [{\"marker\": {\"colorbar\": {\"outlinewidth\": 0, \"ticks\": \"\"}}, \"type\": \"scatter\"}], \"scatter3d\": [{\"line\": {\"colorbar\": {\"outlinewidth\": 0, \"ticks\": \"\"}}, \"marker\": {\"colorbar\": {\"outlinewidth\": 0, \"ticks\": \"\"}}, \"type\": \"scatter3d\"}], \"scattercarpet\": [{\"marker\": {\"colorbar\": {\"outlinewidth\": 0, \"ticks\": \"\"}}, \"type\": \"scattercarpet\"}], \"scattergeo\": [{\"marker\": {\"colorbar\": {\"outlinewidth\": 0, \"ticks\": \"\"}}, \"type\": \"scattergeo\"}], \"scattergl\": [{\"marker\": {\"colorbar\": {\"outlinewidth\": 0, \"ticks\": \"\"}}, \"type\": \"scattergl\"}], \"scattermapbox\": [{\"marker\": {\"colorbar\": {\"outlinewidth\": 0, \"ticks\": \"\"}}, \"type\": \"scattermapbox\"}], \"scatterpolar\": [{\"marker\": {\"colorbar\": {\"outlinewidth\": 0, \"ticks\": \"\"}}, \"type\": \"scatterpolar\"}], \"scatterpolargl\": [{\"marker\": {\"colorbar\": {\"outlinewidth\": 0, \"ticks\": \"\"}}, \"type\": \"scatterpolargl\"}], \"scatterternary\": [{\"marker\": {\"colorbar\": {\"outlinewidth\": 0, \"ticks\": \"\"}}, \"type\": \"scatterternary\"}], \"surface\": [{\"colorbar\": {\"outlinewidth\": 0, \"ticks\": \"\"}, \"colorscale\": [[0.0, \"#0d0887\"], [0.1111111111111111, \"#46039f\"], [0.2222222222222222, \"#7201a8\"], [0.3333333333333333, \"#9c179e\"], [0.4444444444444444, \"#bd3786\"], [0.5555555555555556, \"#d8576b\"], [0.6666666666666666, \"#ed7953\"], [0.7777777777777778, \"#fb9f3a\"], [0.8888888888888888, \"#fdca26\"], [1.0, \"#f0f921\"]], \"type\": \"surface\"}], \"table\": [{\"cells\": {\"fill\": {\"color\": \"#EBF0F8\"}, \"line\": {\"color\": \"white\"}}, \"header\": {\"fill\": {\"color\": \"#C8D4E3\"}, \"line\": {\"color\": \"white\"}}, \"type\": \"table\"}]}, \"layout\": {\"annotationdefaults\": {\"arrowcolor\": \"#2a3f5f\", \"arrowhead\": 0, \"arrowwidth\": 1}, \"autotypenumbers\": \"strict\", \"coloraxis\": {\"colorbar\": {\"outlinewidth\": 0, \"ticks\": \"\"}}, \"colorscale\": {\"diverging\": [[0, \"#8e0152\"], [0.1, \"#c51b7d\"], [0.2, \"#de77ae\"], [0.3, \"#f1b6da\"], [0.4, \"#fde0ef\"], [0.5, \"#f7f7f7\"], [0.6, \"#e6f5d0\"], [0.7, \"#b8e186\"], [0.8, \"#7fbc41\"], [0.9, \"#4d9221\"], [1, \"#276419\"]], \"sequential\": [[0.0, \"#0d0887\"], [0.1111111111111111, \"#46039f\"], [0.2222222222222222, \"#7201a8\"], [0.3333333333333333, \"#9c179e\"], [0.4444444444444444, \"#bd3786\"], [0.5555555555555556, \"#d8576b\"], [0.6666666666666666, \"#ed7953\"], [0.7777777777777778, \"#fb9f3a\"], [0.8888888888888888, \"#fdca26\"], [1.0, \"#f0f921\"]], \"sequentialminus\": [[0.0, \"#0d0887\"], [0.1111111111111111, \"#46039f\"], [0.2222222222222222, \"#7201a8\"], [0.3333333333333333, \"#9c179e\"], [0.4444444444444444, \"#bd3786\"], [0.5555555555555556, \"#d8576b\"], [0.6666666666666666, \"#ed7953\"], [0.7777777777777778, \"#fb9f3a\"], [0.8888888888888888, \"#fdca26\"], [1.0, \"#f0f921\"]]}, \"colorway\": [\"#636efa\", \"#EF553B\", \"#00cc96\", \"#ab63fa\", \"#FFA15A\", \"#19d3f3\", \"#FF6692\", \"#B6E880\", \"#FF97FF\", \"#FECB52\"], \"font\": {\"color\": \"#2a3f5f\"}, \"geo\": {\"bgcolor\": \"white\", \"lakecolor\": \"white\", \"landcolor\": \"#E5ECF6\", \"showlakes\": true, \"showland\": true, \"subunitcolor\": \"white\"}, \"hoverlabel\": {\"align\": \"left\"}, \"hovermode\": \"closest\", \"mapbox\": {\"style\": \"light\"}, \"paper_bgcolor\": \"white\", \"plot_bgcolor\": \"#E5ECF6\", \"polar\": {\"angularaxis\": {\"gridcolor\": \"white\", \"linecolor\": \"white\", \"ticks\": \"\"}, \"bgcolor\": \"#E5ECF6\", \"radialaxis\": {\"gridcolor\": \"white\", \"linecolor\": \"white\", \"ticks\": \"\"}}, \"scene\": {\"xaxis\": {\"backgroundcolor\": \"#E5ECF6\", \"gridcolor\": \"white\", \"gridwidth\": 2, \"linecolor\": \"white\", \"showbackground\": true, \"ticks\": \"\", \"zerolinecolor\": \"white\"}, \"yaxis\": {\"backgroundcolor\": \"#E5ECF6\", \"gridcolor\": \"white\", \"gridwidth\": 2, \"linecolor\": \"white\", \"showbackground\": true, \"ticks\": \"\", \"zerolinecolor\": \"white\"}, \"zaxis\": {\"backgroundcolor\": \"#E5ECF6\", \"gridcolor\": \"white\", \"gridwidth\": 2, \"linecolor\": \"white\", \"showbackground\": true, \"ticks\": \"\", \"zerolinecolor\": \"white\"}}, \"shapedefaults\": {\"line\": {\"color\": \"#2a3f5f\"}}, \"ternary\": {\"aaxis\": {\"gridcolor\": \"white\", \"linecolor\": \"white\", \"ticks\": \"\"}, \"baxis\": {\"gridcolor\": \"white\", \"linecolor\": \"white\", \"ticks\": \"\"}, \"bgcolor\": \"#E5ECF6\", \"caxis\": {\"gridcolor\": \"white\", \"linecolor\": \"white\", \"ticks\": \"\"}}, \"title\": {\"x\": 0.05}, \"xaxis\": {\"automargin\": true, \"gridcolor\": \"white\", \"linecolor\": \"white\", \"ticks\": \"\", \"title\": {\"standoff\": 15}, \"zerolinecolor\": \"white\", \"zerolinewidth\": 2}, \"yaxis\": {\"automargin\": true, \"gridcolor\": \"white\", \"linecolor\": \"white\", \"ticks\": \"\", \"title\": {\"standoff\": 15}, \"zerolinecolor\": \"white\", \"zerolinewidth\": 2}}}, \"title\": {\"font\": {\"color\": \"#4D5663\"}}, \"xaxis\": {\"gridcolor\": \"#E1E5ED\", \"showgrid\": true, \"tickfont\": {\"color\": \"#4D5663\"}, \"title\": {\"font\": {\"color\": \"#4D5663\"}, \"text\": \"\"}, \"zerolinecolor\": \"#E1E5ED\"}, \"yaxis\": {\"gridcolor\": \"#E1E5ED\", \"showgrid\": true, \"tickfont\": {\"color\": \"#4D5663\"}, \"title\": {\"font\": {\"color\": \"#4D5663\"}, \"text\": \"\"}, \"zerolinecolor\": \"#E1E5ED\"}},                        {\"showLink\": true, \"linkText\": \"Export to plot.ly\", \"plotlyServerURL\": \"https://plot.ly\", \"responsive\": true}                    ).then(function(){\n",
       "                            \n",
       "var gd = document.getElementById('8752b0c2-02cc-4c1e-a5e9-e7ef41b017e0');\n",
       "var x = new MutationObserver(function (mutations, observer) {{\n",
       "        var display = window.getComputedStyle(gd).display;\n",
       "        if (!display || display === 'none') {{\n",
       "            console.log([gd, 'removed!']);\n",
       "            Plotly.purge(gd);\n",
       "            observer.disconnect();\n",
       "        }}\n",
       "}});\n",
       "\n",
       "// Listen for the removal of the full notebook cells\n",
       "var notebookContainer = gd.closest('#notebook-container');\n",
       "if (notebookContainer) {{\n",
       "    x.observe(notebookContainer, {childList: true});\n",
       "}}\n",
       "\n",
       "// Listen for the clearing of the current output cell\n",
       "var outputEl = gd.closest('.output');\n",
       "if (outputEl) {{\n",
       "    x.observe(outputEl, {childList: true});\n",
       "}}\n",
       "\n",
       "                        })                };                });            </script>        </div>"
      ]
     },
     "metadata": {},
     "output_type": "display_data"
    }
   ],
   "source": [
    "df1.sum().iplot(kind=\"bar\")"
   ]
  },
  {
   "cell_type": "code",
   "execution_count": 19,
   "metadata": {},
   "outputs": [
    {
     "data": {
      "application/vnd.plotly.v1+json": {
       "config": {
        "linkText": "Export to plot.ly",
        "plotlyServerURL": "https://plot.ly",
        "showLink": true
       },
       "data": [
        {
         "marker": {
          "color": "rgba(255, 153, 51, 0.6)",
          "line": {
           "color": "rgba(255, 153, 51, 1.0)",
           "width": 1
          }
         },
         "name": "Values",
         "orientation": "v",
         "text": "",
         "type": "bar",
         "x": [
          "A",
          "B",
          "C"
         ],
         "y": [
          32,
          45,
          67
         ]
        }
       ],
       "layout": {
        "legend": {
         "bgcolor": "#F5F6F9",
         "font": {
          "color": "#4D5663"
         }
        },
        "paper_bgcolor": "#F5F6F9",
        "plot_bgcolor": "#F5F6F9",
        "template": {
         "data": {
          "bar": [
           {
            "error_x": {
             "color": "#2a3f5f"
            },
            "error_y": {
             "color": "#2a3f5f"
            },
            "marker": {
             "line": {
              "color": "#E5ECF6",
              "width": 0.5
             }
            },
            "type": "bar"
           }
          ],
          "barpolar": [
           {
            "marker": {
             "line": {
              "color": "#E5ECF6",
              "width": 0.5
             }
            },
            "type": "barpolar"
           }
          ],
          "carpet": [
           {
            "aaxis": {
             "endlinecolor": "#2a3f5f",
             "gridcolor": "white",
             "linecolor": "white",
             "minorgridcolor": "white",
             "startlinecolor": "#2a3f5f"
            },
            "baxis": {
             "endlinecolor": "#2a3f5f",
             "gridcolor": "white",
             "linecolor": "white",
             "minorgridcolor": "white",
             "startlinecolor": "#2a3f5f"
            },
            "type": "carpet"
           }
          ],
          "choropleth": [
           {
            "colorbar": {
             "outlinewidth": 0,
             "ticks": ""
            },
            "type": "choropleth"
           }
          ],
          "contour": [
           {
            "colorbar": {
             "outlinewidth": 0,
             "ticks": ""
            },
            "colorscale": [
             [
              0,
              "#0d0887"
             ],
             [
              0.1111111111111111,
              "#46039f"
             ],
             [
              0.2222222222222222,
              "#7201a8"
             ],
             [
              0.3333333333333333,
              "#9c179e"
             ],
             [
              0.4444444444444444,
              "#bd3786"
             ],
             [
              0.5555555555555556,
              "#d8576b"
             ],
             [
              0.6666666666666666,
              "#ed7953"
             ],
             [
              0.7777777777777778,
              "#fb9f3a"
             ],
             [
              0.8888888888888888,
              "#fdca26"
             ],
             [
              1,
              "#f0f921"
             ]
            ],
            "type": "contour"
           }
          ],
          "contourcarpet": [
           {
            "colorbar": {
             "outlinewidth": 0,
             "ticks": ""
            },
            "type": "contourcarpet"
           }
          ],
          "heatmap": [
           {
            "colorbar": {
             "outlinewidth": 0,
             "ticks": ""
            },
            "colorscale": [
             [
              0,
              "#0d0887"
             ],
             [
              0.1111111111111111,
              "#46039f"
             ],
             [
              0.2222222222222222,
              "#7201a8"
             ],
             [
              0.3333333333333333,
              "#9c179e"
             ],
             [
              0.4444444444444444,
              "#bd3786"
             ],
             [
              0.5555555555555556,
              "#d8576b"
             ],
             [
              0.6666666666666666,
              "#ed7953"
             ],
             [
              0.7777777777777778,
              "#fb9f3a"
             ],
             [
              0.8888888888888888,
              "#fdca26"
             ],
             [
              1,
              "#f0f921"
             ]
            ],
            "type": "heatmap"
           }
          ],
          "heatmapgl": [
           {
            "colorbar": {
             "outlinewidth": 0,
             "ticks": ""
            },
            "colorscale": [
             [
              0,
              "#0d0887"
             ],
             [
              0.1111111111111111,
              "#46039f"
             ],
             [
              0.2222222222222222,
              "#7201a8"
             ],
             [
              0.3333333333333333,
              "#9c179e"
             ],
             [
              0.4444444444444444,
              "#bd3786"
             ],
             [
              0.5555555555555556,
              "#d8576b"
             ],
             [
              0.6666666666666666,
              "#ed7953"
             ],
             [
              0.7777777777777778,
              "#fb9f3a"
             ],
             [
              0.8888888888888888,
              "#fdca26"
             ],
             [
              1,
              "#f0f921"
             ]
            ],
            "type": "heatmapgl"
           }
          ],
          "histogram": [
           {
            "marker": {
             "colorbar": {
              "outlinewidth": 0,
              "ticks": ""
             }
            },
            "type": "histogram"
           }
          ],
          "histogram2d": [
           {
            "colorbar": {
             "outlinewidth": 0,
             "ticks": ""
            },
            "colorscale": [
             [
              0,
              "#0d0887"
             ],
             [
              0.1111111111111111,
              "#46039f"
             ],
             [
              0.2222222222222222,
              "#7201a8"
             ],
             [
              0.3333333333333333,
              "#9c179e"
             ],
             [
              0.4444444444444444,
              "#bd3786"
             ],
             [
              0.5555555555555556,
              "#d8576b"
             ],
             [
              0.6666666666666666,
              "#ed7953"
             ],
             [
              0.7777777777777778,
              "#fb9f3a"
             ],
             [
              0.8888888888888888,
              "#fdca26"
             ],
             [
              1,
              "#f0f921"
             ]
            ],
            "type": "histogram2d"
           }
          ],
          "histogram2dcontour": [
           {
            "colorbar": {
             "outlinewidth": 0,
             "ticks": ""
            },
            "colorscale": [
             [
              0,
              "#0d0887"
             ],
             [
              0.1111111111111111,
              "#46039f"
             ],
             [
              0.2222222222222222,
              "#7201a8"
             ],
             [
              0.3333333333333333,
              "#9c179e"
             ],
             [
              0.4444444444444444,
              "#bd3786"
             ],
             [
              0.5555555555555556,
              "#d8576b"
             ],
             [
              0.6666666666666666,
              "#ed7953"
             ],
             [
              0.7777777777777778,
              "#fb9f3a"
             ],
             [
              0.8888888888888888,
              "#fdca26"
             ],
             [
              1,
              "#f0f921"
             ]
            ],
            "type": "histogram2dcontour"
           }
          ],
          "mesh3d": [
           {
            "colorbar": {
             "outlinewidth": 0,
             "ticks": ""
            },
            "type": "mesh3d"
           }
          ],
          "parcoords": [
           {
            "line": {
             "colorbar": {
              "outlinewidth": 0,
              "ticks": ""
             }
            },
            "type": "parcoords"
           }
          ],
          "pie": [
           {
            "automargin": true,
            "type": "pie"
           }
          ],
          "scatter": [
           {
            "marker": {
             "colorbar": {
              "outlinewidth": 0,
              "ticks": ""
             }
            },
            "type": "scatter"
           }
          ],
          "scatter3d": [
           {
            "line": {
             "colorbar": {
              "outlinewidth": 0,
              "ticks": ""
             }
            },
            "marker": {
             "colorbar": {
              "outlinewidth": 0,
              "ticks": ""
             }
            },
            "type": "scatter3d"
           }
          ],
          "scattercarpet": [
           {
            "marker": {
             "colorbar": {
              "outlinewidth": 0,
              "ticks": ""
             }
            },
            "type": "scattercarpet"
           }
          ],
          "scattergeo": [
           {
            "marker": {
             "colorbar": {
              "outlinewidth": 0,
              "ticks": ""
             }
            },
            "type": "scattergeo"
           }
          ],
          "scattergl": [
           {
            "marker": {
             "colorbar": {
              "outlinewidth": 0,
              "ticks": ""
             }
            },
            "type": "scattergl"
           }
          ],
          "scattermapbox": [
           {
            "marker": {
             "colorbar": {
              "outlinewidth": 0,
              "ticks": ""
             }
            },
            "type": "scattermapbox"
           }
          ],
          "scatterpolar": [
           {
            "marker": {
             "colorbar": {
              "outlinewidth": 0,
              "ticks": ""
             }
            },
            "type": "scatterpolar"
           }
          ],
          "scatterpolargl": [
           {
            "marker": {
             "colorbar": {
              "outlinewidth": 0,
              "ticks": ""
             }
            },
            "type": "scatterpolargl"
           }
          ],
          "scatterternary": [
           {
            "marker": {
             "colorbar": {
              "outlinewidth": 0,
              "ticks": ""
             }
            },
            "type": "scatterternary"
           }
          ],
          "surface": [
           {
            "colorbar": {
             "outlinewidth": 0,
             "ticks": ""
            },
            "colorscale": [
             [
              0,
              "#0d0887"
             ],
             [
              0.1111111111111111,
              "#46039f"
             ],
             [
              0.2222222222222222,
              "#7201a8"
             ],
             [
              0.3333333333333333,
              "#9c179e"
             ],
             [
              0.4444444444444444,
              "#bd3786"
             ],
             [
              0.5555555555555556,
              "#d8576b"
             ],
             [
              0.6666666666666666,
              "#ed7953"
             ],
             [
              0.7777777777777778,
              "#fb9f3a"
             ],
             [
              0.8888888888888888,
              "#fdca26"
             ],
             [
              1,
              "#f0f921"
             ]
            ],
            "type": "surface"
           }
          ],
          "table": [
           {
            "cells": {
             "fill": {
              "color": "#EBF0F8"
             },
             "line": {
              "color": "white"
             }
            },
            "header": {
             "fill": {
              "color": "#C8D4E3"
             },
             "line": {
              "color": "white"
             }
            },
            "type": "table"
           }
          ]
         },
         "layout": {
          "annotationdefaults": {
           "arrowcolor": "#2a3f5f",
           "arrowhead": 0,
           "arrowwidth": 1
          },
          "autotypenumbers": "strict",
          "coloraxis": {
           "colorbar": {
            "outlinewidth": 0,
            "ticks": ""
           }
          },
          "colorscale": {
           "diverging": [
            [
             0,
             "#8e0152"
            ],
            [
             0.1,
             "#c51b7d"
            ],
            [
             0.2,
             "#de77ae"
            ],
            [
             0.3,
             "#f1b6da"
            ],
            [
             0.4,
             "#fde0ef"
            ],
            [
             0.5,
             "#f7f7f7"
            ],
            [
             0.6,
             "#e6f5d0"
            ],
            [
             0.7,
             "#b8e186"
            ],
            [
             0.8,
             "#7fbc41"
            ],
            [
             0.9,
             "#4d9221"
            ],
            [
             1,
             "#276419"
            ]
           ],
           "sequential": [
            [
             0,
             "#0d0887"
            ],
            [
             0.1111111111111111,
             "#46039f"
            ],
            [
             0.2222222222222222,
             "#7201a8"
            ],
            [
             0.3333333333333333,
             "#9c179e"
            ],
            [
             0.4444444444444444,
             "#bd3786"
            ],
            [
             0.5555555555555556,
             "#d8576b"
            ],
            [
             0.6666666666666666,
             "#ed7953"
            ],
            [
             0.7777777777777778,
             "#fb9f3a"
            ],
            [
             0.8888888888888888,
             "#fdca26"
            ],
            [
             1,
             "#f0f921"
            ]
           ],
           "sequentialminus": [
            [
             0,
             "#0d0887"
            ],
            [
             0.1111111111111111,
             "#46039f"
            ],
            [
             0.2222222222222222,
             "#7201a8"
            ],
            [
             0.3333333333333333,
             "#9c179e"
            ],
            [
             0.4444444444444444,
             "#bd3786"
            ],
            [
             0.5555555555555556,
             "#d8576b"
            ],
            [
             0.6666666666666666,
             "#ed7953"
            ],
            [
             0.7777777777777778,
             "#fb9f3a"
            ],
            [
             0.8888888888888888,
             "#fdca26"
            ],
            [
             1,
             "#f0f921"
            ]
           ]
          },
          "colorway": [
           "#636efa",
           "#EF553B",
           "#00cc96",
           "#ab63fa",
           "#FFA15A",
           "#19d3f3",
           "#FF6692",
           "#B6E880",
           "#FF97FF",
           "#FECB52"
          ],
          "font": {
           "color": "#2a3f5f"
          },
          "geo": {
           "bgcolor": "white",
           "lakecolor": "white",
           "landcolor": "#E5ECF6",
           "showlakes": true,
           "showland": true,
           "subunitcolor": "white"
          },
          "hoverlabel": {
           "align": "left"
          },
          "hovermode": "closest",
          "mapbox": {
           "style": "light"
          },
          "paper_bgcolor": "white",
          "plot_bgcolor": "#E5ECF6",
          "polar": {
           "angularaxis": {
            "gridcolor": "white",
            "linecolor": "white",
            "ticks": ""
           },
           "bgcolor": "#E5ECF6",
           "radialaxis": {
            "gridcolor": "white",
            "linecolor": "white",
            "ticks": ""
           }
          },
          "scene": {
           "xaxis": {
            "backgroundcolor": "#E5ECF6",
            "gridcolor": "white",
            "gridwidth": 2,
            "linecolor": "white",
            "showbackground": true,
            "ticks": "",
            "zerolinecolor": "white"
           },
           "yaxis": {
            "backgroundcolor": "#E5ECF6",
            "gridcolor": "white",
            "gridwidth": 2,
            "linecolor": "white",
            "showbackground": true,
            "ticks": "",
            "zerolinecolor": "white"
           },
           "zaxis": {
            "backgroundcolor": "#E5ECF6",
            "gridcolor": "white",
            "gridwidth": 2,
            "linecolor": "white",
            "showbackground": true,
            "ticks": "",
            "zerolinecolor": "white"
           }
          },
          "shapedefaults": {
           "line": {
            "color": "#2a3f5f"
           }
          },
          "ternary": {
           "aaxis": {
            "gridcolor": "white",
            "linecolor": "white",
            "ticks": ""
           },
           "baxis": {
            "gridcolor": "white",
            "linecolor": "white",
            "ticks": ""
           },
           "bgcolor": "#E5ECF6",
           "caxis": {
            "gridcolor": "white",
            "linecolor": "white",
            "ticks": ""
           }
          },
          "title": {
           "x": 0.05
          },
          "xaxis": {
           "automargin": true,
           "gridcolor": "white",
           "linecolor": "white",
           "ticks": "",
           "title": {
            "standoff": 15
           },
           "zerolinecolor": "white",
           "zerolinewidth": 2
          },
          "yaxis": {
           "automargin": true,
           "gridcolor": "white",
           "linecolor": "white",
           "ticks": "",
           "title": {
            "standoff": 15
           },
           "zerolinecolor": "white",
           "zerolinewidth": 2
          }
         }
        },
        "title": {
         "font": {
          "color": "#4D5663"
         }
        },
        "xaxis": {
         "gridcolor": "#E1E5ED",
         "showgrid": true,
         "tickfont": {
          "color": "#4D5663"
         },
         "title": {
          "font": {
           "color": "#4D5663"
          },
          "text": ""
         },
         "zerolinecolor": "#E1E5ED"
        },
        "yaxis": {
         "gridcolor": "#E1E5ED",
         "showgrid": true,
         "tickfont": {
          "color": "#4D5663"
         },
         "title": {
          "font": {
           "color": "#4D5663"
          },
          "text": ""
         },
         "zerolinecolor": "#E1E5ED"
        }
       }
      },
      "text/html": [
       "<div>                            <div id=\"5ac77eb8-93d7-4d65-ac99-e2036dcefc83\" class=\"plotly-graph-div\" style=\"height:525px; width:100%;\"></div>            <script type=\"text/javascript\">                require([\"plotly\"], function(Plotly) {                    window.PLOTLYENV=window.PLOTLYENV || {};\n",
       "                    window.PLOTLYENV.BASE_URL='https://plot.ly';                                    if (document.getElementById(\"5ac77eb8-93d7-4d65-ac99-e2036dcefc83\")) {                    Plotly.newPlot(                        \"5ac77eb8-93d7-4d65-ac99-e2036dcefc83\",                        [{\"marker\": {\"color\": \"rgba(255, 153, 51, 0.6)\", \"line\": {\"color\": \"rgba(255, 153, 51, 1.0)\", \"width\": 1}}, \"name\": \"Values\", \"orientation\": \"v\", \"text\": \"\", \"type\": \"bar\", \"x\": [\"A\", \"B\", \"C\"], \"y\": [32, 45, 67]}],                        {\"legend\": {\"bgcolor\": \"#F5F6F9\", \"font\": {\"color\": \"#4D5663\"}}, \"paper_bgcolor\": \"#F5F6F9\", \"plot_bgcolor\": \"#F5F6F9\", \"template\": {\"data\": {\"bar\": [{\"error_x\": {\"color\": \"#2a3f5f\"}, \"error_y\": {\"color\": \"#2a3f5f\"}, \"marker\": {\"line\": {\"color\": \"#E5ECF6\", \"width\": 0.5}}, \"type\": \"bar\"}], \"barpolar\": [{\"marker\": {\"line\": {\"color\": \"#E5ECF6\", \"width\": 0.5}}, \"type\": \"barpolar\"}], \"carpet\": [{\"aaxis\": {\"endlinecolor\": \"#2a3f5f\", \"gridcolor\": \"white\", \"linecolor\": \"white\", \"minorgridcolor\": \"white\", \"startlinecolor\": \"#2a3f5f\"}, \"baxis\": {\"endlinecolor\": \"#2a3f5f\", \"gridcolor\": \"white\", \"linecolor\": \"white\", \"minorgridcolor\": \"white\", \"startlinecolor\": \"#2a3f5f\"}, \"type\": \"carpet\"}], \"choropleth\": [{\"colorbar\": {\"outlinewidth\": 0, \"ticks\": \"\"}, \"type\": \"choropleth\"}], \"contour\": [{\"colorbar\": {\"outlinewidth\": 0, \"ticks\": \"\"}, \"colorscale\": [[0.0, \"#0d0887\"], [0.1111111111111111, \"#46039f\"], [0.2222222222222222, \"#7201a8\"], [0.3333333333333333, \"#9c179e\"], [0.4444444444444444, \"#bd3786\"], [0.5555555555555556, \"#d8576b\"], [0.6666666666666666, \"#ed7953\"], [0.7777777777777778, \"#fb9f3a\"], [0.8888888888888888, \"#fdca26\"], [1.0, \"#f0f921\"]], \"type\": \"contour\"}], \"contourcarpet\": [{\"colorbar\": {\"outlinewidth\": 0, \"ticks\": \"\"}, \"type\": \"contourcarpet\"}], \"heatmap\": [{\"colorbar\": {\"outlinewidth\": 0, \"ticks\": \"\"}, \"colorscale\": [[0.0, \"#0d0887\"], [0.1111111111111111, \"#46039f\"], [0.2222222222222222, \"#7201a8\"], [0.3333333333333333, \"#9c179e\"], [0.4444444444444444, \"#bd3786\"], [0.5555555555555556, \"#d8576b\"], [0.6666666666666666, \"#ed7953\"], [0.7777777777777778, \"#fb9f3a\"], [0.8888888888888888, \"#fdca26\"], [1.0, \"#f0f921\"]], \"type\": \"heatmap\"}], \"heatmapgl\": [{\"colorbar\": {\"outlinewidth\": 0, \"ticks\": \"\"}, \"colorscale\": [[0.0, \"#0d0887\"], [0.1111111111111111, \"#46039f\"], [0.2222222222222222, \"#7201a8\"], [0.3333333333333333, \"#9c179e\"], [0.4444444444444444, \"#bd3786\"], [0.5555555555555556, \"#d8576b\"], [0.6666666666666666, \"#ed7953\"], [0.7777777777777778, \"#fb9f3a\"], [0.8888888888888888, \"#fdca26\"], [1.0, \"#f0f921\"]], \"type\": \"heatmapgl\"}], \"histogram\": [{\"marker\": {\"colorbar\": {\"outlinewidth\": 0, \"ticks\": \"\"}}, \"type\": \"histogram\"}], \"histogram2d\": [{\"colorbar\": {\"outlinewidth\": 0, \"ticks\": \"\"}, \"colorscale\": [[0.0, \"#0d0887\"], [0.1111111111111111, \"#46039f\"], [0.2222222222222222, \"#7201a8\"], [0.3333333333333333, \"#9c179e\"], [0.4444444444444444, \"#bd3786\"], [0.5555555555555556, \"#d8576b\"], [0.6666666666666666, \"#ed7953\"], [0.7777777777777778, \"#fb9f3a\"], [0.8888888888888888, \"#fdca26\"], [1.0, \"#f0f921\"]], \"type\": \"histogram2d\"}], \"histogram2dcontour\": [{\"colorbar\": {\"outlinewidth\": 0, \"ticks\": \"\"}, \"colorscale\": [[0.0, \"#0d0887\"], [0.1111111111111111, \"#46039f\"], [0.2222222222222222, \"#7201a8\"], [0.3333333333333333, \"#9c179e\"], [0.4444444444444444, \"#bd3786\"], [0.5555555555555556, \"#d8576b\"], [0.6666666666666666, \"#ed7953\"], [0.7777777777777778, \"#fb9f3a\"], [0.8888888888888888, \"#fdca26\"], [1.0, \"#f0f921\"]], \"type\": \"histogram2dcontour\"}], \"mesh3d\": [{\"colorbar\": {\"outlinewidth\": 0, \"ticks\": \"\"}, \"type\": \"mesh3d\"}], \"parcoords\": [{\"line\": {\"colorbar\": {\"outlinewidth\": 0, \"ticks\": \"\"}}, \"type\": \"parcoords\"}], \"pie\": [{\"automargin\": true, \"type\": \"pie\"}], \"scatter\": [{\"marker\": {\"colorbar\": {\"outlinewidth\": 0, \"ticks\": \"\"}}, \"type\": \"scatter\"}], \"scatter3d\": [{\"line\": {\"colorbar\": {\"outlinewidth\": 0, \"ticks\": \"\"}}, \"marker\": {\"colorbar\": {\"outlinewidth\": 0, \"ticks\": \"\"}}, \"type\": \"scatter3d\"}], \"scattercarpet\": [{\"marker\": {\"colorbar\": {\"outlinewidth\": 0, \"ticks\": \"\"}}, \"type\": \"scattercarpet\"}], \"scattergeo\": [{\"marker\": {\"colorbar\": {\"outlinewidth\": 0, \"ticks\": \"\"}}, \"type\": \"scattergeo\"}], \"scattergl\": [{\"marker\": {\"colorbar\": {\"outlinewidth\": 0, \"ticks\": \"\"}}, \"type\": \"scattergl\"}], \"scattermapbox\": [{\"marker\": {\"colorbar\": {\"outlinewidth\": 0, \"ticks\": \"\"}}, \"type\": \"scattermapbox\"}], \"scatterpolar\": [{\"marker\": {\"colorbar\": {\"outlinewidth\": 0, \"ticks\": \"\"}}, \"type\": \"scatterpolar\"}], \"scatterpolargl\": [{\"marker\": {\"colorbar\": {\"outlinewidth\": 0, \"ticks\": \"\"}}, \"type\": \"scatterpolargl\"}], \"scatterternary\": [{\"marker\": {\"colorbar\": {\"outlinewidth\": 0, \"ticks\": \"\"}}, \"type\": \"scatterternary\"}], \"surface\": [{\"colorbar\": {\"outlinewidth\": 0, \"ticks\": \"\"}, \"colorscale\": [[0.0, \"#0d0887\"], [0.1111111111111111, \"#46039f\"], [0.2222222222222222, \"#7201a8\"], [0.3333333333333333, \"#9c179e\"], [0.4444444444444444, \"#bd3786\"], [0.5555555555555556, \"#d8576b\"], [0.6666666666666666, \"#ed7953\"], [0.7777777777777778, \"#fb9f3a\"], [0.8888888888888888, \"#fdca26\"], [1.0, \"#f0f921\"]], \"type\": \"surface\"}], \"table\": [{\"cells\": {\"fill\": {\"color\": \"#EBF0F8\"}, \"line\": {\"color\": \"white\"}}, \"header\": {\"fill\": {\"color\": \"#C8D4E3\"}, \"line\": {\"color\": \"white\"}}, \"type\": \"table\"}]}, \"layout\": {\"annotationdefaults\": {\"arrowcolor\": \"#2a3f5f\", \"arrowhead\": 0, \"arrowwidth\": 1}, \"autotypenumbers\": \"strict\", \"coloraxis\": {\"colorbar\": {\"outlinewidth\": 0, \"ticks\": \"\"}}, \"colorscale\": {\"diverging\": [[0, \"#8e0152\"], [0.1, \"#c51b7d\"], [0.2, \"#de77ae\"], [0.3, \"#f1b6da\"], [0.4, \"#fde0ef\"], [0.5, \"#f7f7f7\"], [0.6, \"#e6f5d0\"], [0.7, \"#b8e186\"], [0.8, \"#7fbc41\"], [0.9, \"#4d9221\"], [1, \"#276419\"]], \"sequential\": [[0.0, \"#0d0887\"], [0.1111111111111111, \"#46039f\"], [0.2222222222222222, \"#7201a8\"], [0.3333333333333333, \"#9c179e\"], [0.4444444444444444, \"#bd3786\"], [0.5555555555555556, \"#d8576b\"], [0.6666666666666666, \"#ed7953\"], [0.7777777777777778, \"#fb9f3a\"], [0.8888888888888888, \"#fdca26\"], [1.0, \"#f0f921\"]], \"sequentialminus\": [[0.0, \"#0d0887\"], [0.1111111111111111, \"#46039f\"], [0.2222222222222222, \"#7201a8\"], [0.3333333333333333, \"#9c179e\"], [0.4444444444444444, \"#bd3786\"], [0.5555555555555556, \"#d8576b\"], [0.6666666666666666, \"#ed7953\"], [0.7777777777777778, \"#fb9f3a\"], [0.8888888888888888, \"#fdca26\"], [1.0, \"#f0f921\"]]}, \"colorway\": [\"#636efa\", \"#EF553B\", \"#00cc96\", \"#ab63fa\", \"#FFA15A\", \"#19d3f3\", \"#FF6692\", \"#B6E880\", \"#FF97FF\", \"#FECB52\"], \"font\": {\"color\": \"#2a3f5f\"}, \"geo\": {\"bgcolor\": \"white\", \"lakecolor\": \"white\", \"landcolor\": \"#E5ECF6\", \"showlakes\": true, \"showland\": true, \"subunitcolor\": \"white\"}, \"hoverlabel\": {\"align\": \"left\"}, \"hovermode\": \"closest\", \"mapbox\": {\"style\": \"light\"}, \"paper_bgcolor\": \"white\", \"plot_bgcolor\": \"#E5ECF6\", \"polar\": {\"angularaxis\": {\"gridcolor\": \"white\", \"linecolor\": \"white\", \"ticks\": \"\"}, \"bgcolor\": \"#E5ECF6\", \"radialaxis\": {\"gridcolor\": \"white\", \"linecolor\": \"white\", \"ticks\": \"\"}}, \"scene\": {\"xaxis\": {\"backgroundcolor\": \"#E5ECF6\", \"gridcolor\": \"white\", \"gridwidth\": 2, \"linecolor\": \"white\", \"showbackground\": true, \"ticks\": \"\", \"zerolinecolor\": \"white\"}, \"yaxis\": {\"backgroundcolor\": \"#E5ECF6\", \"gridcolor\": \"white\", \"gridwidth\": 2, \"linecolor\": \"white\", \"showbackground\": true, \"ticks\": \"\", \"zerolinecolor\": \"white\"}, \"zaxis\": {\"backgroundcolor\": \"#E5ECF6\", \"gridcolor\": \"white\", \"gridwidth\": 2, \"linecolor\": \"white\", \"showbackground\": true, \"ticks\": \"\", \"zerolinecolor\": \"white\"}}, \"shapedefaults\": {\"line\": {\"color\": \"#2a3f5f\"}}, \"ternary\": {\"aaxis\": {\"gridcolor\": \"white\", \"linecolor\": \"white\", \"ticks\": \"\"}, \"baxis\": {\"gridcolor\": \"white\", \"linecolor\": \"white\", \"ticks\": \"\"}, \"bgcolor\": \"#E5ECF6\", \"caxis\": {\"gridcolor\": \"white\", \"linecolor\": \"white\", \"ticks\": \"\"}}, \"title\": {\"x\": 0.05}, \"xaxis\": {\"automargin\": true, \"gridcolor\": \"white\", \"linecolor\": \"white\", \"ticks\": \"\", \"title\": {\"standoff\": 15}, \"zerolinecolor\": \"white\", \"zerolinewidth\": 2}, \"yaxis\": {\"automargin\": true, \"gridcolor\": \"white\", \"linecolor\": \"white\", \"ticks\": \"\", \"title\": {\"standoff\": 15}, \"zerolinecolor\": \"white\", \"zerolinewidth\": 2}}}, \"title\": {\"font\": {\"color\": \"#4D5663\"}}, \"xaxis\": {\"gridcolor\": \"#E1E5ED\", \"showgrid\": true, \"tickfont\": {\"color\": \"#4D5663\"}, \"title\": {\"font\": {\"color\": \"#4D5663\"}, \"text\": \"\"}, \"zerolinecolor\": \"#E1E5ED\"}, \"yaxis\": {\"gridcolor\": \"#E1E5ED\", \"showgrid\": true, \"tickfont\": {\"color\": \"#4D5663\"}, \"title\": {\"font\": {\"color\": \"#4D5663\"}, \"text\": \"\"}, \"zerolinecolor\": \"#E1E5ED\"}},                        {\"showLink\": true, \"linkText\": \"Export to plot.ly\", \"plotlyServerURL\": \"https://plot.ly\", \"responsive\": true}                    ).then(function(){\n",
       "                            \n",
       "var gd = document.getElementById('5ac77eb8-93d7-4d65-ac99-e2036dcefc83');\n",
       "var x = new MutationObserver(function (mutations, observer) {{\n",
       "        var display = window.getComputedStyle(gd).display;\n",
       "        if (!display || display === 'none') {{\n",
       "            console.log([gd, 'removed!']);\n",
       "            Plotly.purge(gd);\n",
       "            observer.disconnect();\n",
       "        }}\n",
       "}});\n",
       "\n",
       "// Listen for the removal of the full notebook cells\n",
       "var notebookContainer = gd.closest('#notebook-container');\n",
       "if (notebookContainer) {{\n",
       "    x.observe(notebookContainer, {childList: true});\n",
       "}}\n",
       "\n",
       "// Listen for the clearing of the current output cell\n",
       "var outputEl = gd.closest('.output');\n",
       "if (outputEl) {{\n",
       "    x.observe(outputEl, {childList: true});\n",
       "}}\n",
       "\n",
       "                        })                };                });            </script>        </div>"
      ]
     },
     "metadata": {},
     "output_type": "display_data"
    }
   ],
   "source": [
    "df2.iplot(kind=\"bar\",x=\"Category\",y=\"Values\")"
   ]
  },
  {
   "cell_type": "code",
   "execution_count": 20,
   "metadata": {},
   "outputs": [],
   "source": [
    "df3=pd.DataFrame({\"x\":[1,2,3,4,5],\"y\":[10,20,30,20,10],\"z\":[5,4,3,2,1]})"
   ]
  },
  {
   "cell_type": "code",
   "execution_count": 21,
   "metadata": {},
   "outputs": [
    {
     "data": {
      "text/html": [
       "<div>\n",
       "<style scoped>\n",
       "    .dataframe tbody tr th:only-of-type {\n",
       "        vertical-align: middle;\n",
       "    }\n",
       "\n",
       "    .dataframe tbody tr th {\n",
       "        vertical-align: top;\n",
       "    }\n",
       "\n",
       "    .dataframe thead th {\n",
       "        text-align: right;\n",
       "    }\n",
       "</style>\n",
       "<table border=\"1\" class=\"dataframe\">\n",
       "  <thead>\n",
       "    <tr style=\"text-align: right;\">\n",
       "      <th></th>\n",
       "      <th>x</th>\n",
       "      <th>y</th>\n",
       "      <th>z</th>\n",
       "    </tr>\n",
       "  </thead>\n",
       "  <tbody>\n",
       "    <tr>\n",
       "      <td>0</td>\n",
       "      <td>1</td>\n",
       "      <td>10</td>\n",
       "      <td>5</td>\n",
       "    </tr>\n",
       "    <tr>\n",
       "      <td>1</td>\n",
       "      <td>2</td>\n",
       "      <td>20</td>\n",
       "      <td>4</td>\n",
       "    </tr>\n",
       "    <tr>\n",
       "      <td>2</td>\n",
       "      <td>3</td>\n",
       "      <td>30</td>\n",
       "      <td>3</td>\n",
       "    </tr>\n",
       "    <tr>\n",
       "      <td>3</td>\n",
       "      <td>4</td>\n",
       "      <td>20</td>\n",
       "      <td>2</td>\n",
       "    </tr>\n",
       "    <tr>\n",
       "      <td>4</td>\n",
       "      <td>5</td>\n",
       "      <td>10</td>\n",
       "      <td>1</td>\n",
       "    </tr>\n",
       "  </tbody>\n",
       "</table>\n",
       "</div>"
      ],
      "text/plain": [
       "   x   y  z\n",
       "0  1  10  5\n",
       "1  2  20  4\n",
       "2  3  30  3\n",
       "3  4  20  2\n",
       "4  5  10  1"
      ]
     },
     "execution_count": 21,
     "metadata": {},
     "output_type": "execute_result"
    }
   ],
   "source": [
    "df3.head()"
   ]
  },
  {
   "cell_type": "code",
   "execution_count": 22,
   "metadata": {},
   "outputs": [
    {
     "data": {
      "application/vnd.plotly.v1+json": {
       "config": {
        "linkText": "Export to plot.ly",
        "plotlyServerURL": "https://plot.ly",
        "showLink": true
       },
       "data": [
        {
         "colorscale": [
          [
           0,
           "rgb(165,0,38)"
          ],
          [
           0.1,
           "rgb(215,48,39)"
          ],
          [
           0.2,
           "rgb(244,109,67)"
          ],
          [
           0.3,
           "rgb(253,174,97)"
          ],
          [
           0.4,
           "rgb(254,224,144)"
          ],
          [
           0.5,
           "rgb(255,255,191)"
          ],
          [
           0.6,
           "rgb(224,243,248)"
          ],
          [
           0.7,
           "rgb(171,217,233)"
          ],
          [
           0.8,
           "rgb(116,173,209)"
          ],
          [
           0.9,
           "rgb(69,117,180)"
          ],
          [
           1,
           "rgb(49,54,149)"
          ]
         ],
         "type": "surface",
         "x": [
          0,
          1,
          2,
          3,
          4
         ],
         "y": [
          "x",
          "y",
          "z"
         ],
         "z": [
          [
           1,
           2,
           3,
           4,
           5
          ],
          [
           10,
           20,
           30,
           20,
           10
          ],
          [
           5,
           4,
           3,
           2,
           1
          ]
         ]
        }
       ],
       "layout": {
        "legend": {
         "bgcolor": "#F5F6F9",
         "font": {
          "color": "#4D5663"
         }
        },
        "paper_bgcolor": "#F5F6F9",
        "plot_bgcolor": "#F5F6F9",
        "template": {
         "data": {
          "bar": [
           {
            "error_x": {
             "color": "#2a3f5f"
            },
            "error_y": {
             "color": "#2a3f5f"
            },
            "marker": {
             "line": {
              "color": "#E5ECF6",
              "width": 0.5
             }
            },
            "type": "bar"
           }
          ],
          "barpolar": [
           {
            "marker": {
             "line": {
              "color": "#E5ECF6",
              "width": 0.5
             }
            },
            "type": "barpolar"
           }
          ],
          "carpet": [
           {
            "aaxis": {
             "endlinecolor": "#2a3f5f",
             "gridcolor": "white",
             "linecolor": "white",
             "minorgridcolor": "white",
             "startlinecolor": "#2a3f5f"
            },
            "baxis": {
             "endlinecolor": "#2a3f5f",
             "gridcolor": "white",
             "linecolor": "white",
             "minorgridcolor": "white",
             "startlinecolor": "#2a3f5f"
            },
            "type": "carpet"
           }
          ],
          "choropleth": [
           {
            "colorbar": {
             "outlinewidth": 0,
             "ticks": ""
            },
            "type": "choropleth"
           }
          ],
          "contour": [
           {
            "colorbar": {
             "outlinewidth": 0,
             "ticks": ""
            },
            "colorscale": [
             [
              0,
              "#0d0887"
             ],
             [
              0.1111111111111111,
              "#46039f"
             ],
             [
              0.2222222222222222,
              "#7201a8"
             ],
             [
              0.3333333333333333,
              "#9c179e"
             ],
             [
              0.4444444444444444,
              "#bd3786"
             ],
             [
              0.5555555555555556,
              "#d8576b"
             ],
             [
              0.6666666666666666,
              "#ed7953"
             ],
             [
              0.7777777777777778,
              "#fb9f3a"
             ],
             [
              0.8888888888888888,
              "#fdca26"
             ],
             [
              1,
              "#f0f921"
             ]
            ],
            "type": "contour"
           }
          ],
          "contourcarpet": [
           {
            "colorbar": {
             "outlinewidth": 0,
             "ticks": ""
            },
            "type": "contourcarpet"
           }
          ],
          "heatmap": [
           {
            "colorbar": {
             "outlinewidth": 0,
             "ticks": ""
            },
            "colorscale": [
             [
              0,
              "#0d0887"
             ],
             [
              0.1111111111111111,
              "#46039f"
             ],
             [
              0.2222222222222222,
              "#7201a8"
             ],
             [
              0.3333333333333333,
              "#9c179e"
             ],
             [
              0.4444444444444444,
              "#bd3786"
             ],
             [
              0.5555555555555556,
              "#d8576b"
             ],
             [
              0.6666666666666666,
              "#ed7953"
             ],
             [
              0.7777777777777778,
              "#fb9f3a"
             ],
             [
              0.8888888888888888,
              "#fdca26"
             ],
             [
              1,
              "#f0f921"
             ]
            ],
            "type": "heatmap"
           }
          ],
          "heatmapgl": [
           {
            "colorbar": {
             "outlinewidth": 0,
             "ticks": ""
            },
            "colorscale": [
             [
              0,
              "#0d0887"
             ],
             [
              0.1111111111111111,
              "#46039f"
             ],
             [
              0.2222222222222222,
              "#7201a8"
             ],
             [
              0.3333333333333333,
              "#9c179e"
             ],
             [
              0.4444444444444444,
              "#bd3786"
             ],
             [
              0.5555555555555556,
              "#d8576b"
             ],
             [
              0.6666666666666666,
              "#ed7953"
             ],
             [
              0.7777777777777778,
              "#fb9f3a"
             ],
             [
              0.8888888888888888,
              "#fdca26"
             ],
             [
              1,
              "#f0f921"
             ]
            ],
            "type": "heatmapgl"
           }
          ],
          "histogram": [
           {
            "marker": {
             "colorbar": {
              "outlinewidth": 0,
              "ticks": ""
             }
            },
            "type": "histogram"
           }
          ],
          "histogram2d": [
           {
            "colorbar": {
             "outlinewidth": 0,
             "ticks": ""
            },
            "colorscale": [
             [
              0,
              "#0d0887"
             ],
             [
              0.1111111111111111,
              "#46039f"
             ],
             [
              0.2222222222222222,
              "#7201a8"
             ],
             [
              0.3333333333333333,
              "#9c179e"
             ],
             [
              0.4444444444444444,
              "#bd3786"
             ],
             [
              0.5555555555555556,
              "#d8576b"
             ],
             [
              0.6666666666666666,
              "#ed7953"
             ],
             [
              0.7777777777777778,
              "#fb9f3a"
             ],
             [
              0.8888888888888888,
              "#fdca26"
             ],
             [
              1,
              "#f0f921"
             ]
            ],
            "type": "histogram2d"
           }
          ],
          "histogram2dcontour": [
           {
            "colorbar": {
             "outlinewidth": 0,
             "ticks": ""
            },
            "colorscale": [
             [
              0,
              "#0d0887"
             ],
             [
              0.1111111111111111,
              "#46039f"
             ],
             [
              0.2222222222222222,
              "#7201a8"
             ],
             [
              0.3333333333333333,
              "#9c179e"
             ],
             [
              0.4444444444444444,
              "#bd3786"
             ],
             [
              0.5555555555555556,
              "#d8576b"
             ],
             [
              0.6666666666666666,
              "#ed7953"
             ],
             [
              0.7777777777777778,
              "#fb9f3a"
             ],
             [
              0.8888888888888888,
              "#fdca26"
             ],
             [
              1,
              "#f0f921"
             ]
            ],
            "type": "histogram2dcontour"
           }
          ],
          "mesh3d": [
           {
            "colorbar": {
             "outlinewidth": 0,
             "ticks": ""
            },
            "type": "mesh3d"
           }
          ],
          "parcoords": [
           {
            "line": {
             "colorbar": {
              "outlinewidth": 0,
              "ticks": ""
             }
            },
            "type": "parcoords"
           }
          ],
          "pie": [
           {
            "automargin": true,
            "type": "pie"
           }
          ],
          "scatter": [
           {
            "marker": {
             "colorbar": {
              "outlinewidth": 0,
              "ticks": ""
             }
            },
            "type": "scatter"
           }
          ],
          "scatter3d": [
           {
            "line": {
             "colorbar": {
              "outlinewidth": 0,
              "ticks": ""
             }
            },
            "marker": {
             "colorbar": {
              "outlinewidth": 0,
              "ticks": ""
             }
            },
            "type": "scatter3d"
           }
          ],
          "scattercarpet": [
           {
            "marker": {
             "colorbar": {
              "outlinewidth": 0,
              "ticks": ""
             }
            },
            "type": "scattercarpet"
           }
          ],
          "scattergeo": [
           {
            "marker": {
             "colorbar": {
              "outlinewidth": 0,
              "ticks": ""
             }
            },
            "type": "scattergeo"
           }
          ],
          "scattergl": [
           {
            "marker": {
             "colorbar": {
              "outlinewidth": 0,
              "ticks": ""
             }
            },
            "type": "scattergl"
           }
          ],
          "scattermapbox": [
           {
            "marker": {
             "colorbar": {
              "outlinewidth": 0,
              "ticks": ""
             }
            },
            "type": "scattermapbox"
           }
          ],
          "scatterpolar": [
           {
            "marker": {
             "colorbar": {
              "outlinewidth": 0,
              "ticks": ""
             }
            },
            "type": "scatterpolar"
           }
          ],
          "scatterpolargl": [
           {
            "marker": {
             "colorbar": {
              "outlinewidth": 0,
              "ticks": ""
             }
            },
            "type": "scatterpolargl"
           }
          ],
          "scatterternary": [
           {
            "marker": {
             "colorbar": {
              "outlinewidth": 0,
              "ticks": ""
             }
            },
            "type": "scatterternary"
           }
          ],
          "surface": [
           {
            "colorbar": {
             "outlinewidth": 0,
             "ticks": ""
            },
            "colorscale": [
             [
              0,
              "#0d0887"
             ],
             [
              0.1111111111111111,
              "#46039f"
             ],
             [
              0.2222222222222222,
              "#7201a8"
             ],
             [
              0.3333333333333333,
              "#9c179e"
             ],
             [
              0.4444444444444444,
              "#bd3786"
             ],
             [
              0.5555555555555556,
              "#d8576b"
             ],
             [
              0.6666666666666666,
              "#ed7953"
             ],
             [
              0.7777777777777778,
              "#fb9f3a"
             ],
             [
              0.8888888888888888,
              "#fdca26"
             ],
             [
              1,
              "#f0f921"
             ]
            ],
            "type": "surface"
           }
          ],
          "table": [
           {
            "cells": {
             "fill": {
              "color": "#EBF0F8"
             },
             "line": {
              "color": "white"
             }
            },
            "header": {
             "fill": {
              "color": "#C8D4E3"
             },
             "line": {
              "color": "white"
             }
            },
            "type": "table"
           }
          ]
         },
         "layout": {
          "annotationdefaults": {
           "arrowcolor": "#2a3f5f",
           "arrowhead": 0,
           "arrowwidth": 1
          },
          "autotypenumbers": "strict",
          "coloraxis": {
           "colorbar": {
            "outlinewidth": 0,
            "ticks": ""
           }
          },
          "colorscale": {
           "diverging": [
            [
             0,
             "#8e0152"
            ],
            [
             0.1,
             "#c51b7d"
            ],
            [
             0.2,
             "#de77ae"
            ],
            [
             0.3,
             "#f1b6da"
            ],
            [
             0.4,
             "#fde0ef"
            ],
            [
             0.5,
             "#f7f7f7"
            ],
            [
             0.6,
             "#e6f5d0"
            ],
            [
             0.7,
             "#b8e186"
            ],
            [
             0.8,
             "#7fbc41"
            ],
            [
             0.9,
             "#4d9221"
            ],
            [
             1,
             "#276419"
            ]
           ],
           "sequential": [
            [
             0,
             "#0d0887"
            ],
            [
             0.1111111111111111,
             "#46039f"
            ],
            [
             0.2222222222222222,
             "#7201a8"
            ],
            [
             0.3333333333333333,
             "#9c179e"
            ],
            [
             0.4444444444444444,
             "#bd3786"
            ],
            [
             0.5555555555555556,
             "#d8576b"
            ],
            [
             0.6666666666666666,
             "#ed7953"
            ],
            [
             0.7777777777777778,
             "#fb9f3a"
            ],
            [
             0.8888888888888888,
             "#fdca26"
            ],
            [
             1,
             "#f0f921"
            ]
           ],
           "sequentialminus": [
            [
             0,
             "#0d0887"
            ],
            [
             0.1111111111111111,
             "#46039f"
            ],
            [
             0.2222222222222222,
             "#7201a8"
            ],
            [
             0.3333333333333333,
             "#9c179e"
            ],
            [
             0.4444444444444444,
             "#bd3786"
            ],
            [
             0.5555555555555556,
             "#d8576b"
            ],
            [
             0.6666666666666666,
             "#ed7953"
            ],
            [
             0.7777777777777778,
             "#fb9f3a"
            ],
            [
             0.8888888888888888,
             "#fdca26"
            ],
            [
             1,
             "#f0f921"
            ]
           ]
          },
          "colorway": [
           "#636efa",
           "#EF553B",
           "#00cc96",
           "#ab63fa",
           "#FFA15A",
           "#19d3f3",
           "#FF6692",
           "#B6E880",
           "#FF97FF",
           "#FECB52"
          ],
          "font": {
           "color": "#2a3f5f"
          },
          "geo": {
           "bgcolor": "white",
           "lakecolor": "white",
           "landcolor": "#E5ECF6",
           "showlakes": true,
           "showland": true,
           "subunitcolor": "white"
          },
          "hoverlabel": {
           "align": "left"
          },
          "hovermode": "closest",
          "mapbox": {
           "style": "light"
          },
          "paper_bgcolor": "white",
          "plot_bgcolor": "#E5ECF6",
          "polar": {
           "angularaxis": {
            "gridcolor": "white",
            "linecolor": "white",
            "ticks": ""
           },
           "bgcolor": "#E5ECF6",
           "radialaxis": {
            "gridcolor": "white",
            "linecolor": "white",
            "ticks": ""
           }
          },
          "scene": {
           "xaxis": {
            "backgroundcolor": "#E5ECF6",
            "gridcolor": "white",
            "gridwidth": 2,
            "linecolor": "white",
            "showbackground": true,
            "ticks": "",
            "zerolinecolor": "white"
           },
           "yaxis": {
            "backgroundcolor": "#E5ECF6",
            "gridcolor": "white",
            "gridwidth": 2,
            "linecolor": "white",
            "showbackground": true,
            "ticks": "",
            "zerolinecolor": "white"
           },
           "zaxis": {
            "backgroundcolor": "#E5ECF6",
            "gridcolor": "white",
            "gridwidth": 2,
            "linecolor": "white",
            "showbackground": true,
            "ticks": "",
            "zerolinecolor": "white"
           }
          },
          "shapedefaults": {
           "line": {
            "color": "#2a3f5f"
           }
          },
          "ternary": {
           "aaxis": {
            "gridcolor": "white",
            "linecolor": "white",
            "ticks": ""
           },
           "baxis": {
            "gridcolor": "white",
            "linecolor": "white",
            "ticks": ""
           },
           "bgcolor": "#E5ECF6",
           "caxis": {
            "gridcolor": "white",
            "linecolor": "white",
            "ticks": ""
           }
          },
          "title": {
           "x": 0.05
          },
          "xaxis": {
           "automargin": true,
           "gridcolor": "white",
           "linecolor": "white",
           "ticks": "",
           "title": {
            "standoff": 15
           },
           "zerolinecolor": "white",
           "zerolinewidth": 2
          },
          "yaxis": {
           "automargin": true,
           "gridcolor": "white",
           "linecolor": "white",
           "ticks": "",
           "title": {
            "standoff": 15
           },
           "zerolinecolor": "white",
           "zerolinewidth": 2
          }
         }
        },
        "title": {
         "font": {
          "color": "#4D5663"
         }
        },
        "xaxis": {
         "gridcolor": "#E1E5ED",
         "showgrid": true,
         "tickfont": {
          "color": "#4D5663"
         },
         "title": {
          "font": {
           "color": "#4D5663"
          },
          "text": ""
         },
         "zerolinecolor": "#E1E5ED"
        },
        "yaxis": {
         "gridcolor": "#E1E5ED",
         "showgrid": true,
         "tickfont": {
          "color": "#4D5663"
         },
         "title": {
          "font": {
           "color": "#4D5663"
          },
          "text": ""
         },
         "zerolinecolor": "#E1E5ED"
        }
       }
      },
      "text/html": [
       "<div>                            <div id=\"9fb225ea-3ce9-4aad-87dc-75fc387e172d\" class=\"plotly-graph-div\" style=\"height:525px; width:100%;\"></div>            <script type=\"text/javascript\">                require([\"plotly\"], function(Plotly) {                    window.PLOTLYENV=window.PLOTLYENV || {};\n",
       "                    window.PLOTLYENV.BASE_URL='https://plot.ly';                                    if (document.getElementById(\"9fb225ea-3ce9-4aad-87dc-75fc387e172d\")) {                    Plotly.newPlot(                        \"9fb225ea-3ce9-4aad-87dc-75fc387e172d\",                        [{\"colorscale\": [[0.0, \"rgb(165,0,38)\"], [0.1, \"rgb(215,48,39)\"], [0.2, \"rgb(244,109,67)\"], [0.3, \"rgb(253,174,97)\"], [0.4, \"rgb(254,224,144)\"], [0.5, \"rgb(255,255,191)\"], [0.6, \"rgb(224,243,248)\"], [0.7, \"rgb(171,217,233)\"], [0.8, \"rgb(116,173,209)\"], [0.9, \"rgb(69,117,180)\"], [1.0, \"rgb(49,54,149)\"]], \"type\": \"surface\", \"x\": [0, 1, 2, 3, 4], \"y\": [\"x\", \"y\", \"z\"], \"z\": [[1, 2, 3, 4, 5], [10, 20, 30, 20, 10], [5, 4, 3, 2, 1]]}],                        {\"legend\": {\"bgcolor\": \"#F5F6F9\", \"font\": {\"color\": \"#4D5663\"}}, \"paper_bgcolor\": \"#F5F6F9\", \"plot_bgcolor\": \"#F5F6F9\", \"template\": {\"data\": {\"bar\": [{\"error_x\": {\"color\": \"#2a3f5f\"}, \"error_y\": {\"color\": \"#2a3f5f\"}, \"marker\": {\"line\": {\"color\": \"#E5ECF6\", \"width\": 0.5}}, \"type\": \"bar\"}], \"barpolar\": [{\"marker\": {\"line\": {\"color\": \"#E5ECF6\", \"width\": 0.5}}, \"type\": \"barpolar\"}], \"carpet\": [{\"aaxis\": {\"endlinecolor\": \"#2a3f5f\", \"gridcolor\": \"white\", \"linecolor\": \"white\", \"minorgridcolor\": \"white\", \"startlinecolor\": \"#2a3f5f\"}, \"baxis\": {\"endlinecolor\": \"#2a3f5f\", \"gridcolor\": \"white\", \"linecolor\": \"white\", \"minorgridcolor\": \"white\", \"startlinecolor\": \"#2a3f5f\"}, \"type\": \"carpet\"}], \"choropleth\": [{\"colorbar\": {\"outlinewidth\": 0, \"ticks\": \"\"}, \"type\": \"choropleth\"}], \"contour\": [{\"colorbar\": {\"outlinewidth\": 0, \"ticks\": \"\"}, \"colorscale\": [[0.0, \"#0d0887\"], [0.1111111111111111, \"#46039f\"], [0.2222222222222222, \"#7201a8\"], [0.3333333333333333, \"#9c179e\"], [0.4444444444444444, \"#bd3786\"], [0.5555555555555556, \"#d8576b\"], [0.6666666666666666, \"#ed7953\"], [0.7777777777777778, \"#fb9f3a\"], [0.8888888888888888, \"#fdca26\"], [1.0, \"#f0f921\"]], \"type\": \"contour\"}], \"contourcarpet\": [{\"colorbar\": {\"outlinewidth\": 0, \"ticks\": \"\"}, \"type\": \"contourcarpet\"}], \"heatmap\": [{\"colorbar\": {\"outlinewidth\": 0, \"ticks\": \"\"}, \"colorscale\": [[0.0, \"#0d0887\"], [0.1111111111111111, \"#46039f\"], [0.2222222222222222, \"#7201a8\"], [0.3333333333333333, \"#9c179e\"], [0.4444444444444444, \"#bd3786\"], [0.5555555555555556, \"#d8576b\"], [0.6666666666666666, \"#ed7953\"], [0.7777777777777778, \"#fb9f3a\"], [0.8888888888888888, \"#fdca26\"], [1.0, \"#f0f921\"]], \"type\": \"heatmap\"}], \"heatmapgl\": [{\"colorbar\": {\"outlinewidth\": 0, \"ticks\": \"\"}, \"colorscale\": [[0.0, \"#0d0887\"], [0.1111111111111111, \"#46039f\"], [0.2222222222222222, \"#7201a8\"], [0.3333333333333333, \"#9c179e\"], [0.4444444444444444, \"#bd3786\"], [0.5555555555555556, \"#d8576b\"], [0.6666666666666666, \"#ed7953\"], [0.7777777777777778, \"#fb9f3a\"], [0.8888888888888888, \"#fdca26\"], [1.0, \"#f0f921\"]], \"type\": \"heatmapgl\"}], \"histogram\": [{\"marker\": {\"colorbar\": {\"outlinewidth\": 0, \"ticks\": \"\"}}, \"type\": \"histogram\"}], \"histogram2d\": [{\"colorbar\": {\"outlinewidth\": 0, \"ticks\": \"\"}, \"colorscale\": [[0.0, \"#0d0887\"], [0.1111111111111111, \"#46039f\"], [0.2222222222222222, \"#7201a8\"], [0.3333333333333333, \"#9c179e\"], [0.4444444444444444, \"#bd3786\"], [0.5555555555555556, \"#d8576b\"], [0.6666666666666666, \"#ed7953\"], [0.7777777777777778, \"#fb9f3a\"], [0.8888888888888888, \"#fdca26\"], [1.0, \"#f0f921\"]], \"type\": \"histogram2d\"}], \"histogram2dcontour\": [{\"colorbar\": {\"outlinewidth\": 0, \"ticks\": \"\"}, \"colorscale\": [[0.0, \"#0d0887\"], [0.1111111111111111, \"#46039f\"], [0.2222222222222222, \"#7201a8\"], [0.3333333333333333, \"#9c179e\"], [0.4444444444444444, \"#bd3786\"], [0.5555555555555556, \"#d8576b\"], [0.6666666666666666, \"#ed7953\"], [0.7777777777777778, \"#fb9f3a\"], [0.8888888888888888, \"#fdca26\"], [1.0, \"#f0f921\"]], \"type\": \"histogram2dcontour\"}], \"mesh3d\": [{\"colorbar\": {\"outlinewidth\": 0, \"ticks\": \"\"}, \"type\": \"mesh3d\"}], \"parcoords\": [{\"line\": {\"colorbar\": {\"outlinewidth\": 0, \"ticks\": \"\"}}, \"type\": \"parcoords\"}], \"pie\": [{\"automargin\": true, \"type\": \"pie\"}], \"scatter\": [{\"marker\": {\"colorbar\": {\"outlinewidth\": 0, \"ticks\": \"\"}}, \"type\": \"scatter\"}], \"scatter3d\": [{\"line\": {\"colorbar\": {\"outlinewidth\": 0, \"ticks\": \"\"}}, \"marker\": {\"colorbar\": {\"outlinewidth\": 0, \"ticks\": \"\"}}, \"type\": \"scatter3d\"}], \"scattercarpet\": [{\"marker\": {\"colorbar\": {\"outlinewidth\": 0, \"ticks\": \"\"}}, \"type\": \"scattercarpet\"}], \"scattergeo\": [{\"marker\": {\"colorbar\": {\"outlinewidth\": 0, \"ticks\": \"\"}}, \"type\": \"scattergeo\"}], \"scattergl\": [{\"marker\": {\"colorbar\": {\"outlinewidth\": 0, \"ticks\": \"\"}}, \"type\": \"scattergl\"}], \"scattermapbox\": [{\"marker\": {\"colorbar\": {\"outlinewidth\": 0, \"ticks\": \"\"}}, \"type\": \"scattermapbox\"}], \"scatterpolar\": [{\"marker\": {\"colorbar\": {\"outlinewidth\": 0, \"ticks\": \"\"}}, \"type\": \"scatterpolar\"}], \"scatterpolargl\": [{\"marker\": {\"colorbar\": {\"outlinewidth\": 0, \"ticks\": \"\"}}, \"type\": \"scatterpolargl\"}], \"scatterternary\": [{\"marker\": {\"colorbar\": {\"outlinewidth\": 0, \"ticks\": \"\"}}, \"type\": \"scatterternary\"}], \"surface\": [{\"colorbar\": {\"outlinewidth\": 0, \"ticks\": \"\"}, \"colorscale\": [[0.0, \"#0d0887\"], [0.1111111111111111, \"#46039f\"], [0.2222222222222222, \"#7201a8\"], [0.3333333333333333, \"#9c179e\"], [0.4444444444444444, \"#bd3786\"], [0.5555555555555556, \"#d8576b\"], [0.6666666666666666, \"#ed7953\"], [0.7777777777777778, \"#fb9f3a\"], [0.8888888888888888, \"#fdca26\"], [1.0, \"#f0f921\"]], \"type\": \"surface\"}], \"table\": [{\"cells\": {\"fill\": {\"color\": \"#EBF0F8\"}, \"line\": {\"color\": \"white\"}}, \"header\": {\"fill\": {\"color\": \"#C8D4E3\"}, \"line\": {\"color\": \"white\"}}, \"type\": \"table\"}]}, \"layout\": {\"annotationdefaults\": {\"arrowcolor\": \"#2a3f5f\", \"arrowhead\": 0, \"arrowwidth\": 1}, \"autotypenumbers\": \"strict\", \"coloraxis\": {\"colorbar\": {\"outlinewidth\": 0, \"ticks\": \"\"}}, \"colorscale\": {\"diverging\": [[0, \"#8e0152\"], [0.1, \"#c51b7d\"], [0.2, \"#de77ae\"], [0.3, \"#f1b6da\"], [0.4, \"#fde0ef\"], [0.5, \"#f7f7f7\"], [0.6, \"#e6f5d0\"], [0.7, \"#b8e186\"], [0.8, \"#7fbc41\"], [0.9, \"#4d9221\"], [1, \"#276419\"]], \"sequential\": [[0.0, \"#0d0887\"], [0.1111111111111111, \"#46039f\"], [0.2222222222222222, \"#7201a8\"], [0.3333333333333333, \"#9c179e\"], [0.4444444444444444, \"#bd3786\"], [0.5555555555555556, \"#d8576b\"], [0.6666666666666666, \"#ed7953\"], [0.7777777777777778, \"#fb9f3a\"], [0.8888888888888888, \"#fdca26\"], [1.0, \"#f0f921\"]], \"sequentialminus\": [[0.0, \"#0d0887\"], [0.1111111111111111, \"#46039f\"], [0.2222222222222222, \"#7201a8\"], [0.3333333333333333, \"#9c179e\"], [0.4444444444444444, \"#bd3786\"], [0.5555555555555556, \"#d8576b\"], [0.6666666666666666, \"#ed7953\"], [0.7777777777777778, \"#fb9f3a\"], [0.8888888888888888, \"#fdca26\"], [1.0, \"#f0f921\"]]}, \"colorway\": [\"#636efa\", \"#EF553B\", \"#00cc96\", \"#ab63fa\", \"#FFA15A\", \"#19d3f3\", \"#FF6692\", \"#B6E880\", \"#FF97FF\", \"#FECB52\"], \"font\": {\"color\": \"#2a3f5f\"}, \"geo\": {\"bgcolor\": \"white\", \"lakecolor\": \"white\", \"landcolor\": \"#E5ECF6\", \"showlakes\": true, \"showland\": true, \"subunitcolor\": \"white\"}, \"hoverlabel\": {\"align\": \"left\"}, \"hovermode\": \"closest\", \"mapbox\": {\"style\": \"light\"}, \"paper_bgcolor\": \"white\", \"plot_bgcolor\": \"#E5ECF6\", \"polar\": {\"angularaxis\": {\"gridcolor\": \"white\", \"linecolor\": \"white\", \"ticks\": \"\"}, \"bgcolor\": \"#E5ECF6\", \"radialaxis\": {\"gridcolor\": \"white\", \"linecolor\": \"white\", \"ticks\": \"\"}}, \"scene\": {\"xaxis\": {\"backgroundcolor\": \"#E5ECF6\", \"gridcolor\": \"white\", \"gridwidth\": 2, \"linecolor\": \"white\", \"showbackground\": true, \"ticks\": \"\", \"zerolinecolor\": \"white\"}, \"yaxis\": {\"backgroundcolor\": \"#E5ECF6\", \"gridcolor\": \"white\", \"gridwidth\": 2, \"linecolor\": \"white\", \"showbackground\": true, \"ticks\": \"\", \"zerolinecolor\": \"white\"}, \"zaxis\": {\"backgroundcolor\": \"#E5ECF6\", \"gridcolor\": \"white\", \"gridwidth\": 2, \"linecolor\": \"white\", \"showbackground\": true, \"ticks\": \"\", \"zerolinecolor\": \"white\"}}, \"shapedefaults\": {\"line\": {\"color\": \"#2a3f5f\"}}, \"ternary\": {\"aaxis\": {\"gridcolor\": \"white\", \"linecolor\": \"white\", \"ticks\": \"\"}, \"baxis\": {\"gridcolor\": \"white\", \"linecolor\": \"white\", \"ticks\": \"\"}, \"bgcolor\": \"#E5ECF6\", \"caxis\": {\"gridcolor\": \"white\", \"linecolor\": \"white\", \"ticks\": \"\"}}, \"title\": {\"x\": 0.05}, \"xaxis\": {\"automargin\": true, \"gridcolor\": \"white\", \"linecolor\": \"white\", \"ticks\": \"\", \"title\": {\"standoff\": 15}, \"zerolinecolor\": \"white\", \"zerolinewidth\": 2}, \"yaxis\": {\"automargin\": true, \"gridcolor\": \"white\", \"linecolor\": \"white\", \"ticks\": \"\", \"title\": {\"standoff\": 15}, \"zerolinecolor\": \"white\", \"zerolinewidth\": 2}}}, \"title\": {\"font\": {\"color\": \"#4D5663\"}}, \"xaxis\": {\"gridcolor\": \"#E1E5ED\", \"showgrid\": true, \"tickfont\": {\"color\": \"#4D5663\"}, \"title\": {\"font\": {\"color\": \"#4D5663\"}, \"text\": \"\"}, \"zerolinecolor\": \"#E1E5ED\"}, \"yaxis\": {\"gridcolor\": \"#E1E5ED\", \"showgrid\": true, \"tickfont\": {\"color\": \"#4D5663\"}, \"title\": {\"font\": {\"color\": \"#4D5663\"}, \"text\": \"\"}, \"zerolinecolor\": \"#E1E5ED\"}},                        {\"showLink\": true, \"linkText\": \"Export to plot.ly\", \"plotlyServerURL\": \"https://plot.ly\", \"responsive\": true}                    ).then(function(){\n",
       "                            \n",
       "var gd = document.getElementById('9fb225ea-3ce9-4aad-87dc-75fc387e172d');\n",
       "var x = new MutationObserver(function (mutations, observer) {{\n",
       "        var display = window.getComputedStyle(gd).display;\n",
       "        if (!display || display === 'none') {{\n",
       "            console.log([gd, 'removed!']);\n",
       "            Plotly.purge(gd);\n",
       "            observer.disconnect();\n",
       "        }}\n",
       "}});\n",
       "\n",
       "// Listen for the removal of the full notebook cells\n",
       "var notebookContainer = gd.closest('#notebook-container');\n",
       "if (notebookContainer) {{\n",
       "    x.observe(notebookContainer, {childList: true});\n",
       "}}\n",
       "\n",
       "// Listen for the clearing of the current output cell\n",
       "var outputEl = gd.closest('.output');\n",
       "if (outputEl) {{\n",
       "    x.observe(outputEl, {childList: true});\n",
       "}}\n",
       "\n",
       "                        })                };                });            </script>        </div>"
      ]
     },
     "metadata": {},
     "output_type": "display_data"
    }
   ],
   "source": [
    "df3.iplot(kind=\"surface\",colorscale=\"rdylbu\")"
   ]
  },
  {
   "cell_type": "code",
   "execution_count": 23,
   "metadata": {},
   "outputs": [
    {
     "data": {
      "application/vnd.plotly.v1+json": {
       "config": {
        "linkText": "Export to plot.ly",
        "plotlyServerURL": "https://plot.ly",
        "showLink": true
       },
       "data": [
        {
         "line": {
          "color": "rgba(255, 153, 51, 1.0)",
          "dash": "solid",
          "shape": "linear",
          "width": 1.3
         },
         "mode": "lines",
         "name": "A",
         "text": "",
         "type": "scatter",
         "x": [
          0,
          1,
          2,
          3,
          4,
          5,
          6,
          7,
          8,
          9,
          10,
          11,
          12,
          13,
          14,
          15,
          16,
          17,
          18,
          19,
          20,
          21,
          22,
          23,
          24,
          25,
          26,
          27,
          28,
          29,
          30,
          31,
          32,
          33,
          34,
          35,
          36,
          37,
          38,
          39,
          40,
          41,
          42,
          43,
          44,
          45,
          46,
          47,
          48,
          49,
          50,
          51,
          52,
          53,
          54,
          55,
          56,
          57,
          58,
          59,
          60,
          61,
          62,
          63,
          64,
          65,
          66,
          67,
          68,
          69,
          70,
          71,
          72,
          73,
          74,
          75,
          76,
          77,
          78,
          79,
          80,
          81,
          82,
          83,
          84,
          85,
          86,
          87,
          88,
          89,
          90,
          91,
          92,
          93,
          94,
          95,
          96,
          97,
          98,
          99
         ],
         "y": [
          0.9753847257840704,
          0.6685526475099604,
          0.717763849159026,
          0.641643253612684,
          0.46101551589424816,
          0.12078225002024179,
          0.9226200153186841,
          0.784485205431393,
          0.31455777210757063,
          0.4478685176457967,
          0.2131143465929174,
          0.3011696160343452,
          0.7562652954539073,
          0.17665548838834555,
          0.32638506717339455,
          0.8459614429343494,
          0.34192570436767833,
          0.06391837019195534,
          0.8999138623566848,
          0.8715981055099761,
          0.987890531023444,
          0.8961498915681549,
          0.36306575530877194,
          0.8276162545533562,
          0.20525195193240775,
          0.06391191637803195,
          0.16937409328541397,
          0.7761067551067942,
          0.5575771139288783,
          0.1499040533333127,
          0.22334376981884096,
          0.6918361085471536,
          0.8790879143840141,
          0.7077384811608556,
          0.22422787181288484,
          0.32161718246572824,
          0.48154104728183533,
          0.7705942872538493,
          0.19988219988236622,
          0.6655430545295901,
          0.6723359791162588,
          0.8151105808405508,
          0.8846810836216884,
          0.007244518678291789,
          0.4068924253415789,
          0.8625167848986993,
          0.6429397136763052,
          0.7763525954064734,
          0.8241324136446101,
          0.7186392585997665,
          0.21683477878002877,
          0.3494180296260595,
          0.1741282459062653,
          0.02397911006743103,
          0.39487584701144085,
          0.24380211962090148,
          0.22344572067428936,
          0.6537321204248879,
          0.8564298673735783,
          0.5123248575458799,
          0.605553516435922,
          0.6517629384667678,
          0.23452063385360233,
          0.9494658315171941,
          0.6304378167182005,
          0.26303963632237737,
          0.2863032859042599,
          0.47929891357035415,
          0.42596189386818706,
          0.3848568917235682,
          0.4212480599686016,
          0.7736704973405448,
          0.44845284655712414,
          0.9807428289008219,
          0.4363301972778,
          0.21318133575569864,
          0.1585547262957432,
          0.8595620058635431,
          0.35844401575162044,
          0.45229977212554207,
          0.7119012892048794,
          0.40441056780230067,
          0.9773408983820342,
          0.3174071110165755,
          0.881073025102367,
          0.40153608916097194,
          0.5741411373468234,
          0.8109111415755789,
          0.45664260834838166,
          0.33826152683825383,
          0.7954321426895994,
          0.5551184704941502,
          0.9184421526805117,
          0.6602273721590636,
          0.37907286862184275,
          0.8782538779062986,
          0.8016769924092302,
          0.8014854199555197,
          0.9644159545124961,
          0.20259993162699697
         ]
        },
        {
         "line": {
          "color": "rgba(55, 128, 191, 1.0)",
          "dash": "solid",
          "shape": "linear",
          "width": 1.3
         },
         "mode": "lines",
         "name": "B",
         "text": "",
         "type": "scatter",
         "x": [
          0,
          1,
          2,
          3,
          4,
          5,
          6,
          7,
          8,
          9,
          10,
          11,
          12,
          13,
          14,
          15,
          16,
          17,
          18,
          19,
          20,
          21,
          22,
          23,
          24,
          25,
          26,
          27,
          28,
          29,
          30,
          31,
          32,
          33,
          34,
          35,
          36,
          37,
          38,
          39,
          40,
          41,
          42,
          43,
          44,
          45,
          46,
          47,
          48,
          49,
          50,
          51,
          52,
          53,
          54,
          55,
          56,
          57,
          58,
          59,
          60,
          61,
          62,
          63,
          64,
          65,
          66,
          67,
          68,
          69,
          70,
          71,
          72,
          73,
          74,
          75,
          76,
          77,
          78,
          79,
          80,
          81,
          82,
          83,
          84,
          85,
          86,
          87,
          88,
          89,
          90,
          91,
          92,
          93,
          94,
          95,
          96,
          97,
          98,
          99
         ],
         "y": [
          0.6085337361817945,
          0.9849008662659429,
          0.17481835927449163,
          0.7438288626332903,
          0.4549341248769252,
          0.5692305411024162,
          0.6866864917646315,
          0.15091996389122575,
          0.598572333058514,
          0.5311366876335679,
          0.9647509681138527,
          0.42970076544550373,
          0.9197065912505893,
          0.7512658459378196,
          0.6172748994670416,
          0.8869450145926792,
          0.8984286133614072,
          0.5110235635378919,
          0.20037484313679033,
          0.40285965977201077,
          0.6251604159867912,
          0.7636289035224022,
          0.9591931988677984,
          0.89411526565189,
          0.612783769491025,
          0.21082458066343868,
          0.8210691098866622,
          0.28741205960236926,
          0.40875401399822564,
          0.6572032947569375,
          0.8717539125541596,
          0.4933401273428939,
          0.3401422688102115,
          0.4721561988060825,
          0.36214608305039664,
          0.4991284004318195,
          0.6222161033737548,
          0.6675732316436533,
          0.4434734639664153,
          0.6650579368330961,
          0.7740363141641551,
          0.47506597669456774,
          0.7045778679738115,
          0.5511023311060128,
          0.5250828615861299,
          0.09862598494375197,
          0.4897136545952473,
          0.3236530242756478,
          0.4240146481999545,
          0.11764868551348973,
          0.9815372793772702,
          0.9232006895886629,
          0.647357911651621,
          0.5510160241780454,
          0.4894197386121423,
          0.10052339054740922,
          0.25282609452770033,
          0.7600787941990619,
          0.23123523257991174,
          0.6664292991581325,
          0.4374166355841971,
          0.7662383104126994,
          0.4263403310506284,
          0.20321454392170335,
          0.03864288709883246,
          0.880656277259328,
          0.7610979538639527,
          0.3426033199000921,
          0.06924669753559487,
          0.9488897619679045,
          0.27989153511860954,
          0.10045223618897847,
          0.9954880550235646,
          0.015224490864340523,
          0.5421397400902137,
          0.687599485200822,
          0.6352382875512128,
          0.3952487236954483,
          0.5221446773937745,
          0.5462842796507908,
          0.6285907982844269,
          0.7916249160524705,
          0.9563225781284411,
          0.8547698325588563,
          0.18707107322032013,
          0.2497255885986579,
          0.3080902134021354,
          0.22282597342980115,
          0.8564392586445342,
          0.49700783760020384,
          0.24623954678299986,
          0.05866062421915241,
          0.615126023015918,
          0.38884070501730983,
          0.9152233410521818,
          0.016008476630690605,
          0.4798720815160471,
          0.5171996847932875,
          0.6874258034388792,
          0.9235294420687038
         ]
        },
        {
         "connectgaps": false,
         "fill": "tozeroy",
         "line": {
          "color": "green",
          "dash": "solid",
          "shape": "linear",
          "width": 0.5
         },
         "mode": "lines",
         "name": "Spread",
         "showlegend": false,
         "type": "scatter",
         "x": [
          0,
          1,
          2,
          3,
          4,
          5,
          6,
          7,
          8,
          9,
          10,
          11,
          12,
          13,
          14,
          15,
          16,
          17,
          18,
          19,
          20,
          21,
          22,
          23,
          24,
          25,
          26,
          27,
          28,
          29,
          30,
          31,
          32,
          33,
          34,
          35,
          36,
          37,
          38,
          39,
          40,
          41,
          42,
          43,
          44,
          45,
          46,
          47,
          48,
          49,
          50,
          51,
          52,
          53,
          54,
          55,
          56,
          57,
          58,
          59,
          60,
          61,
          62,
          63,
          64,
          65,
          66,
          67,
          68,
          69,
          70,
          71,
          72,
          73,
          74,
          75,
          76,
          77,
          78,
          79,
          80,
          81,
          82,
          83,
          84,
          85,
          86,
          87,
          88,
          89,
          90,
          91,
          92,
          93,
          94,
          95,
          96,
          97,
          98,
          99
         ],
         "xaxis": "x2",
         "y": [
          0.3668509896022759,
          "",
          0.5429454898845344,
          "",
          0.006081391017322968,
          "",
          0.23593352355405262,
          0.6335652415401672,
          "",
          "",
          "",
          "",
          "",
          "",
          "",
          "",
          "",
          "",
          0.6995390192198945,
          0.4687384457379653,
          0.36273011503665287,
          0.13252098804575274,
          "",
          "",
          "",
          "",
          "",
          0.4886946955044249,
          0.14882309993065268,
          "",
          "",
          0.1984959812042597,
          0.5389456455738026,
          0.23558228235477308,
          "",
          "",
          "",
          0.10302105561019592,
          "",
          0.000485117696493953,
          "",
          0.34004460414598303,
          0.1801032156478769,
          "",
          "",
          0.7638907999549474,
          0.1532260590810579,
          0.4526995711308256,
          0.4001177654446556,
          0.6009905730862768,
          "",
          "",
          "",
          "",
          "",
          0.14327872907349226,
          "",
          "",
          0.6251946347936665,
          "",
          0.16813688085172496,
          "",
          "",
          0.7462512875954908,
          0.5917949296193681,
          "",
          "",
          0.13669559367026207,
          0.3567151963325922,
          "",
          0.14135652484999206,
          0.6732182611515664,
          "",
          0.9655183380364813,
          "",
          "",
          "",
          0.46431328216809487,
          "",
          "",
          0.0833104909204525,
          "",
          0.02101832025359307,
          "",
          0.6940019518820468,
          0.15181050056231404,
          0.266050923944688,
          0.5880851681457777,
          "",
          "",
          0.5491925959065995,
          0.4964578462749978,
          0.30331612966459365,
          0.27138666714175375,
          "",
          0.862245401275608,
          0.3218049108931831,
          0.2842857351622322,
          0.2769901510736169,
          ""
         ],
         "yaxis": "y2"
        },
        {
         "connectgaps": false,
         "fill": "tozeroy",
         "line": {
          "color": "red",
          "dash": "solid",
          "shape": "linear",
          "width": 0.5
         },
         "mode": "lines",
         "name": "Spread",
         "showlegend": false,
         "type": "scatter",
         "x": [
          0,
          1,
          2,
          3,
          4,
          5,
          6,
          7,
          8,
          9,
          10,
          11,
          12,
          13,
          14,
          15,
          16,
          17,
          18,
          19,
          20,
          21,
          22,
          23,
          24,
          25,
          26,
          27,
          28,
          29,
          30,
          31,
          32,
          33,
          34,
          35,
          36,
          37,
          38,
          39,
          40,
          41,
          42,
          43,
          44,
          45,
          46,
          47,
          48,
          49,
          50,
          51,
          52,
          53,
          54,
          55,
          56,
          57,
          58,
          59,
          60,
          61,
          62,
          63,
          64,
          65,
          66,
          67,
          68,
          69,
          70,
          71,
          72,
          73,
          74,
          75,
          76,
          77,
          78,
          79,
          80,
          81,
          82,
          83,
          84,
          85,
          86,
          87,
          88,
          89,
          90,
          91,
          92,
          93,
          94,
          95,
          96,
          97,
          98,
          99
         ],
         "xaxis": "x2",
         "y": [
          "",
          -0.3163482187559825,
          "",
          -0.10218560902060625,
          "",
          -0.44844829108217443,
          "",
          "",
          -0.28401456095094335,
          -0.0832681699877712,
          -0.7516366215209354,
          -0.1285311494111585,
          -0.16344129579668198,
          -0.5746103575494741,
          -0.29088983229364707,
          -0.040983571658329776,
          -0.5565029089937289,
          -0.44710519334593657,
          "",
          "",
          "",
          "",
          -0.5961274435590265,
          -0.06649901109853384,
          -0.4075318175586172,
          -0.14691266428540672,
          -0.6516950166012482,
          "",
          "",
          -0.5072992414236248,
          -0.6484101427353186,
          "",
          "",
          "",
          -0.1379182112375118,
          -0.17751121796609126,
          -0.14067505609191944,
          "",
          -0.24359126408404908,
          "",
          -0.10170033504789633,
          "",
          "",
          -0.543857812427721,
          -0.11819043624455106,
          "",
          "",
          "",
          "",
          "",
          -0.7647025005972414,
          -0.5737826599626034,
          -0.47322966574535574,
          -0.5270369141106144,
          -0.09454389160070142,
          "",
          -0.029380373853410968,
          -0.10634667377417395,
          "",
          -0.15410444161225267,
          "",
          -0.1144753719459316,
          -0.19181969719702607,
          "",
          "",
          -0.6176166409369507,
          -0.47479466795969283,
          "",
          "",
          -0.5640328702443363,
          "",
          "",
          -0.5470352084664405,
          "",
          -0.10580954281241373,
          -0.4744181494451234,
          -0.4766835612554696,
          "",
          -0.16370066164215402,
          -0.09398450752524878,
          "",
          -0.38721434825016987,
          "",
          -0.5373627215422808,
          "",
          "",
          "",
          "",
          -0.3997966502961525,
          -0.15874631076195,
          "",
          "",
          "",
          "",
          -0.5361504724303391,
          "",
          "",
          "",
          "",
          -0.7209295104417068
         ],
         "yaxis": "y2"
        }
       ],
       "layout": {
        "hovermode": "x",
        "legend": {
         "bgcolor": "#F5F6F9",
         "font": {
          "color": "#4D5663"
         }
        },
        "paper_bgcolor": "#F5F6F9",
        "plot_bgcolor": "#F5F6F9",
        "template": {
         "data": {
          "bar": [
           {
            "error_x": {
             "color": "#2a3f5f"
            },
            "error_y": {
             "color": "#2a3f5f"
            },
            "marker": {
             "line": {
              "color": "#E5ECF6",
              "width": 0.5
             }
            },
            "type": "bar"
           }
          ],
          "barpolar": [
           {
            "marker": {
             "line": {
              "color": "#E5ECF6",
              "width": 0.5
             }
            },
            "type": "barpolar"
           }
          ],
          "carpet": [
           {
            "aaxis": {
             "endlinecolor": "#2a3f5f",
             "gridcolor": "white",
             "linecolor": "white",
             "minorgridcolor": "white",
             "startlinecolor": "#2a3f5f"
            },
            "baxis": {
             "endlinecolor": "#2a3f5f",
             "gridcolor": "white",
             "linecolor": "white",
             "minorgridcolor": "white",
             "startlinecolor": "#2a3f5f"
            },
            "type": "carpet"
           }
          ],
          "choropleth": [
           {
            "colorbar": {
             "outlinewidth": 0,
             "ticks": ""
            },
            "type": "choropleth"
           }
          ],
          "contour": [
           {
            "colorbar": {
             "outlinewidth": 0,
             "ticks": ""
            },
            "colorscale": [
             [
              0,
              "#0d0887"
             ],
             [
              0.1111111111111111,
              "#46039f"
             ],
             [
              0.2222222222222222,
              "#7201a8"
             ],
             [
              0.3333333333333333,
              "#9c179e"
             ],
             [
              0.4444444444444444,
              "#bd3786"
             ],
             [
              0.5555555555555556,
              "#d8576b"
             ],
             [
              0.6666666666666666,
              "#ed7953"
             ],
             [
              0.7777777777777778,
              "#fb9f3a"
             ],
             [
              0.8888888888888888,
              "#fdca26"
             ],
             [
              1,
              "#f0f921"
             ]
            ],
            "type": "contour"
           }
          ],
          "contourcarpet": [
           {
            "colorbar": {
             "outlinewidth": 0,
             "ticks": ""
            },
            "type": "contourcarpet"
           }
          ],
          "heatmap": [
           {
            "colorbar": {
             "outlinewidth": 0,
             "ticks": ""
            },
            "colorscale": [
             [
              0,
              "#0d0887"
             ],
             [
              0.1111111111111111,
              "#46039f"
             ],
             [
              0.2222222222222222,
              "#7201a8"
             ],
             [
              0.3333333333333333,
              "#9c179e"
             ],
             [
              0.4444444444444444,
              "#bd3786"
             ],
             [
              0.5555555555555556,
              "#d8576b"
             ],
             [
              0.6666666666666666,
              "#ed7953"
             ],
             [
              0.7777777777777778,
              "#fb9f3a"
             ],
             [
              0.8888888888888888,
              "#fdca26"
             ],
             [
              1,
              "#f0f921"
             ]
            ],
            "type": "heatmap"
           }
          ],
          "heatmapgl": [
           {
            "colorbar": {
             "outlinewidth": 0,
             "ticks": ""
            },
            "colorscale": [
             [
              0,
              "#0d0887"
             ],
             [
              0.1111111111111111,
              "#46039f"
             ],
             [
              0.2222222222222222,
              "#7201a8"
             ],
             [
              0.3333333333333333,
              "#9c179e"
             ],
             [
              0.4444444444444444,
              "#bd3786"
             ],
             [
              0.5555555555555556,
              "#d8576b"
             ],
             [
              0.6666666666666666,
              "#ed7953"
             ],
             [
              0.7777777777777778,
              "#fb9f3a"
             ],
             [
              0.8888888888888888,
              "#fdca26"
             ],
             [
              1,
              "#f0f921"
             ]
            ],
            "type": "heatmapgl"
           }
          ],
          "histogram": [
           {
            "marker": {
             "colorbar": {
              "outlinewidth": 0,
              "ticks": ""
             }
            },
            "type": "histogram"
           }
          ],
          "histogram2d": [
           {
            "colorbar": {
             "outlinewidth": 0,
             "ticks": ""
            },
            "colorscale": [
             [
              0,
              "#0d0887"
             ],
             [
              0.1111111111111111,
              "#46039f"
             ],
             [
              0.2222222222222222,
              "#7201a8"
             ],
             [
              0.3333333333333333,
              "#9c179e"
             ],
             [
              0.4444444444444444,
              "#bd3786"
             ],
             [
              0.5555555555555556,
              "#d8576b"
             ],
             [
              0.6666666666666666,
              "#ed7953"
             ],
             [
              0.7777777777777778,
              "#fb9f3a"
             ],
             [
              0.8888888888888888,
              "#fdca26"
             ],
             [
              1,
              "#f0f921"
             ]
            ],
            "type": "histogram2d"
           }
          ],
          "histogram2dcontour": [
           {
            "colorbar": {
             "outlinewidth": 0,
             "ticks": ""
            },
            "colorscale": [
             [
              0,
              "#0d0887"
             ],
             [
              0.1111111111111111,
              "#46039f"
             ],
             [
              0.2222222222222222,
              "#7201a8"
             ],
             [
              0.3333333333333333,
              "#9c179e"
             ],
             [
              0.4444444444444444,
              "#bd3786"
             ],
             [
              0.5555555555555556,
              "#d8576b"
             ],
             [
              0.6666666666666666,
              "#ed7953"
             ],
             [
              0.7777777777777778,
              "#fb9f3a"
             ],
             [
              0.8888888888888888,
              "#fdca26"
             ],
             [
              1,
              "#f0f921"
             ]
            ],
            "type": "histogram2dcontour"
           }
          ],
          "mesh3d": [
           {
            "colorbar": {
             "outlinewidth": 0,
             "ticks": ""
            },
            "type": "mesh3d"
           }
          ],
          "parcoords": [
           {
            "line": {
             "colorbar": {
              "outlinewidth": 0,
              "ticks": ""
             }
            },
            "type": "parcoords"
           }
          ],
          "pie": [
           {
            "automargin": true,
            "type": "pie"
           }
          ],
          "scatter": [
           {
            "marker": {
             "colorbar": {
              "outlinewidth": 0,
              "ticks": ""
             }
            },
            "type": "scatter"
           }
          ],
          "scatter3d": [
           {
            "line": {
             "colorbar": {
              "outlinewidth": 0,
              "ticks": ""
             }
            },
            "marker": {
             "colorbar": {
              "outlinewidth": 0,
              "ticks": ""
             }
            },
            "type": "scatter3d"
           }
          ],
          "scattercarpet": [
           {
            "marker": {
             "colorbar": {
              "outlinewidth": 0,
              "ticks": ""
             }
            },
            "type": "scattercarpet"
           }
          ],
          "scattergeo": [
           {
            "marker": {
             "colorbar": {
              "outlinewidth": 0,
              "ticks": ""
             }
            },
            "type": "scattergeo"
           }
          ],
          "scattergl": [
           {
            "marker": {
             "colorbar": {
              "outlinewidth": 0,
              "ticks": ""
             }
            },
            "type": "scattergl"
           }
          ],
          "scattermapbox": [
           {
            "marker": {
             "colorbar": {
              "outlinewidth": 0,
              "ticks": ""
             }
            },
            "type": "scattermapbox"
           }
          ],
          "scatterpolar": [
           {
            "marker": {
             "colorbar": {
              "outlinewidth": 0,
              "ticks": ""
             }
            },
            "type": "scatterpolar"
           }
          ],
          "scatterpolargl": [
           {
            "marker": {
             "colorbar": {
              "outlinewidth": 0,
              "ticks": ""
             }
            },
            "type": "scatterpolargl"
           }
          ],
          "scatterternary": [
           {
            "marker": {
             "colorbar": {
              "outlinewidth": 0,
              "ticks": ""
             }
            },
            "type": "scatterternary"
           }
          ],
          "surface": [
           {
            "colorbar": {
             "outlinewidth": 0,
             "ticks": ""
            },
            "colorscale": [
             [
              0,
              "#0d0887"
             ],
             [
              0.1111111111111111,
              "#46039f"
             ],
             [
              0.2222222222222222,
              "#7201a8"
             ],
             [
              0.3333333333333333,
              "#9c179e"
             ],
             [
              0.4444444444444444,
              "#bd3786"
             ],
             [
              0.5555555555555556,
              "#d8576b"
             ],
             [
              0.6666666666666666,
              "#ed7953"
             ],
             [
              0.7777777777777778,
              "#fb9f3a"
             ],
             [
              0.8888888888888888,
              "#fdca26"
             ],
             [
              1,
              "#f0f921"
             ]
            ],
            "type": "surface"
           }
          ],
          "table": [
           {
            "cells": {
             "fill": {
              "color": "#EBF0F8"
             },
             "line": {
              "color": "white"
             }
            },
            "header": {
             "fill": {
              "color": "#C8D4E3"
             },
             "line": {
              "color": "white"
             }
            },
            "type": "table"
           }
          ]
         },
         "layout": {
          "annotationdefaults": {
           "arrowcolor": "#2a3f5f",
           "arrowhead": 0,
           "arrowwidth": 1
          },
          "autotypenumbers": "strict",
          "coloraxis": {
           "colorbar": {
            "outlinewidth": 0,
            "ticks": ""
           }
          },
          "colorscale": {
           "diverging": [
            [
             0,
             "#8e0152"
            ],
            [
             0.1,
             "#c51b7d"
            ],
            [
             0.2,
             "#de77ae"
            ],
            [
             0.3,
             "#f1b6da"
            ],
            [
             0.4,
             "#fde0ef"
            ],
            [
             0.5,
             "#f7f7f7"
            ],
            [
             0.6,
             "#e6f5d0"
            ],
            [
             0.7,
             "#b8e186"
            ],
            [
             0.8,
             "#7fbc41"
            ],
            [
             0.9,
             "#4d9221"
            ],
            [
             1,
             "#276419"
            ]
           ],
           "sequential": [
            [
             0,
             "#0d0887"
            ],
            [
             0.1111111111111111,
             "#46039f"
            ],
            [
             0.2222222222222222,
             "#7201a8"
            ],
            [
             0.3333333333333333,
             "#9c179e"
            ],
            [
             0.4444444444444444,
             "#bd3786"
            ],
            [
             0.5555555555555556,
             "#d8576b"
            ],
            [
             0.6666666666666666,
             "#ed7953"
            ],
            [
             0.7777777777777778,
             "#fb9f3a"
            ],
            [
             0.8888888888888888,
             "#fdca26"
            ],
            [
             1,
             "#f0f921"
            ]
           ],
           "sequentialminus": [
            [
             0,
             "#0d0887"
            ],
            [
             0.1111111111111111,
             "#46039f"
            ],
            [
             0.2222222222222222,
             "#7201a8"
            ],
            [
             0.3333333333333333,
             "#9c179e"
            ],
            [
             0.4444444444444444,
             "#bd3786"
            ],
            [
             0.5555555555555556,
             "#d8576b"
            ],
            [
             0.6666666666666666,
             "#ed7953"
            ],
            [
             0.7777777777777778,
             "#fb9f3a"
            ],
            [
             0.8888888888888888,
             "#fdca26"
            ],
            [
             1,
             "#f0f921"
            ]
           ]
          },
          "colorway": [
           "#636efa",
           "#EF553B",
           "#00cc96",
           "#ab63fa",
           "#FFA15A",
           "#19d3f3",
           "#FF6692",
           "#B6E880",
           "#FF97FF",
           "#FECB52"
          ],
          "font": {
           "color": "#2a3f5f"
          },
          "geo": {
           "bgcolor": "white",
           "lakecolor": "white",
           "landcolor": "#E5ECF6",
           "showlakes": true,
           "showland": true,
           "subunitcolor": "white"
          },
          "hoverlabel": {
           "align": "left"
          },
          "hovermode": "closest",
          "mapbox": {
           "style": "light"
          },
          "paper_bgcolor": "white",
          "plot_bgcolor": "#E5ECF6",
          "polar": {
           "angularaxis": {
            "gridcolor": "white",
            "linecolor": "white",
            "ticks": ""
           },
           "bgcolor": "#E5ECF6",
           "radialaxis": {
            "gridcolor": "white",
            "linecolor": "white",
            "ticks": ""
           }
          },
          "scene": {
           "xaxis": {
            "backgroundcolor": "#E5ECF6",
            "gridcolor": "white",
            "gridwidth": 2,
            "linecolor": "white",
            "showbackground": true,
            "ticks": "",
            "zerolinecolor": "white"
           },
           "yaxis": {
            "backgroundcolor": "#E5ECF6",
            "gridcolor": "white",
            "gridwidth": 2,
            "linecolor": "white",
            "showbackground": true,
            "ticks": "",
            "zerolinecolor": "white"
           },
           "zaxis": {
            "backgroundcolor": "#E5ECF6",
            "gridcolor": "white",
            "gridwidth": 2,
            "linecolor": "white",
            "showbackground": true,
            "ticks": "",
            "zerolinecolor": "white"
           }
          },
          "shapedefaults": {
           "line": {
            "color": "#2a3f5f"
           }
          },
          "ternary": {
           "aaxis": {
            "gridcolor": "white",
            "linecolor": "white",
            "ticks": ""
           },
           "baxis": {
            "gridcolor": "white",
            "linecolor": "white",
            "ticks": ""
           },
           "bgcolor": "#E5ECF6",
           "caxis": {
            "gridcolor": "white",
            "linecolor": "white",
            "ticks": ""
           }
          },
          "title": {
           "x": 0.05
          },
          "xaxis": {
           "automargin": true,
           "gridcolor": "white",
           "linecolor": "white",
           "ticks": "",
           "title": {
            "standoff": 15
           },
           "zerolinecolor": "white",
           "zerolinewidth": 2
          },
          "yaxis": {
           "automargin": true,
           "gridcolor": "white",
           "linecolor": "white",
           "ticks": "",
           "title": {
            "standoff": 15
           },
           "zerolinecolor": "white",
           "zerolinewidth": 2
          }
         }
        },
        "title": {
         "font": {
          "color": "#4D5663"
         }
        },
        "xaxis": {
         "gridcolor": "#E1E5ED",
         "showgrid": true,
         "tickfont": {
          "color": "#4D5663"
         },
         "title": {
          "font": {
           "color": "#4D5663"
          },
          "text": ""
         },
         "zerolinecolor": "#E1E5ED"
        },
        "xaxis2": {
         "anchor": "y2",
         "gridcolor": "#E1E5ED",
         "showgrid": true,
         "showticklabels": false,
         "tickfont": {
          "color": "#4D5663"
         },
         "title": {
          "font": {
           "color": "#4D5663"
          },
          "text": ""
         },
         "zerolinecolor": "#E1E5ED"
        },
        "yaxis": {
         "domain": [
          0.3,
          1
         ],
         "gridcolor": "#E1E5ED",
         "showgrid": true,
         "tickfont": {
          "color": "#4D5663"
         },
         "title": {
          "font": {
           "color": "#4D5663"
          },
          "text": ""
         },
         "zerolinecolor": "#E1E5ED"
        },
        "yaxis2": {
         "domain": [
          0,
          0.25
         ],
         "gridcolor": "#E1E5ED",
         "showgrid": true,
         "tickfont": {
          "color": "#4D5663"
         },
         "title": {
          "font": {
           "color": "#4D5663"
          },
          "text": "Spread"
         },
         "zerolinecolor": "#E1E5ED"
        }
       }
      },
      "text/html": [
       "<div>                            <div id=\"17b6030e-d814-42b6-a5bf-2eb3af4fe4a0\" class=\"plotly-graph-div\" style=\"height:525px; width:100%;\"></div>            <script type=\"text/javascript\">                require([\"plotly\"], function(Plotly) {                    window.PLOTLYENV=window.PLOTLYENV || {};\n",
       "                    window.PLOTLYENV.BASE_URL='https://plot.ly';                                    if (document.getElementById(\"17b6030e-d814-42b6-a5bf-2eb3af4fe4a0\")) {                    Plotly.newPlot(                        \"17b6030e-d814-42b6-a5bf-2eb3af4fe4a0\",                        [{\"line\": {\"color\": \"rgba(255, 153, 51, 1.0)\", \"dash\": \"solid\", \"shape\": \"linear\", \"width\": 1.3}, \"mode\": \"lines\", \"name\": \"A\", \"text\": \"\", \"type\": \"scatter\", \"x\": [0, 1, 2, 3, 4, 5, 6, 7, 8, 9, 10, 11, 12, 13, 14, 15, 16, 17, 18, 19, 20, 21, 22, 23, 24, 25, 26, 27, 28, 29, 30, 31, 32, 33, 34, 35, 36, 37, 38, 39, 40, 41, 42, 43, 44, 45, 46, 47, 48, 49, 50, 51, 52, 53, 54, 55, 56, 57, 58, 59, 60, 61, 62, 63, 64, 65, 66, 67, 68, 69, 70, 71, 72, 73, 74, 75, 76, 77, 78, 79, 80, 81, 82, 83, 84, 85, 86, 87, 88, 89, 90, 91, 92, 93, 94, 95, 96, 97, 98, 99], \"y\": [0.9753847257840704, 0.6685526475099604, 0.717763849159026, 0.641643253612684, 0.46101551589424816, 0.12078225002024179, 0.9226200153186841, 0.784485205431393, 0.31455777210757063, 0.4478685176457967, 0.2131143465929174, 0.3011696160343452, 0.7562652954539073, 0.17665548838834555, 0.32638506717339455, 0.8459614429343494, 0.34192570436767833, 0.06391837019195534, 0.8999138623566848, 0.8715981055099761, 0.987890531023444, 0.8961498915681549, 0.36306575530877194, 0.8276162545533562, 0.20525195193240775, 0.06391191637803195, 0.16937409328541397, 0.7761067551067942, 0.5575771139288783, 0.1499040533333127, 0.22334376981884096, 0.6918361085471536, 0.8790879143840141, 0.7077384811608556, 0.22422787181288484, 0.32161718246572824, 0.48154104728183533, 0.7705942872538493, 0.19988219988236622, 0.6655430545295901, 0.6723359791162588, 0.8151105808405508, 0.8846810836216884, 0.007244518678291789, 0.4068924253415789, 0.8625167848986993, 0.6429397136763052, 0.7763525954064734, 0.8241324136446101, 0.7186392585997665, 0.21683477878002877, 0.3494180296260595, 0.1741282459062653, 0.02397911006743103, 0.39487584701144085, 0.24380211962090148, 0.22344572067428936, 0.6537321204248879, 0.8564298673735783, 0.5123248575458799, 0.605553516435922, 0.6517629384667678, 0.23452063385360233, 0.9494658315171941, 0.6304378167182005, 0.26303963632237737, 0.2863032859042599, 0.47929891357035415, 0.42596189386818706, 0.3848568917235682, 0.4212480599686016, 0.7736704973405448, 0.44845284655712414, 0.9807428289008219, 0.4363301972778, 0.21318133575569864, 0.1585547262957432, 0.8595620058635431, 0.35844401575162044, 0.45229977212554207, 0.7119012892048794, 0.40441056780230067, 0.9773408983820342, 0.3174071110165755, 0.881073025102367, 0.40153608916097194, 0.5741411373468234, 0.8109111415755789, 0.45664260834838166, 0.33826152683825383, 0.7954321426895994, 0.5551184704941502, 0.9184421526805117, 0.6602273721590636, 0.37907286862184275, 0.8782538779062986, 0.8016769924092302, 0.8014854199555197, 0.9644159545124961, 0.20259993162699697]}, {\"line\": {\"color\": \"rgba(55, 128, 191, 1.0)\", \"dash\": \"solid\", \"shape\": \"linear\", \"width\": 1.3}, \"mode\": \"lines\", \"name\": \"B\", \"text\": \"\", \"type\": \"scatter\", \"x\": [0, 1, 2, 3, 4, 5, 6, 7, 8, 9, 10, 11, 12, 13, 14, 15, 16, 17, 18, 19, 20, 21, 22, 23, 24, 25, 26, 27, 28, 29, 30, 31, 32, 33, 34, 35, 36, 37, 38, 39, 40, 41, 42, 43, 44, 45, 46, 47, 48, 49, 50, 51, 52, 53, 54, 55, 56, 57, 58, 59, 60, 61, 62, 63, 64, 65, 66, 67, 68, 69, 70, 71, 72, 73, 74, 75, 76, 77, 78, 79, 80, 81, 82, 83, 84, 85, 86, 87, 88, 89, 90, 91, 92, 93, 94, 95, 96, 97, 98, 99], \"y\": [0.6085337361817945, 0.9849008662659429, 0.17481835927449163, 0.7438288626332903, 0.4549341248769252, 0.5692305411024162, 0.6866864917646315, 0.15091996389122575, 0.598572333058514, 0.5311366876335679, 0.9647509681138527, 0.42970076544550373, 0.9197065912505893, 0.7512658459378196, 0.6172748994670416, 0.8869450145926792, 0.8984286133614072, 0.5110235635378919, 0.20037484313679033, 0.40285965977201077, 0.6251604159867912, 0.7636289035224022, 0.9591931988677984, 0.89411526565189, 0.612783769491025, 0.21082458066343868, 0.8210691098866622, 0.28741205960236926, 0.40875401399822564, 0.6572032947569375, 0.8717539125541596, 0.4933401273428939, 0.3401422688102115, 0.4721561988060825, 0.36214608305039664, 0.4991284004318195, 0.6222161033737548, 0.6675732316436533, 0.4434734639664153, 0.6650579368330961, 0.7740363141641551, 0.47506597669456774, 0.7045778679738115, 0.5511023311060128, 0.5250828615861299, 0.09862598494375197, 0.4897136545952473, 0.3236530242756478, 0.4240146481999545, 0.11764868551348973, 0.9815372793772702, 0.9232006895886629, 0.647357911651621, 0.5510160241780454, 0.4894197386121423, 0.10052339054740922, 0.25282609452770033, 0.7600787941990619, 0.23123523257991174, 0.6664292991581325, 0.4374166355841971, 0.7662383104126994, 0.4263403310506284, 0.20321454392170335, 0.03864288709883246, 0.880656277259328, 0.7610979538639527, 0.3426033199000921, 0.06924669753559487, 0.9488897619679045, 0.27989153511860954, 0.10045223618897847, 0.9954880550235646, 0.015224490864340523, 0.5421397400902137, 0.687599485200822, 0.6352382875512128, 0.3952487236954483, 0.5221446773937745, 0.5462842796507908, 0.6285907982844269, 0.7916249160524705, 0.9563225781284411, 0.8547698325588563, 0.18707107322032013, 0.2497255885986579, 0.3080902134021354, 0.22282597342980115, 0.8564392586445342, 0.49700783760020384, 0.24623954678299986, 0.05866062421915241, 0.615126023015918, 0.38884070501730983, 0.9152233410521818, 0.016008476630690605, 0.4798720815160471, 0.5171996847932875, 0.6874258034388792, 0.9235294420687038]}, {\"connectgaps\": false, \"fill\": \"tozeroy\", \"line\": {\"color\": \"green\", \"dash\": \"solid\", \"shape\": \"linear\", \"width\": 0.5}, \"mode\": \"lines\", \"name\": \"Spread\", \"showlegend\": false, \"type\": \"scatter\", \"x\": [0, 1, 2, 3, 4, 5, 6, 7, 8, 9, 10, 11, 12, 13, 14, 15, 16, 17, 18, 19, 20, 21, 22, 23, 24, 25, 26, 27, 28, 29, 30, 31, 32, 33, 34, 35, 36, 37, 38, 39, 40, 41, 42, 43, 44, 45, 46, 47, 48, 49, 50, 51, 52, 53, 54, 55, 56, 57, 58, 59, 60, 61, 62, 63, 64, 65, 66, 67, 68, 69, 70, 71, 72, 73, 74, 75, 76, 77, 78, 79, 80, 81, 82, 83, 84, 85, 86, 87, 88, 89, 90, 91, 92, 93, 94, 95, 96, 97, 98, 99], \"xaxis\": \"x2\", \"y\": [0.3668509896022759, \"\", 0.5429454898845344, \"\", 0.006081391017322968, \"\", 0.23593352355405262, 0.6335652415401672, \"\", \"\", \"\", \"\", \"\", \"\", \"\", \"\", \"\", \"\", 0.6995390192198945, 0.4687384457379653, 0.36273011503665287, 0.13252098804575274, \"\", \"\", \"\", \"\", \"\", 0.4886946955044249, 0.14882309993065268, \"\", \"\", 0.1984959812042597, 0.5389456455738026, 0.23558228235477308, \"\", \"\", \"\", 0.10302105561019592, \"\", 0.000485117696493953, \"\", 0.34004460414598303, 0.1801032156478769, \"\", \"\", 0.7638907999549474, 0.1532260590810579, 0.4526995711308256, 0.4001177654446556, 0.6009905730862768, \"\", \"\", \"\", \"\", \"\", 0.14327872907349226, \"\", \"\", 0.6251946347936665, \"\", 0.16813688085172496, \"\", \"\", 0.7462512875954908, 0.5917949296193681, \"\", \"\", 0.13669559367026207, 0.3567151963325922, \"\", 0.14135652484999206, 0.6732182611515664, \"\", 0.9655183380364813, \"\", \"\", \"\", 0.46431328216809487, \"\", \"\", 0.0833104909204525, \"\", 0.02101832025359307, \"\", 0.6940019518820468, 0.15181050056231404, 0.266050923944688, 0.5880851681457777, \"\", \"\", 0.5491925959065995, 0.4964578462749978, 0.30331612966459365, 0.27138666714175375, \"\", 0.862245401275608, 0.3218049108931831, 0.2842857351622322, 0.2769901510736169, \"\"], \"yaxis\": \"y2\"}, {\"connectgaps\": false, \"fill\": \"tozeroy\", \"line\": {\"color\": \"red\", \"dash\": \"solid\", \"shape\": \"linear\", \"width\": 0.5}, \"mode\": \"lines\", \"name\": \"Spread\", \"showlegend\": false, \"type\": \"scatter\", \"x\": [0, 1, 2, 3, 4, 5, 6, 7, 8, 9, 10, 11, 12, 13, 14, 15, 16, 17, 18, 19, 20, 21, 22, 23, 24, 25, 26, 27, 28, 29, 30, 31, 32, 33, 34, 35, 36, 37, 38, 39, 40, 41, 42, 43, 44, 45, 46, 47, 48, 49, 50, 51, 52, 53, 54, 55, 56, 57, 58, 59, 60, 61, 62, 63, 64, 65, 66, 67, 68, 69, 70, 71, 72, 73, 74, 75, 76, 77, 78, 79, 80, 81, 82, 83, 84, 85, 86, 87, 88, 89, 90, 91, 92, 93, 94, 95, 96, 97, 98, 99], \"xaxis\": \"x2\", \"y\": [\"\", -0.3163482187559825, \"\", -0.10218560902060625, \"\", -0.44844829108217443, \"\", \"\", -0.28401456095094335, -0.0832681699877712, -0.7516366215209354, -0.1285311494111585, -0.16344129579668198, -0.5746103575494741, -0.29088983229364707, -0.040983571658329776, -0.5565029089937289, -0.44710519334593657, \"\", \"\", \"\", \"\", -0.5961274435590265, -0.06649901109853384, -0.4075318175586172, -0.14691266428540672, -0.6516950166012482, \"\", \"\", -0.5072992414236248, -0.6484101427353186, \"\", \"\", \"\", -0.1379182112375118, -0.17751121796609126, -0.14067505609191944, \"\", -0.24359126408404908, \"\", -0.10170033504789633, \"\", \"\", -0.543857812427721, -0.11819043624455106, \"\", \"\", \"\", \"\", \"\", -0.7647025005972414, -0.5737826599626034, -0.47322966574535574, -0.5270369141106144, -0.09454389160070142, \"\", -0.029380373853410968, -0.10634667377417395, \"\", -0.15410444161225267, \"\", -0.1144753719459316, -0.19181969719702607, \"\", \"\", -0.6176166409369507, -0.47479466795969283, \"\", \"\", -0.5640328702443363, \"\", \"\", -0.5470352084664405, \"\", -0.10580954281241373, -0.4744181494451234, -0.4766835612554696, \"\", -0.16370066164215402, -0.09398450752524878, \"\", -0.38721434825016987, \"\", -0.5373627215422808, \"\", \"\", \"\", \"\", -0.3997966502961525, -0.15874631076195, \"\", \"\", \"\", \"\", -0.5361504724303391, \"\", \"\", \"\", \"\", -0.7209295104417068], \"yaxis\": \"y2\"}],                        {\"hovermode\": \"x\", \"legend\": {\"bgcolor\": \"#F5F6F9\", \"font\": {\"color\": \"#4D5663\"}}, \"paper_bgcolor\": \"#F5F6F9\", \"plot_bgcolor\": \"#F5F6F9\", \"template\": {\"data\": {\"bar\": [{\"error_x\": {\"color\": \"#2a3f5f\"}, \"error_y\": {\"color\": \"#2a3f5f\"}, \"marker\": {\"line\": {\"color\": \"#E5ECF6\", \"width\": 0.5}}, \"type\": \"bar\"}], \"barpolar\": [{\"marker\": {\"line\": {\"color\": \"#E5ECF6\", \"width\": 0.5}}, \"type\": \"barpolar\"}], \"carpet\": [{\"aaxis\": {\"endlinecolor\": \"#2a3f5f\", \"gridcolor\": \"white\", \"linecolor\": \"white\", \"minorgridcolor\": \"white\", \"startlinecolor\": \"#2a3f5f\"}, \"baxis\": {\"endlinecolor\": \"#2a3f5f\", \"gridcolor\": \"white\", \"linecolor\": \"white\", \"minorgridcolor\": \"white\", \"startlinecolor\": \"#2a3f5f\"}, \"type\": \"carpet\"}], \"choropleth\": [{\"colorbar\": {\"outlinewidth\": 0, \"ticks\": \"\"}, \"type\": \"choropleth\"}], \"contour\": [{\"colorbar\": {\"outlinewidth\": 0, \"ticks\": \"\"}, \"colorscale\": [[0.0, \"#0d0887\"], [0.1111111111111111, \"#46039f\"], [0.2222222222222222, \"#7201a8\"], [0.3333333333333333, \"#9c179e\"], [0.4444444444444444, \"#bd3786\"], [0.5555555555555556, \"#d8576b\"], [0.6666666666666666, \"#ed7953\"], [0.7777777777777778, \"#fb9f3a\"], [0.8888888888888888, \"#fdca26\"], [1.0, \"#f0f921\"]], \"type\": \"contour\"}], \"contourcarpet\": [{\"colorbar\": {\"outlinewidth\": 0, \"ticks\": \"\"}, \"type\": \"contourcarpet\"}], \"heatmap\": [{\"colorbar\": {\"outlinewidth\": 0, \"ticks\": \"\"}, \"colorscale\": [[0.0, \"#0d0887\"], [0.1111111111111111, \"#46039f\"], [0.2222222222222222, \"#7201a8\"], [0.3333333333333333, \"#9c179e\"], [0.4444444444444444, \"#bd3786\"], [0.5555555555555556, \"#d8576b\"], [0.6666666666666666, \"#ed7953\"], [0.7777777777777778, \"#fb9f3a\"], [0.8888888888888888, \"#fdca26\"], [1.0, \"#f0f921\"]], \"type\": \"heatmap\"}], \"heatmapgl\": [{\"colorbar\": {\"outlinewidth\": 0, \"ticks\": \"\"}, \"colorscale\": [[0.0, \"#0d0887\"], [0.1111111111111111, \"#46039f\"], [0.2222222222222222, \"#7201a8\"], [0.3333333333333333, \"#9c179e\"], [0.4444444444444444, \"#bd3786\"], [0.5555555555555556, \"#d8576b\"], [0.6666666666666666, \"#ed7953\"], [0.7777777777777778, \"#fb9f3a\"], [0.8888888888888888, \"#fdca26\"], [1.0, \"#f0f921\"]], \"type\": \"heatmapgl\"}], \"histogram\": [{\"marker\": {\"colorbar\": {\"outlinewidth\": 0, \"ticks\": \"\"}}, \"type\": \"histogram\"}], \"histogram2d\": [{\"colorbar\": {\"outlinewidth\": 0, \"ticks\": \"\"}, \"colorscale\": [[0.0, \"#0d0887\"], [0.1111111111111111, \"#46039f\"], [0.2222222222222222, \"#7201a8\"], [0.3333333333333333, \"#9c179e\"], [0.4444444444444444, \"#bd3786\"], [0.5555555555555556, \"#d8576b\"], [0.6666666666666666, \"#ed7953\"], [0.7777777777777778, \"#fb9f3a\"], [0.8888888888888888, \"#fdca26\"], [1.0, \"#f0f921\"]], \"type\": \"histogram2d\"}], \"histogram2dcontour\": [{\"colorbar\": {\"outlinewidth\": 0, \"ticks\": \"\"}, \"colorscale\": [[0.0, \"#0d0887\"], [0.1111111111111111, \"#46039f\"], [0.2222222222222222, \"#7201a8\"], [0.3333333333333333, \"#9c179e\"], [0.4444444444444444, \"#bd3786\"], [0.5555555555555556, \"#d8576b\"], [0.6666666666666666, \"#ed7953\"], [0.7777777777777778, \"#fb9f3a\"], [0.8888888888888888, \"#fdca26\"], [1.0, \"#f0f921\"]], \"type\": \"histogram2dcontour\"}], \"mesh3d\": [{\"colorbar\": {\"outlinewidth\": 0, \"ticks\": \"\"}, \"type\": \"mesh3d\"}], \"parcoords\": [{\"line\": {\"colorbar\": {\"outlinewidth\": 0, \"ticks\": \"\"}}, \"type\": \"parcoords\"}], \"pie\": [{\"automargin\": true, \"type\": \"pie\"}], \"scatter\": [{\"marker\": {\"colorbar\": {\"outlinewidth\": 0, \"ticks\": \"\"}}, \"type\": \"scatter\"}], \"scatter3d\": [{\"line\": {\"colorbar\": {\"outlinewidth\": 0, \"ticks\": \"\"}}, \"marker\": {\"colorbar\": {\"outlinewidth\": 0, \"ticks\": \"\"}}, \"type\": \"scatter3d\"}], \"scattercarpet\": [{\"marker\": {\"colorbar\": {\"outlinewidth\": 0, \"ticks\": \"\"}}, \"type\": \"scattercarpet\"}], \"scattergeo\": [{\"marker\": {\"colorbar\": {\"outlinewidth\": 0, \"ticks\": \"\"}}, \"type\": \"scattergeo\"}], \"scattergl\": [{\"marker\": {\"colorbar\": {\"outlinewidth\": 0, \"ticks\": \"\"}}, \"type\": \"scattergl\"}], \"scattermapbox\": [{\"marker\": {\"colorbar\": {\"outlinewidth\": 0, \"ticks\": \"\"}}, \"type\": \"scattermapbox\"}], \"scatterpolar\": [{\"marker\": {\"colorbar\": {\"outlinewidth\": 0, \"ticks\": \"\"}}, \"type\": \"scatterpolar\"}], \"scatterpolargl\": [{\"marker\": {\"colorbar\": {\"outlinewidth\": 0, \"ticks\": \"\"}}, \"type\": \"scatterpolargl\"}], \"scatterternary\": [{\"marker\": {\"colorbar\": {\"outlinewidth\": 0, \"ticks\": \"\"}}, \"type\": \"scatterternary\"}], \"surface\": [{\"colorbar\": {\"outlinewidth\": 0, \"ticks\": \"\"}, \"colorscale\": [[0.0, \"#0d0887\"], [0.1111111111111111, \"#46039f\"], [0.2222222222222222, \"#7201a8\"], [0.3333333333333333, \"#9c179e\"], [0.4444444444444444, \"#bd3786\"], [0.5555555555555556, \"#d8576b\"], [0.6666666666666666, \"#ed7953\"], [0.7777777777777778, \"#fb9f3a\"], [0.8888888888888888, \"#fdca26\"], [1.0, \"#f0f921\"]], \"type\": \"surface\"}], \"table\": [{\"cells\": {\"fill\": {\"color\": \"#EBF0F8\"}, \"line\": {\"color\": \"white\"}}, \"header\": {\"fill\": {\"color\": \"#C8D4E3\"}, \"line\": {\"color\": \"white\"}}, \"type\": \"table\"}]}, \"layout\": {\"annotationdefaults\": {\"arrowcolor\": \"#2a3f5f\", \"arrowhead\": 0, \"arrowwidth\": 1}, \"autotypenumbers\": \"strict\", \"coloraxis\": {\"colorbar\": {\"outlinewidth\": 0, \"ticks\": \"\"}}, \"colorscale\": {\"diverging\": [[0, \"#8e0152\"], [0.1, \"#c51b7d\"], [0.2, \"#de77ae\"], [0.3, \"#f1b6da\"], [0.4, \"#fde0ef\"], [0.5, \"#f7f7f7\"], [0.6, \"#e6f5d0\"], [0.7, \"#b8e186\"], [0.8, \"#7fbc41\"], [0.9, \"#4d9221\"], [1, \"#276419\"]], \"sequential\": [[0.0, \"#0d0887\"], [0.1111111111111111, \"#46039f\"], [0.2222222222222222, \"#7201a8\"], [0.3333333333333333, \"#9c179e\"], [0.4444444444444444, \"#bd3786\"], [0.5555555555555556, \"#d8576b\"], [0.6666666666666666, \"#ed7953\"], [0.7777777777777778, \"#fb9f3a\"], [0.8888888888888888, \"#fdca26\"], [1.0, \"#f0f921\"]], \"sequentialminus\": [[0.0, \"#0d0887\"], [0.1111111111111111, \"#46039f\"], [0.2222222222222222, \"#7201a8\"], [0.3333333333333333, \"#9c179e\"], [0.4444444444444444, \"#bd3786\"], [0.5555555555555556, \"#d8576b\"], [0.6666666666666666, \"#ed7953\"], [0.7777777777777778, \"#fb9f3a\"], [0.8888888888888888, \"#fdca26\"], [1.0, \"#f0f921\"]]}, \"colorway\": [\"#636efa\", \"#EF553B\", \"#00cc96\", \"#ab63fa\", \"#FFA15A\", \"#19d3f3\", \"#FF6692\", \"#B6E880\", \"#FF97FF\", \"#FECB52\"], \"font\": {\"color\": \"#2a3f5f\"}, \"geo\": {\"bgcolor\": \"white\", \"lakecolor\": \"white\", \"landcolor\": \"#E5ECF6\", \"showlakes\": true, \"showland\": true, \"subunitcolor\": \"white\"}, \"hoverlabel\": {\"align\": \"left\"}, \"hovermode\": \"closest\", \"mapbox\": {\"style\": \"light\"}, \"paper_bgcolor\": \"white\", \"plot_bgcolor\": \"#E5ECF6\", \"polar\": {\"angularaxis\": {\"gridcolor\": \"white\", \"linecolor\": \"white\", \"ticks\": \"\"}, \"bgcolor\": \"#E5ECF6\", \"radialaxis\": {\"gridcolor\": \"white\", \"linecolor\": \"white\", \"ticks\": \"\"}}, \"scene\": {\"xaxis\": {\"backgroundcolor\": \"#E5ECF6\", \"gridcolor\": \"white\", \"gridwidth\": 2, \"linecolor\": \"white\", \"showbackground\": true, \"ticks\": \"\", \"zerolinecolor\": \"white\"}, \"yaxis\": {\"backgroundcolor\": \"#E5ECF6\", \"gridcolor\": \"white\", \"gridwidth\": 2, \"linecolor\": \"white\", \"showbackground\": true, \"ticks\": \"\", \"zerolinecolor\": \"white\"}, \"zaxis\": {\"backgroundcolor\": \"#E5ECF6\", \"gridcolor\": \"white\", \"gridwidth\": 2, \"linecolor\": \"white\", \"showbackground\": true, \"ticks\": \"\", \"zerolinecolor\": \"white\"}}, \"shapedefaults\": {\"line\": {\"color\": \"#2a3f5f\"}}, \"ternary\": {\"aaxis\": {\"gridcolor\": \"white\", \"linecolor\": \"white\", \"ticks\": \"\"}, \"baxis\": {\"gridcolor\": \"white\", \"linecolor\": \"white\", \"ticks\": \"\"}, \"bgcolor\": \"#E5ECF6\", \"caxis\": {\"gridcolor\": \"white\", \"linecolor\": \"white\", \"ticks\": \"\"}}, \"title\": {\"x\": 0.05}, \"xaxis\": {\"automargin\": true, \"gridcolor\": \"white\", \"linecolor\": \"white\", \"ticks\": \"\", \"title\": {\"standoff\": 15}, \"zerolinecolor\": \"white\", \"zerolinewidth\": 2}, \"yaxis\": {\"automargin\": true, \"gridcolor\": \"white\", \"linecolor\": \"white\", \"ticks\": \"\", \"title\": {\"standoff\": 15}, \"zerolinecolor\": \"white\", \"zerolinewidth\": 2}}}, \"title\": {\"font\": {\"color\": \"#4D5663\"}}, \"xaxis\": {\"gridcolor\": \"#E1E5ED\", \"showgrid\": true, \"tickfont\": {\"color\": \"#4D5663\"}, \"title\": {\"font\": {\"color\": \"#4D5663\"}, \"text\": \"\"}, \"zerolinecolor\": \"#E1E5ED\"}, \"xaxis2\": {\"anchor\": \"y2\", \"gridcolor\": \"#E1E5ED\", \"showgrid\": true, \"showticklabels\": false, \"tickfont\": {\"color\": \"#4D5663\"}, \"title\": {\"font\": {\"color\": \"#4D5663\"}, \"text\": \"\"}, \"zerolinecolor\": \"#E1E5ED\"}, \"yaxis\": {\"domain\": [0.3, 1], \"gridcolor\": \"#E1E5ED\", \"showgrid\": true, \"tickfont\": {\"color\": \"#4D5663\"}, \"title\": {\"font\": {\"color\": \"#4D5663\"}, \"text\": \"\"}, \"zerolinecolor\": \"#E1E5ED\"}, \"yaxis2\": {\"domain\": [0, 0.25], \"gridcolor\": \"#E1E5ED\", \"showgrid\": true, \"tickfont\": {\"color\": \"#4D5663\"}, \"title\": {\"font\": {\"color\": \"#4D5663\"}, \"text\": \"Spread\"}, \"zerolinecolor\": \"#E1E5ED\"}},                        {\"showLink\": true, \"linkText\": \"Export to plot.ly\", \"plotlyServerURL\": \"https://plot.ly\", \"responsive\": true}                    ).then(function(){\n",
       "                            \n",
       "var gd = document.getElementById('17b6030e-d814-42b6-a5bf-2eb3af4fe4a0');\n",
       "var x = new MutationObserver(function (mutations, observer) {{\n",
       "        var display = window.getComputedStyle(gd).display;\n",
       "        if (!display || display === 'none') {{\n",
       "            console.log([gd, 'removed!']);\n",
       "            Plotly.purge(gd);\n",
       "            observer.disconnect();\n",
       "        }}\n",
       "}});\n",
       "\n",
       "// Listen for the removal of the full notebook cells\n",
       "var notebookContainer = gd.closest('#notebook-container');\n",
       "if (notebookContainer) {{\n",
       "    x.observe(notebookContainer, {childList: true});\n",
       "}}\n",
       "\n",
       "// Listen for the clearing of the current output cell\n",
       "var outputEl = gd.closest('.output');\n",
       "if (outputEl) {{\n",
       "    x.observe(outputEl, {childList: true});\n",
       "}}\n",
       "\n",
       "                        })                };                });            </script>        </div>"
      ]
     },
     "metadata": {},
     "output_type": "display_data"
    }
   ],
   "source": [
    "df1[[\"A\",\"B\"]].iplot(kind=\"spread\")"
   ]
  },
  {
   "cell_type": "code",
   "execution_count": 27,
   "metadata": {},
   "outputs": [
    {
     "data": {
      "application/vnd.plotly.v1+json": {
       "config": {
        "linkText": "Export to plot.ly",
        "plotlyServerURL": "https://plot.ly",
        "showLink": true
       },
       "data": [
        {
         "marker": {
          "color": [
           "rgb(255, 153, 51)",
           "rgb(55, 128, 191)",
           "rgb(50, 171, 96)",
           "rgb(128, 0, 128)",
           "rgb(219, 64, 82)",
           "rgb(0, 128, 128)",
           "rgb(255, 255, 51)",
           "rgb(128, 128, 0)",
           "rgb(251, 128, 114)",
           "rgb(128, 177, 211)"
          ],
          "line": {
           "width": 1.3
          },
          "size": [
           86,
           41,
           56,
           91,
           21,
           15,
           19,
           103,
           36,
           49,
           93,
           62,
           27,
           85,
           83,
           97,
           39,
           59,
           53,
           95,
           59,
           75,
           31,
           13,
           109,
           12,
           21,
           106,
           77,
           75,
           86,
           47,
           62,
           14,
           84,
           103,
           110,
           80,
           37,
           24,
           74,
           19,
           12,
           30,
           35,
           17,
           49,
           105,
           77,
           31,
           59,
           72,
           18,
           52,
           31,
           101,
           16,
           71,
           95,
           99,
           51,
           24,
           62,
           41,
           50,
           15,
           104,
           63,
           58,
           106,
           20,
           13,
           103,
           28,
           32,
           98,
           104,
           82,
           31,
           15,
           36,
           112,
           72,
           63,
           57,
           31,
           62,
           98,
           28,
           36,
           86,
           50,
           102,
           24,
           68,
           22,
           106,
           75,
           34,
           91
          ],
          "symbol": "circle"
         },
         "mode": "markers",
         "text": "",
         "type": "scatter",
         "x": [
          0.9753847257840704,
          0.6685526475099604,
          0.717763849159026,
          0.641643253612684,
          0.46101551589424816,
          0.12078225002024179,
          0.9226200153186841,
          0.784485205431393,
          0.31455777210757063,
          0.4478685176457967,
          0.2131143465929174,
          0.3011696160343452,
          0.7562652954539073,
          0.17665548838834555,
          0.32638506717339455,
          0.8459614429343494,
          0.34192570436767833,
          0.06391837019195534,
          0.8999138623566848,
          0.8715981055099761,
          0.987890531023444,
          0.8961498915681549,
          0.36306575530877194,
          0.8276162545533562,
          0.20525195193240775,
          0.06391191637803195,
          0.16937409328541397,
          0.7761067551067942,
          0.5575771139288783,
          0.1499040533333127,
          0.22334376981884096,
          0.6918361085471536,
          0.8790879143840141,
          0.7077384811608556,
          0.22422787181288484,
          0.32161718246572824,
          0.48154104728183533,
          0.7705942872538493,
          0.19988219988236622,
          0.6655430545295901,
          0.6723359791162588,
          0.8151105808405508,
          0.8846810836216884,
          0.007244518678291789,
          0.4068924253415789,
          0.8625167848986993,
          0.6429397136763052,
          0.7763525954064734,
          0.8241324136446101,
          0.7186392585997665,
          0.21683477878002877,
          0.3494180296260595,
          0.1741282459062653,
          0.02397911006743103,
          0.39487584701144085,
          0.24380211962090148,
          0.22344572067428936,
          0.6537321204248879,
          0.8564298673735783,
          0.5123248575458799,
          0.605553516435922,
          0.6517629384667678,
          0.23452063385360233,
          0.9494658315171941,
          0.6304378167182005,
          0.26303963632237737,
          0.2863032859042599,
          0.47929891357035415,
          0.42596189386818706,
          0.3848568917235682,
          0.4212480599686016,
          0.7736704973405448,
          0.44845284655712414,
          0.9807428289008219,
          0.4363301972778,
          0.21318133575569864,
          0.1585547262957432,
          0.8595620058635431,
          0.35844401575162044,
          0.45229977212554207,
          0.7119012892048794,
          0.40441056780230067,
          0.9773408983820342,
          0.3174071110165755,
          0.881073025102367,
          0.40153608916097194,
          0.5741411373468234,
          0.8109111415755789,
          0.45664260834838166,
          0.33826152683825383,
          0.7954321426895994,
          0.5551184704941502,
          0.9184421526805117,
          0.6602273721590636,
          0.37907286862184275,
          0.8782538779062986,
          0.8016769924092302,
          0.8014854199555197,
          0.9644159545124961,
          0.20259993162699697
         ],
         "y": [
          0.6085337361817945,
          0.9849008662659429,
          0.17481835927449163,
          0.7438288626332903,
          0.4549341248769252,
          0.5692305411024162,
          0.6866864917646315,
          0.15091996389122575,
          0.598572333058514,
          0.5311366876335679,
          0.9647509681138527,
          0.42970076544550373,
          0.9197065912505893,
          0.7512658459378196,
          0.6172748994670416,
          0.8869450145926792,
          0.8984286133614072,
          0.5110235635378919,
          0.20037484313679033,
          0.40285965977201077,
          0.6251604159867912,
          0.7636289035224022,
          0.9591931988677984,
          0.89411526565189,
          0.612783769491025,
          0.21082458066343868,
          0.8210691098866622,
          0.28741205960236926,
          0.40875401399822564,
          0.6572032947569375,
          0.8717539125541596,
          0.4933401273428939,
          0.3401422688102115,
          0.4721561988060825,
          0.36214608305039664,
          0.4991284004318195,
          0.6222161033737548,
          0.6675732316436533,
          0.4434734639664153,
          0.6650579368330961,
          0.7740363141641551,
          0.47506597669456774,
          0.7045778679738115,
          0.5511023311060128,
          0.5250828615861299,
          0.09862598494375197,
          0.4897136545952473,
          0.3236530242756478,
          0.4240146481999545,
          0.11764868551348973,
          0.9815372793772702,
          0.9232006895886629,
          0.647357911651621,
          0.5510160241780454,
          0.4894197386121423,
          0.10052339054740922,
          0.25282609452770033,
          0.7600787941990619,
          0.23123523257991174,
          0.6664292991581325,
          0.4374166355841971,
          0.7662383104126994,
          0.4263403310506284,
          0.20321454392170335,
          0.03864288709883246,
          0.880656277259328,
          0.7610979538639527,
          0.3426033199000921,
          0.06924669753559487,
          0.9488897619679045,
          0.27989153511860954,
          0.10045223618897847,
          0.9954880550235646,
          0.015224490864340523,
          0.5421397400902137,
          0.687599485200822,
          0.6352382875512128,
          0.3952487236954483,
          0.5221446773937745,
          0.5462842796507908,
          0.6285907982844269,
          0.7916249160524705,
          0.9563225781284411,
          0.8547698325588563,
          0.18707107322032013,
          0.2497255885986579,
          0.3080902134021354,
          0.22282597342980115,
          0.8564392586445342,
          0.49700783760020384,
          0.24623954678299986,
          0.05866062421915241,
          0.615126023015918,
          0.38884070501730983,
          0.9152233410521818,
          0.016008476630690605,
          0.4798720815160471,
          0.5171996847932875,
          0.6874258034388792,
          0.9235294420687038
         ]
        }
       ],
       "layout": {
        "legend": {
         "bgcolor": "#F5F6F9",
         "font": {
          "color": "#4D5663"
         }
        },
        "paper_bgcolor": "#F5F6F9",
        "plot_bgcolor": "#F5F6F9",
        "template": {
         "data": {
          "bar": [
           {
            "error_x": {
             "color": "#2a3f5f"
            },
            "error_y": {
             "color": "#2a3f5f"
            },
            "marker": {
             "line": {
              "color": "#E5ECF6",
              "width": 0.5
             }
            },
            "type": "bar"
           }
          ],
          "barpolar": [
           {
            "marker": {
             "line": {
              "color": "#E5ECF6",
              "width": 0.5
             }
            },
            "type": "barpolar"
           }
          ],
          "carpet": [
           {
            "aaxis": {
             "endlinecolor": "#2a3f5f",
             "gridcolor": "white",
             "linecolor": "white",
             "minorgridcolor": "white",
             "startlinecolor": "#2a3f5f"
            },
            "baxis": {
             "endlinecolor": "#2a3f5f",
             "gridcolor": "white",
             "linecolor": "white",
             "minorgridcolor": "white",
             "startlinecolor": "#2a3f5f"
            },
            "type": "carpet"
           }
          ],
          "choropleth": [
           {
            "colorbar": {
             "outlinewidth": 0,
             "ticks": ""
            },
            "type": "choropleth"
           }
          ],
          "contour": [
           {
            "colorbar": {
             "outlinewidth": 0,
             "ticks": ""
            },
            "colorscale": [
             [
              0,
              "#0d0887"
             ],
             [
              0.1111111111111111,
              "#46039f"
             ],
             [
              0.2222222222222222,
              "#7201a8"
             ],
             [
              0.3333333333333333,
              "#9c179e"
             ],
             [
              0.4444444444444444,
              "#bd3786"
             ],
             [
              0.5555555555555556,
              "#d8576b"
             ],
             [
              0.6666666666666666,
              "#ed7953"
             ],
             [
              0.7777777777777778,
              "#fb9f3a"
             ],
             [
              0.8888888888888888,
              "#fdca26"
             ],
             [
              1,
              "#f0f921"
             ]
            ],
            "type": "contour"
           }
          ],
          "contourcarpet": [
           {
            "colorbar": {
             "outlinewidth": 0,
             "ticks": ""
            },
            "type": "contourcarpet"
           }
          ],
          "heatmap": [
           {
            "colorbar": {
             "outlinewidth": 0,
             "ticks": ""
            },
            "colorscale": [
             [
              0,
              "#0d0887"
             ],
             [
              0.1111111111111111,
              "#46039f"
             ],
             [
              0.2222222222222222,
              "#7201a8"
             ],
             [
              0.3333333333333333,
              "#9c179e"
             ],
             [
              0.4444444444444444,
              "#bd3786"
             ],
             [
              0.5555555555555556,
              "#d8576b"
             ],
             [
              0.6666666666666666,
              "#ed7953"
             ],
             [
              0.7777777777777778,
              "#fb9f3a"
             ],
             [
              0.8888888888888888,
              "#fdca26"
             ],
             [
              1,
              "#f0f921"
             ]
            ],
            "type": "heatmap"
           }
          ],
          "heatmapgl": [
           {
            "colorbar": {
             "outlinewidth": 0,
             "ticks": ""
            },
            "colorscale": [
             [
              0,
              "#0d0887"
             ],
             [
              0.1111111111111111,
              "#46039f"
             ],
             [
              0.2222222222222222,
              "#7201a8"
             ],
             [
              0.3333333333333333,
              "#9c179e"
             ],
             [
              0.4444444444444444,
              "#bd3786"
             ],
             [
              0.5555555555555556,
              "#d8576b"
             ],
             [
              0.6666666666666666,
              "#ed7953"
             ],
             [
              0.7777777777777778,
              "#fb9f3a"
             ],
             [
              0.8888888888888888,
              "#fdca26"
             ],
             [
              1,
              "#f0f921"
             ]
            ],
            "type": "heatmapgl"
           }
          ],
          "histogram": [
           {
            "marker": {
             "colorbar": {
              "outlinewidth": 0,
              "ticks": ""
             }
            },
            "type": "histogram"
           }
          ],
          "histogram2d": [
           {
            "colorbar": {
             "outlinewidth": 0,
             "ticks": ""
            },
            "colorscale": [
             [
              0,
              "#0d0887"
             ],
             [
              0.1111111111111111,
              "#46039f"
             ],
             [
              0.2222222222222222,
              "#7201a8"
             ],
             [
              0.3333333333333333,
              "#9c179e"
             ],
             [
              0.4444444444444444,
              "#bd3786"
             ],
             [
              0.5555555555555556,
              "#d8576b"
             ],
             [
              0.6666666666666666,
              "#ed7953"
             ],
             [
              0.7777777777777778,
              "#fb9f3a"
             ],
             [
              0.8888888888888888,
              "#fdca26"
             ],
             [
              1,
              "#f0f921"
             ]
            ],
            "type": "histogram2d"
           }
          ],
          "histogram2dcontour": [
           {
            "colorbar": {
             "outlinewidth": 0,
             "ticks": ""
            },
            "colorscale": [
             [
              0,
              "#0d0887"
             ],
             [
              0.1111111111111111,
              "#46039f"
             ],
             [
              0.2222222222222222,
              "#7201a8"
             ],
             [
              0.3333333333333333,
              "#9c179e"
             ],
             [
              0.4444444444444444,
              "#bd3786"
             ],
             [
              0.5555555555555556,
              "#d8576b"
             ],
             [
              0.6666666666666666,
              "#ed7953"
             ],
             [
              0.7777777777777778,
              "#fb9f3a"
             ],
             [
              0.8888888888888888,
              "#fdca26"
             ],
             [
              1,
              "#f0f921"
             ]
            ],
            "type": "histogram2dcontour"
           }
          ],
          "mesh3d": [
           {
            "colorbar": {
             "outlinewidth": 0,
             "ticks": ""
            },
            "type": "mesh3d"
           }
          ],
          "parcoords": [
           {
            "line": {
             "colorbar": {
              "outlinewidth": 0,
              "ticks": ""
             }
            },
            "type": "parcoords"
           }
          ],
          "pie": [
           {
            "automargin": true,
            "type": "pie"
           }
          ],
          "scatter": [
           {
            "marker": {
             "colorbar": {
              "outlinewidth": 0,
              "ticks": ""
             }
            },
            "type": "scatter"
           }
          ],
          "scatter3d": [
           {
            "line": {
             "colorbar": {
              "outlinewidth": 0,
              "ticks": ""
             }
            },
            "marker": {
             "colorbar": {
              "outlinewidth": 0,
              "ticks": ""
             }
            },
            "type": "scatter3d"
           }
          ],
          "scattercarpet": [
           {
            "marker": {
             "colorbar": {
              "outlinewidth": 0,
              "ticks": ""
             }
            },
            "type": "scattercarpet"
           }
          ],
          "scattergeo": [
           {
            "marker": {
             "colorbar": {
              "outlinewidth": 0,
              "ticks": ""
             }
            },
            "type": "scattergeo"
           }
          ],
          "scattergl": [
           {
            "marker": {
             "colorbar": {
              "outlinewidth": 0,
              "ticks": ""
             }
            },
            "type": "scattergl"
           }
          ],
          "scattermapbox": [
           {
            "marker": {
             "colorbar": {
              "outlinewidth": 0,
              "ticks": ""
             }
            },
            "type": "scattermapbox"
           }
          ],
          "scatterpolar": [
           {
            "marker": {
             "colorbar": {
              "outlinewidth": 0,
              "ticks": ""
             }
            },
            "type": "scatterpolar"
           }
          ],
          "scatterpolargl": [
           {
            "marker": {
             "colorbar": {
              "outlinewidth": 0,
              "ticks": ""
             }
            },
            "type": "scatterpolargl"
           }
          ],
          "scatterternary": [
           {
            "marker": {
             "colorbar": {
              "outlinewidth": 0,
              "ticks": ""
             }
            },
            "type": "scatterternary"
           }
          ],
          "surface": [
           {
            "colorbar": {
             "outlinewidth": 0,
             "ticks": ""
            },
            "colorscale": [
             [
              0,
              "#0d0887"
             ],
             [
              0.1111111111111111,
              "#46039f"
             ],
             [
              0.2222222222222222,
              "#7201a8"
             ],
             [
              0.3333333333333333,
              "#9c179e"
             ],
             [
              0.4444444444444444,
              "#bd3786"
             ],
             [
              0.5555555555555556,
              "#d8576b"
             ],
             [
              0.6666666666666666,
              "#ed7953"
             ],
             [
              0.7777777777777778,
              "#fb9f3a"
             ],
             [
              0.8888888888888888,
              "#fdca26"
             ],
             [
              1,
              "#f0f921"
             ]
            ],
            "type": "surface"
           }
          ],
          "table": [
           {
            "cells": {
             "fill": {
              "color": "#EBF0F8"
             },
             "line": {
              "color": "white"
             }
            },
            "header": {
             "fill": {
              "color": "#C8D4E3"
             },
             "line": {
              "color": "white"
             }
            },
            "type": "table"
           }
          ]
         },
         "layout": {
          "annotationdefaults": {
           "arrowcolor": "#2a3f5f",
           "arrowhead": 0,
           "arrowwidth": 1
          },
          "autotypenumbers": "strict",
          "coloraxis": {
           "colorbar": {
            "outlinewidth": 0,
            "ticks": ""
           }
          },
          "colorscale": {
           "diverging": [
            [
             0,
             "#8e0152"
            ],
            [
             0.1,
             "#c51b7d"
            ],
            [
             0.2,
             "#de77ae"
            ],
            [
             0.3,
             "#f1b6da"
            ],
            [
             0.4,
             "#fde0ef"
            ],
            [
             0.5,
             "#f7f7f7"
            ],
            [
             0.6,
             "#e6f5d0"
            ],
            [
             0.7,
             "#b8e186"
            ],
            [
             0.8,
             "#7fbc41"
            ],
            [
             0.9,
             "#4d9221"
            ],
            [
             1,
             "#276419"
            ]
           ],
           "sequential": [
            [
             0,
             "#0d0887"
            ],
            [
             0.1111111111111111,
             "#46039f"
            ],
            [
             0.2222222222222222,
             "#7201a8"
            ],
            [
             0.3333333333333333,
             "#9c179e"
            ],
            [
             0.4444444444444444,
             "#bd3786"
            ],
            [
             0.5555555555555556,
             "#d8576b"
            ],
            [
             0.6666666666666666,
             "#ed7953"
            ],
            [
             0.7777777777777778,
             "#fb9f3a"
            ],
            [
             0.8888888888888888,
             "#fdca26"
            ],
            [
             1,
             "#f0f921"
            ]
           ],
           "sequentialminus": [
            [
             0,
             "#0d0887"
            ],
            [
             0.1111111111111111,
             "#46039f"
            ],
            [
             0.2222222222222222,
             "#7201a8"
            ],
            [
             0.3333333333333333,
             "#9c179e"
            ],
            [
             0.4444444444444444,
             "#bd3786"
            ],
            [
             0.5555555555555556,
             "#d8576b"
            ],
            [
             0.6666666666666666,
             "#ed7953"
            ],
            [
             0.7777777777777778,
             "#fb9f3a"
            ],
            [
             0.8888888888888888,
             "#fdca26"
            ],
            [
             1,
             "#f0f921"
            ]
           ]
          },
          "colorway": [
           "#636efa",
           "#EF553B",
           "#00cc96",
           "#ab63fa",
           "#FFA15A",
           "#19d3f3",
           "#FF6692",
           "#B6E880",
           "#FF97FF",
           "#FECB52"
          ],
          "font": {
           "color": "#2a3f5f"
          },
          "geo": {
           "bgcolor": "white",
           "lakecolor": "white",
           "landcolor": "#E5ECF6",
           "showlakes": true,
           "showland": true,
           "subunitcolor": "white"
          },
          "hoverlabel": {
           "align": "left"
          },
          "hovermode": "closest",
          "mapbox": {
           "style": "light"
          },
          "paper_bgcolor": "white",
          "plot_bgcolor": "#E5ECF6",
          "polar": {
           "angularaxis": {
            "gridcolor": "white",
            "linecolor": "white",
            "ticks": ""
           },
           "bgcolor": "#E5ECF6",
           "radialaxis": {
            "gridcolor": "white",
            "linecolor": "white",
            "ticks": ""
           }
          },
          "scene": {
           "xaxis": {
            "backgroundcolor": "#E5ECF6",
            "gridcolor": "white",
            "gridwidth": 2,
            "linecolor": "white",
            "showbackground": true,
            "ticks": "",
            "zerolinecolor": "white"
           },
           "yaxis": {
            "backgroundcolor": "#E5ECF6",
            "gridcolor": "white",
            "gridwidth": 2,
            "linecolor": "white",
            "showbackground": true,
            "ticks": "",
            "zerolinecolor": "white"
           },
           "zaxis": {
            "backgroundcolor": "#E5ECF6",
            "gridcolor": "white",
            "gridwidth": 2,
            "linecolor": "white",
            "showbackground": true,
            "ticks": "",
            "zerolinecolor": "white"
           }
          },
          "shapedefaults": {
           "line": {
            "color": "#2a3f5f"
           }
          },
          "ternary": {
           "aaxis": {
            "gridcolor": "white",
            "linecolor": "white",
            "ticks": ""
           },
           "baxis": {
            "gridcolor": "white",
            "linecolor": "white",
            "ticks": ""
           },
           "bgcolor": "#E5ECF6",
           "caxis": {
            "gridcolor": "white",
            "linecolor": "white",
            "ticks": ""
           }
          },
          "title": {
           "x": 0.05
          },
          "xaxis": {
           "automargin": true,
           "gridcolor": "white",
           "linecolor": "white",
           "ticks": "",
           "title": {
            "standoff": 15
           },
           "zerolinecolor": "white",
           "zerolinewidth": 2
          },
          "yaxis": {
           "automargin": true,
           "gridcolor": "white",
           "linecolor": "white",
           "ticks": "",
           "title": {
            "standoff": 15
           },
           "zerolinecolor": "white",
           "zerolinewidth": 2
          }
         }
        },
        "title": {
         "font": {
          "color": "#4D5663"
         }
        },
        "xaxis": {
         "gridcolor": "#E1E5ED",
         "showgrid": true,
         "tickfont": {
          "color": "#4D5663"
         },
         "title": {
          "font": {
           "color": "#4D5663"
          },
          "text": ""
         },
         "zerolinecolor": "#E1E5ED"
        },
        "yaxis": {
         "gridcolor": "#E1E5ED",
         "showgrid": true,
         "tickfont": {
          "color": "#4D5663"
         },
         "title": {
          "font": {
           "color": "#4D5663"
          },
          "text": ""
         },
         "zerolinecolor": "#E1E5ED"
        }
       }
      },
      "text/html": [
       "<div>                            <div id=\"960be41e-e14b-45aa-a11d-b5d863bc4e25\" class=\"plotly-graph-div\" style=\"height:525px; width:100%;\"></div>            <script type=\"text/javascript\">                require([\"plotly\"], function(Plotly) {                    window.PLOTLYENV=window.PLOTLYENV || {};\n",
       "                    window.PLOTLYENV.BASE_URL='https://plot.ly';                                    if (document.getElementById(\"960be41e-e14b-45aa-a11d-b5d863bc4e25\")) {                    Plotly.newPlot(                        \"960be41e-e14b-45aa-a11d-b5d863bc4e25\",                        [{\"marker\": {\"color\": [\"rgb(255, 153, 51)\", \"rgb(55, 128, 191)\", \"rgb(50, 171, 96)\", \"rgb(128, 0, 128)\", \"rgb(219, 64, 82)\", \"rgb(0, 128, 128)\", \"rgb(255, 255, 51)\", \"rgb(128, 128, 0)\", \"rgb(251, 128, 114)\", \"rgb(128, 177, 211)\"], \"line\": {\"width\": 1.3}, \"size\": [86, 41, 56, 91, 21, 15, 19, 103, 36, 49, 93, 62, 27, 85, 83, 97, 39, 59, 53, 95, 59, 75, 31, 13, 109, 12, 21, 106, 77, 75, 86, 47, 62, 14, 84, 103, 110, 80, 37, 24, 74, 19, 12, 30, 35, 17, 49, 105, 77, 31, 59, 72, 18, 52, 31, 101, 16, 71, 95, 99, 51, 24, 62, 41, 50, 15, 104, 63, 58, 106, 20, 13, 103, 28, 32, 98, 104, 82, 31, 15, 36, 112, 72, 63, 57, 31, 62, 98, 28, 36, 86, 50, 102, 24, 68, 22, 106, 75, 34, 91], \"symbol\": \"circle\"}, \"mode\": \"markers\", \"text\": \"\", \"type\": \"scatter\", \"x\": [0.9753847257840704, 0.6685526475099604, 0.717763849159026, 0.641643253612684, 0.46101551589424816, 0.12078225002024179, 0.9226200153186841, 0.784485205431393, 0.31455777210757063, 0.4478685176457967, 0.2131143465929174, 0.3011696160343452, 0.7562652954539073, 0.17665548838834555, 0.32638506717339455, 0.8459614429343494, 0.34192570436767833, 0.06391837019195534, 0.8999138623566848, 0.8715981055099761, 0.987890531023444, 0.8961498915681549, 0.36306575530877194, 0.8276162545533562, 0.20525195193240775, 0.06391191637803195, 0.16937409328541397, 0.7761067551067942, 0.5575771139288783, 0.1499040533333127, 0.22334376981884096, 0.6918361085471536, 0.8790879143840141, 0.7077384811608556, 0.22422787181288484, 0.32161718246572824, 0.48154104728183533, 0.7705942872538493, 0.19988219988236622, 0.6655430545295901, 0.6723359791162588, 0.8151105808405508, 0.8846810836216884, 0.007244518678291789, 0.4068924253415789, 0.8625167848986993, 0.6429397136763052, 0.7763525954064734, 0.8241324136446101, 0.7186392585997665, 0.21683477878002877, 0.3494180296260595, 0.1741282459062653, 0.02397911006743103, 0.39487584701144085, 0.24380211962090148, 0.22344572067428936, 0.6537321204248879, 0.8564298673735783, 0.5123248575458799, 0.605553516435922, 0.6517629384667678, 0.23452063385360233, 0.9494658315171941, 0.6304378167182005, 0.26303963632237737, 0.2863032859042599, 0.47929891357035415, 0.42596189386818706, 0.3848568917235682, 0.4212480599686016, 0.7736704973405448, 0.44845284655712414, 0.9807428289008219, 0.4363301972778, 0.21318133575569864, 0.1585547262957432, 0.8595620058635431, 0.35844401575162044, 0.45229977212554207, 0.7119012892048794, 0.40441056780230067, 0.9773408983820342, 0.3174071110165755, 0.881073025102367, 0.40153608916097194, 0.5741411373468234, 0.8109111415755789, 0.45664260834838166, 0.33826152683825383, 0.7954321426895994, 0.5551184704941502, 0.9184421526805117, 0.6602273721590636, 0.37907286862184275, 0.8782538779062986, 0.8016769924092302, 0.8014854199555197, 0.9644159545124961, 0.20259993162699697], \"y\": [0.6085337361817945, 0.9849008662659429, 0.17481835927449163, 0.7438288626332903, 0.4549341248769252, 0.5692305411024162, 0.6866864917646315, 0.15091996389122575, 0.598572333058514, 0.5311366876335679, 0.9647509681138527, 0.42970076544550373, 0.9197065912505893, 0.7512658459378196, 0.6172748994670416, 0.8869450145926792, 0.8984286133614072, 0.5110235635378919, 0.20037484313679033, 0.40285965977201077, 0.6251604159867912, 0.7636289035224022, 0.9591931988677984, 0.89411526565189, 0.612783769491025, 0.21082458066343868, 0.8210691098866622, 0.28741205960236926, 0.40875401399822564, 0.6572032947569375, 0.8717539125541596, 0.4933401273428939, 0.3401422688102115, 0.4721561988060825, 0.36214608305039664, 0.4991284004318195, 0.6222161033737548, 0.6675732316436533, 0.4434734639664153, 0.6650579368330961, 0.7740363141641551, 0.47506597669456774, 0.7045778679738115, 0.5511023311060128, 0.5250828615861299, 0.09862598494375197, 0.4897136545952473, 0.3236530242756478, 0.4240146481999545, 0.11764868551348973, 0.9815372793772702, 0.9232006895886629, 0.647357911651621, 0.5510160241780454, 0.4894197386121423, 0.10052339054740922, 0.25282609452770033, 0.7600787941990619, 0.23123523257991174, 0.6664292991581325, 0.4374166355841971, 0.7662383104126994, 0.4263403310506284, 0.20321454392170335, 0.03864288709883246, 0.880656277259328, 0.7610979538639527, 0.3426033199000921, 0.06924669753559487, 0.9488897619679045, 0.27989153511860954, 0.10045223618897847, 0.9954880550235646, 0.015224490864340523, 0.5421397400902137, 0.687599485200822, 0.6352382875512128, 0.3952487236954483, 0.5221446773937745, 0.5462842796507908, 0.6285907982844269, 0.7916249160524705, 0.9563225781284411, 0.8547698325588563, 0.18707107322032013, 0.2497255885986579, 0.3080902134021354, 0.22282597342980115, 0.8564392586445342, 0.49700783760020384, 0.24623954678299986, 0.05866062421915241, 0.615126023015918, 0.38884070501730983, 0.9152233410521818, 0.016008476630690605, 0.4798720815160471, 0.5171996847932875, 0.6874258034388792, 0.9235294420687038]}],                        {\"legend\": {\"bgcolor\": \"#F5F6F9\", \"font\": {\"color\": \"#4D5663\"}}, \"paper_bgcolor\": \"#F5F6F9\", \"plot_bgcolor\": \"#F5F6F9\", \"template\": {\"data\": {\"bar\": [{\"error_x\": {\"color\": \"#2a3f5f\"}, \"error_y\": {\"color\": \"#2a3f5f\"}, \"marker\": {\"line\": {\"color\": \"#E5ECF6\", \"width\": 0.5}}, \"type\": \"bar\"}], \"barpolar\": [{\"marker\": {\"line\": {\"color\": \"#E5ECF6\", \"width\": 0.5}}, \"type\": \"barpolar\"}], \"carpet\": [{\"aaxis\": {\"endlinecolor\": \"#2a3f5f\", \"gridcolor\": \"white\", \"linecolor\": \"white\", \"minorgridcolor\": \"white\", \"startlinecolor\": \"#2a3f5f\"}, \"baxis\": {\"endlinecolor\": \"#2a3f5f\", \"gridcolor\": \"white\", \"linecolor\": \"white\", \"minorgridcolor\": \"white\", \"startlinecolor\": \"#2a3f5f\"}, \"type\": \"carpet\"}], \"choropleth\": [{\"colorbar\": {\"outlinewidth\": 0, \"ticks\": \"\"}, \"type\": \"choropleth\"}], \"contour\": [{\"colorbar\": {\"outlinewidth\": 0, \"ticks\": \"\"}, \"colorscale\": [[0.0, \"#0d0887\"], [0.1111111111111111, \"#46039f\"], [0.2222222222222222, \"#7201a8\"], [0.3333333333333333, \"#9c179e\"], [0.4444444444444444, \"#bd3786\"], [0.5555555555555556, \"#d8576b\"], [0.6666666666666666, \"#ed7953\"], [0.7777777777777778, \"#fb9f3a\"], [0.8888888888888888, \"#fdca26\"], [1.0, \"#f0f921\"]], \"type\": \"contour\"}], \"contourcarpet\": [{\"colorbar\": {\"outlinewidth\": 0, \"ticks\": \"\"}, \"type\": \"contourcarpet\"}], \"heatmap\": [{\"colorbar\": {\"outlinewidth\": 0, \"ticks\": \"\"}, \"colorscale\": [[0.0, \"#0d0887\"], [0.1111111111111111, \"#46039f\"], [0.2222222222222222, \"#7201a8\"], [0.3333333333333333, \"#9c179e\"], [0.4444444444444444, \"#bd3786\"], [0.5555555555555556, \"#d8576b\"], [0.6666666666666666, \"#ed7953\"], [0.7777777777777778, \"#fb9f3a\"], [0.8888888888888888, \"#fdca26\"], [1.0, \"#f0f921\"]], \"type\": \"heatmap\"}], \"heatmapgl\": [{\"colorbar\": {\"outlinewidth\": 0, \"ticks\": \"\"}, \"colorscale\": [[0.0, \"#0d0887\"], [0.1111111111111111, \"#46039f\"], [0.2222222222222222, \"#7201a8\"], [0.3333333333333333, \"#9c179e\"], [0.4444444444444444, \"#bd3786\"], [0.5555555555555556, \"#d8576b\"], [0.6666666666666666, \"#ed7953\"], [0.7777777777777778, \"#fb9f3a\"], [0.8888888888888888, \"#fdca26\"], [1.0, \"#f0f921\"]], \"type\": \"heatmapgl\"}], \"histogram\": [{\"marker\": {\"colorbar\": {\"outlinewidth\": 0, \"ticks\": \"\"}}, \"type\": \"histogram\"}], \"histogram2d\": [{\"colorbar\": {\"outlinewidth\": 0, \"ticks\": \"\"}, \"colorscale\": [[0.0, \"#0d0887\"], [0.1111111111111111, \"#46039f\"], [0.2222222222222222, \"#7201a8\"], [0.3333333333333333, \"#9c179e\"], [0.4444444444444444, \"#bd3786\"], [0.5555555555555556, \"#d8576b\"], [0.6666666666666666, \"#ed7953\"], [0.7777777777777778, \"#fb9f3a\"], [0.8888888888888888, \"#fdca26\"], [1.0, \"#f0f921\"]], \"type\": \"histogram2d\"}], \"histogram2dcontour\": [{\"colorbar\": {\"outlinewidth\": 0, \"ticks\": \"\"}, \"colorscale\": [[0.0, \"#0d0887\"], [0.1111111111111111, \"#46039f\"], [0.2222222222222222, \"#7201a8\"], [0.3333333333333333, \"#9c179e\"], [0.4444444444444444, \"#bd3786\"], [0.5555555555555556, \"#d8576b\"], [0.6666666666666666, \"#ed7953\"], [0.7777777777777778, \"#fb9f3a\"], [0.8888888888888888, \"#fdca26\"], [1.0, \"#f0f921\"]], \"type\": \"histogram2dcontour\"}], \"mesh3d\": [{\"colorbar\": {\"outlinewidth\": 0, \"ticks\": \"\"}, \"type\": \"mesh3d\"}], \"parcoords\": [{\"line\": {\"colorbar\": {\"outlinewidth\": 0, \"ticks\": \"\"}}, \"type\": \"parcoords\"}], \"pie\": [{\"automargin\": true, \"type\": \"pie\"}], \"scatter\": [{\"marker\": {\"colorbar\": {\"outlinewidth\": 0, \"ticks\": \"\"}}, \"type\": \"scatter\"}], \"scatter3d\": [{\"line\": {\"colorbar\": {\"outlinewidth\": 0, \"ticks\": \"\"}}, \"marker\": {\"colorbar\": {\"outlinewidth\": 0, \"ticks\": \"\"}}, \"type\": \"scatter3d\"}], \"scattercarpet\": [{\"marker\": {\"colorbar\": {\"outlinewidth\": 0, \"ticks\": \"\"}}, \"type\": \"scattercarpet\"}], \"scattergeo\": [{\"marker\": {\"colorbar\": {\"outlinewidth\": 0, \"ticks\": \"\"}}, \"type\": \"scattergeo\"}], \"scattergl\": [{\"marker\": {\"colorbar\": {\"outlinewidth\": 0, \"ticks\": \"\"}}, \"type\": \"scattergl\"}], \"scattermapbox\": [{\"marker\": {\"colorbar\": {\"outlinewidth\": 0, \"ticks\": \"\"}}, \"type\": \"scattermapbox\"}], \"scatterpolar\": [{\"marker\": {\"colorbar\": {\"outlinewidth\": 0, \"ticks\": \"\"}}, \"type\": \"scatterpolar\"}], \"scatterpolargl\": [{\"marker\": {\"colorbar\": {\"outlinewidth\": 0, \"ticks\": \"\"}}, \"type\": \"scatterpolargl\"}], \"scatterternary\": [{\"marker\": {\"colorbar\": {\"outlinewidth\": 0, \"ticks\": \"\"}}, \"type\": \"scatterternary\"}], \"surface\": [{\"colorbar\": {\"outlinewidth\": 0, \"ticks\": \"\"}, \"colorscale\": [[0.0, \"#0d0887\"], [0.1111111111111111, \"#46039f\"], [0.2222222222222222, \"#7201a8\"], [0.3333333333333333, \"#9c179e\"], [0.4444444444444444, \"#bd3786\"], [0.5555555555555556, \"#d8576b\"], [0.6666666666666666, \"#ed7953\"], [0.7777777777777778, \"#fb9f3a\"], [0.8888888888888888, \"#fdca26\"], [1.0, \"#f0f921\"]], \"type\": \"surface\"}], \"table\": [{\"cells\": {\"fill\": {\"color\": \"#EBF0F8\"}, \"line\": {\"color\": \"white\"}}, \"header\": {\"fill\": {\"color\": \"#C8D4E3\"}, \"line\": {\"color\": \"white\"}}, \"type\": \"table\"}]}, \"layout\": {\"annotationdefaults\": {\"arrowcolor\": \"#2a3f5f\", \"arrowhead\": 0, \"arrowwidth\": 1}, \"autotypenumbers\": \"strict\", \"coloraxis\": {\"colorbar\": {\"outlinewidth\": 0, \"ticks\": \"\"}}, \"colorscale\": {\"diverging\": [[0, \"#8e0152\"], [0.1, \"#c51b7d\"], [0.2, \"#de77ae\"], [0.3, \"#f1b6da\"], [0.4, \"#fde0ef\"], [0.5, \"#f7f7f7\"], [0.6, \"#e6f5d0\"], [0.7, \"#b8e186\"], [0.8, \"#7fbc41\"], [0.9, \"#4d9221\"], [1, \"#276419\"]], \"sequential\": [[0.0, \"#0d0887\"], [0.1111111111111111, \"#46039f\"], [0.2222222222222222, \"#7201a8\"], [0.3333333333333333, \"#9c179e\"], [0.4444444444444444, \"#bd3786\"], [0.5555555555555556, \"#d8576b\"], [0.6666666666666666, \"#ed7953\"], [0.7777777777777778, \"#fb9f3a\"], [0.8888888888888888, \"#fdca26\"], [1.0, \"#f0f921\"]], \"sequentialminus\": [[0.0, \"#0d0887\"], [0.1111111111111111, \"#46039f\"], [0.2222222222222222, \"#7201a8\"], [0.3333333333333333, \"#9c179e\"], [0.4444444444444444, \"#bd3786\"], [0.5555555555555556, \"#d8576b\"], [0.6666666666666666, \"#ed7953\"], [0.7777777777777778, \"#fb9f3a\"], [0.8888888888888888, \"#fdca26\"], [1.0, \"#f0f921\"]]}, \"colorway\": [\"#636efa\", \"#EF553B\", \"#00cc96\", \"#ab63fa\", \"#FFA15A\", \"#19d3f3\", \"#FF6692\", \"#B6E880\", \"#FF97FF\", \"#FECB52\"], \"font\": {\"color\": \"#2a3f5f\"}, \"geo\": {\"bgcolor\": \"white\", \"lakecolor\": \"white\", \"landcolor\": \"#E5ECF6\", \"showlakes\": true, \"showland\": true, \"subunitcolor\": \"white\"}, \"hoverlabel\": {\"align\": \"left\"}, \"hovermode\": \"closest\", \"mapbox\": {\"style\": \"light\"}, \"paper_bgcolor\": \"white\", \"plot_bgcolor\": \"#E5ECF6\", \"polar\": {\"angularaxis\": {\"gridcolor\": \"white\", \"linecolor\": \"white\", \"ticks\": \"\"}, \"bgcolor\": \"#E5ECF6\", \"radialaxis\": {\"gridcolor\": \"white\", \"linecolor\": \"white\", \"ticks\": \"\"}}, \"scene\": {\"xaxis\": {\"backgroundcolor\": \"#E5ECF6\", \"gridcolor\": \"white\", \"gridwidth\": 2, \"linecolor\": \"white\", \"showbackground\": true, \"ticks\": \"\", \"zerolinecolor\": \"white\"}, \"yaxis\": {\"backgroundcolor\": \"#E5ECF6\", \"gridcolor\": \"white\", \"gridwidth\": 2, \"linecolor\": \"white\", \"showbackground\": true, \"ticks\": \"\", \"zerolinecolor\": \"white\"}, \"zaxis\": {\"backgroundcolor\": \"#E5ECF6\", \"gridcolor\": \"white\", \"gridwidth\": 2, \"linecolor\": \"white\", \"showbackground\": true, \"ticks\": \"\", \"zerolinecolor\": \"white\"}}, \"shapedefaults\": {\"line\": {\"color\": \"#2a3f5f\"}}, \"ternary\": {\"aaxis\": {\"gridcolor\": \"white\", \"linecolor\": \"white\", \"ticks\": \"\"}, \"baxis\": {\"gridcolor\": \"white\", \"linecolor\": \"white\", \"ticks\": \"\"}, \"bgcolor\": \"#E5ECF6\", \"caxis\": {\"gridcolor\": \"white\", \"linecolor\": \"white\", \"ticks\": \"\"}}, \"title\": {\"x\": 0.05}, \"xaxis\": {\"automargin\": true, \"gridcolor\": \"white\", \"linecolor\": \"white\", \"ticks\": \"\", \"title\": {\"standoff\": 15}, \"zerolinecolor\": \"white\", \"zerolinewidth\": 2}, \"yaxis\": {\"automargin\": true, \"gridcolor\": \"white\", \"linecolor\": \"white\", \"ticks\": \"\", \"title\": {\"standoff\": 15}, \"zerolinecolor\": \"white\", \"zerolinewidth\": 2}}}, \"title\": {\"font\": {\"color\": \"#4D5663\"}}, \"xaxis\": {\"gridcolor\": \"#E1E5ED\", \"showgrid\": true, \"tickfont\": {\"color\": \"#4D5663\"}, \"title\": {\"font\": {\"color\": \"#4D5663\"}, \"text\": \"\"}, \"zerolinecolor\": \"#E1E5ED\"}, \"yaxis\": {\"gridcolor\": \"#E1E5ED\", \"showgrid\": true, \"tickfont\": {\"color\": \"#4D5663\"}, \"title\": {\"font\": {\"color\": \"#4D5663\"}, \"text\": \"\"}, \"zerolinecolor\": \"#E1E5ED\"}},                        {\"showLink\": true, \"linkText\": \"Export to plot.ly\", \"plotlyServerURL\": \"https://plot.ly\", \"responsive\": true}                    ).then(function(){\n",
       "                            \n",
       "var gd = document.getElementById('960be41e-e14b-45aa-a11d-b5d863bc4e25');\n",
       "var x = new MutationObserver(function (mutations, observer) {{\n",
       "        var display = window.getComputedStyle(gd).display;\n",
       "        if (!display || display === 'none') {{\n",
       "            console.log([gd, 'removed!']);\n",
       "            Plotly.purge(gd);\n",
       "            observer.disconnect();\n",
       "        }}\n",
       "}});\n",
       "\n",
       "// Listen for the removal of the full notebook cells\n",
       "var notebookContainer = gd.closest('#notebook-container');\n",
       "if (notebookContainer) {{\n",
       "    x.observe(notebookContainer, {childList: true});\n",
       "}}\n",
       "\n",
       "// Listen for the clearing of the current output cell\n",
       "var outputEl = gd.closest('.output');\n",
       "if (outputEl) {{\n",
       "    x.observe(outputEl, {childList: true});\n",
       "}}\n",
       "\n",
       "                        })                };                });            </script>        </div>"
      ]
     },
     "metadata": {},
     "output_type": "display_data"
    }
   ],
   "source": [
    "df1.iplot(kind=\"bubble\",x=\"A\",y=\"B\",size=\"C\")"
   ]
  },
  {
   "cell_type": "code",
   "execution_count": 29,
   "metadata": {},
   "outputs": [
    {
     "data": {
      "application/vnd.plotly.v1+json": {
       "config": {
        "linkText": "Export to plot.ly",
        "plotlyServerURL": "https://plot.ly",
        "showLink": true
       },
       "data": [
        {
         "histfunc": "count",
         "histnorm": "",
         "marker": {
          "color": "rgba(255, 153, 51, 1.0)",
          "line": {
           "color": "#4D5663",
           "width": 1.3
          }
         },
         "name": "A",
         "nbinsx": 10,
         "opacity": 0.8,
         "orientation": "v",
         "type": "histogram",
         "x": [
          0.9753847257840704,
          0.6685526475099604,
          0.717763849159026,
          0.641643253612684,
          0.46101551589424816,
          0.12078225002024179,
          0.9226200153186841,
          0.784485205431393,
          0.31455777210757063,
          0.4478685176457967,
          0.2131143465929174,
          0.3011696160343452,
          0.7562652954539073,
          0.17665548838834555,
          0.32638506717339455,
          0.8459614429343494,
          0.34192570436767833,
          0.06391837019195534,
          0.8999138623566848,
          0.8715981055099761,
          0.987890531023444,
          0.8961498915681549,
          0.36306575530877194,
          0.8276162545533562,
          0.20525195193240775,
          0.06391191637803195,
          0.16937409328541397,
          0.7761067551067942,
          0.5575771139288783,
          0.1499040533333127,
          0.22334376981884096,
          0.6918361085471536,
          0.8790879143840141,
          0.7077384811608556,
          0.22422787181288484,
          0.32161718246572824,
          0.48154104728183533,
          0.7705942872538493,
          0.19988219988236622,
          0.6655430545295901,
          0.6723359791162588,
          0.8151105808405508,
          0.8846810836216884,
          0.007244518678291789,
          0.4068924253415789,
          0.8625167848986993,
          0.6429397136763052,
          0.7763525954064734,
          0.8241324136446101,
          0.7186392585997665,
          0.21683477878002877,
          0.3494180296260595,
          0.1741282459062653,
          0.02397911006743103,
          0.39487584701144085,
          0.24380211962090148,
          0.22344572067428936,
          0.6537321204248879,
          0.8564298673735783,
          0.5123248575458799,
          0.605553516435922,
          0.6517629384667678,
          0.23452063385360233,
          0.9494658315171941,
          0.6304378167182005,
          0.26303963632237737,
          0.2863032859042599,
          0.47929891357035415,
          0.42596189386818706,
          0.3848568917235682,
          0.4212480599686016,
          0.7736704973405448,
          0.44845284655712414,
          0.9807428289008219,
          0.4363301972778,
          0.21318133575569864,
          0.1585547262957432,
          0.8595620058635431,
          0.35844401575162044,
          0.45229977212554207,
          0.7119012892048794,
          0.40441056780230067,
          0.9773408983820342,
          0.3174071110165755,
          0.881073025102367,
          0.40153608916097194,
          0.5741411373468234,
          0.8109111415755789,
          0.45664260834838166,
          0.33826152683825383,
          0.7954321426895994,
          0.5551184704941502,
          0.9184421526805117,
          0.6602273721590636,
          0.37907286862184275,
          0.8782538779062986,
          0.8016769924092302,
          0.8014854199555197,
          0.9644159545124961,
          0.20259993162699697
         ],
         "xaxis": "x",
         "yaxis": "y"
        },
        {
         "line": {
          "color": "rgba(128, 128, 128, 1.0)",
          "dash": "solid",
          "shape": "linear",
          "width": 1.3
         },
         "marker": {
          "size": 2,
          "symbol": "circle"
         },
         "mode": "markers",
         "name": "A",
         "text": "",
         "type": "scatter",
         "x": [
          0.6085337361817945,
          0.9849008662659429,
          0.17481835927449163,
          0.7438288626332903,
          0.4549341248769252,
          0.5692305411024162,
          0.6866864917646315,
          0.15091996389122575,
          0.598572333058514,
          0.5311366876335679,
          0.9647509681138527,
          0.42970076544550373,
          0.9197065912505893,
          0.7512658459378196,
          0.6172748994670416,
          0.8869450145926792,
          0.8984286133614072,
          0.5110235635378919,
          0.20037484313679033,
          0.40285965977201077,
          0.6251604159867912,
          0.7636289035224022,
          0.9591931988677984,
          0.89411526565189,
          0.612783769491025,
          0.21082458066343868,
          0.8210691098866622,
          0.28741205960236926,
          0.40875401399822564,
          0.6572032947569375,
          0.8717539125541596,
          0.4933401273428939,
          0.3401422688102115,
          0.4721561988060825,
          0.36214608305039664,
          0.4991284004318195,
          0.6222161033737548,
          0.6675732316436533,
          0.4434734639664153,
          0.6650579368330961,
          0.7740363141641551,
          0.47506597669456774,
          0.7045778679738115,
          0.5511023311060128,
          0.5250828615861299,
          0.09862598494375197,
          0.4897136545952473,
          0.3236530242756478,
          0.4240146481999545,
          0.11764868551348973,
          0.9815372793772702,
          0.9232006895886629,
          0.647357911651621,
          0.5510160241780454,
          0.4894197386121423,
          0.10052339054740922,
          0.25282609452770033,
          0.7600787941990619,
          0.23123523257991174,
          0.6664292991581325,
          0.4374166355841971,
          0.7662383104126994,
          0.4263403310506284,
          0.20321454392170335,
          0.03864288709883246,
          0.880656277259328,
          0.7610979538639527,
          0.3426033199000921,
          0.06924669753559487,
          0.9488897619679045,
          0.27989153511860954,
          0.10045223618897847,
          0.9954880550235646,
          0.015224490864340523,
          0.5421397400902137,
          0.687599485200822,
          0.6352382875512128,
          0.3952487236954483,
          0.5221446773937745,
          0.5462842796507908,
          0.6285907982844269,
          0.7916249160524705,
          0.9563225781284411,
          0.8547698325588563,
          0.18707107322032013,
          0.2497255885986579,
          0.3080902134021354,
          0.22282597342980115,
          0.8564392586445342,
          0.49700783760020384,
          0.24623954678299986,
          0.05866062421915241,
          0.615126023015918,
          0.38884070501730983,
          0.9152233410521818,
          0.016008476630690605,
          0.4798720815160471,
          0.5171996847932875,
          0.6874258034388792,
          0.9235294420687038
         ],
         "xaxis": "x2",
         "y": [
          0.9753847257840704,
          0.6685526475099604,
          0.717763849159026,
          0.641643253612684,
          0.46101551589424816,
          0.12078225002024179,
          0.9226200153186841,
          0.784485205431393,
          0.31455777210757063,
          0.4478685176457967,
          0.2131143465929174,
          0.3011696160343452,
          0.7562652954539073,
          0.17665548838834555,
          0.32638506717339455,
          0.8459614429343494,
          0.34192570436767833,
          0.06391837019195534,
          0.8999138623566848,
          0.8715981055099761,
          0.987890531023444,
          0.8961498915681549,
          0.36306575530877194,
          0.8276162545533562,
          0.20525195193240775,
          0.06391191637803195,
          0.16937409328541397,
          0.7761067551067942,
          0.5575771139288783,
          0.1499040533333127,
          0.22334376981884096,
          0.6918361085471536,
          0.8790879143840141,
          0.7077384811608556,
          0.22422787181288484,
          0.32161718246572824,
          0.48154104728183533,
          0.7705942872538493,
          0.19988219988236622,
          0.6655430545295901,
          0.6723359791162588,
          0.8151105808405508,
          0.8846810836216884,
          0.007244518678291789,
          0.4068924253415789,
          0.8625167848986993,
          0.6429397136763052,
          0.7763525954064734,
          0.8241324136446101,
          0.7186392585997665,
          0.21683477878002877,
          0.3494180296260595,
          0.1741282459062653,
          0.02397911006743103,
          0.39487584701144085,
          0.24380211962090148,
          0.22344572067428936,
          0.6537321204248879,
          0.8564298673735783,
          0.5123248575458799,
          0.605553516435922,
          0.6517629384667678,
          0.23452063385360233,
          0.9494658315171941,
          0.6304378167182005,
          0.26303963632237737,
          0.2863032859042599,
          0.47929891357035415,
          0.42596189386818706,
          0.3848568917235682,
          0.4212480599686016,
          0.7736704973405448,
          0.44845284655712414,
          0.9807428289008219,
          0.4363301972778,
          0.21318133575569864,
          0.1585547262957432,
          0.8595620058635431,
          0.35844401575162044,
          0.45229977212554207,
          0.7119012892048794,
          0.40441056780230067,
          0.9773408983820342,
          0.3174071110165755,
          0.881073025102367,
          0.40153608916097194,
          0.5741411373468234,
          0.8109111415755789,
          0.45664260834838166,
          0.33826152683825383,
          0.7954321426895994,
          0.5551184704941502,
          0.9184421526805117,
          0.6602273721590636,
          0.37907286862184275,
          0.8782538779062986,
          0.8016769924092302,
          0.8014854199555197,
          0.9644159545124961,
          0.20259993162699697
         ],
         "yaxis": "y2"
        },
        {
         "line": {
          "color": "rgba(128, 128, 128, 1.0)",
          "dash": "solid",
          "shape": "linear",
          "width": 1.3
         },
         "marker": {
          "size": 2,
          "symbol": "circle"
         },
         "mode": "markers",
         "name": "A",
         "text": "",
         "type": "scatter",
         "x": [
          0.7359403834582817,
          0.2962807826126467,
          0.43976942304810407,
          0.7937450524855361,
          0.09443712133933746,
          0.03474909996185416,
          0.07309564606439356,
          0.9067802752953078,
          0.24380549084491965,
          0.37025869632843833,
          0.8063544885933182,
          0.5002577054900178,
          0.1583374605194211,
          0.728782766500474,
          0.7108646489513578,
          0.8483947271120664,
          0.2731579239674953,
          0.47105784896012726,
          0.4135874884888162,
          0.8297318106225205,
          0.47296197309595067,
          0.6286807254082438,
          0.198757150393986,
          0.01297191820849497,
          0.964942534552751,
          0.010775015613716743,
          0.1001137083925755,
          0.9335981487536341,
          0.6485176199871848,
          0.6328928966510233,
          0.7379655290618602,
          0.35678449989911865,
          0.5019123637488716,
          0.02415231740897228,
          0.7150581456985274,
          0.9090044707851561,
          0.9756761313030332,
          0.6763602019481604,
          0.258679938398379,
          0.12983186360725418,
          0.6195762281614965,
          0.07260471401766211,
          0.001422711640976626,
          0.18591431683172366,
          0.2376514178194138,
          0.06067780391596045,
          0.3684124161351292,
          0.9255456259817524,
          0.6515236342569365,
          0.1991820484808846,
          0.47674040438404197,
          0.596388953525444,
          0.06918194991674498,
          0.3999162666954349,
          0.19801009972089068,
          0.8853293937919091,
          0.046737539830976615,
          0.5891955506805309,
          0.8273789005828616,
          0.8644161676421752,
          0.39628703873913196,
          0.1267997222540943,
          0.4990888001861852,
          0.2920684461925288,
          0.3833487176389119,
          0.040373795098733734,
          0.9218806616114522,
          0.5084676325227109,
          0.4616396328393083,
          0.9346381987526001,
          0.08373268587487681,
          0.012586931470285445,
          0.9068898222445224,
          0.16552047481898824,
          0.20733534737918058,
          0.8635544081918058,
          0.9196370739581718,
          0.7016144896972498,
          0.1921310110559702,
          0.03894271972166963,
          0.24463730345251955,
          0.9923830478936386,
          0.600633805396669,
          0.5101755192186549,
          0.4554477236344452,
          0.19150046164508594,
          0.5012708186129198,
          0.8620682624983109,
          0.16186527450197552,
          0.24676411226204087,
          0.736617345334539,
          0.37806392283106094,
          0.8974852934731081,
          0.12301845181892268,
          0.5599567262439044,
          0.10466501986662513,
          0.9402807320278893,
          0.6293291186628359,
          0.2259202865022497,
          0.7914319780595636
         ],
         "xaxis": "x3",
         "y": [
          0.9753847257840704,
          0.6685526475099604,
          0.717763849159026,
          0.641643253612684,
          0.46101551589424816,
          0.12078225002024179,
          0.9226200153186841,
          0.784485205431393,
          0.31455777210757063,
          0.4478685176457967,
          0.2131143465929174,
          0.3011696160343452,
          0.7562652954539073,
          0.17665548838834555,
          0.32638506717339455,
          0.8459614429343494,
          0.34192570436767833,
          0.06391837019195534,
          0.8999138623566848,
          0.8715981055099761,
          0.987890531023444,
          0.8961498915681549,
          0.36306575530877194,
          0.8276162545533562,
          0.20525195193240775,
          0.06391191637803195,
          0.16937409328541397,
          0.7761067551067942,
          0.5575771139288783,
          0.1499040533333127,
          0.22334376981884096,
          0.6918361085471536,
          0.8790879143840141,
          0.7077384811608556,
          0.22422787181288484,
          0.32161718246572824,
          0.48154104728183533,
          0.7705942872538493,
          0.19988219988236622,
          0.6655430545295901,
          0.6723359791162588,
          0.8151105808405508,
          0.8846810836216884,
          0.007244518678291789,
          0.4068924253415789,
          0.8625167848986993,
          0.6429397136763052,
          0.7763525954064734,
          0.8241324136446101,
          0.7186392585997665,
          0.21683477878002877,
          0.3494180296260595,
          0.1741282459062653,
          0.02397911006743103,
          0.39487584701144085,
          0.24380211962090148,
          0.22344572067428936,
          0.6537321204248879,
          0.8564298673735783,
          0.5123248575458799,
          0.605553516435922,
          0.6517629384667678,
          0.23452063385360233,
          0.9494658315171941,
          0.6304378167182005,
          0.26303963632237737,
          0.2863032859042599,
          0.47929891357035415,
          0.42596189386818706,
          0.3848568917235682,
          0.4212480599686016,
          0.7736704973405448,
          0.44845284655712414,
          0.9807428289008219,
          0.4363301972778,
          0.21318133575569864,
          0.1585547262957432,
          0.8595620058635431,
          0.35844401575162044,
          0.45229977212554207,
          0.7119012892048794,
          0.40441056780230067,
          0.9773408983820342,
          0.3174071110165755,
          0.881073025102367,
          0.40153608916097194,
          0.5741411373468234,
          0.8109111415755789,
          0.45664260834838166,
          0.33826152683825383,
          0.7954321426895994,
          0.5551184704941502,
          0.9184421526805117,
          0.6602273721590636,
          0.37907286862184275,
          0.8782538779062986,
          0.8016769924092302,
          0.8014854199555197,
          0.9644159545124961,
          0.20259993162699697
         ],
         "yaxis": "y3"
        },
        {
         "line": {
          "color": "rgba(128, 128, 128, 1.0)",
          "dash": "solid",
          "shape": "linear",
          "width": 1.3
         },
         "marker": {
          "size": 2,
          "symbol": "circle"
         },
         "mode": "markers",
         "name": "A",
         "text": "",
         "type": "scatter",
         "x": [
          0.2057015273444034,
          0.1914132709914066,
          0.22312063975614038,
          0.4059983118661227,
          0.036599682605702344,
          0.21200108891217206,
          0.2390644164019854,
          0.27203552301518863,
          0.4362299365907276,
          0.07661621115664974,
          0.7940338946838988,
          0.07569093566572749,
          0.4361956577573247,
          0.6718271716663993,
          0.02910447015982154,
          0.8672629877901341,
          0.6068739286426558,
          0.5439484349095529,
          0.8195488537220345,
          0.6239798081501989,
          0.7775339381007728,
          0.3237015105914849,
          0.8122490667199603,
          0.05207197566335642,
          0.7351716190299754,
          0.34046420787878906,
          0.8520169736075666,
          0.7572103231769765,
          0.04380964012791244,
          0.5072322532685605,
          0.4571540482673545,
          0.31776795046208983,
          0.9215922417725891,
          0.32259146254403437,
          0.7973202438275461,
          0.5744390761122865,
          0.8091332949068598,
          0.18678202437697566,
          0.12931186396214167,
          0.617934854206754,
          0.56254853874098,
          0.5254422203020802,
          0.8730865743943738,
          0.8824352391015691,
          0.7857017098217839,
          0.8028967133042543,
          0.04058681749541193,
          0.6192463781341927,
          0.8941685371843957,
          0.9682296421783442,
          0.17325127800531148,
          0.2928116603816737,
          0.21395689938676798,
          0.8138077405273001,
          0.541306592737299,
          0.17882934900917058,
          0.9230765454895742,
          0.38683480087909505,
          0.5320015555781986,
          0.7244731312673186,
          0.6217539543704846,
          0.16086979279018498,
          0.16266620322548175,
          0.5026523819407788,
          0.42874884022232473,
          0.43405426164146965,
          0.6363584030734126,
          0.7436910605367291,
          0.7250656491587817,
          0.04213986601348041,
          0.19651867842089654,
          0.10348625163751235,
          0.7506078244538572,
          0.6847662311766312,
          0.06666120439596657,
          0.7305465707210608,
          0.41529962739826,
          0.03445966090660535,
          0.5865332198800062,
          0.8898719458306117,
          0.7950187484279215,
          0.3582601692217031,
          0.6984324615752024,
          0.16395842105279446,
          0.48122686711357177,
          0.4575542442064081,
          0.6632550349572617,
          0.9339626071527983,
          0.3919089398415616,
          0.7039977629323808,
          0.195883106331726,
          0.8936551326742009,
          0.1755257202363748,
          0.16864919913987564,
          0.5792907820010644,
          0.7344395882698364,
          0.09081700155782202,
          0.7356894730850086,
          0.007357682052856251,
          0.9034275369057923
         ],
         "xaxis": "x4",
         "y": [
          0.9753847257840704,
          0.6685526475099604,
          0.717763849159026,
          0.641643253612684,
          0.46101551589424816,
          0.12078225002024179,
          0.9226200153186841,
          0.784485205431393,
          0.31455777210757063,
          0.4478685176457967,
          0.2131143465929174,
          0.3011696160343452,
          0.7562652954539073,
          0.17665548838834555,
          0.32638506717339455,
          0.8459614429343494,
          0.34192570436767833,
          0.06391837019195534,
          0.8999138623566848,
          0.8715981055099761,
          0.987890531023444,
          0.8961498915681549,
          0.36306575530877194,
          0.8276162545533562,
          0.20525195193240775,
          0.06391191637803195,
          0.16937409328541397,
          0.7761067551067942,
          0.5575771139288783,
          0.1499040533333127,
          0.22334376981884096,
          0.6918361085471536,
          0.8790879143840141,
          0.7077384811608556,
          0.22422787181288484,
          0.32161718246572824,
          0.48154104728183533,
          0.7705942872538493,
          0.19988219988236622,
          0.6655430545295901,
          0.6723359791162588,
          0.8151105808405508,
          0.8846810836216884,
          0.007244518678291789,
          0.4068924253415789,
          0.8625167848986993,
          0.6429397136763052,
          0.7763525954064734,
          0.8241324136446101,
          0.7186392585997665,
          0.21683477878002877,
          0.3494180296260595,
          0.1741282459062653,
          0.02397911006743103,
          0.39487584701144085,
          0.24380211962090148,
          0.22344572067428936,
          0.6537321204248879,
          0.8564298673735783,
          0.5123248575458799,
          0.605553516435922,
          0.6517629384667678,
          0.23452063385360233,
          0.9494658315171941,
          0.6304378167182005,
          0.26303963632237737,
          0.2863032859042599,
          0.47929891357035415,
          0.42596189386818706,
          0.3848568917235682,
          0.4212480599686016,
          0.7736704973405448,
          0.44845284655712414,
          0.9807428289008219,
          0.4363301972778,
          0.21318133575569864,
          0.1585547262957432,
          0.8595620058635431,
          0.35844401575162044,
          0.45229977212554207,
          0.7119012892048794,
          0.40441056780230067,
          0.9773408983820342,
          0.3174071110165755,
          0.881073025102367,
          0.40153608916097194,
          0.5741411373468234,
          0.8109111415755789,
          0.45664260834838166,
          0.33826152683825383,
          0.7954321426895994,
          0.5551184704941502,
          0.9184421526805117,
          0.6602273721590636,
          0.37907286862184275,
          0.8782538779062986,
          0.8016769924092302,
          0.8014854199555197,
          0.9644159545124961,
          0.20259993162699697
         ],
         "yaxis": "y4"
        },
        {
         "line": {
          "color": "rgba(128, 128, 128, 1.0)",
          "dash": "solid",
          "shape": "linear",
          "width": 1.3
         },
         "marker": {
          "size": 2,
          "symbol": "circle"
         },
         "mode": "markers",
         "name": "B",
         "text": "",
         "type": "scatter",
         "x": [
          0.9753847257840704,
          0.6685526475099604,
          0.717763849159026,
          0.641643253612684,
          0.46101551589424816,
          0.12078225002024179,
          0.9226200153186841,
          0.784485205431393,
          0.31455777210757063,
          0.4478685176457967,
          0.2131143465929174,
          0.3011696160343452,
          0.7562652954539073,
          0.17665548838834555,
          0.32638506717339455,
          0.8459614429343494,
          0.34192570436767833,
          0.06391837019195534,
          0.8999138623566848,
          0.8715981055099761,
          0.987890531023444,
          0.8961498915681549,
          0.36306575530877194,
          0.8276162545533562,
          0.20525195193240775,
          0.06391191637803195,
          0.16937409328541397,
          0.7761067551067942,
          0.5575771139288783,
          0.1499040533333127,
          0.22334376981884096,
          0.6918361085471536,
          0.8790879143840141,
          0.7077384811608556,
          0.22422787181288484,
          0.32161718246572824,
          0.48154104728183533,
          0.7705942872538493,
          0.19988219988236622,
          0.6655430545295901,
          0.6723359791162588,
          0.8151105808405508,
          0.8846810836216884,
          0.007244518678291789,
          0.4068924253415789,
          0.8625167848986993,
          0.6429397136763052,
          0.7763525954064734,
          0.8241324136446101,
          0.7186392585997665,
          0.21683477878002877,
          0.3494180296260595,
          0.1741282459062653,
          0.02397911006743103,
          0.39487584701144085,
          0.24380211962090148,
          0.22344572067428936,
          0.6537321204248879,
          0.8564298673735783,
          0.5123248575458799,
          0.605553516435922,
          0.6517629384667678,
          0.23452063385360233,
          0.9494658315171941,
          0.6304378167182005,
          0.26303963632237737,
          0.2863032859042599,
          0.47929891357035415,
          0.42596189386818706,
          0.3848568917235682,
          0.4212480599686016,
          0.7736704973405448,
          0.44845284655712414,
          0.9807428289008219,
          0.4363301972778,
          0.21318133575569864,
          0.1585547262957432,
          0.8595620058635431,
          0.35844401575162044,
          0.45229977212554207,
          0.7119012892048794,
          0.40441056780230067,
          0.9773408983820342,
          0.3174071110165755,
          0.881073025102367,
          0.40153608916097194,
          0.5741411373468234,
          0.8109111415755789,
          0.45664260834838166,
          0.33826152683825383,
          0.7954321426895994,
          0.5551184704941502,
          0.9184421526805117,
          0.6602273721590636,
          0.37907286862184275,
          0.8782538779062986,
          0.8016769924092302,
          0.8014854199555197,
          0.9644159545124961,
          0.20259993162699697
         ],
         "xaxis": "x5",
         "y": [
          0.6085337361817945,
          0.9849008662659429,
          0.17481835927449163,
          0.7438288626332903,
          0.4549341248769252,
          0.5692305411024162,
          0.6866864917646315,
          0.15091996389122575,
          0.598572333058514,
          0.5311366876335679,
          0.9647509681138527,
          0.42970076544550373,
          0.9197065912505893,
          0.7512658459378196,
          0.6172748994670416,
          0.8869450145926792,
          0.8984286133614072,
          0.5110235635378919,
          0.20037484313679033,
          0.40285965977201077,
          0.6251604159867912,
          0.7636289035224022,
          0.9591931988677984,
          0.89411526565189,
          0.612783769491025,
          0.21082458066343868,
          0.8210691098866622,
          0.28741205960236926,
          0.40875401399822564,
          0.6572032947569375,
          0.8717539125541596,
          0.4933401273428939,
          0.3401422688102115,
          0.4721561988060825,
          0.36214608305039664,
          0.4991284004318195,
          0.6222161033737548,
          0.6675732316436533,
          0.4434734639664153,
          0.6650579368330961,
          0.7740363141641551,
          0.47506597669456774,
          0.7045778679738115,
          0.5511023311060128,
          0.5250828615861299,
          0.09862598494375197,
          0.4897136545952473,
          0.3236530242756478,
          0.4240146481999545,
          0.11764868551348973,
          0.9815372793772702,
          0.9232006895886629,
          0.647357911651621,
          0.5510160241780454,
          0.4894197386121423,
          0.10052339054740922,
          0.25282609452770033,
          0.7600787941990619,
          0.23123523257991174,
          0.6664292991581325,
          0.4374166355841971,
          0.7662383104126994,
          0.4263403310506284,
          0.20321454392170335,
          0.03864288709883246,
          0.880656277259328,
          0.7610979538639527,
          0.3426033199000921,
          0.06924669753559487,
          0.9488897619679045,
          0.27989153511860954,
          0.10045223618897847,
          0.9954880550235646,
          0.015224490864340523,
          0.5421397400902137,
          0.687599485200822,
          0.6352382875512128,
          0.3952487236954483,
          0.5221446773937745,
          0.5462842796507908,
          0.6285907982844269,
          0.7916249160524705,
          0.9563225781284411,
          0.8547698325588563,
          0.18707107322032013,
          0.2497255885986579,
          0.3080902134021354,
          0.22282597342980115,
          0.8564392586445342,
          0.49700783760020384,
          0.24623954678299986,
          0.05866062421915241,
          0.615126023015918,
          0.38884070501730983,
          0.9152233410521818,
          0.016008476630690605,
          0.4798720815160471,
          0.5171996847932875,
          0.6874258034388792,
          0.9235294420687038
         ],
         "yaxis": "y5"
        },
        {
         "histfunc": "count",
         "histnorm": "",
         "marker": {
          "color": "rgba(55, 128, 191, 1.0)",
          "line": {
           "color": "#4D5663",
           "width": 1.3
          }
         },
         "name": "B",
         "nbinsx": 10,
         "opacity": 0.8,
         "orientation": "v",
         "type": "histogram",
         "x": [
          0.6085337361817945,
          0.9849008662659429,
          0.17481835927449163,
          0.7438288626332903,
          0.4549341248769252,
          0.5692305411024162,
          0.6866864917646315,
          0.15091996389122575,
          0.598572333058514,
          0.5311366876335679,
          0.9647509681138527,
          0.42970076544550373,
          0.9197065912505893,
          0.7512658459378196,
          0.6172748994670416,
          0.8869450145926792,
          0.8984286133614072,
          0.5110235635378919,
          0.20037484313679033,
          0.40285965977201077,
          0.6251604159867912,
          0.7636289035224022,
          0.9591931988677984,
          0.89411526565189,
          0.612783769491025,
          0.21082458066343868,
          0.8210691098866622,
          0.28741205960236926,
          0.40875401399822564,
          0.6572032947569375,
          0.8717539125541596,
          0.4933401273428939,
          0.3401422688102115,
          0.4721561988060825,
          0.36214608305039664,
          0.4991284004318195,
          0.6222161033737548,
          0.6675732316436533,
          0.4434734639664153,
          0.6650579368330961,
          0.7740363141641551,
          0.47506597669456774,
          0.7045778679738115,
          0.5511023311060128,
          0.5250828615861299,
          0.09862598494375197,
          0.4897136545952473,
          0.3236530242756478,
          0.4240146481999545,
          0.11764868551348973,
          0.9815372793772702,
          0.9232006895886629,
          0.647357911651621,
          0.5510160241780454,
          0.4894197386121423,
          0.10052339054740922,
          0.25282609452770033,
          0.7600787941990619,
          0.23123523257991174,
          0.6664292991581325,
          0.4374166355841971,
          0.7662383104126994,
          0.4263403310506284,
          0.20321454392170335,
          0.03864288709883246,
          0.880656277259328,
          0.7610979538639527,
          0.3426033199000921,
          0.06924669753559487,
          0.9488897619679045,
          0.27989153511860954,
          0.10045223618897847,
          0.9954880550235646,
          0.015224490864340523,
          0.5421397400902137,
          0.687599485200822,
          0.6352382875512128,
          0.3952487236954483,
          0.5221446773937745,
          0.5462842796507908,
          0.6285907982844269,
          0.7916249160524705,
          0.9563225781284411,
          0.8547698325588563,
          0.18707107322032013,
          0.2497255885986579,
          0.3080902134021354,
          0.22282597342980115,
          0.8564392586445342,
          0.49700783760020384,
          0.24623954678299986,
          0.05866062421915241,
          0.615126023015918,
          0.38884070501730983,
          0.9152233410521818,
          0.016008476630690605,
          0.4798720815160471,
          0.5171996847932875,
          0.6874258034388792,
          0.9235294420687038
         ],
         "xaxis": "x6",
         "yaxis": "y6"
        },
        {
         "line": {
          "color": "rgba(128, 128, 128, 1.0)",
          "dash": "solid",
          "shape": "linear",
          "width": 1.3
         },
         "marker": {
          "size": 2,
          "symbol": "circle"
         },
         "mode": "markers",
         "name": "B",
         "text": "",
         "type": "scatter",
         "x": [
          0.7359403834582817,
          0.2962807826126467,
          0.43976942304810407,
          0.7937450524855361,
          0.09443712133933746,
          0.03474909996185416,
          0.07309564606439356,
          0.9067802752953078,
          0.24380549084491965,
          0.37025869632843833,
          0.8063544885933182,
          0.5002577054900178,
          0.1583374605194211,
          0.728782766500474,
          0.7108646489513578,
          0.8483947271120664,
          0.2731579239674953,
          0.47105784896012726,
          0.4135874884888162,
          0.8297318106225205,
          0.47296197309595067,
          0.6286807254082438,
          0.198757150393986,
          0.01297191820849497,
          0.964942534552751,
          0.010775015613716743,
          0.1001137083925755,
          0.9335981487536341,
          0.6485176199871848,
          0.6328928966510233,
          0.7379655290618602,
          0.35678449989911865,
          0.5019123637488716,
          0.02415231740897228,
          0.7150581456985274,
          0.9090044707851561,
          0.9756761313030332,
          0.6763602019481604,
          0.258679938398379,
          0.12983186360725418,
          0.6195762281614965,
          0.07260471401766211,
          0.001422711640976626,
          0.18591431683172366,
          0.2376514178194138,
          0.06067780391596045,
          0.3684124161351292,
          0.9255456259817524,
          0.6515236342569365,
          0.1991820484808846,
          0.47674040438404197,
          0.596388953525444,
          0.06918194991674498,
          0.3999162666954349,
          0.19801009972089068,
          0.8853293937919091,
          0.046737539830976615,
          0.5891955506805309,
          0.8273789005828616,
          0.8644161676421752,
          0.39628703873913196,
          0.1267997222540943,
          0.4990888001861852,
          0.2920684461925288,
          0.3833487176389119,
          0.040373795098733734,
          0.9218806616114522,
          0.5084676325227109,
          0.4616396328393083,
          0.9346381987526001,
          0.08373268587487681,
          0.012586931470285445,
          0.9068898222445224,
          0.16552047481898824,
          0.20733534737918058,
          0.8635544081918058,
          0.9196370739581718,
          0.7016144896972498,
          0.1921310110559702,
          0.03894271972166963,
          0.24463730345251955,
          0.9923830478936386,
          0.600633805396669,
          0.5101755192186549,
          0.4554477236344452,
          0.19150046164508594,
          0.5012708186129198,
          0.8620682624983109,
          0.16186527450197552,
          0.24676411226204087,
          0.736617345334539,
          0.37806392283106094,
          0.8974852934731081,
          0.12301845181892268,
          0.5599567262439044,
          0.10466501986662513,
          0.9402807320278893,
          0.6293291186628359,
          0.2259202865022497,
          0.7914319780595636
         ],
         "xaxis": "x7",
         "y": [
          0.6085337361817945,
          0.9849008662659429,
          0.17481835927449163,
          0.7438288626332903,
          0.4549341248769252,
          0.5692305411024162,
          0.6866864917646315,
          0.15091996389122575,
          0.598572333058514,
          0.5311366876335679,
          0.9647509681138527,
          0.42970076544550373,
          0.9197065912505893,
          0.7512658459378196,
          0.6172748994670416,
          0.8869450145926792,
          0.8984286133614072,
          0.5110235635378919,
          0.20037484313679033,
          0.40285965977201077,
          0.6251604159867912,
          0.7636289035224022,
          0.9591931988677984,
          0.89411526565189,
          0.612783769491025,
          0.21082458066343868,
          0.8210691098866622,
          0.28741205960236926,
          0.40875401399822564,
          0.6572032947569375,
          0.8717539125541596,
          0.4933401273428939,
          0.3401422688102115,
          0.4721561988060825,
          0.36214608305039664,
          0.4991284004318195,
          0.6222161033737548,
          0.6675732316436533,
          0.4434734639664153,
          0.6650579368330961,
          0.7740363141641551,
          0.47506597669456774,
          0.7045778679738115,
          0.5511023311060128,
          0.5250828615861299,
          0.09862598494375197,
          0.4897136545952473,
          0.3236530242756478,
          0.4240146481999545,
          0.11764868551348973,
          0.9815372793772702,
          0.9232006895886629,
          0.647357911651621,
          0.5510160241780454,
          0.4894197386121423,
          0.10052339054740922,
          0.25282609452770033,
          0.7600787941990619,
          0.23123523257991174,
          0.6664292991581325,
          0.4374166355841971,
          0.7662383104126994,
          0.4263403310506284,
          0.20321454392170335,
          0.03864288709883246,
          0.880656277259328,
          0.7610979538639527,
          0.3426033199000921,
          0.06924669753559487,
          0.9488897619679045,
          0.27989153511860954,
          0.10045223618897847,
          0.9954880550235646,
          0.015224490864340523,
          0.5421397400902137,
          0.687599485200822,
          0.6352382875512128,
          0.3952487236954483,
          0.5221446773937745,
          0.5462842796507908,
          0.6285907982844269,
          0.7916249160524705,
          0.9563225781284411,
          0.8547698325588563,
          0.18707107322032013,
          0.2497255885986579,
          0.3080902134021354,
          0.22282597342980115,
          0.8564392586445342,
          0.49700783760020384,
          0.24623954678299986,
          0.05866062421915241,
          0.615126023015918,
          0.38884070501730983,
          0.9152233410521818,
          0.016008476630690605,
          0.4798720815160471,
          0.5171996847932875,
          0.6874258034388792,
          0.9235294420687038
         ],
         "yaxis": "y7"
        },
        {
         "line": {
          "color": "rgba(128, 128, 128, 1.0)",
          "dash": "solid",
          "shape": "linear",
          "width": 1.3
         },
         "marker": {
          "size": 2,
          "symbol": "circle"
         },
         "mode": "markers",
         "name": "B",
         "text": "",
         "type": "scatter",
         "x": [
          0.2057015273444034,
          0.1914132709914066,
          0.22312063975614038,
          0.4059983118661227,
          0.036599682605702344,
          0.21200108891217206,
          0.2390644164019854,
          0.27203552301518863,
          0.4362299365907276,
          0.07661621115664974,
          0.7940338946838988,
          0.07569093566572749,
          0.4361956577573247,
          0.6718271716663993,
          0.02910447015982154,
          0.8672629877901341,
          0.6068739286426558,
          0.5439484349095529,
          0.8195488537220345,
          0.6239798081501989,
          0.7775339381007728,
          0.3237015105914849,
          0.8122490667199603,
          0.05207197566335642,
          0.7351716190299754,
          0.34046420787878906,
          0.8520169736075666,
          0.7572103231769765,
          0.04380964012791244,
          0.5072322532685605,
          0.4571540482673545,
          0.31776795046208983,
          0.9215922417725891,
          0.32259146254403437,
          0.7973202438275461,
          0.5744390761122865,
          0.8091332949068598,
          0.18678202437697566,
          0.12931186396214167,
          0.617934854206754,
          0.56254853874098,
          0.5254422203020802,
          0.8730865743943738,
          0.8824352391015691,
          0.7857017098217839,
          0.8028967133042543,
          0.04058681749541193,
          0.6192463781341927,
          0.8941685371843957,
          0.9682296421783442,
          0.17325127800531148,
          0.2928116603816737,
          0.21395689938676798,
          0.8138077405273001,
          0.541306592737299,
          0.17882934900917058,
          0.9230765454895742,
          0.38683480087909505,
          0.5320015555781986,
          0.7244731312673186,
          0.6217539543704846,
          0.16086979279018498,
          0.16266620322548175,
          0.5026523819407788,
          0.42874884022232473,
          0.43405426164146965,
          0.6363584030734126,
          0.7436910605367291,
          0.7250656491587817,
          0.04213986601348041,
          0.19651867842089654,
          0.10348625163751235,
          0.7506078244538572,
          0.6847662311766312,
          0.06666120439596657,
          0.7305465707210608,
          0.41529962739826,
          0.03445966090660535,
          0.5865332198800062,
          0.8898719458306117,
          0.7950187484279215,
          0.3582601692217031,
          0.6984324615752024,
          0.16395842105279446,
          0.48122686711357177,
          0.4575542442064081,
          0.6632550349572617,
          0.9339626071527983,
          0.3919089398415616,
          0.7039977629323808,
          0.195883106331726,
          0.8936551326742009,
          0.1755257202363748,
          0.16864919913987564,
          0.5792907820010644,
          0.7344395882698364,
          0.09081700155782202,
          0.7356894730850086,
          0.007357682052856251,
          0.9034275369057923
         ],
         "xaxis": "x8",
         "y": [
          0.6085337361817945,
          0.9849008662659429,
          0.17481835927449163,
          0.7438288626332903,
          0.4549341248769252,
          0.5692305411024162,
          0.6866864917646315,
          0.15091996389122575,
          0.598572333058514,
          0.5311366876335679,
          0.9647509681138527,
          0.42970076544550373,
          0.9197065912505893,
          0.7512658459378196,
          0.6172748994670416,
          0.8869450145926792,
          0.8984286133614072,
          0.5110235635378919,
          0.20037484313679033,
          0.40285965977201077,
          0.6251604159867912,
          0.7636289035224022,
          0.9591931988677984,
          0.89411526565189,
          0.612783769491025,
          0.21082458066343868,
          0.8210691098866622,
          0.28741205960236926,
          0.40875401399822564,
          0.6572032947569375,
          0.8717539125541596,
          0.4933401273428939,
          0.3401422688102115,
          0.4721561988060825,
          0.36214608305039664,
          0.4991284004318195,
          0.6222161033737548,
          0.6675732316436533,
          0.4434734639664153,
          0.6650579368330961,
          0.7740363141641551,
          0.47506597669456774,
          0.7045778679738115,
          0.5511023311060128,
          0.5250828615861299,
          0.09862598494375197,
          0.4897136545952473,
          0.3236530242756478,
          0.4240146481999545,
          0.11764868551348973,
          0.9815372793772702,
          0.9232006895886629,
          0.647357911651621,
          0.5510160241780454,
          0.4894197386121423,
          0.10052339054740922,
          0.25282609452770033,
          0.7600787941990619,
          0.23123523257991174,
          0.6664292991581325,
          0.4374166355841971,
          0.7662383104126994,
          0.4263403310506284,
          0.20321454392170335,
          0.03864288709883246,
          0.880656277259328,
          0.7610979538639527,
          0.3426033199000921,
          0.06924669753559487,
          0.9488897619679045,
          0.27989153511860954,
          0.10045223618897847,
          0.9954880550235646,
          0.015224490864340523,
          0.5421397400902137,
          0.687599485200822,
          0.6352382875512128,
          0.3952487236954483,
          0.5221446773937745,
          0.5462842796507908,
          0.6285907982844269,
          0.7916249160524705,
          0.9563225781284411,
          0.8547698325588563,
          0.18707107322032013,
          0.2497255885986579,
          0.3080902134021354,
          0.22282597342980115,
          0.8564392586445342,
          0.49700783760020384,
          0.24623954678299986,
          0.05866062421915241,
          0.615126023015918,
          0.38884070501730983,
          0.9152233410521818,
          0.016008476630690605,
          0.4798720815160471,
          0.5171996847932875,
          0.6874258034388792,
          0.9235294420687038
         ],
         "yaxis": "y8"
        },
        {
         "line": {
          "color": "rgba(128, 128, 128, 1.0)",
          "dash": "solid",
          "shape": "linear",
          "width": 1.3
         },
         "marker": {
          "size": 2,
          "symbol": "circle"
         },
         "mode": "markers",
         "name": "C",
         "text": "",
         "type": "scatter",
         "x": [
          0.9753847257840704,
          0.6685526475099604,
          0.717763849159026,
          0.641643253612684,
          0.46101551589424816,
          0.12078225002024179,
          0.9226200153186841,
          0.784485205431393,
          0.31455777210757063,
          0.4478685176457967,
          0.2131143465929174,
          0.3011696160343452,
          0.7562652954539073,
          0.17665548838834555,
          0.32638506717339455,
          0.8459614429343494,
          0.34192570436767833,
          0.06391837019195534,
          0.8999138623566848,
          0.8715981055099761,
          0.987890531023444,
          0.8961498915681549,
          0.36306575530877194,
          0.8276162545533562,
          0.20525195193240775,
          0.06391191637803195,
          0.16937409328541397,
          0.7761067551067942,
          0.5575771139288783,
          0.1499040533333127,
          0.22334376981884096,
          0.6918361085471536,
          0.8790879143840141,
          0.7077384811608556,
          0.22422787181288484,
          0.32161718246572824,
          0.48154104728183533,
          0.7705942872538493,
          0.19988219988236622,
          0.6655430545295901,
          0.6723359791162588,
          0.8151105808405508,
          0.8846810836216884,
          0.007244518678291789,
          0.4068924253415789,
          0.8625167848986993,
          0.6429397136763052,
          0.7763525954064734,
          0.8241324136446101,
          0.7186392585997665,
          0.21683477878002877,
          0.3494180296260595,
          0.1741282459062653,
          0.02397911006743103,
          0.39487584701144085,
          0.24380211962090148,
          0.22344572067428936,
          0.6537321204248879,
          0.8564298673735783,
          0.5123248575458799,
          0.605553516435922,
          0.6517629384667678,
          0.23452063385360233,
          0.9494658315171941,
          0.6304378167182005,
          0.26303963632237737,
          0.2863032859042599,
          0.47929891357035415,
          0.42596189386818706,
          0.3848568917235682,
          0.4212480599686016,
          0.7736704973405448,
          0.44845284655712414,
          0.9807428289008219,
          0.4363301972778,
          0.21318133575569864,
          0.1585547262957432,
          0.8595620058635431,
          0.35844401575162044,
          0.45229977212554207,
          0.7119012892048794,
          0.40441056780230067,
          0.9773408983820342,
          0.3174071110165755,
          0.881073025102367,
          0.40153608916097194,
          0.5741411373468234,
          0.8109111415755789,
          0.45664260834838166,
          0.33826152683825383,
          0.7954321426895994,
          0.5551184704941502,
          0.9184421526805117,
          0.6602273721590636,
          0.37907286862184275,
          0.8782538779062986,
          0.8016769924092302,
          0.8014854199555197,
          0.9644159545124961,
          0.20259993162699697
         ],
         "xaxis": "x9",
         "y": [
          0.7359403834582817,
          0.2962807826126467,
          0.43976942304810407,
          0.7937450524855361,
          0.09443712133933746,
          0.03474909996185416,
          0.07309564606439356,
          0.9067802752953078,
          0.24380549084491965,
          0.37025869632843833,
          0.8063544885933182,
          0.5002577054900178,
          0.1583374605194211,
          0.728782766500474,
          0.7108646489513578,
          0.8483947271120664,
          0.2731579239674953,
          0.47105784896012726,
          0.4135874884888162,
          0.8297318106225205,
          0.47296197309595067,
          0.6286807254082438,
          0.198757150393986,
          0.01297191820849497,
          0.964942534552751,
          0.010775015613716743,
          0.1001137083925755,
          0.9335981487536341,
          0.6485176199871848,
          0.6328928966510233,
          0.7379655290618602,
          0.35678449989911865,
          0.5019123637488716,
          0.02415231740897228,
          0.7150581456985274,
          0.9090044707851561,
          0.9756761313030332,
          0.6763602019481604,
          0.258679938398379,
          0.12983186360725418,
          0.6195762281614965,
          0.07260471401766211,
          0.001422711640976626,
          0.18591431683172366,
          0.2376514178194138,
          0.06067780391596045,
          0.3684124161351292,
          0.9255456259817524,
          0.6515236342569365,
          0.1991820484808846,
          0.47674040438404197,
          0.596388953525444,
          0.06918194991674498,
          0.3999162666954349,
          0.19801009972089068,
          0.8853293937919091,
          0.046737539830976615,
          0.5891955506805309,
          0.8273789005828616,
          0.8644161676421752,
          0.39628703873913196,
          0.1267997222540943,
          0.4990888001861852,
          0.2920684461925288,
          0.3833487176389119,
          0.040373795098733734,
          0.9218806616114522,
          0.5084676325227109,
          0.4616396328393083,
          0.9346381987526001,
          0.08373268587487681,
          0.012586931470285445,
          0.9068898222445224,
          0.16552047481898824,
          0.20733534737918058,
          0.8635544081918058,
          0.9196370739581718,
          0.7016144896972498,
          0.1921310110559702,
          0.03894271972166963,
          0.24463730345251955,
          0.9923830478936386,
          0.600633805396669,
          0.5101755192186549,
          0.4554477236344452,
          0.19150046164508594,
          0.5012708186129198,
          0.8620682624983109,
          0.16186527450197552,
          0.24676411226204087,
          0.736617345334539,
          0.37806392283106094,
          0.8974852934731081,
          0.12301845181892268,
          0.5599567262439044,
          0.10466501986662513,
          0.9402807320278893,
          0.6293291186628359,
          0.2259202865022497,
          0.7914319780595636
         ],
         "yaxis": "y9"
        },
        {
         "line": {
          "color": "rgba(128, 128, 128, 1.0)",
          "dash": "solid",
          "shape": "linear",
          "width": 1.3
         },
         "marker": {
          "size": 2,
          "symbol": "circle"
         },
         "mode": "markers",
         "name": "C",
         "text": "",
         "type": "scatter",
         "x": [
          0.6085337361817945,
          0.9849008662659429,
          0.17481835927449163,
          0.7438288626332903,
          0.4549341248769252,
          0.5692305411024162,
          0.6866864917646315,
          0.15091996389122575,
          0.598572333058514,
          0.5311366876335679,
          0.9647509681138527,
          0.42970076544550373,
          0.9197065912505893,
          0.7512658459378196,
          0.6172748994670416,
          0.8869450145926792,
          0.8984286133614072,
          0.5110235635378919,
          0.20037484313679033,
          0.40285965977201077,
          0.6251604159867912,
          0.7636289035224022,
          0.9591931988677984,
          0.89411526565189,
          0.612783769491025,
          0.21082458066343868,
          0.8210691098866622,
          0.28741205960236926,
          0.40875401399822564,
          0.6572032947569375,
          0.8717539125541596,
          0.4933401273428939,
          0.3401422688102115,
          0.4721561988060825,
          0.36214608305039664,
          0.4991284004318195,
          0.6222161033737548,
          0.6675732316436533,
          0.4434734639664153,
          0.6650579368330961,
          0.7740363141641551,
          0.47506597669456774,
          0.7045778679738115,
          0.5511023311060128,
          0.5250828615861299,
          0.09862598494375197,
          0.4897136545952473,
          0.3236530242756478,
          0.4240146481999545,
          0.11764868551348973,
          0.9815372793772702,
          0.9232006895886629,
          0.647357911651621,
          0.5510160241780454,
          0.4894197386121423,
          0.10052339054740922,
          0.25282609452770033,
          0.7600787941990619,
          0.23123523257991174,
          0.6664292991581325,
          0.4374166355841971,
          0.7662383104126994,
          0.4263403310506284,
          0.20321454392170335,
          0.03864288709883246,
          0.880656277259328,
          0.7610979538639527,
          0.3426033199000921,
          0.06924669753559487,
          0.9488897619679045,
          0.27989153511860954,
          0.10045223618897847,
          0.9954880550235646,
          0.015224490864340523,
          0.5421397400902137,
          0.687599485200822,
          0.6352382875512128,
          0.3952487236954483,
          0.5221446773937745,
          0.5462842796507908,
          0.6285907982844269,
          0.7916249160524705,
          0.9563225781284411,
          0.8547698325588563,
          0.18707107322032013,
          0.2497255885986579,
          0.3080902134021354,
          0.22282597342980115,
          0.8564392586445342,
          0.49700783760020384,
          0.24623954678299986,
          0.05866062421915241,
          0.615126023015918,
          0.38884070501730983,
          0.9152233410521818,
          0.016008476630690605,
          0.4798720815160471,
          0.5171996847932875,
          0.6874258034388792,
          0.9235294420687038
         ],
         "xaxis": "x10",
         "y": [
          0.7359403834582817,
          0.2962807826126467,
          0.43976942304810407,
          0.7937450524855361,
          0.09443712133933746,
          0.03474909996185416,
          0.07309564606439356,
          0.9067802752953078,
          0.24380549084491965,
          0.37025869632843833,
          0.8063544885933182,
          0.5002577054900178,
          0.1583374605194211,
          0.728782766500474,
          0.7108646489513578,
          0.8483947271120664,
          0.2731579239674953,
          0.47105784896012726,
          0.4135874884888162,
          0.8297318106225205,
          0.47296197309595067,
          0.6286807254082438,
          0.198757150393986,
          0.01297191820849497,
          0.964942534552751,
          0.010775015613716743,
          0.1001137083925755,
          0.9335981487536341,
          0.6485176199871848,
          0.6328928966510233,
          0.7379655290618602,
          0.35678449989911865,
          0.5019123637488716,
          0.02415231740897228,
          0.7150581456985274,
          0.9090044707851561,
          0.9756761313030332,
          0.6763602019481604,
          0.258679938398379,
          0.12983186360725418,
          0.6195762281614965,
          0.07260471401766211,
          0.001422711640976626,
          0.18591431683172366,
          0.2376514178194138,
          0.06067780391596045,
          0.3684124161351292,
          0.9255456259817524,
          0.6515236342569365,
          0.1991820484808846,
          0.47674040438404197,
          0.596388953525444,
          0.06918194991674498,
          0.3999162666954349,
          0.19801009972089068,
          0.8853293937919091,
          0.046737539830976615,
          0.5891955506805309,
          0.8273789005828616,
          0.8644161676421752,
          0.39628703873913196,
          0.1267997222540943,
          0.4990888001861852,
          0.2920684461925288,
          0.3833487176389119,
          0.040373795098733734,
          0.9218806616114522,
          0.5084676325227109,
          0.4616396328393083,
          0.9346381987526001,
          0.08373268587487681,
          0.012586931470285445,
          0.9068898222445224,
          0.16552047481898824,
          0.20733534737918058,
          0.8635544081918058,
          0.9196370739581718,
          0.7016144896972498,
          0.1921310110559702,
          0.03894271972166963,
          0.24463730345251955,
          0.9923830478936386,
          0.600633805396669,
          0.5101755192186549,
          0.4554477236344452,
          0.19150046164508594,
          0.5012708186129198,
          0.8620682624983109,
          0.16186527450197552,
          0.24676411226204087,
          0.736617345334539,
          0.37806392283106094,
          0.8974852934731081,
          0.12301845181892268,
          0.5599567262439044,
          0.10466501986662513,
          0.9402807320278893,
          0.6293291186628359,
          0.2259202865022497,
          0.7914319780595636
         ],
         "yaxis": "y10"
        },
        {
         "histfunc": "count",
         "histnorm": "",
         "marker": {
          "color": "rgba(50, 171, 96, 1.0)",
          "line": {
           "color": "#4D5663",
           "width": 1.3
          }
         },
         "name": "C",
         "nbinsx": 10,
         "opacity": 0.8,
         "orientation": "v",
         "type": "histogram",
         "x": [
          0.7359403834582817,
          0.2962807826126467,
          0.43976942304810407,
          0.7937450524855361,
          0.09443712133933746,
          0.03474909996185416,
          0.07309564606439356,
          0.9067802752953078,
          0.24380549084491965,
          0.37025869632843833,
          0.8063544885933182,
          0.5002577054900178,
          0.1583374605194211,
          0.728782766500474,
          0.7108646489513578,
          0.8483947271120664,
          0.2731579239674953,
          0.47105784896012726,
          0.4135874884888162,
          0.8297318106225205,
          0.47296197309595067,
          0.6286807254082438,
          0.198757150393986,
          0.01297191820849497,
          0.964942534552751,
          0.010775015613716743,
          0.1001137083925755,
          0.9335981487536341,
          0.6485176199871848,
          0.6328928966510233,
          0.7379655290618602,
          0.35678449989911865,
          0.5019123637488716,
          0.02415231740897228,
          0.7150581456985274,
          0.9090044707851561,
          0.9756761313030332,
          0.6763602019481604,
          0.258679938398379,
          0.12983186360725418,
          0.6195762281614965,
          0.07260471401766211,
          0.001422711640976626,
          0.18591431683172366,
          0.2376514178194138,
          0.06067780391596045,
          0.3684124161351292,
          0.9255456259817524,
          0.6515236342569365,
          0.1991820484808846,
          0.47674040438404197,
          0.596388953525444,
          0.06918194991674498,
          0.3999162666954349,
          0.19801009972089068,
          0.8853293937919091,
          0.046737539830976615,
          0.5891955506805309,
          0.8273789005828616,
          0.8644161676421752,
          0.39628703873913196,
          0.1267997222540943,
          0.4990888001861852,
          0.2920684461925288,
          0.3833487176389119,
          0.040373795098733734,
          0.9218806616114522,
          0.5084676325227109,
          0.4616396328393083,
          0.9346381987526001,
          0.08373268587487681,
          0.012586931470285445,
          0.9068898222445224,
          0.16552047481898824,
          0.20733534737918058,
          0.8635544081918058,
          0.9196370739581718,
          0.7016144896972498,
          0.1921310110559702,
          0.03894271972166963,
          0.24463730345251955,
          0.9923830478936386,
          0.600633805396669,
          0.5101755192186549,
          0.4554477236344452,
          0.19150046164508594,
          0.5012708186129198,
          0.8620682624983109,
          0.16186527450197552,
          0.24676411226204087,
          0.736617345334539,
          0.37806392283106094,
          0.8974852934731081,
          0.12301845181892268,
          0.5599567262439044,
          0.10466501986662513,
          0.9402807320278893,
          0.6293291186628359,
          0.2259202865022497,
          0.7914319780595636
         ],
         "xaxis": "x11",
         "yaxis": "y11"
        },
        {
         "line": {
          "color": "rgba(128, 128, 128, 1.0)",
          "dash": "solid",
          "shape": "linear",
          "width": 1.3
         },
         "marker": {
          "size": 2,
          "symbol": "circle"
         },
         "mode": "markers",
         "name": "C",
         "text": "",
         "type": "scatter",
         "x": [
          0.2057015273444034,
          0.1914132709914066,
          0.22312063975614038,
          0.4059983118661227,
          0.036599682605702344,
          0.21200108891217206,
          0.2390644164019854,
          0.27203552301518863,
          0.4362299365907276,
          0.07661621115664974,
          0.7940338946838988,
          0.07569093566572749,
          0.4361956577573247,
          0.6718271716663993,
          0.02910447015982154,
          0.8672629877901341,
          0.6068739286426558,
          0.5439484349095529,
          0.8195488537220345,
          0.6239798081501989,
          0.7775339381007728,
          0.3237015105914849,
          0.8122490667199603,
          0.05207197566335642,
          0.7351716190299754,
          0.34046420787878906,
          0.8520169736075666,
          0.7572103231769765,
          0.04380964012791244,
          0.5072322532685605,
          0.4571540482673545,
          0.31776795046208983,
          0.9215922417725891,
          0.32259146254403437,
          0.7973202438275461,
          0.5744390761122865,
          0.8091332949068598,
          0.18678202437697566,
          0.12931186396214167,
          0.617934854206754,
          0.56254853874098,
          0.5254422203020802,
          0.8730865743943738,
          0.8824352391015691,
          0.7857017098217839,
          0.8028967133042543,
          0.04058681749541193,
          0.6192463781341927,
          0.8941685371843957,
          0.9682296421783442,
          0.17325127800531148,
          0.2928116603816737,
          0.21395689938676798,
          0.8138077405273001,
          0.541306592737299,
          0.17882934900917058,
          0.9230765454895742,
          0.38683480087909505,
          0.5320015555781986,
          0.7244731312673186,
          0.6217539543704846,
          0.16086979279018498,
          0.16266620322548175,
          0.5026523819407788,
          0.42874884022232473,
          0.43405426164146965,
          0.6363584030734126,
          0.7436910605367291,
          0.7250656491587817,
          0.04213986601348041,
          0.19651867842089654,
          0.10348625163751235,
          0.7506078244538572,
          0.6847662311766312,
          0.06666120439596657,
          0.7305465707210608,
          0.41529962739826,
          0.03445966090660535,
          0.5865332198800062,
          0.8898719458306117,
          0.7950187484279215,
          0.3582601692217031,
          0.6984324615752024,
          0.16395842105279446,
          0.48122686711357177,
          0.4575542442064081,
          0.6632550349572617,
          0.9339626071527983,
          0.3919089398415616,
          0.7039977629323808,
          0.195883106331726,
          0.8936551326742009,
          0.1755257202363748,
          0.16864919913987564,
          0.5792907820010644,
          0.7344395882698364,
          0.09081700155782202,
          0.7356894730850086,
          0.007357682052856251,
          0.9034275369057923
         ],
         "xaxis": "x12",
         "y": [
          0.7359403834582817,
          0.2962807826126467,
          0.43976942304810407,
          0.7937450524855361,
          0.09443712133933746,
          0.03474909996185416,
          0.07309564606439356,
          0.9067802752953078,
          0.24380549084491965,
          0.37025869632843833,
          0.8063544885933182,
          0.5002577054900178,
          0.1583374605194211,
          0.728782766500474,
          0.7108646489513578,
          0.8483947271120664,
          0.2731579239674953,
          0.47105784896012726,
          0.4135874884888162,
          0.8297318106225205,
          0.47296197309595067,
          0.6286807254082438,
          0.198757150393986,
          0.01297191820849497,
          0.964942534552751,
          0.010775015613716743,
          0.1001137083925755,
          0.9335981487536341,
          0.6485176199871848,
          0.6328928966510233,
          0.7379655290618602,
          0.35678449989911865,
          0.5019123637488716,
          0.02415231740897228,
          0.7150581456985274,
          0.9090044707851561,
          0.9756761313030332,
          0.6763602019481604,
          0.258679938398379,
          0.12983186360725418,
          0.6195762281614965,
          0.07260471401766211,
          0.001422711640976626,
          0.18591431683172366,
          0.2376514178194138,
          0.06067780391596045,
          0.3684124161351292,
          0.9255456259817524,
          0.6515236342569365,
          0.1991820484808846,
          0.47674040438404197,
          0.596388953525444,
          0.06918194991674498,
          0.3999162666954349,
          0.19801009972089068,
          0.8853293937919091,
          0.046737539830976615,
          0.5891955506805309,
          0.8273789005828616,
          0.8644161676421752,
          0.39628703873913196,
          0.1267997222540943,
          0.4990888001861852,
          0.2920684461925288,
          0.3833487176389119,
          0.040373795098733734,
          0.9218806616114522,
          0.5084676325227109,
          0.4616396328393083,
          0.9346381987526001,
          0.08373268587487681,
          0.012586931470285445,
          0.9068898222445224,
          0.16552047481898824,
          0.20733534737918058,
          0.8635544081918058,
          0.9196370739581718,
          0.7016144896972498,
          0.1921310110559702,
          0.03894271972166963,
          0.24463730345251955,
          0.9923830478936386,
          0.600633805396669,
          0.5101755192186549,
          0.4554477236344452,
          0.19150046164508594,
          0.5012708186129198,
          0.8620682624983109,
          0.16186527450197552,
          0.24676411226204087,
          0.736617345334539,
          0.37806392283106094,
          0.8974852934731081,
          0.12301845181892268,
          0.5599567262439044,
          0.10466501986662513,
          0.9402807320278893,
          0.6293291186628359,
          0.2259202865022497,
          0.7914319780595636
         ],
         "yaxis": "y12"
        },
        {
         "line": {
          "color": "rgba(128, 128, 128, 1.0)",
          "dash": "solid",
          "shape": "linear",
          "width": 1.3
         },
         "marker": {
          "size": 2,
          "symbol": "circle"
         },
         "mode": "markers",
         "name": "D",
         "text": "",
         "type": "scatter",
         "x": [
          0.9753847257840704,
          0.6685526475099604,
          0.717763849159026,
          0.641643253612684,
          0.46101551589424816,
          0.12078225002024179,
          0.9226200153186841,
          0.784485205431393,
          0.31455777210757063,
          0.4478685176457967,
          0.2131143465929174,
          0.3011696160343452,
          0.7562652954539073,
          0.17665548838834555,
          0.32638506717339455,
          0.8459614429343494,
          0.34192570436767833,
          0.06391837019195534,
          0.8999138623566848,
          0.8715981055099761,
          0.987890531023444,
          0.8961498915681549,
          0.36306575530877194,
          0.8276162545533562,
          0.20525195193240775,
          0.06391191637803195,
          0.16937409328541397,
          0.7761067551067942,
          0.5575771139288783,
          0.1499040533333127,
          0.22334376981884096,
          0.6918361085471536,
          0.8790879143840141,
          0.7077384811608556,
          0.22422787181288484,
          0.32161718246572824,
          0.48154104728183533,
          0.7705942872538493,
          0.19988219988236622,
          0.6655430545295901,
          0.6723359791162588,
          0.8151105808405508,
          0.8846810836216884,
          0.007244518678291789,
          0.4068924253415789,
          0.8625167848986993,
          0.6429397136763052,
          0.7763525954064734,
          0.8241324136446101,
          0.7186392585997665,
          0.21683477878002877,
          0.3494180296260595,
          0.1741282459062653,
          0.02397911006743103,
          0.39487584701144085,
          0.24380211962090148,
          0.22344572067428936,
          0.6537321204248879,
          0.8564298673735783,
          0.5123248575458799,
          0.605553516435922,
          0.6517629384667678,
          0.23452063385360233,
          0.9494658315171941,
          0.6304378167182005,
          0.26303963632237737,
          0.2863032859042599,
          0.47929891357035415,
          0.42596189386818706,
          0.3848568917235682,
          0.4212480599686016,
          0.7736704973405448,
          0.44845284655712414,
          0.9807428289008219,
          0.4363301972778,
          0.21318133575569864,
          0.1585547262957432,
          0.8595620058635431,
          0.35844401575162044,
          0.45229977212554207,
          0.7119012892048794,
          0.40441056780230067,
          0.9773408983820342,
          0.3174071110165755,
          0.881073025102367,
          0.40153608916097194,
          0.5741411373468234,
          0.8109111415755789,
          0.45664260834838166,
          0.33826152683825383,
          0.7954321426895994,
          0.5551184704941502,
          0.9184421526805117,
          0.6602273721590636,
          0.37907286862184275,
          0.8782538779062986,
          0.8016769924092302,
          0.8014854199555197,
          0.9644159545124961,
          0.20259993162699697
         ],
         "xaxis": "x13",
         "y": [
          0.2057015273444034,
          0.1914132709914066,
          0.22312063975614038,
          0.4059983118661227,
          0.036599682605702344,
          0.21200108891217206,
          0.2390644164019854,
          0.27203552301518863,
          0.4362299365907276,
          0.07661621115664974,
          0.7940338946838988,
          0.07569093566572749,
          0.4361956577573247,
          0.6718271716663993,
          0.02910447015982154,
          0.8672629877901341,
          0.6068739286426558,
          0.5439484349095529,
          0.8195488537220345,
          0.6239798081501989,
          0.7775339381007728,
          0.3237015105914849,
          0.8122490667199603,
          0.05207197566335642,
          0.7351716190299754,
          0.34046420787878906,
          0.8520169736075666,
          0.7572103231769765,
          0.04380964012791244,
          0.5072322532685605,
          0.4571540482673545,
          0.31776795046208983,
          0.9215922417725891,
          0.32259146254403437,
          0.7973202438275461,
          0.5744390761122865,
          0.8091332949068598,
          0.18678202437697566,
          0.12931186396214167,
          0.617934854206754,
          0.56254853874098,
          0.5254422203020802,
          0.8730865743943738,
          0.8824352391015691,
          0.7857017098217839,
          0.8028967133042543,
          0.04058681749541193,
          0.6192463781341927,
          0.8941685371843957,
          0.9682296421783442,
          0.17325127800531148,
          0.2928116603816737,
          0.21395689938676798,
          0.8138077405273001,
          0.541306592737299,
          0.17882934900917058,
          0.9230765454895742,
          0.38683480087909505,
          0.5320015555781986,
          0.7244731312673186,
          0.6217539543704846,
          0.16086979279018498,
          0.16266620322548175,
          0.5026523819407788,
          0.42874884022232473,
          0.43405426164146965,
          0.6363584030734126,
          0.7436910605367291,
          0.7250656491587817,
          0.04213986601348041,
          0.19651867842089654,
          0.10348625163751235,
          0.7506078244538572,
          0.6847662311766312,
          0.06666120439596657,
          0.7305465707210608,
          0.41529962739826,
          0.03445966090660535,
          0.5865332198800062,
          0.8898719458306117,
          0.7950187484279215,
          0.3582601692217031,
          0.6984324615752024,
          0.16395842105279446,
          0.48122686711357177,
          0.4575542442064081,
          0.6632550349572617,
          0.9339626071527983,
          0.3919089398415616,
          0.7039977629323808,
          0.195883106331726,
          0.8936551326742009,
          0.1755257202363748,
          0.16864919913987564,
          0.5792907820010644,
          0.7344395882698364,
          0.09081700155782202,
          0.7356894730850086,
          0.007357682052856251,
          0.9034275369057923
         ],
         "yaxis": "y13"
        },
        {
         "line": {
          "color": "rgba(128, 128, 128, 1.0)",
          "dash": "solid",
          "shape": "linear",
          "width": 1.3
         },
         "marker": {
          "size": 2,
          "symbol": "circle"
         },
         "mode": "markers",
         "name": "D",
         "text": "",
         "type": "scatter",
         "x": [
          0.6085337361817945,
          0.9849008662659429,
          0.17481835927449163,
          0.7438288626332903,
          0.4549341248769252,
          0.5692305411024162,
          0.6866864917646315,
          0.15091996389122575,
          0.598572333058514,
          0.5311366876335679,
          0.9647509681138527,
          0.42970076544550373,
          0.9197065912505893,
          0.7512658459378196,
          0.6172748994670416,
          0.8869450145926792,
          0.8984286133614072,
          0.5110235635378919,
          0.20037484313679033,
          0.40285965977201077,
          0.6251604159867912,
          0.7636289035224022,
          0.9591931988677984,
          0.89411526565189,
          0.612783769491025,
          0.21082458066343868,
          0.8210691098866622,
          0.28741205960236926,
          0.40875401399822564,
          0.6572032947569375,
          0.8717539125541596,
          0.4933401273428939,
          0.3401422688102115,
          0.4721561988060825,
          0.36214608305039664,
          0.4991284004318195,
          0.6222161033737548,
          0.6675732316436533,
          0.4434734639664153,
          0.6650579368330961,
          0.7740363141641551,
          0.47506597669456774,
          0.7045778679738115,
          0.5511023311060128,
          0.5250828615861299,
          0.09862598494375197,
          0.4897136545952473,
          0.3236530242756478,
          0.4240146481999545,
          0.11764868551348973,
          0.9815372793772702,
          0.9232006895886629,
          0.647357911651621,
          0.5510160241780454,
          0.4894197386121423,
          0.10052339054740922,
          0.25282609452770033,
          0.7600787941990619,
          0.23123523257991174,
          0.6664292991581325,
          0.4374166355841971,
          0.7662383104126994,
          0.4263403310506284,
          0.20321454392170335,
          0.03864288709883246,
          0.880656277259328,
          0.7610979538639527,
          0.3426033199000921,
          0.06924669753559487,
          0.9488897619679045,
          0.27989153511860954,
          0.10045223618897847,
          0.9954880550235646,
          0.015224490864340523,
          0.5421397400902137,
          0.687599485200822,
          0.6352382875512128,
          0.3952487236954483,
          0.5221446773937745,
          0.5462842796507908,
          0.6285907982844269,
          0.7916249160524705,
          0.9563225781284411,
          0.8547698325588563,
          0.18707107322032013,
          0.2497255885986579,
          0.3080902134021354,
          0.22282597342980115,
          0.8564392586445342,
          0.49700783760020384,
          0.24623954678299986,
          0.05866062421915241,
          0.615126023015918,
          0.38884070501730983,
          0.9152233410521818,
          0.016008476630690605,
          0.4798720815160471,
          0.5171996847932875,
          0.6874258034388792,
          0.9235294420687038
         ],
         "xaxis": "x14",
         "y": [
          0.2057015273444034,
          0.1914132709914066,
          0.22312063975614038,
          0.4059983118661227,
          0.036599682605702344,
          0.21200108891217206,
          0.2390644164019854,
          0.27203552301518863,
          0.4362299365907276,
          0.07661621115664974,
          0.7940338946838988,
          0.07569093566572749,
          0.4361956577573247,
          0.6718271716663993,
          0.02910447015982154,
          0.8672629877901341,
          0.6068739286426558,
          0.5439484349095529,
          0.8195488537220345,
          0.6239798081501989,
          0.7775339381007728,
          0.3237015105914849,
          0.8122490667199603,
          0.05207197566335642,
          0.7351716190299754,
          0.34046420787878906,
          0.8520169736075666,
          0.7572103231769765,
          0.04380964012791244,
          0.5072322532685605,
          0.4571540482673545,
          0.31776795046208983,
          0.9215922417725891,
          0.32259146254403437,
          0.7973202438275461,
          0.5744390761122865,
          0.8091332949068598,
          0.18678202437697566,
          0.12931186396214167,
          0.617934854206754,
          0.56254853874098,
          0.5254422203020802,
          0.8730865743943738,
          0.8824352391015691,
          0.7857017098217839,
          0.8028967133042543,
          0.04058681749541193,
          0.6192463781341927,
          0.8941685371843957,
          0.9682296421783442,
          0.17325127800531148,
          0.2928116603816737,
          0.21395689938676798,
          0.8138077405273001,
          0.541306592737299,
          0.17882934900917058,
          0.9230765454895742,
          0.38683480087909505,
          0.5320015555781986,
          0.7244731312673186,
          0.6217539543704846,
          0.16086979279018498,
          0.16266620322548175,
          0.5026523819407788,
          0.42874884022232473,
          0.43405426164146965,
          0.6363584030734126,
          0.7436910605367291,
          0.7250656491587817,
          0.04213986601348041,
          0.19651867842089654,
          0.10348625163751235,
          0.7506078244538572,
          0.6847662311766312,
          0.06666120439596657,
          0.7305465707210608,
          0.41529962739826,
          0.03445966090660535,
          0.5865332198800062,
          0.8898719458306117,
          0.7950187484279215,
          0.3582601692217031,
          0.6984324615752024,
          0.16395842105279446,
          0.48122686711357177,
          0.4575542442064081,
          0.6632550349572617,
          0.9339626071527983,
          0.3919089398415616,
          0.7039977629323808,
          0.195883106331726,
          0.8936551326742009,
          0.1755257202363748,
          0.16864919913987564,
          0.5792907820010644,
          0.7344395882698364,
          0.09081700155782202,
          0.7356894730850086,
          0.007357682052856251,
          0.9034275369057923
         ],
         "yaxis": "y14"
        },
        {
         "line": {
          "color": "rgba(128, 128, 128, 1.0)",
          "dash": "solid",
          "shape": "linear",
          "width": 1.3
         },
         "marker": {
          "size": 2,
          "symbol": "circle"
         },
         "mode": "markers",
         "name": "D",
         "text": "",
         "type": "scatter",
         "x": [
          0.7359403834582817,
          0.2962807826126467,
          0.43976942304810407,
          0.7937450524855361,
          0.09443712133933746,
          0.03474909996185416,
          0.07309564606439356,
          0.9067802752953078,
          0.24380549084491965,
          0.37025869632843833,
          0.8063544885933182,
          0.5002577054900178,
          0.1583374605194211,
          0.728782766500474,
          0.7108646489513578,
          0.8483947271120664,
          0.2731579239674953,
          0.47105784896012726,
          0.4135874884888162,
          0.8297318106225205,
          0.47296197309595067,
          0.6286807254082438,
          0.198757150393986,
          0.01297191820849497,
          0.964942534552751,
          0.010775015613716743,
          0.1001137083925755,
          0.9335981487536341,
          0.6485176199871848,
          0.6328928966510233,
          0.7379655290618602,
          0.35678449989911865,
          0.5019123637488716,
          0.02415231740897228,
          0.7150581456985274,
          0.9090044707851561,
          0.9756761313030332,
          0.6763602019481604,
          0.258679938398379,
          0.12983186360725418,
          0.6195762281614965,
          0.07260471401766211,
          0.001422711640976626,
          0.18591431683172366,
          0.2376514178194138,
          0.06067780391596045,
          0.3684124161351292,
          0.9255456259817524,
          0.6515236342569365,
          0.1991820484808846,
          0.47674040438404197,
          0.596388953525444,
          0.06918194991674498,
          0.3999162666954349,
          0.19801009972089068,
          0.8853293937919091,
          0.046737539830976615,
          0.5891955506805309,
          0.8273789005828616,
          0.8644161676421752,
          0.39628703873913196,
          0.1267997222540943,
          0.4990888001861852,
          0.2920684461925288,
          0.3833487176389119,
          0.040373795098733734,
          0.9218806616114522,
          0.5084676325227109,
          0.4616396328393083,
          0.9346381987526001,
          0.08373268587487681,
          0.012586931470285445,
          0.9068898222445224,
          0.16552047481898824,
          0.20733534737918058,
          0.8635544081918058,
          0.9196370739581718,
          0.7016144896972498,
          0.1921310110559702,
          0.03894271972166963,
          0.24463730345251955,
          0.9923830478936386,
          0.600633805396669,
          0.5101755192186549,
          0.4554477236344452,
          0.19150046164508594,
          0.5012708186129198,
          0.8620682624983109,
          0.16186527450197552,
          0.24676411226204087,
          0.736617345334539,
          0.37806392283106094,
          0.8974852934731081,
          0.12301845181892268,
          0.5599567262439044,
          0.10466501986662513,
          0.9402807320278893,
          0.6293291186628359,
          0.2259202865022497,
          0.7914319780595636
         ],
         "xaxis": "x15",
         "y": [
          0.2057015273444034,
          0.1914132709914066,
          0.22312063975614038,
          0.4059983118661227,
          0.036599682605702344,
          0.21200108891217206,
          0.2390644164019854,
          0.27203552301518863,
          0.4362299365907276,
          0.07661621115664974,
          0.7940338946838988,
          0.07569093566572749,
          0.4361956577573247,
          0.6718271716663993,
          0.02910447015982154,
          0.8672629877901341,
          0.6068739286426558,
          0.5439484349095529,
          0.8195488537220345,
          0.6239798081501989,
          0.7775339381007728,
          0.3237015105914849,
          0.8122490667199603,
          0.05207197566335642,
          0.7351716190299754,
          0.34046420787878906,
          0.8520169736075666,
          0.7572103231769765,
          0.04380964012791244,
          0.5072322532685605,
          0.4571540482673545,
          0.31776795046208983,
          0.9215922417725891,
          0.32259146254403437,
          0.7973202438275461,
          0.5744390761122865,
          0.8091332949068598,
          0.18678202437697566,
          0.12931186396214167,
          0.617934854206754,
          0.56254853874098,
          0.5254422203020802,
          0.8730865743943738,
          0.8824352391015691,
          0.7857017098217839,
          0.8028967133042543,
          0.04058681749541193,
          0.6192463781341927,
          0.8941685371843957,
          0.9682296421783442,
          0.17325127800531148,
          0.2928116603816737,
          0.21395689938676798,
          0.8138077405273001,
          0.541306592737299,
          0.17882934900917058,
          0.9230765454895742,
          0.38683480087909505,
          0.5320015555781986,
          0.7244731312673186,
          0.6217539543704846,
          0.16086979279018498,
          0.16266620322548175,
          0.5026523819407788,
          0.42874884022232473,
          0.43405426164146965,
          0.6363584030734126,
          0.7436910605367291,
          0.7250656491587817,
          0.04213986601348041,
          0.19651867842089654,
          0.10348625163751235,
          0.7506078244538572,
          0.6847662311766312,
          0.06666120439596657,
          0.7305465707210608,
          0.41529962739826,
          0.03445966090660535,
          0.5865332198800062,
          0.8898719458306117,
          0.7950187484279215,
          0.3582601692217031,
          0.6984324615752024,
          0.16395842105279446,
          0.48122686711357177,
          0.4575542442064081,
          0.6632550349572617,
          0.9339626071527983,
          0.3919089398415616,
          0.7039977629323808,
          0.195883106331726,
          0.8936551326742009,
          0.1755257202363748,
          0.16864919913987564,
          0.5792907820010644,
          0.7344395882698364,
          0.09081700155782202,
          0.7356894730850086,
          0.007357682052856251,
          0.9034275369057923
         ],
         "yaxis": "y15"
        },
        {
         "histfunc": "count",
         "histnorm": "",
         "marker": {
          "color": "rgba(128, 0, 128, 1.0)",
          "line": {
           "color": "#4D5663",
           "width": 1.3
          }
         },
         "name": "D",
         "nbinsx": 10,
         "opacity": 0.8,
         "orientation": "v",
         "type": "histogram",
         "x": [
          0.2057015273444034,
          0.1914132709914066,
          0.22312063975614038,
          0.4059983118661227,
          0.036599682605702344,
          0.21200108891217206,
          0.2390644164019854,
          0.27203552301518863,
          0.4362299365907276,
          0.07661621115664974,
          0.7940338946838988,
          0.07569093566572749,
          0.4361956577573247,
          0.6718271716663993,
          0.02910447015982154,
          0.8672629877901341,
          0.6068739286426558,
          0.5439484349095529,
          0.8195488537220345,
          0.6239798081501989,
          0.7775339381007728,
          0.3237015105914849,
          0.8122490667199603,
          0.05207197566335642,
          0.7351716190299754,
          0.34046420787878906,
          0.8520169736075666,
          0.7572103231769765,
          0.04380964012791244,
          0.5072322532685605,
          0.4571540482673545,
          0.31776795046208983,
          0.9215922417725891,
          0.32259146254403437,
          0.7973202438275461,
          0.5744390761122865,
          0.8091332949068598,
          0.18678202437697566,
          0.12931186396214167,
          0.617934854206754,
          0.56254853874098,
          0.5254422203020802,
          0.8730865743943738,
          0.8824352391015691,
          0.7857017098217839,
          0.8028967133042543,
          0.04058681749541193,
          0.6192463781341927,
          0.8941685371843957,
          0.9682296421783442,
          0.17325127800531148,
          0.2928116603816737,
          0.21395689938676798,
          0.8138077405273001,
          0.541306592737299,
          0.17882934900917058,
          0.9230765454895742,
          0.38683480087909505,
          0.5320015555781986,
          0.7244731312673186,
          0.6217539543704846,
          0.16086979279018498,
          0.16266620322548175,
          0.5026523819407788,
          0.42874884022232473,
          0.43405426164146965,
          0.6363584030734126,
          0.7436910605367291,
          0.7250656491587817,
          0.04213986601348041,
          0.19651867842089654,
          0.10348625163751235,
          0.7506078244538572,
          0.6847662311766312,
          0.06666120439596657,
          0.7305465707210608,
          0.41529962739826,
          0.03445966090660535,
          0.5865332198800062,
          0.8898719458306117,
          0.7950187484279215,
          0.3582601692217031,
          0.6984324615752024,
          0.16395842105279446,
          0.48122686711357177,
          0.4575542442064081,
          0.6632550349572617,
          0.9339626071527983,
          0.3919089398415616,
          0.7039977629323808,
          0.195883106331726,
          0.8936551326742009,
          0.1755257202363748,
          0.16864919913987564,
          0.5792907820010644,
          0.7344395882698364,
          0.09081700155782202,
          0.7356894730850086,
          0.007357682052856251,
          0.9034275369057923
         ],
         "xaxis": "x16",
         "yaxis": "y16"
        }
       ],
       "layout": {
        "bargap": 0.02,
        "legend": {
         "bgcolor": "#F5F6F9",
         "font": {
          "color": "#4D5663"
         }
        },
        "paper_bgcolor": "#F5F6F9",
        "plot_bgcolor": "#F5F6F9",
        "showlegend": false,
        "template": {
         "data": {
          "bar": [
           {
            "error_x": {
             "color": "#2a3f5f"
            },
            "error_y": {
             "color": "#2a3f5f"
            },
            "marker": {
             "line": {
              "color": "#E5ECF6",
              "width": 0.5
             }
            },
            "type": "bar"
           }
          ],
          "barpolar": [
           {
            "marker": {
             "line": {
              "color": "#E5ECF6",
              "width": 0.5
             }
            },
            "type": "barpolar"
           }
          ],
          "carpet": [
           {
            "aaxis": {
             "endlinecolor": "#2a3f5f",
             "gridcolor": "white",
             "linecolor": "white",
             "minorgridcolor": "white",
             "startlinecolor": "#2a3f5f"
            },
            "baxis": {
             "endlinecolor": "#2a3f5f",
             "gridcolor": "white",
             "linecolor": "white",
             "minorgridcolor": "white",
             "startlinecolor": "#2a3f5f"
            },
            "type": "carpet"
           }
          ],
          "choropleth": [
           {
            "colorbar": {
             "outlinewidth": 0,
             "ticks": ""
            },
            "type": "choropleth"
           }
          ],
          "contour": [
           {
            "colorbar": {
             "outlinewidth": 0,
             "ticks": ""
            },
            "colorscale": [
             [
              0,
              "#0d0887"
             ],
             [
              0.1111111111111111,
              "#46039f"
             ],
             [
              0.2222222222222222,
              "#7201a8"
             ],
             [
              0.3333333333333333,
              "#9c179e"
             ],
             [
              0.4444444444444444,
              "#bd3786"
             ],
             [
              0.5555555555555556,
              "#d8576b"
             ],
             [
              0.6666666666666666,
              "#ed7953"
             ],
             [
              0.7777777777777778,
              "#fb9f3a"
             ],
             [
              0.8888888888888888,
              "#fdca26"
             ],
             [
              1,
              "#f0f921"
             ]
            ],
            "type": "contour"
           }
          ],
          "contourcarpet": [
           {
            "colorbar": {
             "outlinewidth": 0,
             "ticks": ""
            },
            "type": "contourcarpet"
           }
          ],
          "heatmap": [
           {
            "colorbar": {
             "outlinewidth": 0,
             "ticks": ""
            },
            "colorscale": [
             [
              0,
              "#0d0887"
             ],
             [
              0.1111111111111111,
              "#46039f"
             ],
             [
              0.2222222222222222,
              "#7201a8"
             ],
             [
              0.3333333333333333,
              "#9c179e"
             ],
             [
              0.4444444444444444,
              "#bd3786"
             ],
             [
              0.5555555555555556,
              "#d8576b"
             ],
             [
              0.6666666666666666,
              "#ed7953"
             ],
             [
              0.7777777777777778,
              "#fb9f3a"
             ],
             [
              0.8888888888888888,
              "#fdca26"
             ],
             [
              1,
              "#f0f921"
             ]
            ],
            "type": "heatmap"
           }
          ],
          "heatmapgl": [
           {
            "colorbar": {
             "outlinewidth": 0,
             "ticks": ""
            },
            "colorscale": [
             [
              0,
              "#0d0887"
             ],
             [
              0.1111111111111111,
              "#46039f"
             ],
             [
              0.2222222222222222,
              "#7201a8"
             ],
             [
              0.3333333333333333,
              "#9c179e"
             ],
             [
              0.4444444444444444,
              "#bd3786"
             ],
             [
              0.5555555555555556,
              "#d8576b"
             ],
             [
              0.6666666666666666,
              "#ed7953"
             ],
             [
              0.7777777777777778,
              "#fb9f3a"
             ],
             [
              0.8888888888888888,
              "#fdca26"
             ],
             [
              1,
              "#f0f921"
             ]
            ],
            "type": "heatmapgl"
           }
          ],
          "histogram": [
           {
            "marker": {
             "colorbar": {
              "outlinewidth": 0,
              "ticks": ""
             }
            },
            "type": "histogram"
           }
          ],
          "histogram2d": [
           {
            "colorbar": {
             "outlinewidth": 0,
             "ticks": ""
            },
            "colorscale": [
             [
              0,
              "#0d0887"
             ],
             [
              0.1111111111111111,
              "#46039f"
             ],
             [
              0.2222222222222222,
              "#7201a8"
             ],
             [
              0.3333333333333333,
              "#9c179e"
             ],
             [
              0.4444444444444444,
              "#bd3786"
             ],
             [
              0.5555555555555556,
              "#d8576b"
             ],
             [
              0.6666666666666666,
              "#ed7953"
             ],
             [
              0.7777777777777778,
              "#fb9f3a"
             ],
             [
              0.8888888888888888,
              "#fdca26"
             ],
             [
              1,
              "#f0f921"
             ]
            ],
            "type": "histogram2d"
           }
          ],
          "histogram2dcontour": [
           {
            "colorbar": {
             "outlinewidth": 0,
             "ticks": ""
            },
            "colorscale": [
             [
              0,
              "#0d0887"
             ],
             [
              0.1111111111111111,
              "#46039f"
             ],
             [
              0.2222222222222222,
              "#7201a8"
             ],
             [
              0.3333333333333333,
              "#9c179e"
             ],
             [
              0.4444444444444444,
              "#bd3786"
             ],
             [
              0.5555555555555556,
              "#d8576b"
             ],
             [
              0.6666666666666666,
              "#ed7953"
             ],
             [
              0.7777777777777778,
              "#fb9f3a"
             ],
             [
              0.8888888888888888,
              "#fdca26"
             ],
             [
              1,
              "#f0f921"
             ]
            ],
            "type": "histogram2dcontour"
           }
          ],
          "mesh3d": [
           {
            "colorbar": {
             "outlinewidth": 0,
             "ticks": ""
            },
            "type": "mesh3d"
           }
          ],
          "parcoords": [
           {
            "line": {
             "colorbar": {
              "outlinewidth": 0,
              "ticks": ""
             }
            },
            "type": "parcoords"
           }
          ],
          "pie": [
           {
            "automargin": true,
            "type": "pie"
           }
          ],
          "scatter": [
           {
            "marker": {
             "colorbar": {
              "outlinewidth": 0,
              "ticks": ""
             }
            },
            "type": "scatter"
           }
          ],
          "scatter3d": [
           {
            "line": {
             "colorbar": {
              "outlinewidth": 0,
              "ticks": ""
             }
            },
            "marker": {
             "colorbar": {
              "outlinewidth": 0,
              "ticks": ""
             }
            },
            "type": "scatter3d"
           }
          ],
          "scattercarpet": [
           {
            "marker": {
             "colorbar": {
              "outlinewidth": 0,
              "ticks": ""
             }
            },
            "type": "scattercarpet"
           }
          ],
          "scattergeo": [
           {
            "marker": {
             "colorbar": {
              "outlinewidth": 0,
              "ticks": ""
             }
            },
            "type": "scattergeo"
           }
          ],
          "scattergl": [
           {
            "marker": {
             "colorbar": {
              "outlinewidth": 0,
              "ticks": ""
             }
            },
            "type": "scattergl"
           }
          ],
          "scattermapbox": [
           {
            "marker": {
             "colorbar": {
              "outlinewidth": 0,
              "ticks": ""
             }
            },
            "type": "scattermapbox"
           }
          ],
          "scatterpolar": [
           {
            "marker": {
             "colorbar": {
              "outlinewidth": 0,
              "ticks": ""
             }
            },
            "type": "scatterpolar"
           }
          ],
          "scatterpolargl": [
           {
            "marker": {
             "colorbar": {
              "outlinewidth": 0,
              "ticks": ""
             }
            },
            "type": "scatterpolargl"
           }
          ],
          "scatterternary": [
           {
            "marker": {
             "colorbar": {
              "outlinewidth": 0,
              "ticks": ""
             }
            },
            "type": "scatterternary"
           }
          ],
          "surface": [
           {
            "colorbar": {
             "outlinewidth": 0,
             "ticks": ""
            },
            "colorscale": [
             [
              0,
              "#0d0887"
             ],
             [
              0.1111111111111111,
              "#46039f"
             ],
             [
              0.2222222222222222,
              "#7201a8"
             ],
             [
              0.3333333333333333,
              "#9c179e"
             ],
             [
              0.4444444444444444,
              "#bd3786"
             ],
             [
              0.5555555555555556,
              "#d8576b"
             ],
             [
              0.6666666666666666,
              "#ed7953"
             ],
             [
              0.7777777777777778,
              "#fb9f3a"
             ],
             [
              0.8888888888888888,
              "#fdca26"
             ],
             [
              1,
              "#f0f921"
             ]
            ],
            "type": "surface"
           }
          ],
          "table": [
           {
            "cells": {
             "fill": {
              "color": "#EBF0F8"
             },
             "line": {
              "color": "white"
             }
            },
            "header": {
             "fill": {
              "color": "#C8D4E3"
             },
             "line": {
              "color": "white"
             }
            },
            "type": "table"
           }
          ]
         },
         "layout": {
          "annotationdefaults": {
           "arrowcolor": "#2a3f5f",
           "arrowhead": 0,
           "arrowwidth": 1
          },
          "autotypenumbers": "strict",
          "coloraxis": {
           "colorbar": {
            "outlinewidth": 0,
            "ticks": ""
           }
          },
          "colorscale": {
           "diverging": [
            [
             0,
             "#8e0152"
            ],
            [
             0.1,
             "#c51b7d"
            ],
            [
             0.2,
             "#de77ae"
            ],
            [
             0.3,
             "#f1b6da"
            ],
            [
             0.4,
             "#fde0ef"
            ],
            [
             0.5,
             "#f7f7f7"
            ],
            [
             0.6,
             "#e6f5d0"
            ],
            [
             0.7,
             "#b8e186"
            ],
            [
             0.8,
             "#7fbc41"
            ],
            [
             0.9,
             "#4d9221"
            ],
            [
             1,
             "#276419"
            ]
           ],
           "sequential": [
            [
             0,
             "#0d0887"
            ],
            [
             0.1111111111111111,
             "#46039f"
            ],
            [
             0.2222222222222222,
             "#7201a8"
            ],
            [
             0.3333333333333333,
             "#9c179e"
            ],
            [
             0.4444444444444444,
             "#bd3786"
            ],
            [
             0.5555555555555556,
             "#d8576b"
            ],
            [
             0.6666666666666666,
             "#ed7953"
            ],
            [
             0.7777777777777778,
             "#fb9f3a"
            ],
            [
             0.8888888888888888,
             "#fdca26"
            ],
            [
             1,
             "#f0f921"
            ]
           ],
           "sequentialminus": [
            [
             0,
             "#0d0887"
            ],
            [
             0.1111111111111111,
             "#46039f"
            ],
            [
             0.2222222222222222,
             "#7201a8"
            ],
            [
             0.3333333333333333,
             "#9c179e"
            ],
            [
             0.4444444444444444,
             "#bd3786"
            ],
            [
             0.5555555555555556,
             "#d8576b"
            ],
            [
             0.6666666666666666,
             "#ed7953"
            ],
            [
             0.7777777777777778,
             "#fb9f3a"
            ],
            [
             0.8888888888888888,
             "#fdca26"
            ],
            [
             1,
             "#f0f921"
            ]
           ]
          },
          "colorway": [
           "#636efa",
           "#EF553B",
           "#00cc96",
           "#ab63fa",
           "#FFA15A",
           "#19d3f3",
           "#FF6692",
           "#B6E880",
           "#FF97FF",
           "#FECB52"
          ],
          "font": {
           "color": "#2a3f5f"
          },
          "geo": {
           "bgcolor": "white",
           "lakecolor": "white",
           "landcolor": "#E5ECF6",
           "showlakes": true,
           "showland": true,
           "subunitcolor": "white"
          },
          "hoverlabel": {
           "align": "left"
          },
          "hovermode": "closest",
          "mapbox": {
           "style": "light"
          },
          "paper_bgcolor": "white",
          "plot_bgcolor": "#E5ECF6",
          "polar": {
           "angularaxis": {
            "gridcolor": "white",
            "linecolor": "white",
            "ticks": ""
           },
           "bgcolor": "#E5ECF6",
           "radialaxis": {
            "gridcolor": "white",
            "linecolor": "white",
            "ticks": ""
           }
          },
          "scene": {
           "xaxis": {
            "backgroundcolor": "#E5ECF6",
            "gridcolor": "white",
            "gridwidth": 2,
            "linecolor": "white",
            "showbackground": true,
            "ticks": "",
            "zerolinecolor": "white"
           },
           "yaxis": {
            "backgroundcolor": "#E5ECF6",
            "gridcolor": "white",
            "gridwidth": 2,
            "linecolor": "white",
            "showbackground": true,
            "ticks": "",
            "zerolinecolor": "white"
           },
           "zaxis": {
            "backgroundcolor": "#E5ECF6",
            "gridcolor": "white",
            "gridwidth": 2,
            "linecolor": "white",
            "showbackground": true,
            "ticks": "",
            "zerolinecolor": "white"
           }
          },
          "shapedefaults": {
           "line": {
            "color": "#2a3f5f"
           }
          },
          "ternary": {
           "aaxis": {
            "gridcolor": "white",
            "linecolor": "white",
            "ticks": ""
           },
           "baxis": {
            "gridcolor": "white",
            "linecolor": "white",
            "ticks": ""
           },
           "bgcolor": "#E5ECF6",
           "caxis": {
            "gridcolor": "white",
            "linecolor": "white",
            "ticks": ""
           }
          },
          "title": {
           "x": 0.05
          },
          "xaxis": {
           "automargin": true,
           "gridcolor": "white",
           "linecolor": "white",
           "ticks": "",
           "title": {
            "standoff": 15
           },
           "zerolinecolor": "white",
           "zerolinewidth": 2
          },
          "yaxis": {
           "automargin": true,
           "gridcolor": "white",
           "linecolor": "white",
           "ticks": "",
           "title": {
            "standoff": 15
           },
           "zerolinecolor": "white",
           "zerolinewidth": 2
          }
         }
        },
        "title": {
         "font": {
          "color": "#4D5663"
         }
        },
        "xaxis": {
         "anchor": "y",
         "domain": [
          0,
          0.2125
         ],
         "gridcolor": "#E1E5ED",
         "showgrid": false,
         "tickfont": {
          "color": "#4D5663"
         },
         "title": {
          "font": {
           "color": "#4D5663"
          },
          "text": ""
         },
         "zerolinecolor": "#E1E5ED"
        },
        "xaxis10": {
         "anchor": "y10",
         "domain": [
          0.2625,
          0.475
         ],
         "gridcolor": "#E1E5ED",
         "showgrid": false,
         "tickfont": {
          "color": "#4D5663"
         },
         "title": {
          "font": {
           "color": "#4D5663"
          },
          "text": ""
         },
         "zerolinecolor": "#E1E5ED"
        },
        "xaxis11": {
         "anchor": "y11",
         "domain": [
          0.525,
          0.7375
         ],
         "gridcolor": "#E1E5ED",
         "showgrid": false,
         "tickfont": {
          "color": "#4D5663"
         },
         "title": {
          "font": {
           "color": "#4D5663"
          },
          "text": ""
         },
         "zerolinecolor": "#E1E5ED"
        },
        "xaxis12": {
         "anchor": "y12",
         "domain": [
          0.7875,
          1
         ],
         "gridcolor": "#E1E5ED",
         "showgrid": false,
         "tickfont": {
          "color": "#4D5663"
         },
         "title": {
          "font": {
           "color": "#4D5663"
          },
          "text": ""
         },
         "zerolinecolor": "#E1E5ED"
        },
        "xaxis13": {
         "anchor": "y13",
         "domain": [
          0,
          0.2125
         ],
         "gridcolor": "#E1E5ED",
         "showgrid": false,
         "tickfont": {
          "color": "#4D5663"
         },
         "title": {
          "font": {
           "color": "#4D5663"
          },
          "text": ""
         },
         "zerolinecolor": "#E1E5ED"
        },
        "xaxis14": {
         "anchor": "y14",
         "domain": [
          0.2625,
          0.475
         ],
         "gridcolor": "#E1E5ED",
         "showgrid": false,
         "tickfont": {
          "color": "#4D5663"
         },
         "title": {
          "font": {
           "color": "#4D5663"
          },
          "text": ""
         },
         "zerolinecolor": "#E1E5ED"
        },
        "xaxis15": {
         "anchor": "y15",
         "domain": [
          0.525,
          0.7375
         ],
         "gridcolor": "#E1E5ED",
         "showgrid": false,
         "tickfont": {
          "color": "#4D5663"
         },
         "title": {
          "font": {
           "color": "#4D5663"
          },
          "text": ""
         },
         "zerolinecolor": "#E1E5ED"
        },
        "xaxis16": {
         "anchor": "y16",
         "domain": [
          0.7875,
          1
         ],
         "gridcolor": "#E1E5ED",
         "showgrid": false,
         "tickfont": {
          "color": "#4D5663"
         },
         "title": {
          "font": {
           "color": "#4D5663"
          },
          "text": ""
         },
         "zerolinecolor": "#E1E5ED"
        },
        "xaxis2": {
         "anchor": "y2",
         "domain": [
          0.2625,
          0.475
         ],
         "gridcolor": "#E1E5ED",
         "showgrid": false,
         "tickfont": {
          "color": "#4D5663"
         },
         "title": {
          "font": {
           "color": "#4D5663"
          },
          "text": ""
         },
         "zerolinecolor": "#E1E5ED"
        },
        "xaxis3": {
         "anchor": "y3",
         "domain": [
          0.525,
          0.7375
         ],
         "gridcolor": "#E1E5ED",
         "showgrid": false,
         "tickfont": {
          "color": "#4D5663"
         },
         "title": {
          "font": {
           "color": "#4D5663"
          },
          "text": ""
         },
         "zerolinecolor": "#E1E5ED"
        },
        "xaxis4": {
         "anchor": "y4",
         "domain": [
          0.7875,
          1
         ],
         "gridcolor": "#E1E5ED",
         "showgrid": false,
         "tickfont": {
          "color": "#4D5663"
         },
         "title": {
          "font": {
           "color": "#4D5663"
          },
          "text": ""
         },
         "zerolinecolor": "#E1E5ED"
        },
        "xaxis5": {
         "anchor": "y5",
         "domain": [
          0,
          0.2125
         ],
         "gridcolor": "#E1E5ED",
         "showgrid": false,
         "tickfont": {
          "color": "#4D5663"
         },
         "title": {
          "font": {
           "color": "#4D5663"
          },
          "text": ""
         },
         "zerolinecolor": "#E1E5ED"
        },
        "xaxis6": {
         "anchor": "y6",
         "domain": [
          0.2625,
          0.475
         ],
         "gridcolor": "#E1E5ED",
         "showgrid": false,
         "tickfont": {
          "color": "#4D5663"
         },
         "title": {
          "font": {
           "color": "#4D5663"
          },
          "text": ""
         },
         "zerolinecolor": "#E1E5ED"
        },
        "xaxis7": {
         "anchor": "y7",
         "domain": [
          0.525,
          0.7375
         ],
         "gridcolor": "#E1E5ED",
         "showgrid": false,
         "tickfont": {
          "color": "#4D5663"
         },
         "title": {
          "font": {
           "color": "#4D5663"
          },
          "text": ""
         },
         "zerolinecolor": "#E1E5ED"
        },
        "xaxis8": {
         "anchor": "y8",
         "domain": [
          0.7875,
          1
         ],
         "gridcolor": "#E1E5ED",
         "showgrid": false,
         "tickfont": {
          "color": "#4D5663"
         },
         "title": {
          "font": {
           "color": "#4D5663"
          },
          "text": ""
         },
         "zerolinecolor": "#E1E5ED"
        },
        "xaxis9": {
         "anchor": "y9",
         "domain": [
          0,
          0.2125
         ],
         "gridcolor": "#E1E5ED",
         "showgrid": false,
         "tickfont": {
          "color": "#4D5663"
         },
         "title": {
          "font": {
           "color": "#4D5663"
          },
          "text": ""
         },
         "zerolinecolor": "#E1E5ED"
        },
        "yaxis": {
         "anchor": "x",
         "domain": [
          0.8025,
          1
         ],
         "gridcolor": "#E1E5ED",
         "showgrid": false,
         "tickfont": {
          "color": "#4D5663"
         },
         "title": {
          "font": {
           "color": "#4D5663"
          },
          "text": ""
         },
         "zerolinecolor": "#E1E5ED"
        },
        "yaxis10": {
         "anchor": "x10",
         "domain": [
          0.2675,
          0.465
         ],
         "gridcolor": "#E1E5ED",
         "showgrid": false,
         "tickfont": {
          "color": "#4D5663"
         },
         "title": {
          "font": {
           "color": "#4D5663"
          },
          "text": ""
         },
         "zerolinecolor": "#E1E5ED"
        },
        "yaxis11": {
         "anchor": "x11",
         "domain": [
          0.2675,
          0.465
         ],
         "gridcolor": "#E1E5ED",
         "showgrid": false,
         "tickfont": {
          "color": "#4D5663"
         },
         "title": {
          "font": {
           "color": "#4D5663"
          },
          "text": ""
         },
         "zerolinecolor": "#E1E5ED"
        },
        "yaxis12": {
         "anchor": "x12",
         "domain": [
          0.2675,
          0.465
         ],
         "gridcolor": "#E1E5ED",
         "showgrid": false,
         "tickfont": {
          "color": "#4D5663"
         },
         "title": {
          "font": {
           "color": "#4D5663"
          },
          "text": ""
         },
         "zerolinecolor": "#E1E5ED"
        },
        "yaxis13": {
         "anchor": "x13",
         "domain": [
          0,
          0.1975
         ],
         "gridcolor": "#E1E5ED",
         "showgrid": false,
         "tickfont": {
          "color": "#4D5663"
         },
         "title": {
          "font": {
           "color": "#4D5663"
          },
          "text": ""
         },
         "zerolinecolor": "#E1E5ED"
        },
        "yaxis14": {
         "anchor": "x14",
         "domain": [
          0,
          0.1975
         ],
         "gridcolor": "#E1E5ED",
         "showgrid": false,
         "tickfont": {
          "color": "#4D5663"
         },
         "title": {
          "font": {
           "color": "#4D5663"
          },
          "text": ""
         },
         "zerolinecolor": "#E1E5ED"
        },
        "yaxis15": {
         "anchor": "x15",
         "domain": [
          0,
          0.1975
         ],
         "gridcolor": "#E1E5ED",
         "showgrid": false,
         "tickfont": {
          "color": "#4D5663"
         },
         "title": {
          "font": {
           "color": "#4D5663"
          },
          "text": ""
         },
         "zerolinecolor": "#E1E5ED"
        },
        "yaxis16": {
         "anchor": "x16",
         "domain": [
          0,
          0.1975
         ],
         "gridcolor": "#E1E5ED",
         "showgrid": false,
         "tickfont": {
          "color": "#4D5663"
         },
         "title": {
          "font": {
           "color": "#4D5663"
          },
          "text": ""
         },
         "zerolinecolor": "#E1E5ED"
        },
        "yaxis2": {
         "anchor": "x2",
         "domain": [
          0.8025,
          1
         ],
         "gridcolor": "#E1E5ED",
         "showgrid": false,
         "tickfont": {
          "color": "#4D5663"
         },
         "title": {
          "font": {
           "color": "#4D5663"
          },
          "text": ""
         },
         "zerolinecolor": "#E1E5ED"
        },
        "yaxis3": {
         "anchor": "x3",
         "domain": [
          0.8025,
          1
         ],
         "gridcolor": "#E1E5ED",
         "showgrid": false,
         "tickfont": {
          "color": "#4D5663"
         },
         "title": {
          "font": {
           "color": "#4D5663"
          },
          "text": ""
         },
         "zerolinecolor": "#E1E5ED"
        },
        "yaxis4": {
         "anchor": "x4",
         "domain": [
          0.8025,
          1
         ],
         "gridcolor": "#E1E5ED",
         "showgrid": false,
         "tickfont": {
          "color": "#4D5663"
         },
         "title": {
          "font": {
           "color": "#4D5663"
          },
          "text": ""
         },
         "zerolinecolor": "#E1E5ED"
        },
        "yaxis5": {
         "anchor": "x5",
         "domain": [
          0.535,
          0.7325
         ],
         "gridcolor": "#E1E5ED",
         "showgrid": false,
         "tickfont": {
          "color": "#4D5663"
         },
         "title": {
          "font": {
           "color": "#4D5663"
          },
          "text": ""
         },
         "zerolinecolor": "#E1E5ED"
        },
        "yaxis6": {
         "anchor": "x6",
         "domain": [
          0.535,
          0.7325
         ],
         "gridcolor": "#E1E5ED",
         "showgrid": false,
         "tickfont": {
          "color": "#4D5663"
         },
         "title": {
          "font": {
           "color": "#4D5663"
          },
          "text": ""
         },
         "zerolinecolor": "#E1E5ED"
        },
        "yaxis7": {
         "anchor": "x7",
         "domain": [
          0.535,
          0.7325
         ],
         "gridcolor": "#E1E5ED",
         "showgrid": false,
         "tickfont": {
          "color": "#4D5663"
         },
         "title": {
          "font": {
           "color": "#4D5663"
          },
          "text": ""
         },
         "zerolinecolor": "#E1E5ED"
        },
        "yaxis8": {
         "anchor": "x8",
         "domain": [
          0.535,
          0.7325
         ],
         "gridcolor": "#E1E5ED",
         "showgrid": false,
         "tickfont": {
          "color": "#4D5663"
         },
         "title": {
          "font": {
           "color": "#4D5663"
          },
          "text": ""
         },
         "zerolinecolor": "#E1E5ED"
        },
        "yaxis9": {
         "anchor": "x9",
         "domain": [
          0.2675,
          0.465
         ],
         "gridcolor": "#E1E5ED",
         "showgrid": false,
         "tickfont": {
          "color": "#4D5663"
         },
         "title": {
          "font": {
           "color": "#4D5663"
          },
          "text": ""
         },
         "zerolinecolor": "#E1E5ED"
        }
       }
      },
      "text/html": [
       "<div>                            <div id=\"e983647e-fd11-4b8d-ace4-6bcc4270d0e4\" class=\"plotly-graph-div\" style=\"height:525px; width:100%;\"></div>            <script type=\"text/javascript\">                require([\"plotly\"], function(Plotly) {                    window.PLOTLYENV=window.PLOTLYENV || {};\n",
       "                    window.PLOTLYENV.BASE_URL='https://plot.ly';                                    if (document.getElementById(\"e983647e-fd11-4b8d-ace4-6bcc4270d0e4\")) {                    Plotly.newPlot(                        \"e983647e-fd11-4b8d-ace4-6bcc4270d0e4\",                        [{\"histfunc\": \"count\", \"histnorm\": \"\", \"marker\": {\"color\": \"rgba(255, 153, 51, 1.0)\", \"line\": {\"color\": \"#4D5663\", \"width\": 1.3}}, \"name\": \"A\", \"nbinsx\": 10, \"opacity\": 0.8, \"orientation\": \"v\", \"type\": \"histogram\", \"x\": [0.9753847257840704, 0.6685526475099604, 0.717763849159026, 0.641643253612684, 0.46101551589424816, 0.12078225002024179, 0.9226200153186841, 0.784485205431393, 0.31455777210757063, 0.4478685176457967, 0.2131143465929174, 0.3011696160343452, 0.7562652954539073, 0.17665548838834555, 0.32638506717339455, 0.8459614429343494, 0.34192570436767833, 0.06391837019195534, 0.8999138623566848, 0.8715981055099761, 0.987890531023444, 0.8961498915681549, 0.36306575530877194, 0.8276162545533562, 0.20525195193240775, 0.06391191637803195, 0.16937409328541397, 0.7761067551067942, 0.5575771139288783, 0.1499040533333127, 0.22334376981884096, 0.6918361085471536, 0.8790879143840141, 0.7077384811608556, 0.22422787181288484, 0.32161718246572824, 0.48154104728183533, 0.7705942872538493, 0.19988219988236622, 0.6655430545295901, 0.6723359791162588, 0.8151105808405508, 0.8846810836216884, 0.007244518678291789, 0.4068924253415789, 0.8625167848986993, 0.6429397136763052, 0.7763525954064734, 0.8241324136446101, 0.7186392585997665, 0.21683477878002877, 0.3494180296260595, 0.1741282459062653, 0.02397911006743103, 0.39487584701144085, 0.24380211962090148, 0.22344572067428936, 0.6537321204248879, 0.8564298673735783, 0.5123248575458799, 0.605553516435922, 0.6517629384667678, 0.23452063385360233, 0.9494658315171941, 0.6304378167182005, 0.26303963632237737, 0.2863032859042599, 0.47929891357035415, 0.42596189386818706, 0.3848568917235682, 0.4212480599686016, 0.7736704973405448, 0.44845284655712414, 0.9807428289008219, 0.4363301972778, 0.21318133575569864, 0.1585547262957432, 0.8595620058635431, 0.35844401575162044, 0.45229977212554207, 0.7119012892048794, 0.40441056780230067, 0.9773408983820342, 0.3174071110165755, 0.881073025102367, 0.40153608916097194, 0.5741411373468234, 0.8109111415755789, 0.45664260834838166, 0.33826152683825383, 0.7954321426895994, 0.5551184704941502, 0.9184421526805117, 0.6602273721590636, 0.37907286862184275, 0.8782538779062986, 0.8016769924092302, 0.8014854199555197, 0.9644159545124961, 0.20259993162699697], \"xaxis\": \"x\", \"yaxis\": \"y\"}, {\"line\": {\"color\": \"rgba(128, 128, 128, 1.0)\", \"dash\": \"solid\", \"shape\": \"linear\", \"width\": 1.3}, \"marker\": {\"size\": 2, \"symbol\": \"circle\"}, \"mode\": \"markers\", \"name\": \"A\", \"text\": \"\", \"type\": \"scatter\", \"x\": [0.6085337361817945, 0.9849008662659429, 0.17481835927449163, 0.7438288626332903, 0.4549341248769252, 0.5692305411024162, 0.6866864917646315, 0.15091996389122575, 0.598572333058514, 0.5311366876335679, 0.9647509681138527, 0.42970076544550373, 0.9197065912505893, 0.7512658459378196, 0.6172748994670416, 0.8869450145926792, 0.8984286133614072, 0.5110235635378919, 0.20037484313679033, 0.40285965977201077, 0.6251604159867912, 0.7636289035224022, 0.9591931988677984, 0.89411526565189, 0.612783769491025, 0.21082458066343868, 0.8210691098866622, 0.28741205960236926, 0.40875401399822564, 0.6572032947569375, 0.8717539125541596, 0.4933401273428939, 0.3401422688102115, 0.4721561988060825, 0.36214608305039664, 0.4991284004318195, 0.6222161033737548, 0.6675732316436533, 0.4434734639664153, 0.6650579368330961, 0.7740363141641551, 0.47506597669456774, 0.7045778679738115, 0.5511023311060128, 0.5250828615861299, 0.09862598494375197, 0.4897136545952473, 0.3236530242756478, 0.4240146481999545, 0.11764868551348973, 0.9815372793772702, 0.9232006895886629, 0.647357911651621, 0.5510160241780454, 0.4894197386121423, 0.10052339054740922, 0.25282609452770033, 0.7600787941990619, 0.23123523257991174, 0.6664292991581325, 0.4374166355841971, 0.7662383104126994, 0.4263403310506284, 0.20321454392170335, 0.03864288709883246, 0.880656277259328, 0.7610979538639527, 0.3426033199000921, 0.06924669753559487, 0.9488897619679045, 0.27989153511860954, 0.10045223618897847, 0.9954880550235646, 0.015224490864340523, 0.5421397400902137, 0.687599485200822, 0.6352382875512128, 0.3952487236954483, 0.5221446773937745, 0.5462842796507908, 0.6285907982844269, 0.7916249160524705, 0.9563225781284411, 0.8547698325588563, 0.18707107322032013, 0.2497255885986579, 0.3080902134021354, 0.22282597342980115, 0.8564392586445342, 0.49700783760020384, 0.24623954678299986, 0.05866062421915241, 0.615126023015918, 0.38884070501730983, 0.9152233410521818, 0.016008476630690605, 0.4798720815160471, 0.5171996847932875, 0.6874258034388792, 0.9235294420687038], \"xaxis\": \"x2\", \"y\": [0.9753847257840704, 0.6685526475099604, 0.717763849159026, 0.641643253612684, 0.46101551589424816, 0.12078225002024179, 0.9226200153186841, 0.784485205431393, 0.31455777210757063, 0.4478685176457967, 0.2131143465929174, 0.3011696160343452, 0.7562652954539073, 0.17665548838834555, 0.32638506717339455, 0.8459614429343494, 0.34192570436767833, 0.06391837019195534, 0.8999138623566848, 0.8715981055099761, 0.987890531023444, 0.8961498915681549, 0.36306575530877194, 0.8276162545533562, 0.20525195193240775, 0.06391191637803195, 0.16937409328541397, 0.7761067551067942, 0.5575771139288783, 0.1499040533333127, 0.22334376981884096, 0.6918361085471536, 0.8790879143840141, 0.7077384811608556, 0.22422787181288484, 0.32161718246572824, 0.48154104728183533, 0.7705942872538493, 0.19988219988236622, 0.6655430545295901, 0.6723359791162588, 0.8151105808405508, 0.8846810836216884, 0.007244518678291789, 0.4068924253415789, 0.8625167848986993, 0.6429397136763052, 0.7763525954064734, 0.8241324136446101, 0.7186392585997665, 0.21683477878002877, 0.3494180296260595, 0.1741282459062653, 0.02397911006743103, 0.39487584701144085, 0.24380211962090148, 0.22344572067428936, 0.6537321204248879, 0.8564298673735783, 0.5123248575458799, 0.605553516435922, 0.6517629384667678, 0.23452063385360233, 0.9494658315171941, 0.6304378167182005, 0.26303963632237737, 0.2863032859042599, 0.47929891357035415, 0.42596189386818706, 0.3848568917235682, 0.4212480599686016, 0.7736704973405448, 0.44845284655712414, 0.9807428289008219, 0.4363301972778, 0.21318133575569864, 0.1585547262957432, 0.8595620058635431, 0.35844401575162044, 0.45229977212554207, 0.7119012892048794, 0.40441056780230067, 0.9773408983820342, 0.3174071110165755, 0.881073025102367, 0.40153608916097194, 0.5741411373468234, 0.8109111415755789, 0.45664260834838166, 0.33826152683825383, 0.7954321426895994, 0.5551184704941502, 0.9184421526805117, 0.6602273721590636, 0.37907286862184275, 0.8782538779062986, 0.8016769924092302, 0.8014854199555197, 0.9644159545124961, 0.20259993162699697], \"yaxis\": \"y2\"}, {\"line\": {\"color\": \"rgba(128, 128, 128, 1.0)\", \"dash\": \"solid\", \"shape\": \"linear\", \"width\": 1.3}, \"marker\": {\"size\": 2, \"symbol\": \"circle\"}, \"mode\": \"markers\", \"name\": \"A\", \"text\": \"\", \"type\": \"scatter\", \"x\": [0.7359403834582817, 0.2962807826126467, 0.43976942304810407, 0.7937450524855361, 0.09443712133933746, 0.03474909996185416, 0.07309564606439356, 0.9067802752953078, 0.24380549084491965, 0.37025869632843833, 0.8063544885933182, 0.5002577054900178, 0.1583374605194211, 0.728782766500474, 0.7108646489513578, 0.8483947271120664, 0.2731579239674953, 0.47105784896012726, 0.4135874884888162, 0.8297318106225205, 0.47296197309595067, 0.6286807254082438, 0.198757150393986, 0.01297191820849497, 0.964942534552751, 0.010775015613716743, 0.1001137083925755, 0.9335981487536341, 0.6485176199871848, 0.6328928966510233, 0.7379655290618602, 0.35678449989911865, 0.5019123637488716, 0.02415231740897228, 0.7150581456985274, 0.9090044707851561, 0.9756761313030332, 0.6763602019481604, 0.258679938398379, 0.12983186360725418, 0.6195762281614965, 0.07260471401766211, 0.001422711640976626, 0.18591431683172366, 0.2376514178194138, 0.06067780391596045, 0.3684124161351292, 0.9255456259817524, 0.6515236342569365, 0.1991820484808846, 0.47674040438404197, 0.596388953525444, 0.06918194991674498, 0.3999162666954349, 0.19801009972089068, 0.8853293937919091, 0.046737539830976615, 0.5891955506805309, 0.8273789005828616, 0.8644161676421752, 0.39628703873913196, 0.1267997222540943, 0.4990888001861852, 0.2920684461925288, 0.3833487176389119, 0.040373795098733734, 0.9218806616114522, 0.5084676325227109, 0.4616396328393083, 0.9346381987526001, 0.08373268587487681, 0.012586931470285445, 0.9068898222445224, 0.16552047481898824, 0.20733534737918058, 0.8635544081918058, 0.9196370739581718, 0.7016144896972498, 0.1921310110559702, 0.03894271972166963, 0.24463730345251955, 0.9923830478936386, 0.600633805396669, 0.5101755192186549, 0.4554477236344452, 0.19150046164508594, 0.5012708186129198, 0.8620682624983109, 0.16186527450197552, 0.24676411226204087, 0.736617345334539, 0.37806392283106094, 0.8974852934731081, 0.12301845181892268, 0.5599567262439044, 0.10466501986662513, 0.9402807320278893, 0.6293291186628359, 0.2259202865022497, 0.7914319780595636], \"xaxis\": \"x3\", \"y\": [0.9753847257840704, 0.6685526475099604, 0.717763849159026, 0.641643253612684, 0.46101551589424816, 0.12078225002024179, 0.9226200153186841, 0.784485205431393, 0.31455777210757063, 0.4478685176457967, 0.2131143465929174, 0.3011696160343452, 0.7562652954539073, 0.17665548838834555, 0.32638506717339455, 0.8459614429343494, 0.34192570436767833, 0.06391837019195534, 0.8999138623566848, 0.8715981055099761, 0.987890531023444, 0.8961498915681549, 0.36306575530877194, 0.8276162545533562, 0.20525195193240775, 0.06391191637803195, 0.16937409328541397, 0.7761067551067942, 0.5575771139288783, 0.1499040533333127, 0.22334376981884096, 0.6918361085471536, 0.8790879143840141, 0.7077384811608556, 0.22422787181288484, 0.32161718246572824, 0.48154104728183533, 0.7705942872538493, 0.19988219988236622, 0.6655430545295901, 0.6723359791162588, 0.8151105808405508, 0.8846810836216884, 0.007244518678291789, 0.4068924253415789, 0.8625167848986993, 0.6429397136763052, 0.7763525954064734, 0.8241324136446101, 0.7186392585997665, 0.21683477878002877, 0.3494180296260595, 0.1741282459062653, 0.02397911006743103, 0.39487584701144085, 0.24380211962090148, 0.22344572067428936, 0.6537321204248879, 0.8564298673735783, 0.5123248575458799, 0.605553516435922, 0.6517629384667678, 0.23452063385360233, 0.9494658315171941, 0.6304378167182005, 0.26303963632237737, 0.2863032859042599, 0.47929891357035415, 0.42596189386818706, 0.3848568917235682, 0.4212480599686016, 0.7736704973405448, 0.44845284655712414, 0.9807428289008219, 0.4363301972778, 0.21318133575569864, 0.1585547262957432, 0.8595620058635431, 0.35844401575162044, 0.45229977212554207, 0.7119012892048794, 0.40441056780230067, 0.9773408983820342, 0.3174071110165755, 0.881073025102367, 0.40153608916097194, 0.5741411373468234, 0.8109111415755789, 0.45664260834838166, 0.33826152683825383, 0.7954321426895994, 0.5551184704941502, 0.9184421526805117, 0.6602273721590636, 0.37907286862184275, 0.8782538779062986, 0.8016769924092302, 0.8014854199555197, 0.9644159545124961, 0.20259993162699697], \"yaxis\": \"y3\"}, {\"line\": {\"color\": \"rgba(128, 128, 128, 1.0)\", \"dash\": \"solid\", \"shape\": \"linear\", \"width\": 1.3}, \"marker\": {\"size\": 2, \"symbol\": \"circle\"}, \"mode\": \"markers\", \"name\": \"A\", \"text\": \"\", \"type\": \"scatter\", \"x\": [0.2057015273444034, 0.1914132709914066, 0.22312063975614038, 0.4059983118661227, 0.036599682605702344, 0.21200108891217206, 0.2390644164019854, 0.27203552301518863, 0.4362299365907276, 0.07661621115664974, 0.7940338946838988, 0.07569093566572749, 0.4361956577573247, 0.6718271716663993, 0.02910447015982154, 0.8672629877901341, 0.6068739286426558, 0.5439484349095529, 0.8195488537220345, 0.6239798081501989, 0.7775339381007728, 0.3237015105914849, 0.8122490667199603, 0.05207197566335642, 0.7351716190299754, 0.34046420787878906, 0.8520169736075666, 0.7572103231769765, 0.04380964012791244, 0.5072322532685605, 0.4571540482673545, 0.31776795046208983, 0.9215922417725891, 0.32259146254403437, 0.7973202438275461, 0.5744390761122865, 0.8091332949068598, 0.18678202437697566, 0.12931186396214167, 0.617934854206754, 0.56254853874098, 0.5254422203020802, 0.8730865743943738, 0.8824352391015691, 0.7857017098217839, 0.8028967133042543, 0.04058681749541193, 0.6192463781341927, 0.8941685371843957, 0.9682296421783442, 0.17325127800531148, 0.2928116603816737, 0.21395689938676798, 0.8138077405273001, 0.541306592737299, 0.17882934900917058, 0.9230765454895742, 0.38683480087909505, 0.5320015555781986, 0.7244731312673186, 0.6217539543704846, 0.16086979279018498, 0.16266620322548175, 0.5026523819407788, 0.42874884022232473, 0.43405426164146965, 0.6363584030734126, 0.7436910605367291, 0.7250656491587817, 0.04213986601348041, 0.19651867842089654, 0.10348625163751235, 0.7506078244538572, 0.6847662311766312, 0.06666120439596657, 0.7305465707210608, 0.41529962739826, 0.03445966090660535, 0.5865332198800062, 0.8898719458306117, 0.7950187484279215, 0.3582601692217031, 0.6984324615752024, 0.16395842105279446, 0.48122686711357177, 0.4575542442064081, 0.6632550349572617, 0.9339626071527983, 0.3919089398415616, 0.7039977629323808, 0.195883106331726, 0.8936551326742009, 0.1755257202363748, 0.16864919913987564, 0.5792907820010644, 0.7344395882698364, 0.09081700155782202, 0.7356894730850086, 0.007357682052856251, 0.9034275369057923], \"xaxis\": \"x4\", \"y\": [0.9753847257840704, 0.6685526475099604, 0.717763849159026, 0.641643253612684, 0.46101551589424816, 0.12078225002024179, 0.9226200153186841, 0.784485205431393, 0.31455777210757063, 0.4478685176457967, 0.2131143465929174, 0.3011696160343452, 0.7562652954539073, 0.17665548838834555, 0.32638506717339455, 0.8459614429343494, 0.34192570436767833, 0.06391837019195534, 0.8999138623566848, 0.8715981055099761, 0.987890531023444, 0.8961498915681549, 0.36306575530877194, 0.8276162545533562, 0.20525195193240775, 0.06391191637803195, 0.16937409328541397, 0.7761067551067942, 0.5575771139288783, 0.1499040533333127, 0.22334376981884096, 0.6918361085471536, 0.8790879143840141, 0.7077384811608556, 0.22422787181288484, 0.32161718246572824, 0.48154104728183533, 0.7705942872538493, 0.19988219988236622, 0.6655430545295901, 0.6723359791162588, 0.8151105808405508, 0.8846810836216884, 0.007244518678291789, 0.4068924253415789, 0.8625167848986993, 0.6429397136763052, 0.7763525954064734, 0.8241324136446101, 0.7186392585997665, 0.21683477878002877, 0.3494180296260595, 0.1741282459062653, 0.02397911006743103, 0.39487584701144085, 0.24380211962090148, 0.22344572067428936, 0.6537321204248879, 0.8564298673735783, 0.5123248575458799, 0.605553516435922, 0.6517629384667678, 0.23452063385360233, 0.9494658315171941, 0.6304378167182005, 0.26303963632237737, 0.2863032859042599, 0.47929891357035415, 0.42596189386818706, 0.3848568917235682, 0.4212480599686016, 0.7736704973405448, 0.44845284655712414, 0.9807428289008219, 0.4363301972778, 0.21318133575569864, 0.1585547262957432, 0.8595620058635431, 0.35844401575162044, 0.45229977212554207, 0.7119012892048794, 0.40441056780230067, 0.9773408983820342, 0.3174071110165755, 0.881073025102367, 0.40153608916097194, 0.5741411373468234, 0.8109111415755789, 0.45664260834838166, 0.33826152683825383, 0.7954321426895994, 0.5551184704941502, 0.9184421526805117, 0.6602273721590636, 0.37907286862184275, 0.8782538779062986, 0.8016769924092302, 0.8014854199555197, 0.9644159545124961, 0.20259993162699697], \"yaxis\": \"y4\"}, {\"line\": {\"color\": \"rgba(128, 128, 128, 1.0)\", \"dash\": \"solid\", \"shape\": \"linear\", \"width\": 1.3}, \"marker\": {\"size\": 2, \"symbol\": \"circle\"}, \"mode\": \"markers\", \"name\": \"B\", \"text\": \"\", \"type\": \"scatter\", \"x\": [0.9753847257840704, 0.6685526475099604, 0.717763849159026, 0.641643253612684, 0.46101551589424816, 0.12078225002024179, 0.9226200153186841, 0.784485205431393, 0.31455777210757063, 0.4478685176457967, 0.2131143465929174, 0.3011696160343452, 0.7562652954539073, 0.17665548838834555, 0.32638506717339455, 0.8459614429343494, 0.34192570436767833, 0.06391837019195534, 0.8999138623566848, 0.8715981055099761, 0.987890531023444, 0.8961498915681549, 0.36306575530877194, 0.8276162545533562, 0.20525195193240775, 0.06391191637803195, 0.16937409328541397, 0.7761067551067942, 0.5575771139288783, 0.1499040533333127, 0.22334376981884096, 0.6918361085471536, 0.8790879143840141, 0.7077384811608556, 0.22422787181288484, 0.32161718246572824, 0.48154104728183533, 0.7705942872538493, 0.19988219988236622, 0.6655430545295901, 0.6723359791162588, 0.8151105808405508, 0.8846810836216884, 0.007244518678291789, 0.4068924253415789, 0.8625167848986993, 0.6429397136763052, 0.7763525954064734, 0.8241324136446101, 0.7186392585997665, 0.21683477878002877, 0.3494180296260595, 0.1741282459062653, 0.02397911006743103, 0.39487584701144085, 0.24380211962090148, 0.22344572067428936, 0.6537321204248879, 0.8564298673735783, 0.5123248575458799, 0.605553516435922, 0.6517629384667678, 0.23452063385360233, 0.9494658315171941, 0.6304378167182005, 0.26303963632237737, 0.2863032859042599, 0.47929891357035415, 0.42596189386818706, 0.3848568917235682, 0.4212480599686016, 0.7736704973405448, 0.44845284655712414, 0.9807428289008219, 0.4363301972778, 0.21318133575569864, 0.1585547262957432, 0.8595620058635431, 0.35844401575162044, 0.45229977212554207, 0.7119012892048794, 0.40441056780230067, 0.9773408983820342, 0.3174071110165755, 0.881073025102367, 0.40153608916097194, 0.5741411373468234, 0.8109111415755789, 0.45664260834838166, 0.33826152683825383, 0.7954321426895994, 0.5551184704941502, 0.9184421526805117, 0.6602273721590636, 0.37907286862184275, 0.8782538779062986, 0.8016769924092302, 0.8014854199555197, 0.9644159545124961, 0.20259993162699697], \"xaxis\": \"x5\", \"y\": [0.6085337361817945, 0.9849008662659429, 0.17481835927449163, 0.7438288626332903, 0.4549341248769252, 0.5692305411024162, 0.6866864917646315, 0.15091996389122575, 0.598572333058514, 0.5311366876335679, 0.9647509681138527, 0.42970076544550373, 0.9197065912505893, 0.7512658459378196, 0.6172748994670416, 0.8869450145926792, 0.8984286133614072, 0.5110235635378919, 0.20037484313679033, 0.40285965977201077, 0.6251604159867912, 0.7636289035224022, 0.9591931988677984, 0.89411526565189, 0.612783769491025, 0.21082458066343868, 0.8210691098866622, 0.28741205960236926, 0.40875401399822564, 0.6572032947569375, 0.8717539125541596, 0.4933401273428939, 0.3401422688102115, 0.4721561988060825, 0.36214608305039664, 0.4991284004318195, 0.6222161033737548, 0.6675732316436533, 0.4434734639664153, 0.6650579368330961, 0.7740363141641551, 0.47506597669456774, 0.7045778679738115, 0.5511023311060128, 0.5250828615861299, 0.09862598494375197, 0.4897136545952473, 0.3236530242756478, 0.4240146481999545, 0.11764868551348973, 0.9815372793772702, 0.9232006895886629, 0.647357911651621, 0.5510160241780454, 0.4894197386121423, 0.10052339054740922, 0.25282609452770033, 0.7600787941990619, 0.23123523257991174, 0.6664292991581325, 0.4374166355841971, 0.7662383104126994, 0.4263403310506284, 0.20321454392170335, 0.03864288709883246, 0.880656277259328, 0.7610979538639527, 0.3426033199000921, 0.06924669753559487, 0.9488897619679045, 0.27989153511860954, 0.10045223618897847, 0.9954880550235646, 0.015224490864340523, 0.5421397400902137, 0.687599485200822, 0.6352382875512128, 0.3952487236954483, 0.5221446773937745, 0.5462842796507908, 0.6285907982844269, 0.7916249160524705, 0.9563225781284411, 0.8547698325588563, 0.18707107322032013, 0.2497255885986579, 0.3080902134021354, 0.22282597342980115, 0.8564392586445342, 0.49700783760020384, 0.24623954678299986, 0.05866062421915241, 0.615126023015918, 0.38884070501730983, 0.9152233410521818, 0.016008476630690605, 0.4798720815160471, 0.5171996847932875, 0.6874258034388792, 0.9235294420687038], \"yaxis\": \"y5\"}, {\"histfunc\": \"count\", \"histnorm\": \"\", \"marker\": {\"color\": \"rgba(55, 128, 191, 1.0)\", \"line\": {\"color\": \"#4D5663\", \"width\": 1.3}}, \"name\": \"B\", \"nbinsx\": 10, \"opacity\": 0.8, \"orientation\": \"v\", \"type\": \"histogram\", \"x\": [0.6085337361817945, 0.9849008662659429, 0.17481835927449163, 0.7438288626332903, 0.4549341248769252, 0.5692305411024162, 0.6866864917646315, 0.15091996389122575, 0.598572333058514, 0.5311366876335679, 0.9647509681138527, 0.42970076544550373, 0.9197065912505893, 0.7512658459378196, 0.6172748994670416, 0.8869450145926792, 0.8984286133614072, 0.5110235635378919, 0.20037484313679033, 0.40285965977201077, 0.6251604159867912, 0.7636289035224022, 0.9591931988677984, 0.89411526565189, 0.612783769491025, 0.21082458066343868, 0.8210691098866622, 0.28741205960236926, 0.40875401399822564, 0.6572032947569375, 0.8717539125541596, 0.4933401273428939, 0.3401422688102115, 0.4721561988060825, 0.36214608305039664, 0.4991284004318195, 0.6222161033737548, 0.6675732316436533, 0.4434734639664153, 0.6650579368330961, 0.7740363141641551, 0.47506597669456774, 0.7045778679738115, 0.5511023311060128, 0.5250828615861299, 0.09862598494375197, 0.4897136545952473, 0.3236530242756478, 0.4240146481999545, 0.11764868551348973, 0.9815372793772702, 0.9232006895886629, 0.647357911651621, 0.5510160241780454, 0.4894197386121423, 0.10052339054740922, 0.25282609452770033, 0.7600787941990619, 0.23123523257991174, 0.6664292991581325, 0.4374166355841971, 0.7662383104126994, 0.4263403310506284, 0.20321454392170335, 0.03864288709883246, 0.880656277259328, 0.7610979538639527, 0.3426033199000921, 0.06924669753559487, 0.9488897619679045, 0.27989153511860954, 0.10045223618897847, 0.9954880550235646, 0.015224490864340523, 0.5421397400902137, 0.687599485200822, 0.6352382875512128, 0.3952487236954483, 0.5221446773937745, 0.5462842796507908, 0.6285907982844269, 0.7916249160524705, 0.9563225781284411, 0.8547698325588563, 0.18707107322032013, 0.2497255885986579, 0.3080902134021354, 0.22282597342980115, 0.8564392586445342, 0.49700783760020384, 0.24623954678299986, 0.05866062421915241, 0.615126023015918, 0.38884070501730983, 0.9152233410521818, 0.016008476630690605, 0.4798720815160471, 0.5171996847932875, 0.6874258034388792, 0.9235294420687038], \"xaxis\": \"x6\", \"yaxis\": \"y6\"}, {\"line\": {\"color\": \"rgba(128, 128, 128, 1.0)\", \"dash\": \"solid\", \"shape\": \"linear\", \"width\": 1.3}, \"marker\": {\"size\": 2, \"symbol\": \"circle\"}, \"mode\": \"markers\", \"name\": \"B\", \"text\": \"\", \"type\": \"scatter\", \"x\": [0.7359403834582817, 0.2962807826126467, 0.43976942304810407, 0.7937450524855361, 0.09443712133933746, 0.03474909996185416, 0.07309564606439356, 0.9067802752953078, 0.24380549084491965, 0.37025869632843833, 0.8063544885933182, 0.5002577054900178, 0.1583374605194211, 0.728782766500474, 0.7108646489513578, 0.8483947271120664, 0.2731579239674953, 0.47105784896012726, 0.4135874884888162, 0.8297318106225205, 0.47296197309595067, 0.6286807254082438, 0.198757150393986, 0.01297191820849497, 0.964942534552751, 0.010775015613716743, 0.1001137083925755, 0.9335981487536341, 0.6485176199871848, 0.6328928966510233, 0.7379655290618602, 0.35678449989911865, 0.5019123637488716, 0.02415231740897228, 0.7150581456985274, 0.9090044707851561, 0.9756761313030332, 0.6763602019481604, 0.258679938398379, 0.12983186360725418, 0.6195762281614965, 0.07260471401766211, 0.001422711640976626, 0.18591431683172366, 0.2376514178194138, 0.06067780391596045, 0.3684124161351292, 0.9255456259817524, 0.6515236342569365, 0.1991820484808846, 0.47674040438404197, 0.596388953525444, 0.06918194991674498, 0.3999162666954349, 0.19801009972089068, 0.8853293937919091, 0.046737539830976615, 0.5891955506805309, 0.8273789005828616, 0.8644161676421752, 0.39628703873913196, 0.1267997222540943, 0.4990888001861852, 0.2920684461925288, 0.3833487176389119, 0.040373795098733734, 0.9218806616114522, 0.5084676325227109, 0.4616396328393083, 0.9346381987526001, 0.08373268587487681, 0.012586931470285445, 0.9068898222445224, 0.16552047481898824, 0.20733534737918058, 0.8635544081918058, 0.9196370739581718, 0.7016144896972498, 0.1921310110559702, 0.03894271972166963, 0.24463730345251955, 0.9923830478936386, 0.600633805396669, 0.5101755192186549, 0.4554477236344452, 0.19150046164508594, 0.5012708186129198, 0.8620682624983109, 0.16186527450197552, 0.24676411226204087, 0.736617345334539, 0.37806392283106094, 0.8974852934731081, 0.12301845181892268, 0.5599567262439044, 0.10466501986662513, 0.9402807320278893, 0.6293291186628359, 0.2259202865022497, 0.7914319780595636], \"xaxis\": \"x7\", \"y\": [0.6085337361817945, 0.9849008662659429, 0.17481835927449163, 0.7438288626332903, 0.4549341248769252, 0.5692305411024162, 0.6866864917646315, 0.15091996389122575, 0.598572333058514, 0.5311366876335679, 0.9647509681138527, 0.42970076544550373, 0.9197065912505893, 0.7512658459378196, 0.6172748994670416, 0.8869450145926792, 0.8984286133614072, 0.5110235635378919, 0.20037484313679033, 0.40285965977201077, 0.6251604159867912, 0.7636289035224022, 0.9591931988677984, 0.89411526565189, 0.612783769491025, 0.21082458066343868, 0.8210691098866622, 0.28741205960236926, 0.40875401399822564, 0.6572032947569375, 0.8717539125541596, 0.4933401273428939, 0.3401422688102115, 0.4721561988060825, 0.36214608305039664, 0.4991284004318195, 0.6222161033737548, 0.6675732316436533, 0.4434734639664153, 0.6650579368330961, 0.7740363141641551, 0.47506597669456774, 0.7045778679738115, 0.5511023311060128, 0.5250828615861299, 0.09862598494375197, 0.4897136545952473, 0.3236530242756478, 0.4240146481999545, 0.11764868551348973, 0.9815372793772702, 0.9232006895886629, 0.647357911651621, 0.5510160241780454, 0.4894197386121423, 0.10052339054740922, 0.25282609452770033, 0.7600787941990619, 0.23123523257991174, 0.6664292991581325, 0.4374166355841971, 0.7662383104126994, 0.4263403310506284, 0.20321454392170335, 0.03864288709883246, 0.880656277259328, 0.7610979538639527, 0.3426033199000921, 0.06924669753559487, 0.9488897619679045, 0.27989153511860954, 0.10045223618897847, 0.9954880550235646, 0.015224490864340523, 0.5421397400902137, 0.687599485200822, 0.6352382875512128, 0.3952487236954483, 0.5221446773937745, 0.5462842796507908, 0.6285907982844269, 0.7916249160524705, 0.9563225781284411, 0.8547698325588563, 0.18707107322032013, 0.2497255885986579, 0.3080902134021354, 0.22282597342980115, 0.8564392586445342, 0.49700783760020384, 0.24623954678299986, 0.05866062421915241, 0.615126023015918, 0.38884070501730983, 0.9152233410521818, 0.016008476630690605, 0.4798720815160471, 0.5171996847932875, 0.6874258034388792, 0.9235294420687038], \"yaxis\": \"y7\"}, {\"line\": {\"color\": \"rgba(128, 128, 128, 1.0)\", \"dash\": \"solid\", \"shape\": \"linear\", \"width\": 1.3}, \"marker\": {\"size\": 2, \"symbol\": \"circle\"}, \"mode\": \"markers\", \"name\": \"B\", \"text\": \"\", \"type\": \"scatter\", \"x\": [0.2057015273444034, 0.1914132709914066, 0.22312063975614038, 0.4059983118661227, 0.036599682605702344, 0.21200108891217206, 0.2390644164019854, 0.27203552301518863, 0.4362299365907276, 0.07661621115664974, 0.7940338946838988, 0.07569093566572749, 0.4361956577573247, 0.6718271716663993, 0.02910447015982154, 0.8672629877901341, 0.6068739286426558, 0.5439484349095529, 0.8195488537220345, 0.6239798081501989, 0.7775339381007728, 0.3237015105914849, 0.8122490667199603, 0.05207197566335642, 0.7351716190299754, 0.34046420787878906, 0.8520169736075666, 0.7572103231769765, 0.04380964012791244, 0.5072322532685605, 0.4571540482673545, 0.31776795046208983, 0.9215922417725891, 0.32259146254403437, 0.7973202438275461, 0.5744390761122865, 0.8091332949068598, 0.18678202437697566, 0.12931186396214167, 0.617934854206754, 0.56254853874098, 0.5254422203020802, 0.8730865743943738, 0.8824352391015691, 0.7857017098217839, 0.8028967133042543, 0.04058681749541193, 0.6192463781341927, 0.8941685371843957, 0.9682296421783442, 0.17325127800531148, 0.2928116603816737, 0.21395689938676798, 0.8138077405273001, 0.541306592737299, 0.17882934900917058, 0.9230765454895742, 0.38683480087909505, 0.5320015555781986, 0.7244731312673186, 0.6217539543704846, 0.16086979279018498, 0.16266620322548175, 0.5026523819407788, 0.42874884022232473, 0.43405426164146965, 0.6363584030734126, 0.7436910605367291, 0.7250656491587817, 0.04213986601348041, 0.19651867842089654, 0.10348625163751235, 0.7506078244538572, 0.6847662311766312, 0.06666120439596657, 0.7305465707210608, 0.41529962739826, 0.03445966090660535, 0.5865332198800062, 0.8898719458306117, 0.7950187484279215, 0.3582601692217031, 0.6984324615752024, 0.16395842105279446, 0.48122686711357177, 0.4575542442064081, 0.6632550349572617, 0.9339626071527983, 0.3919089398415616, 0.7039977629323808, 0.195883106331726, 0.8936551326742009, 0.1755257202363748, 0.16864919913987564, 0.5792907820010644, 0.7344395882698364, 0.09081700155782202, 0.7356894730850086, 0.007357682052856251, 0.9034275369057923], \"xaxis\": \"x8\", \"y\": [0.6085337361817945, 0.9849008662659429, 0.17481835927449163, 0.7438288626332903, 0.4549341248769252, 0.5692305411024162, 0.6866864917646315, 0.15091996389122575, 0.598572333058514, 0.5311366876335679, 0.9647509681138527, 0.42970076544550373, 0.9197065912505893, 0.7512658459378196, 0.6172748994670416, 0.8869450145926792, 0.8984286133614072, 0.5110235635378919, 0.20037484313679033, 0.40285965977201077, 0.6251604159867912, 0.7636289035224022, 0.9591931988677984, 0.89411526565189, 0.612783769491025, 0.21082458066343868, 0.8210691098866622, 0.28741205960236926, 0.40875401399822564, 0.6572032947569375, 0.8717539125541596, 0.4933401273428939, 0.3401422688102115, 0.4721561988060825, 0.36214608305039664, 0.4991284004318195, 0.6222161033737548, 0.6675732316436533, 0.4434734639664153, 0.6650579368330961, 0.7740363141641551, 0.47506597669456774, 0.7045778679738115, 0.5511023311060128, 0.5250828615861299, 0.09862598494375197, 0.4897136545952473, 0.3236530242756478, 0.4240146481999545, 0.11764868551348973, 0.9815372793772702, 0.9232006895886629, 0.647357911651621, 0.5510160241780454, 0.4894197386121423, 0.10052339054740922, 0.25282609452770033, 0.7600787941990619, 0.23123523257991174, 0.6664292991581325, 0.4374166355841971, 0.7662383104126994, 0.4263403310506284, 0.20321454392170335, 0.03864288709883246, 0.880656277259328, 0.7610979538639527, 0.3426033199000921, 0.06924669753559487, 0.9488897619679045, 0.27989153511860954, 0.10045223618897847, 0.9954880550235646, 0.015224490864340523, 0.5421397400902137, 0.687599485200822, 0.6352382875512128, 0.3952487236954483, 0.5221446773937745, 0.5462842796507908, 0.6285907982844269, 0.7916249160524705, 0.9563225781284411, 0.8547698325588563, 0.18707107322032013, 0.2497255885986579, 0.3080902134021354, 0.22282597342980115, 0.8564392586445342, 0.49700783760020384, 0.24623954678299986, 0.05866062421915241, 0.615126023015918, 0.38884070501730983, 0.9152233410521818, 0.016008476630690605, 0.4798720815160471, 0.5171996847932875, 0.6874258034388792, 0.9235294420687038], \"yaxis\": \"y8\"}, {\"line\": {\"color\": \"rgba(128, 128, 128, 1.0)\", \"dash\": \"solid\", \"shape\": \"linear\", \"width\": 1.3}, \"marker\": {\"size\": 2, \"symbol\": \"circle\"}, \"mode\": \"markers\", \"name\": \"C\", \"text\": \"\", \"type\": \"scatter\", \"x\": [0.9753847257840704, 0.6685526475099604, 0.717763849159026, 0.641643253612684, 0.46101551589424816, 0.12078225002024179, 0.9226200153186841, 0.784485205431393, 0.31455777210757063, 0.4478685176457967, 0.2131143465929174, 0.3011696160343452, 0.7562652954539073, 0.17665548838834555, 0.32638506717339455, 0.8459614429343494, 0.34192570436767833, 0.06391837019195534, 0.8999138623566848, 0.8715981055099761, 0.987890531023444, 0.8961498915681549, 0.36306575530877194, 0.8276162545533562, 0.20525195193240775, 0.06391191637803195, 0.16937409328541397, 0.7761067551067942, 0.5575771139288783, 0.1499040533333127, 0.22334376981884096, 0.6918361085471536, 0.8790879143840141, 0.7077384811608556, 0.22422787181288484, 0.32161718246572824, 0.48154104728183533, 0.7705942872538493, 0.19988219988236622, 0.6655430545295901, 0.6723359791162588, 0.8151105808405508, 0.8846810836216884, 0.007244518678291789, 0.4068924253415789, 0.8625167848986993, 0.6429397136763052, 0.7763525954064734, 0.8241324136446101, 0.7186392585997665, 0.21683477878002877, 0.3494180296260595, 0.1741282459062653, 0.02397911006743103, 0.39487584701144085, 0.24380211962090148, 0.22344572067428936, 0.6537321204248879, 0.8564298673735783, 0.5123248575458799, 0.605553516435922, 0.6517629384667678, 0.23452063385360233, 0.9494658315171941, 0.6304378167182005, 0.26303963632237737, 0.2863032859042599, 0.47929891357035415, 0.42596189386818706, 0.3848568917235682, 0.4212480599686016, 0.7736704973405448, 0.44845284655712414, 0.9807428289008219, 0.4363301972778, 0.21318133575569864, 0.1585547262957432, 0.8595620058635431, 0.35844401575162044, 0.45229977212554207, 0.7119012892048794, 0.40441056780230067, 0.9773408983820342, 0.3174071110165755, 0.881073025102367, 0.40153608916097194, 0.5741411373468234, 0.8109111415755789, 0.45664260834838166, 0.33826152683825383, 0.7954321426895994, 0.5551184704941502, 0.9184421526805117, 0.6602273721590636, 0.37907286862184275, 0.8782538779062986, 0.8016769924092302, 0.8014854199555197, 0.9644159545124961, 0.20259993162699697], \"xaxis\": \"x9\", \"y\": [0.7359403834582817, 0.2962807826126467, 0.43976942304810407, 0.7937450524855361, 0.09443712133933746, 0.03474909996185416, 0.07309564606439356, 0.9067802752953078, 0.24380549084491965, 0.37025869632843833, 0.8063544885933182, 0.5002577054900178, 0.1583374605194211, 0.728782766500474, 0.7108646489513578, 0.8483947271120664, 0.2731579239674953, 0.47105784896012726, 0.4135874884888162, 0.8297318106225205, 0.47296197309595067, 0.6286807254082438, 0.198757150393986, 0.01297191820849497, 0.964942534552751, 0.010775015613716743, 0.1001137083925755, 0.9335981487536341, 0.6485176199871848, 0.6328928966510233, 0.7379655290618602, 0.35678449989911865, 0.5019123637488716, 0.02415231740897228, 0.7150581456985274, 0.9090044707851561, 0.9756761313030332, 0.6763602019481604, 0.258679938398379, 0.12983186360725418, 0.6195762281614965, 0.07260471401766211, 0.001422711640976626, 0.18591431683172366, 0.2376514178194138, 0.06067780391596045, 0.3684124161351292, 0.9255456259817524, 0.6515236342569365, 0.1991820484808846, 0.47674040438404197, 0.596388953525444, 0.06918194991674498, 0.3999162666954349, 0.19801009972089068, 0.8853293937919091, 0.046737539830976615, 0.5891955506805309, 0.8273789005828616, 0.8644161676421752, 0.39628703873913196, 0.1267997222540943, 0.4990888001861852, 0.2920684461925288, 0.3833487176389119, 0.040373795098733734, 0.9218806616114522, 0.5084676325227109, 0.4616396328393083, 0.9346381987526001, 0.08373268587487681, 0.012586931470285445, 0.9068898222445224, 0.16552047481898824, 0.20733534737918058, 0.8635544081918058, 0.9196370739581718, 0.7016144896972498, 0.1921310110559702, 0.03894271972166963, 0.24463730345251955, 0.9923830478936386, 0.600633805396669, 0.5101755192186549, 0.4554477236344452, 0.19150046164508594, 0.5012708186129198, 0.8620682624983109, 0.16186527450197552, 0.24676411226204087, 0.736617345334539, 0.37806392283106094, 0.8974852934731081, 0.12301845181892268, 0.5599567262439044, 0.10466501986662513, 0.9402807320278893, 0.6293291186628359, 0.2259202865022497, 0.7914319780595636], \"yaxis\": \"y9\"}, {\"line\": {\"color\": \"rgba(128, 128, 128, 1.0)\", \"dash\": \"solid\", \"shape\": \"linear\", \"width\": 1.3}, \"marker\": {\"size\": 2, \"symbol\": \"circle\"}, \"mode\": \"markers\", \"name\": \"C\", \"text\": \"\", \"type\": \"scatter\", \"x\": [0.6085337361817945, 0.9849008662659429, 0.17481835927449163, 0.7438288626332903, 0.4549341248769252, 0.5692305411024162, 0.6866864917646315, 0.15091996389122575, 0.598572333058514, 0.5311366876335679, 0.9647509681138527, 0.42970076544550373, 0.9197065912505893, 0.7512658459378196, 0.6172748994670416, 0.8869450145926792, 0.8984286133614072, 0.5110235635378919, 0.20037484313679033, 0.40285965977201077, 0.6251604159867912, 0.7636289035224022, 0.9591931988677984, 0.89411526565189, 0.612783769491025, 0.21082458066343868, 0.8210691098866622, 0.28741205960236926, 0.40875401399822564, 0.6572032947569375, 0.8717539125541596, 0.4933401273428939, 0.3401422688102115, 0.4721561988060825, 0.36214608305039664, 0.4991284004318195, 0.6222161033737548, 0.6675732316436533, 0.4434734639664153, 0.6650579368330961, 0.7740363141641551, 0.47506597669456774, 0.7045778679738115, 0.5511023311060128, 0.5250828615861299, 0.09862598494375197, 0.4897136545952473, 0.3236530242756478, 0.4240146481999545, 0.11764868551348973, 0.9815372793772702, 0.9232006895886629, 0.647357911651621, 0.5510160241780454, 0.4894197386121423, 0.10052339054740922, 0.25282609452770033, 0.7600787941990619, 0.23123523257991174, 0.6664292991581325, 0.4374166355841971, 0.7662383104126994, 0.4263403310506284, 0.20321454392170335, 0.03864288709883246, 0.880656277259328, 0.7610979538639527, 0.3426033199000921, 0.06924669753559487, 0.9488897619679045, 0.27989153511860954, 0.10045223618897847, 0.9954880550235646, 0.015224490864340523, 0.5421397400902137, 0.687599485200822, 0.6352382875512128, 0.3952487236954483, 0.5221446773937745, 0.5462842796507908, 0.6285907982844269, 0.7916249160524705, 0.9563225781284411, 0.8547698325588563, 0.18707107322032013, 0.2497255885986579, 0.3080902134021354, 0.22282597342980115, 0.8564392586445342, 0.49700783760020384, 0.24623954678299986, 0.05866062421915241, 0.615126023015918, 0.38884070501730983, 0.9152233410521818, 0.016008476630690605, 0.4798720815160471, 0.5171996847932875, 0.6874258034388792, 0.9235294420687038], \"xaxis\": \"x10\", \"y\": [0.7359403834582817, 0.2962807826126467, 0.43976942304810407, 0.7937450524855361, 0.09443712133933746, 0.03474909996185416, 0.07309564606439356, 0.9067802752953078, 0.24380549084491965, 0.37025869632843833, 0.8063544885933182, 0.5002577054900178, 0.1583374605194211, 0.728782766500474, 0.7108646489513578, 0.8483947271120664, 0.2731579239674953, 0.47105784896012726, 0.4135874884888162, 0.8297318106225205, 0.47296197309595067, 0.6286807254082438, 0.198757150393986, 0.01297191820849497, 0.964942534552751, 0.010775015613716743, 0.1001137083925755, 0.9335981487536341, 0.6485176199871848, 0.6328928966510233, 0.7379655290618602, 0.35678449989911865, 0.5019123637488716, 0.02415231740897228, 0.7150581456985274, 0.9090044707851561, 0.9756761313030332, 0.6763602019481604, 0.258679938398379, 0.12983186360725418, 0.6195762281614965, 0.07260471401766211, 0.001422711640976626, 0.18591431683172366, 0.2376514178194138, 0.06067780391596045, 0.3684124161351292, 0.9255456259817524, 0.6515236342569365, 0.1991820484808846, 0.47674040438404197, 0.596388953525444, 0.06918194991674498, 0.3999162666954349, 0.19801009972089068, 0.8853293937919091, 0.046737539830976615, 0.5891955506805309, 0.8273789005828616, 0.8644161676421752, 0.39628703873913196, 0.1267997222540943, 0.4990888001861852, 0.2920684461925288, 0.3833487176389119, 0.040373795098733734, 0.9218806616114522, 0.5084676325227109, 0.4616396328393083, 0.9346381987526001, 0.08373268587487681, 0.012586931470285445, 0.9068898222445224, 0.16552047481898824, 0.20733534737918058, 0.8635544081918058, 0.9196370739581718, 0.7016144896972498, 0.1921310110559702, 0.03894271972166963, 0.24463730345251955, 0.9923830478936386, 0.600633805396669, 0.5101755192186549, 0.4554477236344452, 0.19150046164508594, 0.5012708186129198, 0.8620682624983109, 0.16186527450197552, 0.24676411226204087, 0.736617345334539, 0.37806392283106094, 0.8974852934731081, 0.12301845181892268, 0.5599567262439044, 0.10466501986662513, 0.9402807320278893, 0.6293291186628359, 0.2259202865022497, 0.7914319780595636], \"yaxis\": \"y10\"}, {\"histfunc\": \"count\", \"histnorm\": \"\", \"marker\": {\"color\": \"rgba(50, 171, 96, 1.0)\", \"line\": {\"color\": \"#4D5663\", \"width\": 1.3}}, \"name\": \"C\", \"nbinsx\": 10, \"opacity\": 0.8, \"orientation\": \"v\", \"type\": \"histogram\", \"x\": [0.7359403834582817, 0.2962807826126467, 0.43976942304810407, 0.7937450524855361, 0.09443712133933746, 0.03474909996185416, 0.07309564606439356, 0.9067802752953078, 0.24380549084491965, 0.37025869632843833, 0.8063544885933182, 0.5002577054900178, 0.1583374605194211, 0.728782766500474, 0.7108646489513578, 0.8483947271120664, 0.2731579239674953, 0.47105784896012726, 0.4135874884888162, 0.8297318106225205, 0.47296197309595067, 0.6286807254082438, 0.198757150393986, 0.01297191820849497, 0.964942534552751, 0.010775015613716743, 0.1001137083925755, 0.9335981487536341, 0.6485176199871848, 0.6328928966510233, 0.7379655290618602, 0.35678449989911865, 0.5019123637488716, 0.02415231740897228, 0.7150581456985274, 0.9090044707851561, 0.9756761313030332, 0.6763602019481604, 0.258679938398379, 0.12983186360725418, 0.6195762281614965, 0.07260471401766211, 0.001422711640976626, 0.18591431683172366, 0.2376514178194138, 0.06067780391596045, 0.3684124161351292, 0.9255456259817524, 0.6515236342569365, 0.1991820484808846, 0.47674040438404197, 0.596388953525444, 0.06918194991674498, 0.3999162666954349, 0.19801009972089068, 0.8853293937919091, 0.046737539830976615, 0.5891955506805309, 0.8273789005828616, 0.8644161676421752, 0.39628703873913196, 0.1267997222540943, 0.4990888001861852, 0.2920684461925288, 0.3833487176389119, 0.040373795098733734, 0.9218806616114522, 0.5084676325227109, 0.4616396328393083, 0.9346381987526001, 0.08373268587487681, 0.012586931470285445, 0.9068898222445224, 0.16552047481898824, 0.20733534737918058, 0.8635544081918058, 0.9196370739581718, 0.7016144896972498, 0.1921310110559702, 0.03894271972166963, 0.24463730345251955, 0.9923830478936386, 0.600633805396669, 0.5101755192186549, 0.4554477236344452, 0.19150046164508594, 0.5012708186129198, 0.8620682624983109, 0.16186527450197552, 0.24676411226204087, 0.736617345334539, 0.37806392283106094, 0.8974852934731081, 0.12301845181892268, 0.5599567262439044, 0.10466501986662513, 0.9402807320278893, 0.6293291186628359, 0.2259202865022497, 0.7914319780595636], \"xaxis\": \"x11\", \"yaxis\": \"y11\"}, {\"line\": {\"color\": \"rgba(128, 128, 128, 1.0)\", \"dash\": \"solid\", \"shape\": \"linear\", \"width\": 1.3}, \"marker\": {\"size\": 2, \"symbol\": \"circle\"}, \"mode\": \"markers\", \"name\": \"C\", \"text\": \"\", \"type\": \"scatter\", \"x\": [0.2057015273444034, 0.1914132709914066, 0.22312063975614038, 0.4059983118661227, 0.036599682605702344, 0.21200108891217206, 0.2390644164019854, 0.27203552301518863, 0.4362299365907276, 0.07661621115664974, 0.7940338946838988, 0.07569093566572749, 0.4361956577573247, 0.6718271716663993, 0.02910447015982154, 0.8672629877901341, 0.6068739286426558, 0.5439484349095529, 0.8195488537220345, 0.6239798081501989, 0.7775339381007728, 0.3237015105914849, 0.8122490667199603, 0.05207197566335642, 0.7351716190299754, 0.34046420787878906, 0.8520169736075666, 0.7572103231769765, 0.04380964012791244, 0.5072322532685605, 0.4571540482673545, 0.31776795046208983, 0.9215922417725891, 0.32259146254403437, 0.7973202438275461, 0.5744390761122865, 0.8091332949068598, 0.18678202437697566, 0.12931186396214167, 0.617934854206754, 0.56254853874098, 0.5254422203020802, 0.8730865743943738, 0.8824352391015691, 0.7857017098217839, 0.8028967133042543, 0.04058681749541193, 0.6192463781341927, 0.8941685371843957, 0.9682296421783442, 0.17325127800531148, 0.2928116603816737, 0.21395689938676798, 0.8138077405273001, 0.541306592737299, 0.17882934900917058, 0.9230765454895742, 0.38683480087909505, 0.5320015555781986, 0.7244731312673186, 0.6217539543704846, 0.16086979279018498, 0.16266620322548175, 0.5026523819407788, 0.42874884022232473, 0.43405426164146965, 0.6363584030734126, 0.7436910605367291, 0.7250656491587817, 0.04213986601348041, 0.19651867842089654, 0.10348625163751235, 0.7506078244538572, 0.6847662311766312, 0.06666120439596657, 0.7305465707210608, 0.41529962739826, 0.03445966090660535, 0.5865332198800062, 0.8898719458306117, 0.7950187484279215, 0.3582601692217031, 0.6984324615752024, 0.16395842105279446, 0.48122686711357177, 0.4575542442064081, 0.6632550349572617, 0.9339626071527983, 0.3919089398415616, 0.7039977629323808, 0.195883106331726, 0.8936551326742009, 0.1755257202363748, 0.16864919913987564, 0.5792907820010644, 0.7344395882698364, 0.09081700155782202, 0.7356894730850086, 0.007357682052856251, 0.9034275369057923], \"xaxis\": \"x12\", \"y\": [0.7359403834582817, 0.2962807826126467, 0.43976942304810407, 0.7937450524855361, 0.09443712133933746, 0.03474909996185416, 0.07309564606439356, 0.9067802752953078, 0.24380549084491965, 0.37025869632843833, 0.8063544885933182, 0.5002577054900178, 0.1583374605194211, 0.728782766500474, 0.7108646489513578, 0.8483947271120664, 0.2731579239674953, 0.47105784896012726, 0.4135874884888162, 0.8297318106225205, 0.47296197309595067, 0.6286807254082438, 0.198757150393986, 0.01297191820849497, 0.964942534552751, 0.010775015613716743, 0.1001137083925755, 0.9335981487536341, 0.6485176199871848, 0.6328928966510233, 0.7379655290618602, 0.35678449989911865, 0.5019123637488716, 0.02415231740897228, 0.7150581456985274, 0.9090044707851561, 0.9756761313030332, 0.6763602019481604, 0.258679938398379, 0.12983186360725418, 0.6195762281614965, 0.07260471401766211, 0.001422711640976626, 0.18591431683172366, 0.2376514178194138, 0.06067780391596045, 0.3684124161351292, 0.9255456259817524, 0.6515236342569365, 0.1991820484808846, 0.47674040438404197, 0.596388953525444, 0.06918194991674498, 0.3999162666954349, 0.19801009972089068, 0.8853293937919091, 0.046737539830976615, 0.5891955506805309, 0.8273789005828616, 0.8644161676421752, 0.39628703873913196, 0.1267997222540943, 0.4990888001861852, 0.2920684461925288, 0.3833487176389119, 0.040373795098733734, 0.9218806616114522, 0.5084676325227109, 0.4616396328393083, 0.9346381987526001, 0.08373268587487681, 0.012586931470285445, 0.9068898222445224, 0.16552047481898824, 0.20733534737918058, 0.8635544081918058, 0.9196370739581718, 0.7016144896972498, 0.1921310110559702, 0.03894271972166963, 0.24463730345251955, 0.9923830478936386, 0.600633805396669, 0.5101755192186549, 0.4554477236344452, 0.19150046164508594, 0.5012708186129198, 0.8620682624983109, 0.16186527450197552, 0.24676411226204087, 0.736617345334539, 0.37806392283106094, 0.8974852934731081, 0.12301845181892268, 0.5599567262439044, 0.10466501986662513, 0.9402807320278893, 0.6293291186628359, 0.2259202865022497, 0.7914319780595636], \"yaxis\": \"y12\"}, {\"line\": {\"color\": \"rgba(128, 128, 128, 1.0)\", \"dash\": \"solid\", \"shape\": \"linear\", \"width\": 1.3}, \"marker\": {\"size\": 2, \"symbol\": \"circle\"}, \"mode\": \"markers\", \"name\": \"D\", \"text\": \"\", \"type\": \"scatter\", \"x\": [0.9753847257840704, 0.6685526475099604, 0.717763849159026, 0.641643253612684, 0.46101551589424816, 0.12078225002024179, 0.9226200153186841, 0.784485205431393, 0.31455777210757063, 0.4478685176457967, 0.2131143465929174, 0.3011696160343452, 0.7562652954539073, 0.17665548838834555, 0.32638506717339455, 0.8459614429343494, 0.34192570436767833, 0.06391837019195534, 0.8999138623566848, 0.8715981055099761, 0.987890531023444, 0.8961498915681549, 0.36306575530877194, 0.8276162545533562, 0.20525195193240775, 0.06391191637803195, 0.16937409328541397, 0.7761067551067942, 0.5575771139288783, 0.1499040533333127, 0.22334376981884096, 0.6918361085471536, 0.8790879143840141, 0.7077384811608556, 0.22422787181288484, 0.32161718246572824, 0.48154104728183533, 0.7705942872538493, 0.19988219988236622, 0.6655430545295901, 0.6723359791162588, 0.8151105808405508, 0.8846810836216884, 0.007244518678291789, 0.4068924253415789, 0.8625167848986993, 0.6429397136763052, 0.7763525954064734, 0.8241324136446101, 0.7186392585997665, 0.21683477878002877, 0.3494180296260595, 0.1741282459062653, 0.02397911006743103, 0.39487584701144085, 0.24380211962090148, 0.22344572067428936, 0.6537321204248879, 0.8564298673735783, 0.5123248575458799, 0.605553516435922, 0.6517629384667678, 0.23452063385360233, 0.9494658315171941, 0.6304378167182005, 0.26303963632237737, 0.2863032859042599, 0.47929891357035415, 0.42596189386818706, 0.3848568917235682, 0.4212480599686016, 0.7736704973405448, 0.44845284655712414, 0.9807428289008219, 0.4363301972778, 0.21318133575569864, 0.1585547262957432, 0.8595620058635431, 0.35844401575162044, 0.45229977212554207, 0.7119012892048794, 0.40441056780230067, 0.9773408983820342, 0.3174071110165755, 0.881073025102367, 0.40153608916097194, 0.5741411373468234, 0.8109111415755789, 0.45664260834838166, 0.33826152683825383, 0.7954321426895994, 0.5551184704941502, 0.9184421526805117, 0.6602273721590636, 0.37907286862184275, 0.8782538779062986, 0.8016769924092302, 0.8014854199555197, 0.9644159545124961, 0.20259993162699697], \"xaxis\": \"x13\", \"y\": [0.2057015273444034, 0.1914132709914066, 0.22312063975614038, 0.4059983118661227, 0.036599682605702344, 0.21200108891217206, 0.2390644164019854, 0.27203552301518863, 0.4362299365907276, 0.07661621115664974, 0.7940338946838988, 0.07569093566572749, 0.4361956577573247, 0.6718271716663993, 0.02910447015982154, 0.8672629877901341, 0.6068739286426558, 0.5439484349095529, 0.8195488537220345, 0.6239798081501989, 0.7775339381007728, 0.3237015105914849, 0.8122490667199603, 0.05207197566335642, 0.7351716190299754, 0.34046420787878906, 0.8520169736075666, 0.7572103231769765, 0.04380964012791244, 0.5072322532685605, 0.4571540482673545, 0.31776795046208983, 0.9215922417725891, 0.32259146254403437, 0.7973202438275461, 0.5744390761122865, 0.8091332949068598, 0.18678202437697566, 0.12931186396214167, 0.617934854206754, 0.56254853874098, 0.5254422203020802, 0.8730865743943738, 0.8824352391015691, 0.7857017098217839, 0.8028967133042543, 0.04058681749541193, 0.6192463781341927, 0.8941685371843957, 0.9682296421783442, 0.17325127800531148, 0.2928116603816737, 0.21395689938676798, 0.8138077405273001, 0.541306592737299, 0.17882934900917058, 0.9230765454895742, 0.38683480087909505, 0.5320015555781986, 0.7244731312673186, 0.6217539543704846, 0.16086979279018498, 0.16266620322548175, 0.5026523819407788, 0.42874884022232473, 0.43405426164146965, 0.6363584030734126, 0.7436910605367291, 0.7250656491587817, 0.04213986601348041, 0.19651867842089654, 0.10348625163751235, 0.7506078244538572, 0.6847662311766312, 0.06666120439596657, 0.7305465707210608, 0.41529962739826, 0.03445966090660535, 0.5865332198800062, 0.8898719458306117, 0.7950187484279215, 0.3582601692217031, 0.6984324615752024, 0.16395842105279446, 0.48122686711357177, 0.4575542442064081, 0.6632550349572617, 0.9339626071527983, 0.3919089398415616, 0.7039977629323808, 0.195883106331726, 0.8936551326742009, 0.1755257202363748, 0.16864919913987564, 0.5792907820010644, 0.7344395882698364, 0.09081700155782202, 0.7356894730850086, 0.007357682052856251, 0.9034275369057923], \"yaxis\": \"y13\"}, {\"line\": {\"color\": \"rgba(128, 128, 128, 1.0)\", \"dash\": \"solid\", \"shape\": \"linear\", \"width\": 1.3}, \"marker\": {\"size\": 2, \"symbol\": \"circle\"}, \"mode\": \"markers\", \"name\": \"D\", \"text\": \"\", \"type\": \"scatter\", \"x\": [0.6085337361817945, 0.9849008662659429, 0.17481835927449163, 0.7438288626332903, 0.4549341248769252, 0.5692305411024162, 0.6866864917646315, 0.15091996389122575, 0.598572333058514, 0.5311366876335679, 0.9647509681138527, 0.42970076544550373, 0.9197065912505893, 0.7512658459378196, 0.6172748994670416, 0.8869450145926792, 0.8984286133614072, 0.5110235635378919, 0.20037484313679033, 0.40285965977201077, 0.6251604159867912, 0.7636289035224022, 0.9591931988677984, 0.89411526565189, 0.612783769491025, 0.21082458066343868, 0.8210691098866622, 0.28741205960236926, 0.40875401399822564, 0.6572032947569375, 0.8717539125541596, 0.4933401273428939, 0.3401422688102115, 0.4721561988060825, 0.36214608305039664, 0.4991284004318195, 0.6222161033737548, 0.6675732316436533, 0.4434734639664153, 0.6650579368330961, 0.7740363141641551, 0.47506597669456774, 0.7045778679738115, 0.5511023311060128, 0.5250828615861299, 0.09862598494375197, 0.4897136545952473, 0.3236530242756478, 0.4240146481999545, 0.11764868551348973, 0.9815372793772702, 0.9232006895886629, 0.647357911651621, 0.5510160241780454, 0.4894197386121423, 0.10052339054740922, 0.25282609452770033, 0.7600787941990619, 0.23123523257991174, 0.6664292991581325, 0.4374166355841971, 0.7662383104126994, 0.4263403310506284, 0.20321454392170335, 0.03864288709883246, 0.880656277259328, 0.7610979538639527, 0.3426033199000921, 0.06924669753559487, 0.9488897619679045, 0.27989153511860954, 0.10045223618897847, 0.9954880550235646, 0.015224490864340523, 0.5421397400902137, 0.687599485200822, 0.6352382875512128, 0.3952487236954483, 0.5221446773937745, 0.5462842796507908, 0.6285907982844269, 0.7916249160524705, 0.9563225781284411, 0.8547698325588563, 0.18707107322032013, 0.2497255885986579, 0.3080902134021354, 0.22282597342980115, 0.8564392586445342, 0.49700783760020384, 0.24623954678299986, 0.05866062421915241, 0.615126023015918, 0.38884070501730983, 0.9152233410521818, 0.016008476630690605, 0.4798720815160471, 0.5171996847932875, 0.6874258034388792, 0.9235294420687038], \"xaxis\": \"x14\", \"y\": [0.2057015273444034, 0.1914132709914066, 0.22312063975614038, 0.4059983118661227, 0.036599682605702344, 0.21200108891217206, 0.2390644164019854, 0.27203552301518863, 0.4362299365907276, 0.07661621115664974, 0.7940338946838988, 0.07569093566572749, 0.4361956577573247, 0.6718271716663993, 0.02910447015982154, 0.8672629877901341, 0.6068739286426558, 0.5439484349095529, 0.8195488537220345, 0.6239798081501989, 0.7775339381007728, 0.3237015105914849, 0.8122490667199603, 0.05207197566335642, 0.7351716190299754, 0.34046420787878906, 0.8520169736075666, 0.7572103231769765, 0.04380964012791244, 0.5072322532685605, 0.4571540482673545, 0.31776795046208983, 0.9215922417725891, 0.32259146254403437, 0.7973202438275461, 0.5744390761122865, 0.8091332949068598, 0.18678202437697566, 0.12931186396214167, 0.617934854206754, 0.56254853874098, 0.5254422203020802, 0.8730865743943738, 0.8824352391015691, 0.7857017098217839, 0.8028967133042543, 0.04058681749541193, 0.6192463781341927, 0.8941685371843957, 0.9682296421783442, 0.17325127800531148, 0.2928116603816737, 0.21395689938676798, 0.8138077405273001, 0.541306592737299, 0.17882934900917058, 0.9230765454895742, 0.38683480087909505, 0.5320015555781986, 0.7244731312673186, 0.6217539543704846, 0.16086979279018498, 0.16266620322548175, 0.5026523819407788, 0.42874884022232473, 0.43405426164146965, 0.6363584030734126, 0.7436910605367291, 0.7250656491587817, 0.04213986601348041, 0.19651867842089654, 0.10348625163751235, 0.7506078244538572, 0.6847662311766312, 0.06666120439596657, 0.7305465707210608, 0.41529962739826, 0.03445966090660535, 0.5865332198800062, 0.8898719458306117, 0.7950187484279215, 0.3582601692217031, 0.6984324615752024, 0.16395842105279446, 0.48122686711357177, 0.4575542442064081, 0.6632550349572617, 0.9339626071527983, 0.3919089398415616, 0.7039977629323808, 0.195883106331726, 0.8936551326742009, 0.1755257202363748, 0.16864919913987564, 0.5792907820010644, 0.7344395882698364, 0.09081700155782202, 0.7356894730850086, 0.007357682052856251, 0.9034275369057923], \"yaxis\": \"y14\"}, {\"line\": {\"color\": \"rgba(128, 128, 128, 1.0)\", \"dash\": \"solid\", \"shape\": \"linear\", \"width\": 1.3}, \"marker\": {\"size\": 2, \"symbol\": \"circle\"}, \"mode\": \"markers\", \"name\": \"D\", \"text\": \"\", \"type\": \"scatter\", \"x\": [0.7359403834582817, 0.2962807826126467, 0.43976942304810407, 0.7937450524855361, 0.09443712133933746, 0.03474909996185416, 0.07309564606439356, 0.9067802752953078, 0.24380549084491965, 0.37025869632843833, 0.8063544885933182, 0.5002577054900178, 0.1583374605194211, 0.728782766500474, 0.7108646489513578, 0.8483947271120664, 0.2731579239674953, 0.47105784896012726, 0.4135874884888162, 0.8297318106225205, 0.47296197309595067, 0.6286807254082438, 0.198757150393986, 0.01297191820849497, 0.964942534552751, 0.010775015613716743, 0.1001137083925755, 0.9335981487536341, 0.6485176199871848, 0.6328928966510233, 0.7379655290618602, 0.35678449989911865, 0.5019123637488716, 0.02415231740897228, 0.7150581456985274, 0.9090044707851561, 0.9756761313030332, 0.6763602019481604, 0.258679938398379, 0.12983186360725418, 0.6195762281614965, 0.07260471401766211, 0.001422711640976626, 0.18591431683172366, 0.2376514178194138, 0.06067780391596045, 0.3684124161351292, 0.9255456259817524, 0.6515236342569365, 0.1991820484808846, 0.47674040438404197, 0.596388953525444, 0.06918194991674498, 0.3999162666954349, 0.19801009972089068, 0.8853293937919091, 0.046737539830976615, 0.5891955506805309, 0.8273789005828616, 0.8644161676421752, 0.39628703873913196, 0.1267997222540943, 0.4990888001861852, 0.2920684461925288, 0.3833487176389119, 0.040373795098733734, 0.9218806616114522, 0.5084676325227109, 0.4616396328393083, 0.9346381987526001, 0.08373268587487681, 0.012586931470285445, 0.9068898222445224, 0.16552047481898824, 0.20733534737918058, 0.8635544081918058, 0.9196370739581718, 0.7016144896972498, 0.1921310110559702, 0.03894271972166963, 0.24463730345251955, 0.9923830478936386, 0.600633805396669, 0.5101755192186549, 0.4554477236344452, 0.19150046164508594, 0.5012708186129198, 0.8620682624983109, 0.16186527450197552, 0.24676411226204087, 0.736617345334539, 0.37806392283106094, 0.8974852934731081, 0.12301845181892268, 0.5599567262439044, 0.10466501986662513, 0.9402807320278893, 0.6293291186628359, 0.2259202865022497, 0.7914319780595636], \"xaxis\": \"x15\", \"y\": [0.2057015273444034, 0.1914132709914066, 0.22312063975614038, 0.4059983118661227, 0.036599682605702344, 0.21200108891217206, 0.2390644164019854, 0.27203552301518863, 0.4362299365907276, 0.07661621115664974, 0.7940338946838988, 0.07569093566572749, 0.4361956577573247, 0.6718271716663993, 0.02910447015982154, 0.8672629877901341, 0.6068739286426558, 0.5439484349095529, 0.8195488537220345, 0.6239798081501989, 0.7775339381007728, 0.3237015105914849, 0.8122490667199603, 0.05207197566335642, 0.7351716190299754, 0.34046420787878906, 0.8520169736075666, 0.7572103231769765, 0.04380964012791244, 0.5072322532685605, 0.4571540482673545, 0.31776795046208983, 0.9215922417725891, 0.32259146254403437, 0.7973202438275461, 0.5744390761122865, 0.8091332949068598, 0.18678202437697566, 0.12931186396214167, 0.617934854206754, 0.56254853874098, 0.5254422203020802, 0.8730865743943738, 0.8824352391015691, 0.7857017098217839, 0.8028967133042543, 0.04058681749541193, 0.6192463781341927, 0.8941685371843957, 0.9682296421783442, 0.17325127800531148, 0.2928116603816737, 0.21395689938676798, 0.8138077405273001, 0.541306592737299, 0.17882934900917058, 0.9230765454895742, 0.38683480087909505, 0.5320015555781986, 0.7244731312673186, 0.6217539543704846, 0.16086979279018498, 0.16266620322548175, 0.5026523819407788, 0.42874884022232473, 0.43405426164146965, 0.6363584030734126, 0.7436910605367291, 0.7250656491587817, 0.04213986601348041, 0.19651867842089654, 0.10348625163751235, 0.7506078244538572, 0.6847662311766312, 0.06666120439596657, 0.7305465707210608, 0.41529962739826, 0.03445966090660535, 0.5865332198800062, 0.8898719458306117, 0.7950187484279215, 0.3582601692217031, 0.6984324615752024, 0.16395842105279446, 0.48122686711357177, 0.4575542442064081, 0.6632550349572617, 0.9339626071527983, 0.3919089398415616, 0.7039977629323808, 0.195883106331726, 0.8936551326742009, 0.1755257202363748, 0.16864919913987564, 0.5792907820010644, 0.7344395882698364, 0.09081700155782202, 0.7356894730850086, 0.007357682052856251, 0.9034275369057923], \"yaxis\": \"y15\"}, {\"histfunc\": \"count\", \"histnorm\": \"\", \"marker\": {\"color\": \"rgba(128, 0, 128, 1.0)\", \"line\": {\"color\": \"#4D5663\", \"width\": 1.3}}, \"name\": \"D\", \"nbinsx\": 10, \"opacity\": 0.8, \"orientation\": \"v\", \"type\": \"histogram\", \"x\": [0.2057015273444034, 0.1914132709914066, 0.22312063975614038, 0.4059983118661227, 0.036599682605702344, 0.21200108891217206, 0.2390644164019854, 0.27203552301518863, 0.4362299365907276, 0.07661621115664974, 0.7940338946838988, 0.07569093566572749, 0.4361956577573247, 0.6718271716663993, 0.02910447015982154, 0.8672629877901341, 0.6068739286426558, 0.5439484349095529, 0.8195488537220345, 0.6239798081501989, 0.7775339381007728, 0.3237015105914849, 0.8122490667199603, 0.05207197566335642, 0.7351716190299754, 0.34046420787878906, 0.8520169736075666, 0.7572103231769765, 0.04380964012791244, 0.5072322532685605, 0.4571540482673545, 0.31776795046208983, 0.9215922417725891, 0.32259146254403437, 0.7973202438275461, 0.5744390761122865, 0.8091332949068598, 0.18678202437697566, 0.12931186396214167, 0.617934854206754, 0.56254853874098, 0.5254422203020802, 0.8730865743943738, 0.8824352391015691, 0.7857017098217839, 0.8028967133042543, 0.04058681749541193, 0.6192463781341927, 0.8941685371843957, 0.9682296421783442, 0.17325127800531148, 0.2928116603816737, 0.21395689938676798, 0.8138077405273001, 0.541306592737299, 0.17882934900917058, 0.9230765454895742, 0.38683480087909505, 0.5320015555781986, 0.7244731312673186, 0.6217539543704846, 0.16086979279018498, 0.16266620322548175, 0.5026523819407788, 0.42874884022232473, 0.43405426164146965, 0.6363584030734126, 0.7436910605367291, 0.7250656491587817, 0.04213986601348041, 0.19651867842089654, 0.10348625163751235, 0.7506078244538572, 0.6847662311766312, 0.06666120439596657, 0.7305465707210608, 0.41529962739826, 0.03445966090660535, 0.5865332198800062, 0.8898719458306117, 0.7950187484279215, 0.3582601692217031, 0.6984324615752024, 0.16395842105279446, 0.48122686711357177, 0.4575542442064081, 0.6632550349572617, 0.9339626071527983, 0.3919089398415616, 0.7039977629323808, 0.195883106331726, 0.8936551326742009, 0.1755257202363748, 0.16864919913987564, 0.5792907820010644, 0.7344395882698364, 0.09081700155782202, 0.7356894730850086, 0.007357682052856251, 0.9034275369057923], \"xaxis\": \"x16\", \"yaxis\": \"y16\"}],                        {\"bargap\": 0.02, \"legend\": {\"bgcolor\": \"#F5F6F9\", \"font\": {\"color\": \"#4D5663\"}}, \"paper_bgcolor\": \"#F5F6F9\", \"plot_bgcolor\": \"#F5F6F9\", \"showlegend\": false, \"template\": {\"data\": {\"bar\": [{\"error_x\": {\"color\": \"#2a3f5f\"}, \"error_y\": {\"color\": \"#2a3f5f\"}, \"marker\": {\"line\": {\"color\": \"#E5ECF6\", \"width\": 0.5}}, \"type\": \"bar\"}], \"barpolar\": [{\"marker\": {\"line\": {\"color\": \"#E5ECF6\", \"width\": 0.5}}, \"type\": \"barpolar\"}], \"carpet\": [{\"aaxis\": {\"endlinecolor\": \"#2a3f5f\", \"gridcolor\": \"white\", \"linecolor\": \"white\", \"minorgridcolor\": \"white\", \"startlinecolor\": \"#2a3f5f\"}, \"baxis\": {\"endlinecolor\": \"#2a3f5f\", \"gridcolor\": \"white\", \"linecolor\": \"white\", \"minorgridcolor\": \"white\", \"startlinecolor\": \"#2a3f5f\"}, \"type\": \"carpet\"}], \"choropleth\": [{\"colorbar\": {\"outlinewidth\": 0, \"ticks\": \"\"}, \"type\": \"choropleth\"}], \"contour\": [{\"colorbar\": {\"outlinewidth\": 0, \"ticks\": \"\"}, \"colorscale\": [[0.0, \"#0d0887\"], [0.1111111111111111, \"#46039f\"], [0.2222222222222222, \"#7201a8\"], [0.3333333333333333, \"#9c179e\"], [0.4444444444444444, \"#bd3786\"], [0.5555555555555556, \"#d8576b\"], [0.6666666666666666, \"#ed7953\"], [0.7777777777777778, \"#fb9f3a\"], [0.8888888888888888, \"#fdca26\"], [1.0, \"#f0f921\"]], \"type\": \"contour\"}], \"contourcarpet\": [{\"colorbar\": {\"outlinewidth\": 0, \"ticks\": \"\"}, \"type\": \"contourcarpet\"}], \"heatmap\": [{\"colorbar\": {\"outlinewidth\": 0, \"ticks\": \"\"}, \"colorscale\": [[0.0, \"#0d0887\"], [0.1111111111111111, \"#46039f\"], [0.2222222222222222, \"#7201a8\"], [0.3333333333333333, \"#9c179e\"], [0.4444444444444444, \"#bd3786\"], [0.5555555555555556, \"#d8576b\"], [0.6666666666666666, \"#ed7953\"], [0.7777777777777778, \"#fb9f3a\"], [0.8888888888888888, \"#fdca26\"], [1.0, \"#f0f921\"]], \"type\": \"heatmap\"}], \"heatmapgl\": [{\"colorbar\": {\"outlinewidth\": 0, \"ticks\": \"\"}, \"colorscale\": [[0.0, \"#0d0887\"], [0.1111111111111111, \"#46039f\"], [0.2222222222222222, \"#7201a8\"], [0.3333333333333333, \"#9c179e\"], [0.4444444444444444, \"#bd3786\"], [0.5555555555555556, \"#d8576b\"], [0.6666666666666666, \"#ed7953\"], [0.7777777777777778, \"#fb9f3a\"], [0.8888888888888888, \"#fdca26\"], [1.0, \"#f0f921\"]], \"type\": \"heatmapgl\"}], \"histogram\": [{\"marker\": {\"colorbar\": {\"outlinewidth\": 0, \"ticks\": \"\"}}, \"type\": \"histogram\"}], \"histogram2d\": [{\"colorbar\": {\"outlinewidth\": 0, \"ticks\": \"\"}, \"colorscale\": [[0.0, \"#0d0887\"], [0.1111111111111111, \"#46039f\"], [0.2222222222222222, \"#7201a8\"], [0.3333333333333333, \"#9c179e\"], [0.4444444444444444, \"#bd3786\"], [0.5555555555555556, \"#d8576b\"], [0.6666666666666666, \"#ed7953\"], [0.7777777777777778, \"#fb9f3a\"], [0.8888888888888888, \"#fdca26\"], [1.0, \"#f0f921\"]], \"type\": \"histogram2d\"}], \"histogram2dcontour\": [{\"colorbar\": {\"outlinewidth\": 0, \"ticks\": \"\"}, \"colorscale\": [[0.0, \"#0d0887\"], [0.1111111111111111, \"#46039f\"], [0.2222222222222222, \"#7201a8\"], [0.3333333333333333, \"#9c179e\"], [0.4444444444444444, \"#bd3786\"], [0.5555555555555556, \"#d8576b\"], [0.6666666666666666, \"#ed7953\"], [0.7777777777777778, \"#fb9f3a\"], [0.8888888888888888, \"#fdca26\"], [1.0, \"#f0f921\"]], \"type\": \"histogram2dcontour\"}], \"mesh3d\": [{\"colorbar\": {\"outlinewidth\": 0, \"ticks\": \"\"}, \"type\": \"mesh3d\"}], \"parcoords\": [{\"line\": {\"colorbar\": {\"outlinewidth\": 0, \"ticks\": \"\"}}, \"type\": \"parcoords\"}], \"pie\": [{\"automargin\": true, \"type\": \"pie\"}], \"scatter\": [{\"marker\": {\"colorbar\": {\"outlinewidth\": 0, \"ticks\": \"\"}}, \"type\": \"scatter\"}], \"scatter3d\": [{\"line\": {\"colorbar\": {\"outlinewidth\": 0, \"ticks\": \"\"}}, \"marker\": {\"colorbar\": {\"outlinewidth\": 0, \"ticks\": \"\"}}, \"type\": \"scatter3d\"}], \"scattercarpet\": [{\"marker\": {\"colorbar\": {\"outlinewidth\": 0, \"ticks\": \"\"}}, \"type\": \"scattercarpet\"}], \"scattergeo\": [{\"marker\": {\"colorbar\": {\"outlinewidth\": 0, \"ticks\": \"\"}}, \"type\": \"scattergeo\"}], \"scattergl\": [{\"marker\": {\"colorbar\": {\"outlinewidth\": 0, \"ticks\": \"\"}}, \"type\": \"scattergl\"}], \"scattermapbox\": [{\"marker\": {\"colorbar\": {\"outlinewidth\": 0, \"ticks\": \"\"}}, \"type\": \"scattermapbox\"}], \"scatterpolar\": [{\"marker\": {\"colorbar\": {\"outlinewidth\": 0, \"ticks\": \"\"}}, \"type\": \"scatterpolar\"}], \"scatterpolargl\": [{\"marker\": {\"colorbar\": {\"outlinewidth\": 0, \"ticks\": \"\"}}, \"type\": \"scatterpolargl\"}], \"scatterternary\": [{\"marker\": {\"colorbar\": {\"outlinewidth\": 0, \"ticks\": \"\"}}, \"type\": \"scatterternary\"}], \"surface\": [{\"colorbar\": {\"outlinewidth\": 0, \"ticks\": \"\"}, \"colorscale\": [[0.0, \"#0d0887\"], [0.1111111111111111, \"#46039f\"], [0.2222222222222222, \"#7201a8\"], [0.3333333333333333, \"#9c179e\"], [0.4444444444444444, \"#bd3786\"], [0.5555555555555556, \"#d8576b\"], [0.6666666666666666, \"#ed7953\"], [0.7777777777777778, \"#fb9f3a\"], [0.8888888888888888, \"#fdca26\"], [1.0, \"#f0f921\"]], \"type\": \"surface\"}], \"table\": [{\"cells\": {\"fill\": {\"color\": \"#EBF0F8\"}, \"line\": {\"color\": \"white\"}}, \"header\": {\"fill\": {\"color\": \"#C8D4E3\"}, \"line\": {\"color\": \"white\"}}, \"type\": \"table\"}]}, \"layout\": {\"annotationdefaults\": {\"arrowcolor\": \"#2a3f5f\", \"arrowhead\": 0, \"arrowwidth\": 1}, \"autotypenumbers\": \"strict\", \"coloraxis\": {\"colorbar\": {\"outlinewidth\": 0, \"ticks\": \"\"}}, \"colorscale\": {\"diverging\": [[0, \"#8e0152\"], [0.1, \"#c51b7d\"], [0.2, \"#de77ae\"], [0.3, \"#f1b6da\"], [0.4, \"#fde0ef\"], [0.5, \"#f7f7f7\"], [0.6, \"#e6f5d0\"], [0.7, \"#b8e186\"], [0.8, \"#7fbc41\"], [0.9, \"#4d9221\"], [1, \"#276419\"]], \"sequential\": [[0.0, \"#0d0887\"], [0.1111111111111111, \"#46039f\"], [0.2222222222222222, \"#7201a8\"], [0.3333333333333333, \"#9c179e\"], [0.4444444444444444, \"#bd3786\"], [0.5555555555555556, \"#d8576b\"], [0.6666666666666666, \"#ed7953\"], [0.7777777777777778, \"#fb9f3a\"], [0.8888888888888888, \"#fdca26\"], [1.0, \"#f0f921\"]], \"sequentialminus\": [[0.0, \"#0d0887\"], [0.1111111111111111, \"#46039f\"], [0.2222222222222222, \"#7201a8\"], [0.3333333333333333, \"#9c179e\"], [0.4444444444444444, \"#bd3786\"], [0.5555555555555556, \"#d8576b\"], [0.6666666666666666, \"#ed7953\"], [0.7777777777777778, \"#fb9f3a\"], [0.8888888888888888, \"#fdca26\"], [1.0, \"#f0f921\"]]}, \"colorway\": [\"#636efa\", \"#EF553B\", \"#00cc96\", \"#ab63fa\", \"#FFA15A\", \"#19d3f3\", \"#FF6692\", \"#B6E880\", \"#FF97FF\", \"#FECB52\"], \"font\": {\"color\": \"#2a3f5f\"}, \"geo\": {\"bgcolor\": \"white\", \"lakecolor\": \"white\", \"landcolor\": \"#E5ECF6\", \"showlakes\": true, \"showland\": true, \"subunitcolor\": \"white\"}, \"hoverlabel\": {\"align\": \"left\"}, \"hovermode\": \"closest\", \"mapbox\": {\"style\": \"light\"}, \"paper_bgcolor\": \"white\", \"plot_bgcolor\": \"#E5ECF6\", \"polar\": {\"angularaxis\": {\"gridcolor\": \"white\", \"linecolor\": \"white\", \"ticks\": \"\"}, \"bgcolor\": \"#E5ECF6\", \"radialaxis\": {\"gridcolor\": \"white\", \"linecolor\": \"white\", \"ticks\": \"\"}}, \"scene\": {\"xaxis\": {\"backgroundcolor\": \"#E5ECF6\", \"gridcolor\": \"white\", \"gridwidth\": 2, \"linecolor\": \"white\", \"showbackground\": true, \"ticks\": \"\", \"zerolinecolor\": \"white\"}, \"yaxis\": {\"backgroundcolor\": \"#E5ECF6\", \"gridcolor\": \"white\", \"gridwidth\": 2, \"linecolor\": \"white\", \"showbackground\": true, \"ticks\": \"\", \"zerolinecolor\": \"white\"}, \"zaxis\": {\"backgroundcolor\": \"#E5ECF6\", \"gridcolor\": \"white\", \"gridwidth\": 2, \"linecolor\": \"white\", \"showbackground\": true, \"ticks\": \"\", \"zerolinecolor\": \"white\"}}, \"shapedefaults\": {\"line\": {\"color\": \"#2a3f5f\"}}, \"ternary\": {\"aaxis\": {\"gridcolor\": \"white\", \"linecolor\": \"white\", \"ticks\": \"\"}, \"baxis\": {\"gridcolor\": \"white\", \"linecolor\": \"white\", \"ticks\": \"\"}, \"bgcolor\": \"#E5ECF6\", \"caxis\": {\"gridcolor\": \"white\", \"linecolor\": \"white\", \"ticks\": \"\"}}, \"title\": {\"x\": 0.05}, \"xaxis\": {\"automargin\": true, \"gridcolor\": \"white\", \"linecolor\": \"white\", \"ticks\": \"\", \"title\": {\"standoff\": 15}, \"zerolinecolor\": \"white\", \"zerolinewidth\": 2}, \"yaxis\": {\"automargin\": true, \"gridcolor\": \"white\", \"linecolor\": \"white\", \"ticks\": \"\", \"title\": {\"standoff\": 15}, \"zerolinecolor\": \"white\", \"zerolinewidth\": 2}}}, \"title\": {\"font\": {\"color\": \"#4D5663\"}}, \"xaxis\": {\"anchor\": \"y\", \"domain\": [0.0, 0.2125], \"gridcolor\": \"#E1E5ED\", \"showgrid\": false, \"tickfont\": {\"color\": \"#4D5663\"}, \"title\": {\"font\": {\"color\": \"#4D5663\"}, \"text\": \"\"}, \"zerolinecolor\": \"#E1E5ED\"}, \"xaxis10\": {\"anchor\": \"y10\", \"domain\": [0.2625, 0.475], \"gridcolor\": \"#E1E5ED\", \"showgrid\": false, \"tickfont\": {\"color\": \"#4D5663\"}, \"title\": {\"font\": {\"color\": \"#4D5663\"}, \"text\": \"\"}, \"zerolinecolor\": \"#E1E5ED\"}, \"xaxis11\": {\"anchor\": \"y11\", \"domain\": [0.525, 0.7375], \"gridcolor\": \"#E1E5ED\", \"showgrid\": false, \"tickfont\": {\"color\": \"#4D5663\"}, \"title\": {\"font\": {\"color\": \"#4D5663\"}, \"text\": \"\"}, \"zerolinecolor\": \"#E1E5ED\"}, \"xaxis12\": {\"anchor\": \"y12\", \"domain\": [0.7875, 1.0], \"gridcolor\": \"#E1E5ED\", \"showgrid\": false, \"tickfont\": {\"color\": \"#4D5663\"}, \"title\": {\"font\": {\"color\": \"#4D5663\"}, \"text\": \"\"}, \"zerolinecolor\": \"#E1E5ED\"}, \"xaxis13\": {\"anchor\": \"y13\", \"domain\": [0.0, 0.2125], \"gridcolor\": \"#E1E5ED\", \"showgrid\": false, \"tickfont\": {\"color\": \"#4D5663\"}, \"title\": {\"font\": {\"color\": \"#4D5663\"}, \"text\": \"\"}, \"zerolinecolor\": \"#E1E5ED\"}, \"xaxis14\": {\"anchor\": \"y14\", \"domain\": [0.2625, 0.475], \"gridcolor\": \"#E1E5ED\", \"showgrid\": false, \"tickfont\": {\"color\": \"#4D5663\"}, \"title\": {\"font\": {\"color\": \"#4D5663\"}, \"text\": \"\"}, \"zerolinecolor\": \"#E1E5ED\"}, \"xaxis15\": {\"anchor\": \"y15\", \"domain\": [0.525, 0.7375], \"gridcolor\": \"#E1E5ED\", \"showgrid\": false, \"tickfont\": {\"color\": \"#4D5663\"}, \"title\": {\"font\": {\"color\": \"#4D5663\"}, \"text\": \"\"}, \"zerolinecolor\": \"#E1E5ED\"}, \"xaxis16\": {\"anchor\": \"y16\", \"domain\": [0.7875, 1.0], \"gridcolor\": \"#E1E5ED\", \"showgrid\": false, \"tickfont\": {\"color\": \"#4D5663\"}, \"title\": {\"font\": {\"color\": \"#4D5663\"}, \"text\": \"\"}, \"zerolinecolor\": \"#E1E5ED\"}, \"xaxis2\": {\"anchor\": \"y2\", \"domain\": [0.2625, 0.475], \"gridcolor\": \"#E1E5ED\", \"showgrid\": false, \"tickfont\": {\"color\": \"#4D5663\"}, \"title\": {\"font\": {\"color\": \"#4D5663\"}, \"text\": \"\"}, \"zerolinecolor\": \"#E1E5ED\"}, \"xaxis3\": {\"anchor\": \"y3\", \"domain\": [0.525, 0.7375], \"gridcolor\": \"#E1E5ED\", \"showgrid\": false, \"tickfont\": {\"color\": \"#4D5663\"}, \"title\": {\"font\": {\"color\": \"#4D5663\"}, \"text\": \"\"}, \"zerolinecolor\": \"#E1E5ED\"}, \"xaxis4\": {\"anchor\": \"y4\", \"domain\": [0.7875, 1.0], \"gridcolor\": \"#E1E5ED\", \"showgrid\": false, \"tickfont\": {\"color\": \"#4D5663\"}, \"title\": {\"font\": {\"color\": \"#4D5663\"}, \"text\": \"\"}, \"zerolinecolor\": \"#E1E5ED\"}, \"xaxis5\": {\"anchor\": \"y5\", \"domain\": [0.0, 0.2125], \"gridcolor\": \"#E1E5ED\", \"showgrid\": false, \"tickfont\": {\"color\": \"#4D5663\"}, \"title\": {\"font\": {\"color\": \"#4D5663\"}, \"text\": \"\"}, \"zerolinecolor\": \"#E1E5ED\"}, \"xaxis6\": {\"anchor\": \"y6\", \"domain\": [0.2625, 0.475], \"gridcolor\": \"#E1E5ED\", \"showgrid\": false, \"tickfont\": {\"color\": \"#4D5663\"}, \"title\": {\"font\": {\"color\": \"#4D5663\"}, \"text\": \"\"}, \"zerolinecolor\": \"#E1E5ED\"}, \"xaxis7\": {\"anchor\": \"y7\", \"domain\": [0.525, 0.7375], \"gridcolor\": \"#E1E5ED\", \"showgrid\": false, \"tickfont\": {\"color\": \"#4D5663\"}, \"title\": {\"font\": {\"color\": \"#4D5663\"}, \"text\": \"\"}, \"zerolinecolor\": \"#E1E5ED\"}, \"xaxis8\": {\"anchor\": \"y8\", \"domain\": [0.7875, 1.0], \"gridcolor\": \"#E1E5ED\", \"showgrid\": false, \"tickfont\": {\"color\": \"#4D5663\"}, \"title\": {\"font\": {\"color\": \"#4D5663\"}, \"text\": \"\"}, \"zerolinecolor\": \"#E1E5ED\"}, \"xaxis9\": {\"anchor\": \"y9\", \"domain\": [0.0, 0.2125], \"gridcolor\": \"#E1E5ED\", \"showgrid\": false, \"tickfont\": {\"color\": \"#4D5663\"}, \"title\": {\"font\": {\"color\": \"#4D5663\"}, \"text\": \"\"}, \"zerolinecolor\": \"#E1E5ED\"}, \"yaxis\": {\"anchor\": \"x\", \"domain\": [0.8025, 1.0], \"gridcolor\": \"#E1E5ED\", \"showgrid\": false, \"tickfont\": {\"color\": \"#4D5663\"}, \"title\": {\"font\": {\"color\": \"#4D5663\"}, \"text\": \"\"}, \"zerolinecolor\": \"#E1E5ED\"}, \"yaxis10\": {\"anchor\": \"x10\", \"domain\": [0.2675, 0.465], \"gridcolor\": \"#E1E5ED\", \"showgrid\": false, \"tickfont\": {\"color\": \"#4D5663\"}, \"title\": {\"font\": {\"color\": \"#4D5663\"}, \"text\": \"\"}, \"zerolinecolor\": \"#E1E5ED\"}, \"yaxis11\": {\"anchor\": \"x11\", \"domain\": [0.2675, 0.465], \"gridcolor\": \"#E1E5ED\", \"showgrid\": false, \"tickfont\": {\"color\": \"#4D5663\"}, \"title\": {\"font\": {\"color\": \"#4D5663\"}, \"text\": \"\"}, \"zerolinecolor\": \"#E1E5ED\"}, \"yaxis12\": {\"anchor\": \"x12\", \"domain\": [0.2675, 0.465], \"gridcolor\": \"#E1E5ED\", \"showgrid\": false, \"tickfont\": {\"color\": \"#4D5663\"}, \"title\": {\"font\": {\"color\": \"#4D5663\"}, \"text\": \"\"}, \"zerolinecolor\": \"#E1E5ED\"}, \"yaxis13\": {\"anchor\": \"x13\", \"domain\": [0.0, 0.1975], \"gridcolor\": \"#E1E5ED\", \"showgrid\": false, \"tickfont\": {\"color\": \"#4D5663\"}, \"title\": {\"font\": {\"color\": \"#4D5663\"}, \"text\": \"\"}, \"zerolinecolor\": \"#E1E5ED\"}, \"yaxis14\": {\"anchor\": \"x14\", \"domain\": [0.0, 0.1975], \"gridcolor\": \"#E1E5ED\", \"showgrid\": false, \"tickfont\": {\"color\": \"#4D5663\"}, \"title\": {\"font\": {\"color\": \"#4D5663\"}, \"text\": \"\"}, \"zerolinecolor\": \"#E1E5ED\"}, \"yaxis15\": {\"anchor\": \"x15\", \"domain\": [0.0, 0.1975], \"gridcolor\": \"#E1E5ED\", \"showgrid\": false, \"tickfont\": {\"color\": \"#4D5663\"}, \"title\": {\"font\": {\"color\": \"#4D5663\"}, \"text\": \"\"}, \"zerolinecolor\": \"#E1E5ED\"}, \"yaxis16\": {\"anchor\": \"x16\", \"domain\": [0.0, 0.1975], \"gridcolor\": \"#E1E5ED\", \"showgrid\": false, \"tickfont\": {\"color\": \"#4D5663\"}, \"title\": {\"font\": {\"color\": \"#4D5663\"}, \"text\": \"\"}, \"zerolinecolor\": \"#E1E5ED\"}, \"yaxis2\": {\"anchor\": \"x2\", \"domain\": [0.8025, 1.0], \"gridcolor\": \"#E1E5ED\", \"showgrid\": false, \"tickfont\": {\"color\": \"#4D5663\"}, \"title\": {\"font\": {\"color\": \"#4D5663\"}, \"text\": \"\"}, \"zerolinecolor\": \"#E1E5ED\"}, \"yaxis3\": {\"anchor\": \"x3\", \"domain\": [0.8025, 1.0], \"gridcolor\": \"#E1E5ED\", \"showgrid\": false, \"tickfont\": {\"color\": \"#4D5663\"}, \"title\": {\"font\": {\"color\": \"#4D5663\"}, \"text\": \"\"}, \"zerolinecolor\": \"#E1E5ED\"}, \"yaxis4\": {\"anchor\": \"x4\", \"domain\": [0.8025, 1.0], \"gridcolor\": \"#E1E5ED\", \"showgrid\": false, \"tickfont\": {\"color\": \"#4D5663\"}, \"title\": {\"font\": {\"color\": \"#4D5663\"}, \"text\": \"\"}, \"zerolinecolor\": \"#E1E5ED\"}, \"yaxis5\": {\"anchor\": \"x5\", \"domain\": [0.535, 0.7325], \"gridcolor\": \"#E1E5ED\", \"showgrid\": false, \"tickfont\": {\"color\": \"#4D5663\"}, \"title\": {\"font\": {\"color\": \"#4D5663\"}, \"text\": \"\"}, \"zerolinecolor\": \"#E1E5ED\"}, \"yaxis6\": {\"anchor\": \"x6\", \"domain\": [0.535, 0.7325], \"gridcolor\": \"#E1E5ED\", \"showgrid\": false, \"tickfont\": {\"color\": \"#4D5663\"}, \"title\": {\"font\": {\"color\": \"#4D5663\"}, \"text\": \"\"}, \"zerolinecolor\": \"#E1E5ED\"}, \"yaxis7\": {\"anchor\": \"x7\", \"domain\": [0.535, 0.7325], \"gridcolor\": \"#E1E5ED\", \"showgrid\": false, \"tickfont\": {\"color\": \"#4D5663\"}, \"title\": {\"font\": {\"color\": \"#4D5663\"}, \"text\": \"\"}, \"zerolinecolor\": \"#E1E5ED\"}, \"yaxis8\": {\"anchor\": \"x8\", \"domain\": [0.535, 0.7325], \"gridcolor\": \"#E1E5ED\", \"showgrid\": false, \"tickfont\": {\"color\": \"#4D5663\"}, \"title\": {\"font\": {\"color\": \"#4D5663\"}, \"text\": \"\"}, \"zerolinecolor\": \"#E1E5ED\"}, \"yaxis9\": {\"anchor\": \"x9\", \"domain\": [0.2675, 0.465], \"gridcolor\": \"#E1E5ED\", \"showgrid\": false, \"tickfont\": {\"color\": \"#4D5663\"}, \"title\": {\"font\": {\"color\": \"#4D5663\"}, \"text\": \"\"}, \"zerolinecolor\": \"#E1E5ED\"}},                        {\"showLink\": true, \"linkText\": \"Export to plot.ly\", \"plotlyServerURL\": \"https://plot.ly\", \"responsive\": true}                    ).then(function(){\n",
       "                            \n",
       "var gd = document.getElementById('e983647e-fd11-4b8d-ace4-6bcc4270d0e4');\n",
       "var x = new MutationObserver(function (mutations, observer) {{\n",
       "        var display = window.getComputedStyle(gd).display;\n",
       "        if (!display || display === 'none') {{\n",
       "            console.log([gd, 'removed!']);\n",
       "            Plotly.purge(gd);\n",
       "            observer.disconnect();\n",
       "        }}\n",
       "}});\n",
       "\n",
       "// Listen for the removal of the full notebook cells\n",
       "var notebookContainer = gd.closest('#notebook-container');\n",
       "if (notebookContainer) {{\n",
       "    x.observe(notebookContainer, {childList: true});\n",
       "}}\n",
       "\n",
       "// Listen for the clearing of the current output cell\n",
       "var outputEl = gd.closest('.output');\n",
       "if (outputEl) {{\n",
       "    x.observe(outputEl, {childList: true});\n",
       "}}\n",
       "\n",
       "                        })                };                });            </script>        </div>"
      ]
     },
     "metadata": {},
     "output_type": "display_data"
    }
   ],
   "source": [
    "df1.scatter_matrix()"
   ]
  },
  {
   "cell_type": "code",
   "execution_count": null,
   "metadata": {},
   "outputs": [],
   "source": []
  }
 ],
 "metadata": {
  "kernelspec": {
   "display_name": "Python 3",
   "language": "python",
   "name": "python3"
  },
  "language_info": {
   "codemirror_mode": {
    "name": "ipython",
    "version": 3
   },
   "file_extension": ".py",
   "mimetype": "text/x-python",
   "name": "python",
   "nbconvert_exporter": "python",
   "pygments_lexer": "ipython3",
   "version": "3.7.4"
  }
 },
 "nbformat": 4,
 "nbformat_minor": 2
}
